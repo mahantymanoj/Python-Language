{
 "cells": [
  {
   "cell_type": "markdown",
   "metadata": {},
   "source": [
    "## Manoj Mahanty - Jr. Engineer - Data Analytics\n",
    "####  Python | MATLAB | R Begineer | SQL, PostgreSQL | MS Excel\n",
    "![](https://media-exp1.licdn.com/dms/image/C4E03AQHQwbwhrso79w/profile-displayphoto-shrink_100_100/0/1630124536553?e=1635379200&v=beta&t=VSAf_0U1A_gCd9m1GEN_UMYQTiCgumibjqYsfXp2_VM)  \n",
    " \n",
    "* email: mahantymanoj786@gmail.com\n",
    "* LinkedIn : https://www.linkedin.com/in/manoj-mahanty-aa3769115/"
   ]
  },
  {
   "cell_type": "markdown",
   "metadata": {},
   "source": [
    "# A Quick Tour of Variables and Data Types in Python\n",
    "\n",
    "![](https://i.imgur.com/6cg2E9Q.png)"
   ]
  },
  {
   "cell_type": "markdown",
   "metadata": {},
   "source": [
    "This tutorial covers the following topics:\n",
    "\n",
    "- Storing information using variables\n",
    "- Primitive data types in Python: Integer, Float, Boolean, None and String\n",
    "- Built-in data structures in Python: List, Tuple and Dictionary\n",
    "- Methods and operators supported by built-in data types"
   ]
  },
  {
   "cell_type": "markdown",
   "metadata": {},
   "source": [
    "## Print in Python"
   ]
  },
  {
   "cell_type": "code",
   "execution_count": 209,
   "metadata": {},
   "outputs": [
    {
     "name": "stdout",
     "output_type": "stream",
     "text": [
      "Single Quoate.\n",
      "Double Quoate.\n",
      "This is paragraph \n",
      "written in python\n",
      " hhsduahkfhdskhf\n",
      "hghkhsadkhkjhdskjashd\n",
      "jhkjhksad\n"
     ]
    }
   ],
   "source": [
    "print('Single Quoate.')\n",
    "print(\"Double Quoate.\")\n",
    "print('''This is paragraph \n",
    "written in python''')\n",
    "print(\"\"\" hhsduahkfhdskhf\n",
    "hghkhsadkhkjhdskjashd\n",
    "jhkjhksad\"\"\")"
   ]
  },
  {
   "cell_type": "markdown",
   "metadata": {},
   "source": [
    "### print( ) statement\n",
    "* print( ) statement is used to print the output"
   ]
  },
  {
   "cell_type": "code",
   "execution_count": 223,
   "metadata": {},
   "outputs": [
    {
     "name": "stdout",
     "output_type": "stream",
     "text": [
      "a\n"
     ]
    }
   ],
   "source": [
    "print('a')# Since 'a' is string it prints 'a' but print(a) gives error if a is not initial"
   ]
  },
  {
   "cell_type": "code",
   "execution_count": 224,
   "metadata": {},
   "outputs": [
    {
     "name": "stdout",
     "output_type": "stream",
     "text": [
      "10\n"
     ]
    }
   ],
   "source": [
    "a = 10\n",
    "print(a)"
   ]
  },
  {
   "cell_type": "code",
   "execution_count": 225,
   "metadata": {},
   "outputs": [
    {
     "name": "stdout",
     "output_type": "stream",
     "text": [
      "The values of a,b,c are :  10 20 30\n"
     ]
    }
   ],
   "source": [
    "a,b,c=10,20,30\n",
    "print(\"The values of a,b,c are : \",a,b,c)"
   ]
  },
  {
   "cell_type": "markdown",
   "metadata": {},
   "source": [
    "### end( ) attribute\n",
    "* This attribute is used if we need the output in a single line."
   ]
  },
  {
   "cell_type": "code",
   "execution_count": 228,
   "metadata": {},
   "outputs": [
    {
     "name": "stdout",
     "output_type": "stream",
     "text": [
      "10\n",
      "20\n",
      "30\n",
      "40\n",
      "50\n",
      "60\n"
     ]
    }
   ],
   "source": [
    "a=[10,20,30,40,50,60]\n",
    "for i in a:\n",
    "    print(i)\n"
   ]
  },
  {
   "cell_type": "markdown",
   "metadata": {},
   "source": [
    "As seen in above output it is printing in different lines. To print in single line"
   ]
  },
  {
   "cell_type": "code",
   "execution_count": 229,
   "metadata": {},
   "outputs": [
    {
     "name": "stdout",
     "output_type": "stream",
     "text": [
      "10 20 30 40 50 60 "
     ]
    }
   ],
   "source": [
    "for i in a:\n",
    "    print(i, end=' ') # end=' '(We are printing output in single line)"
   ]
  },
  {
   "cell_type": "code",
   "execution_count": 230,
   "metadata": {},
   "outputs": [
    {
     "name": "stdout",
     "output_type": "stream",
     "text": [
      "Hello\n",
      "World\n"
     ]
    }
   ],
   "source": [
    "print('Hello')\n",
    "print('World')"
   ]
  },
  {
   "cell_type": "code",
   "execution_count": 231,
   "metadata": {},
   "outputs": [
    {
     "name": "stdout",
     "output_type": "stream",
     "text": [
      "Hello World\n"
     ]
    }
   ],
   "source": [
    "print('Hello',end=' ')\n",
    "print('World')"
   ]
  },
  {
   "cell_type": "markdown",
   "metadata": {},
   "source": [
    "### sep( ) attribute\n",
    "* This attribute used to seperate two different outputs"
   ]
  },
  {
   "cell_type": "code",
   "execution_count": 232,
   "metadata": {},
   "outputs": [
    {
     "name": "stdout",
     "output_type": "stream",
     "text": [
      "10-08-2021\n"
     ]
    }
   ],
   "source": [
    "print('10','08','2021',sep='-')"
   ]
  },
  {
   "cell_type": "code",
   "execution_count": 233,
   "metadata": {},
   "outputs": [
    {
     "name": "stdout",
     "output_type": "stream",
     "text": [
      "Hello @ Balaji @ How @ are @ you\n"
     ]
    }
   ],
   "source": [
    "print('Hello','Balaji','How','are','you',sep=' @ ')"
   ]
  },
  {
   "cell_type": "markdown",
   "metadata": {},
   "source": [
    "Using end( ) and sep( ) in a single line"
   ]
  },
  {
   "cell_type": "code",
   "execution_count": 234,
   "metadata": {},
   "outputs": [
    {
     "name": "stdout",
     "output_type": "stream",
     "text": [
      "10:20:30!"
     ]
    }
   ],
   "source": [
    "print(10,20,30,sep=':',end='!')"
   ]
  },
  {
   "cell_type": "markdown",
   "metadata": {},
   "source": [
    "### print( ) statement with replacemenet operator {}"
   ]
  },
  {
   "cell_type": "code",
   "execution_count": 235,
   "metadata": {},
   "outputs": [
    {
     "name": "stdout",
     "output_type": "stream",
     "text": [
      "Balaji Hello!,how are you?\n"
     ]
    }
   ],
   "source": [
    "a= 'Balaji'\n",
    "b = 'Hello'\n",
    "print(\"{} {}!,how are you?\".format(a,b))"
   ]
  },
  {
   "cell_type": "markdown",
   "metadata": {},
   "source": [
    "Replacement Operator based on Index"
   ]
  },
  {
   "cell_type": "code",
   "execution_count": 236,
   "metadata": {},
   "outputs": [
    {
     "name": "stdout",
     "output_type": "stream",
     "text": [
      "Hello Balaji, your age is 21, your goal is to become a Data Scientist\n"
     ]
    }
   ],
   "source": [
    "Age = 21\n",
    "Goal = 'Data Scientist'\n",
    "Name = 'Balaji'\n",
    "print(\"Hello {2}, your age is {1}, your goal is to become a {0}\".format(Goal,Age,Name))"
   ]
  },
  {
   "cell_type": "markdown",
   "metadata": {},
   "source": [
    "### print( ) with formatted string\n",
    "* '%i' (Signed Decimal Value)\n",
    "* '%d' (Signed Decimal Value)\n",
    "* '%f' (Signed float Value)\n",
    "* '%s' (String, list, set type)"
   ]
  },
  {
   "cell_type": "code",
   "execution_count": 237,
   "metadata": {},
   "outputs": [
    {
     "name": "stdout",
     "output_type": "stream",
     "text": [
      "Value of a : 10\n"
     ]
    }
   ],
   "source": [
    "a = 10\n",
    "print(\"Value of a : %i\"%a)"
   ]
  },
  {
   "cell_type": "code",
   "execution_count": 238,
   "metadata": {},
   "outputs": [
    {
     "name": "stdout",
     "output_type": "stream",
     "text": [
      "integer value is : 20\n",
      "integer value is : 20\n"
     ]
    }
   ],
   "source": [
    "a = 20.998\n",
    "print('integer value is : %d'%a)\n",
    "print('integer value is : %i'%a)"
   ]
  },
  {
   "cell_type": "code",
   "execution_count": 239,
   "metadata": {},
   "outputs": [
    {
     "name": "stdout",
     "output_type": "stream",
     "text": [
      "Float value is : 20.998000\n"
     ]
    }
   ],
   "source": [
    "a = 20.998\n",
    "print('Float value is : %f'%a)"
   ]
  },
  {
   "cell_type": "markdown",
   "metadata": {},
   "source": [
    "Here, if we need upto 2 decimals in float value we use '%.2f'"
   ]
  },
  {
   "cell_type": "code",
   "execution_count": 240,
   "metadata": {},
   "outputs": [
    {
     "name": "stdout",
     "output_type": "stream",
     "text": [
      "Float value is : 20.69\n"
     ]
    }
   ],
   "source": [
    "a = 20.6874\n",
    "print('Float value is : %.2f'%a)"
   ]
  },
  {
   "cell_type": "code",
   "execution_count": null,
   "metadata": {},
   "outputs": [],
   "source": []
  },
  {
   "cell_type": "markdown",
   "metadata": {},
   "source": [
    "## Storing information using variables\n",
    "\n",
    "Computers are useful for two purposes: storing information (also known as data) and performing operations on stored data. While working with a programming language such as Python, data is stored in variables. You can think of variables are containers for storing data. The data stored within a variable is called its value.\n",
    "\n",
    "## Variable \n",
    "Variable is a container which store any value"
   ]
  },
  {
   "cell_type": "markdown",
   "metadata": {},
   "source": [
    "\n",
    "![](data:image/jpeg;base64,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)\n"
   ]
  },
  {
   "cell_type": "code",
   "execution_count": 210,
   "metadata": {},
   "outputs": [],
   "source": [
    "A = 5 #Integer\n",
    "B = 10.5 # Float\n",
    "C = 'Python' # String\n",
    "D = complex(A,2)"
   ]
  },
  {
   "cell_type": "code",
   "execution_count": 8,
   "metadata": {},
   "outputs": [
    {
     "data": {
      "text/plain": [
       "'blue'"
      ]
     },
     "execution_count": 8,
     "metadata": {},
     "output_type": "execute_result"
    }
   ],
   "source": [
    "my_favorite_color = \"blue\"\n",
    "my_favorite_color"
   ]
  },
  {
   "cell_type": "markdown",
   "metadata": {},
   "source": [
    "A variable is created using an assignment statement. It begins with the variable's name, followed by the assignment operator `=` followed by the value to be stored within the variable.  Note that the assignment operator `=` is different from the equality comparison operator `==`.\n",
    "\n",
    "You can also assign values to multiple variables in a single statement by separating the variable names and values with commas."
   ]
  },
  {
   "cell_type": "code",
   "execution_count": 10,
   "metadata": {},
   "outputs": [
    {
     "name": "stdout",
     "output_type": "stream",
     "text": [
      "red\n",
      "green\n",
      "blue\n"
     ]
    }
   ],
   "source": [
    "color1, color2, color3 = \"red\", \"green\", \"blue\"\n",
    "print(color1)\n",
    "print(color2)\n",
    "print(color3)"
   ]
  },
  {
   "cell_type": "markdown",
   "metadata": {},
   "source": [
    "You can assign the same value to multiple variables by chaining multiple assignment operations within a single statement."
   ]
  },
  {
   "cell_type": "code",
   "execution_count": 11,
   "metadata": {},
   "outputs": [
    {
     "name": "stdout",
     "output_type": "stream",
     "text": [
      "magenta\n",
      "magenta\n",
      "magenta\n"
     ]
    }
   ],
   "source": [
    "color4 = color5 = color6 = \"magenta\"\n",
    "print(color4)\n",
    "print(color5)\n",
    "print(color6)"
   ]
  },
  {
   "cell_type": "markdown",
   "metadata": {},
   "source": [
    "While reassigning a variable, you can also use the variable's previous value to compute the new value."
   ]
  },
  {
   "cell_type": "code",
   "execution_count": 12,
   "metadata": {},
   "outputs": [
    {
     "data": {
      "text/plain": [
       "11"
      ]
     },
     "execution_count": 12,
     "metadata": {},
     "output_type": "execute_result"
    }
   ],
   "source": [
    "counter = 10\n",
    "counter = counter + 1\n",
    "counter"
   ]
  },
  {
   "cell_type": "code",
   "execution_count": 13,
   "metadata": {},
   "outputs": [
    {
     "data": {
      "text/plain": [
       "15"
      ]
     },
     "execution_count": 13,
     "metadata": {},
     "output_type": "execute_result"
    }
   ],
   "source": [
    "# Same as `counter = counter + 4`\n",
    "counter += 4\n",
    "counter"
   ]
  },
  {
   "cell_type": "markdown",
   "metadata": {},
   "source": [
    "Let's try creating some variables with invalid names. Python prints a syntax error if your variable's name is invalid.\n",
    "\n",
    "> **Syntax**: The syntax of a programming language refers to the rules that govern the structure of a valid instruction or *statement*. If a statement does not follow these rules, Python stops execution and informs you that there is a *syntax error*. You can think of syntax as the rules of grammar for a programming language."
   ]
  },
  {
   "cell_type": "code",
   "execution_count": 14,
   "metadata": {},
   "outputs": [
    {
     "ename": "SyntaxError",
     "evalue": "invalid syntax (<ipython-input-14-b4f9daa715a5>, line 1)",
     "output_type": "error",
     "traceback": [
      "\u001b[1;36m  File \u001b[1;32m\"<ipython-input-14-b4f9daa715a5>\"\u001b[1;36m, line \u001b[1;32m1\u001b[0m\n\u001b[1;33m    a variable = 23\u001b[0m\n\u001b[1;37m             ^\u001b[0m\n\u001b[1;31mSyntaxError\u001b[0m\u001b[1;31m:\u001b[0m invalid syntax\n"
     ]
    }
   ],
   "source": [
    "a variable = 23"
   ]
  },
  {
   "cell_type": "code",
   "execution_count": 15,
   "metadata": {},
   "outputs": [
    {
     "ename": "SyntaxError",
     "evalue": "invalid syntax (<ipython-input-15-3785425ca227>, line 1)",
     "output_type": "error",
     "traceback": [
      "\u001b[1;36m  File \u001b[1;32m\"<ipython-input-15-3785425ca227>\"\u001b[1;36m, line \u001b[1;32m1\u001b[0m\n\u001b[1;33m    is_today_$aturday = False\u001b[0m\n\u001b[1;37m             ^\u001b[0m\n\u001b[1;31mSyntaxError\u001b[0m\u001b[1;31m:\u001b[0m invalid syntax\n"
     ]
    }
   ],
   "source": [
    "is_today_$aturday = False"
   ]
  },
  {
   "cell_type": "code",
   "execution_count": 16,
   "metadata": {},
   "outputs": [
    {
     "ename": "SyntaxError",
     "evalue": "can't assign to operator (<ipython-input-16-829f5ed5b10b>, line 1)",
     "output_type": "error",
     "traceback": [
      "\u001b[1;36m  File \u001b[1;32m\"<ipython-input-16-829f5ed5b10b>\"\u001b[1;36m, line \u001b[1;32m1\u001b[0m\n\u001b[1;33m    my-favorite-car = \"Delorean\"\u001b[0m\n\u001b[1;37m                                ^\u001b[0m\n\u001b[1;31mSyntaxError\u001b[0m\u001b[1;31m:\u001b[0m can't assign to operator\n"
     ]
    }
   ],
   "source": [
    "my-favorite-car = \"Delorean\""
   ]
  },
  {
   "cell_type": "code",
   "execution_count": 17,
   "metadata": {},
   "outputs": [
    {
     "ename": "SyntaxError",
     "evalue": "invalid token (<ipython-input-17-41d8638a15bb>, line 1)",
     "output_type": "error",
     "traceback": [
      "\u001b[1;36m  File \u001b[1;32m\"<ipython-input-17-41d8638a15bb>\"\u001b[1;36m, line \u001b[1;32m1\u001b[0m\n\u001b[1;33m    3_musketeers = [\"Athos\", \"Porthos\", \"Aramis\"]\u001b[0m\n\u001b[1;37m     ^\u001b[0m\n\u001b[1;31mSyntaxError\u001b[0m\u001b[1;31m:\u001b[0m invalid token\n"
     ]
    }
   ],
   "source": [
    "3_musketeers = [\"Athos\", \"Porthos\", \"Aramis\"]"
   ]
  },
  {
   "cell_type": "code",
   "execution_count": 18,
   "metadata": {},
   "outputs": [],
   "source": [
    "a_variable = 23\n",
    "is_today_Saturday = False\n",
    "my_favorite_car = \"Delorean\"\n",
    "the_3_musketeers = [\"Athos\", \"Porthos\", \"Aramis\"] "
   ]
  },
  {
   "cell_type": "markdown",
   "metadata": {},
   "source": [
    "## Built-in data types in Python\n",
    "\n",
    "Any data or information stored within a Python variable has a *type*. You can view the type of data stored within a variable using the `type` function."
   ]
  },
  {
   "cell_type": "code",
   "execution_count": 19,
   "metadata": {},
   "outputs": [
    {
     "data": {
      "text/plain": [
       "int"
      ]
     },
     "execution_count": 19,
     "metadata": {},
     "output_type": "execute_result"
    }
   ],
   "source": [
    "type(a_variable)"
   ]
  },
  {
   "cell_type": "code",
   "execution_count": 20,
   "metadata": {},
   "outputs": [
    {
     "data": {
      "text/plain": [
       "bool"
      ]
     },
     "execution_count": 20,
     "metadata": {},
     "output_type": "execute_result"
    }
   ],
   "source": [
    "type(is_today_Saturday)"
   ]
  },
  {
   "cell_type": "code",
   "execution_count": 21,
   "metadata": {},
   "outputs": [
    {
     "data": {
      "text/plain": [
       "str"
      ]
     },
     "execution_count": 21,
     "metadata": {},
     "output_type": "execute_result"
    }
   ],
   "source": [
    "type(my_favorite_car)"
   ]
  },
  {
   "cell_type": "code",
   "execution_count": 22,
   "metadata": {},
   "outputs": [
    {
     "data": {
      "text/plain": [
       "list"
      ]
     },
     "execution_count": 22,
     "metadata": {},
     "output_type": "execute_result"
    }
   ],
   "source": [
    "type(the_3_musketeers)"
   ]
  },
  {
   "cell_type": "markdown",
   "metadata": {},
   "source": [
    "# Data Type in Python\n",
    "Immutable Data Type\n",
    "1) Frozen set \n",
    "2) Bytes \n",
    "3) Boolean\n",
    "4) Numeric: Integer, Float, Complex\n",
    "5) String\n",
    "6) Tuple\n",
    "\n",
    "Mutable Data Type\n",
    "1) List\n",
    "2) Dictionary\n",
    "3) set\n",
    "4) Byte array"
   ]
  },
  {
   "cell_type": "markdown",
   "metadata": {},
   "source": [
    "![](https://media.geeksforgeeks.org/wp-content/uploads/20191023173512/Python-data-structure.jpg)"
   ]
  },
  {
   "cell_type": "code",
   "execution_count": 23,
   "metadata": {},
   "outputs": [],
   "source": [
    "A = 5 #Integer\n",
    "B = 10.5 # Float\n",
    "C = 'Python' # String\n",
    "D = complex(A,2)"
   ]
  },
  {
   "cell_type": "code",
   "execution_count": 24,
   "metadata": {},
   "outputs": [
    {
     "name": "stdout",
     "output_type": "stream",
     "text": [
      "A: 5, datatype is <class 'int'>\n",
      "B: 10.5, datatype is <class 'float'>\n",
      "C: Python, datatype is <class 'str'>\n",
      "D: (5+2j), datatype is <class 'complex'>\n"
     ]
    }
   ],
   "source": [
    "print(f'A: {A}, datatype is {type(A)}')\n",
    "print(f'B: {B}, datatype is {type(B)}')\n",
    "print(f'C: {C}, datatype is {type(C)}')\n",
    "print(f'D: {D}, datatype is {type(D)}')"
   ]
  },
  {
   "cell_type": "markdown",
   "metadata": {},
   "source": [
    "## Immutable Data Type\n",
    "### Frozen Set"
   ]
  },
  {
   "cell_type": "code",
   "execution_count": 25,
   "metadata": {},
   "outputs": [
    {
     "name": "stdout",
     "output_type": "stream",
     "text": [
      "Vowels: frozenset({'a', 'i', 'u', 'e', 'o'}), Data type: <class 'frozenset'>\n"
     ]
    }
   ],
   "source": [
    "vowels = ('a','e','i','o','u')\n",
    "vowels = frozenset(vowels)\n",
    "print(f'Vowels: {vowels}, Data type: {type(vowels)}')"
   ]
  },
  {
   "cell_type": "markdown",
   "metadata": {},
   "source": [
    "### Bytes"
   ]
  },
  {
   "cell_type": "code",
   "execution_count": 26,
   "metadata": {},
   "outputs": [
    {
     "name": "stdout",
     "output_type": "stream",
     "text": [
      "byt: b'\\x01\\x02\\x05', datatype: <class 'bytes'>\n"
     ]
    },
    {
     "data": {
      "text/plain": [
       "2"
      ]
     },
     "execution_count": 26,
     "metadata": {},
     "output_type": "execute_result"
    }
   ],
   "source": [
    "byt = bytes([1,2,5])\n",
    "print(f'byt: {byt}, datatype: {type(byt)}')\n",
    "byt[1]"
   ]
  },
  {
   "cell_type": "markdown",
   "metadata": {},
   "source": [
    "### Boolean"
   ]
  },
  {
   "cell_type": "code",
   "execution_count": 27,
   "metadata": {},
   "outputs": [
    {
     "name": "stdout",
     "output_type": "stream",
     "text": [
      "True\n"
     ]
    }
   ],
   "source": [
    "b = bool(1)\n",
    "print(b)"
   ]
  },
  {
   "cell_type": "markdown",
   "metadata": {},
   "source": [
    "### String and String operation"
   ]
  },
  {
   "cell_type": "code",
   "execution_count": 28,
   "metadata": {},
   "outputs": [
    {
     "name": "stdout",
     "output_type": "stream",
     "text": [
      "Hello\n",
      "Hello\n"
     ]
    }
   ],
   "source": [
    "a = 'Hello'\n",
    "print(a)\n",
    "a = \"Hello\"\n",
    "print(a)"
   ]
  },
  {
   "cell_type": "markdown",
   "metadata": {},
   "source": [
    "### Multiline Strings "
   ]
  },
  {
   "cell_type": "code",
   "execution_count": 29,
   "metadata": {},
   "outputs": [
    {
     "name": "stdout",
     "output_type": "stream",
     "text": [
      "Strings are Arrays\n",
      "Like many other popular programming languages, strings in Python are arrays of bytes representing unicode characters.\n",
      "However, Python does not have a character data type, a single character is simply a string with a length of 1.\n",
      "Square brackets can be used to access elements of the string.\n"
     ]
    }
   ],
   "source": [
    "a = \"\"\"Strings are Arrays\n",
    "Like many other popular programming languages, strings in Python are arrays of bytes representing unicode characters.\n",
    "However, Python does not have a character data type, a single character is simply a string with a length of 1.\n",
    "Square brackets can be used to access elements of the string.\"\"\"\n",
    "print(a)"
   ]
  },
  {
   "cell_type": "code",
   "execution_count": 30,
   "metadata": {},
   "outputs": [
    {
     "name": "stdout",
     "output_type": "stream",
     "text": [
      "t\n"
     ]
    }
   ],
   "source": [
    "print(a[1]) #character at position 1"
   ]
  },
  {
   "cell_type": "markdown",
   "metadata": {},
   "source": [
    "Strings in Python have many built-in *methods* that are used to manipulate them. Let's try out some common string methods.\n",
    "\n",
    "> **Methods**: Methods are functions associated with data types and are accessed using the `.` notation e.g. `variable_name.method()` or `\"a string\".method()`. Methods are a powerful technique for associating common operations with values of specific data types.\n",
    "\n",
    "The `.lower()`, `.upper()` and `.capitalize()` methods are used to change the case of the characters."
   ]
  },
  {
   "cell_type": "code",
   "execution_count": 32,
   "metadata": {},
   "outputs": [],
   "source": [
    "today = \"Saturday\""
   ]
  },
  {
   "cell_type": "code",
   "execution_count": 33,
   "metadata": {},
   "outputs": [
    {
     "data": {
      "text/plain": [
       "'saturday'"
      ]
     },
     "execution_count": 33,
     "metadata": {},
     "output_type": "execute_result"
    }
   ],
   "source": [
    "today.lower()"
   ]
  },
  {
   "cell_type": "code",
   "execution_count": 34,
   "metadata": {},
   "outputs": [
    {
     "data": {
      "text/plain": [
       "'SATURDAY'"
      ]
     },
     "execution_count": 34,
     "metadata": {},
     "output_type": "execute_result"
    }
   ],
   "source": [
    "\"saturday\".upper()"
   ]
  },
  {
   "cell_type": "code",
   "execution_count": 35,
   "metadata": {},
   "outputs": [
    {
     "data": {
      "text/plain": [
       "'Monday'"
      ]
     },
     "execution_count": 35,
     "metadata": {},
     "output_type": "execute_result"
    }
   ],
   "source": [
    "\"monday\".capitalize() # changes first character to uppercase"
   ]
  },
  {
   "cell_type": "markdown",
   "metadata": {},
   "source": [
    "The `.replace` method replaces a part of the string with another string. It takes the portion to be replaced and the replacement text as *inputs* or *arguments*."
   ]
  },
  {
   "cell_type": "code",
   "execution_count": 37,
   "metadata": {},
   "outputs": [
    {
     "data": {
      "text/plain": [
       "'Wednesday'"
      ]
     },
     "execution_count": 37,
     "metadata": {},
     "output_type": "execute_result"
    }
   ],
   "source": [
    "another_day = today.replace(\"Satur\", \"Wednes\")\n",
    "another_day"
   ]
  },
  {
   "cell_type": "markdown",
   "metadata": {},
   "source": [
    "Note that `replace` returns a new string, and the original string is not modified."
   ]
  },
  {
   "cell_type": "code",
   "execution_count": 38,
   "metadata": {},
   "outputs": [
    {
     "data": {
      "text/plain": [
       "'Saturday'"
      ]
     },
     "execution_count": 38,
     "metadata": {},
     "output_type": "execute_result"
    }
   ],
   "source": [
    "today"
   ]
  },
  {
   "cell_type": "markdown",
   "metadata": {},
   "source": [
    "The `.split` method splits a string into a list of strings at every occurrence of provided character(s)."
   ]
  },
  {
   "cell_type": "code",
   "execution_count": 39,
   "metadata": {},
   "outputs": [
    {
     "data": {
      "text/plain": [
       "['Sun', 'Mon', 'Tue', 'Wed', 'Thu', 'Fri', 'Sat']"
      ]
     },
     "execution_count": 39,
     "metadata": {},
     "output_type": "execute_result"
    }
   ],
   "source": [
    "\"Sun,Mon,Tue,Wed,Thu,Fri,Sat\".split(\",\")"
   ]
  },
  {
   "cell_type": "markdown",
   "metadata": {},
   "source": [
    "The `.strip` method removes whitespace characters from the beginning and end of a string."
   ]
  },
  {
   "cell_type": "code",
   "execution_count": 40,
   "metadata": {},
   "outputs": [
    {
     "data": {
      "text/plain": [
       "'This is a long line with some space before, after,     and some space in the middle..'"
      ]
     },
     "execution_count": 40,
     "metadata": {},
     "output_type": "execute_result"
    }
   ],
   "source": [
    "a_long_line = \"       This is a long line with some space before, after,     and some space in the middle..    \"\n",
    "a_long_line_stripped = a_long_line.strip()\n",
    "a_long_line_stripped"
   ]
  },
  {
   "cell_type": "markdown",
   "metadata": {},
   "source": [
    "The `.format` method combines values of other data types, e.g., integers, floats, booleans, lists, etc. with strings. You can use `format` to construct output messages for display."
   ]
  },
  {
   "cell_type": "code",
   "execution_count": 41,
   "metadata": {},
   "outputs": [
    {
     "name": "stdout",
     "output_type": "stream",
     "text": [
      "If a grocery store sells ice bags at $ {} per bag, with a profit margin of {} %, \n",
      "then the total profit it makes by selling {} ice bags is $ {}.\n"
     ]
    }
   ],
   "source": [
    "# Input variables\n",
    "cost_of_ice_bag = 1.25\n",
    "profit_margin = .2\n",
    "number_of_bags = 500\n",
    "\n",
    "# Template for output message\n",
    "output_template = \"\"\"If a grocery store sells ice bags at $ {} per bag, with a profit margin of {} %, \n",
    "then the total profit it makes by selling {} ice bags is $ {}.\"\"\"\n",
    "\n",
    "print(output_template)"
   ]
  },
  {
   "cell_type": "code",
   "execution_count": 42,
   "metadata": {},
   "outputs": [
    {
     "name": "stdout",
     "output_type": "stream",
     "text": [
      "If a grocery store sells ice bags at $ 1.25 per bag, with a profit margin of 20.0 %, \n",
      "then the total profit it makes by selling 500 ice bags is $ 125.0.\n"
     ]
    }
   ],
   "source": [
    "# Inserting values into the string\n",
    "total_profit = cost_of_ice_bag * profit_margin * number_of_bags\n",
    "output_message = output_template.format(cost_of_ice_bag, profit_margin*100, number_of_bags, total_profit)\n",
    "\n",
    "print(output_message)"
   ]
  },
  {
   "cell_type": "markdown",
   "metadata": {},
   "source": [
    "Notice how the placeholders `{}` in the `output_template` string are replaced with the arguments provided to the `.format` method.\n",
    "\n",
    "It is also possible to use the string concatenation operator `+` to combine strings with other values. However, those values must first be converted to strings using the `str` function."
   ]
  },
  {
   "cell_type": "code",
   "execution_count": 43,
   "metadata": {},
   "outputs": [
    {
     "ename": "TypeError",
     "evalue": "can only concatenate str (not \"float\") to str",
     "output_type": "error",
     "traceback": [
      "\u001b[1;31m---------------------------------------------------------------------------\u001b[0m",
      "\u001b[1;31mTypeError\u001b[0m                                 Traceback (most recent call last)",
      "\u001b[1;32m<ipython-input-43-78b7958ec7cc>\u001b[0m in \u001b[0;36m<module>\u001b[1;34m\u001b[0m\n\u001b[1;32m----> 1\u001b[1;33m \u001b[1;34m\"If a grocery store sells ice bags at $ \"\u001b[0m \u001b[1;33m+\u001b[0m \u001b[0mcost_of_ice_bag\u001b[0m \u001b[1;33m+\u001b[0m \u001b[1;34m\", with a profit margin of \"\u001b[0m \u001b[1;33m+\u001b[0m \u001b[0mprofit_margin\u001b[0m\u001b[1;33m\u001b[0m\u001b[1;33m\u001b[0m\u001b[0m\n\u001b[0m",
      "\u001b[1;31mTypeError\u001b[0m: can only concatenate str (not \"float\") to str"
     ]
    }
   ],
   "source": [
    "\"If a grocery store sells ice bags at $ \" + cost_of_ice_bag + \", with a profit margin of \" + profit_margin"
   ]
  },
  {
   "cell_type": "code",
   "execution_count": 44,
   "metadata": {},
   "outputs": [
    {
     "data": {
      "text/plain": [
       "'If a grocery store sells ice bags at $ 1.25, with a profit margin of 0.2'"
      ]
     },
     "execution_count": 44,
     "metadata": {},
     "output_type": "execute_result"
    }
   ],
   "source": [
    "\"If a grocery store sells ice bags at $ \" + str(cost_of_ice_bag) + \", with a profit margin of \" + str(profit_margin)"
   ]
  },
  {
   "cell_type": "markdown",
   "metadata": {},
   "source": [
    "You can `str` to convert a value of any data type into a string."
   ]
  },
  {
   "cell_type": "code",
   "execution_count": 45,
   "metadata": {},
   "outputs": [
    {
     "data": {
      "text/plain": [
       "'23.432'"
      ]
     },
     "execution_count": 45,
     "metadata": {},
     "output_type": "execute_result"
    }
   ],
   "source": [
    "str(23.432)"
   ]
  },
  {
   "cell_type": "code",
   "execution_count": 46,
   "metadata": {},
   "outputs": [
    {
     "data": {
      "text/plain": [
       "'True'"
      ]
     },
     "execution_count": 46,
     "metadata": {},
     "output_type": "execute_result"
    }
   ],
   "source": [
    "str(True)"
   ]
  },
  {
   "cell_type": "markdown",
   "metadata": {},
   "source": [
    "Note that all string methods return new values and DO NOT change the existing string. You can find a full list of string methods here: https://www.w3schools.com/python/python_ref_string.asp. \\\n",
    "Strings also support the comparison operators `==` and `!=` for checking whether two strings are equal."
   ]
  },
  {
   "cell_type": "markdown",
   "metadata": {},
   "source": [
    "### Slicing String Opeartion"
   ]
  },
  {
   "cell_type": "markdown",
   "metadata": {},
   "source": [
    "![](https://api.codewithharry.com/media/videoSeriesFiles/courseFiles/python-tutorials-for-absolute-beginners-8/Stringslice_2.jpg)"
   ]
  },
  {
   "cell_type": "code",
   "execution_count": 47,
   "metadata": {},
   "outputs": [
    {
     "name": "stdout",
     "output_type": "stream",
     "text": [
      "llo\n"
     ]
    }
   ],
   "source": [
    "b = \"Hello, World!\"\n",
    "print(b[2:5]) #characters from position 2 to position 4 (5 not included)"
   ]
  },
  {
   "cell_type": "code",
   "execution_count": 48,
   "metadata": {},
   "outputs": [
    {
     "name": "stdout",
     "output_type": "stream",
     "text": [
      "Hello\n"
     ]
    }
   ],
   "source": [
    "b = \"Hello, World!\"\n",
    "print(b[:5]) #characters from position 0 to position 4 (5 not included)"
   ]
  },
  {
   "cell_type": "code",
   "execution_count": 49,
   "metadata": {},
   "outputs": [
    {
     "name": "stdout",
     "output_type": "stream",
     "text": [
      "llo, World!\n"
     ]
    }
   ],
   "source": [
    "b = \"Hello, World!\"\n",
    "print(b[2:]) #characters from position 2 to position end "
   ]
  },
  {
   "cell_type": "code",
   "execution_count": 50,
   "metadata": {},
   "outputs": [
    {
     "name": "stdout",
     "output_type": "stream",
     "text": [
      "orl\n"
     ]
    }
   ],
   "source": [
    "b = \"Hello, World!\"\n",
    "print(b[-5:-2]) # Negative Index access in reverse order and print"
   ]
  },
  {
   "cell_type": "code",
   "execution_count": 51,
   "metadata": {},
   "outputs": [
    {
     "name": "stdout",
     "output_type": "stream",
     "text": [
      "HELLO, WORLD!\n",
      "hello, world!\n"
     ]
    }
   ],
   "source": [
    "a = \"Hello, World!\"\n",
    "print(a.upper()) # upper case\n",
    "print(a.lower()) # lower case"
   ]
  },
  {
   "cell_type": "code",
   "execution_count": 52,
   "metadata": {},
   "outputs": [
    {
     "name": "stdout",
     "output_type": "stream",
     "text": [
      " Hello, World!\n",
      "Hello, World! \n",
      "Hello, World!\n"
     ]
    }
   ],
   "source": [
    "a = \" Hello, World! \"\n",
    "print(a.rstrip())  # remove white space after last character\n",
    "print(a.lstrip()) # remove white space before first character\n",
    "print(a.strip()) # remove white space for both side returns \"Hello, World!\""
   ]
  },
  {
   "cell_type": "code",
   "execution_count": 54,
   "metadata": {},
   "outputs": [
    {
     "name": "stdout",
     "output_type": "stream",
     "text": [
      "['Hello', ' World!']\n",
      "['Hello,', 'World!']\n"
     ]
    }
   ],
   "source": [
    "a = \"Hello, World!\"\n",
    "print(a.split(\",\")) # split after a character/string match returns ['Hello', ' World!']\n",
    "print(a.rsplit()) # split after a white space"
   ]
  },
  {
   "cell_type": "markdown",
   "metadata": {},
   "source": [
    "### String Concatenation"
   ]
  },
  {
   "cell_type": "code",
   "execution_count": 55,
   "metadata": {},
   "outputs": [
    {
     "name": "stdout",
     "output_type": "stream",
     "text": [
      "HelloWorld\n"
     ]
    }
   ],
   "source": [
    "a = 'Hello'\n",
    "b = \"World\"\n",
    "c = a + b\n",
    "print(c)"
   ]
  },
  {
   "cell_type": "code",
   "execution_count": 56,
   "metadata": {},
   "outputs": [
    {
     "name": "stdout",
     "output_type": "stream",
     "text": [
      "Hello World\n"
     ]
    }
   ],
   "source": [
    "a = \"Hello\"\n",
    "b = \"World\"\n",
    "c = a + \" \" + b # add a space between Hello and world\n",
    "print(c)"
   ]
  },
  {
   "cell_type": "markdown",
   "metadata": {},
   "source": [
    "### Format string"
   ]
  },
  {
   "cell_type": "code",
   "execution_count": 57,
   "metadata": {},
   "outputs": [
    {
     "name": "stdout",
     "output_type": "stream",
     "text": [
      "My name is Manoj, and I am 25\n",
      "My name is Manoj, and I am 25\n"
     ]
    }
   ],
   "source": [
    "age = 25\n",
    "txt = \"My name is Manoj, and I am {}\"\n",
    "print(txt.format(age)) # format string\n",
    "print(f'My name is Manoj, and I am {age}') # format string "
   ]
  },
  {
   "cell_type": "code",
   "execution_count": 58,
   "metadata": {},
   "outputs": [
    {
     "name": "stdout",
     "output_type": "stream",
     "text": [
      "I want 3 pieces of item Orange for 49.955697 Ruppes.\n",
      "I want 3 pieces of item Orange for 49.96 Ruppes\n"
     ]
    }
   ],
   "source": [
    "quantity = 3\n",
    "itemno = 'Orange'\n",
    "price = 49.955697\n",
    "myorder = \"I want {} pieces of item {} for {} Ruppes.\"\n",
    "print(myorder.format(quantity, itemno, price))\n",
    "print(f'I want {quantity} pieces of item {itemno} for {price:.2f} Ruppes')"
   ]
  },
  {
   "cell_type": "markdown",
   "metadata": {},
   "source": [
    "### Escape Character \\"
   ]
  },
  {
   "cell_type": "code",
   "execution_count": 59,
   "metadata": {},
   "outputs": [
    {
     "name": "stdout",
     "output_type": "stream",
     "text": [
      "We are the so-called \"Vikings\" from the north.\n"
     ]
    }
   ],
   "source": [
    "txt = \"We are the so-called \\\"Vikings\\\" from the north.\"\n",
    "print(txt)\n"
   ]
  },
  {
   "cell_type": "code",
   "execution_count": 60,
   "metadata": {},
   "outputs": [
    {
     "name": "stdout",
     "output_type": "stream",
     "text": [
      "It's Python.\n"
     ]
    }
   ],
   "source": [
    "txt = 'It\\'s Python.' # Single Quote\n",
    "print(txt) "
   ]
  },
  {
   "cell_type": "code",
   "execution_count": 61,
   "metadata": {},
   "outputs": [
    {
     "name": "stdout",
     "output_type": "stream",
     "text": [
      "This will insert one \\ (backslash).\n"
     ]
    }
   ],
   "source": [
    "txt = \"This will insert one \\\\ (backslash).\" # Backslash\n",
    "print(txt) "
   ]
  },
  {
   "cell_type": "markdown",
   "metadata": {},
   "source": [
    "### Python Boolean"
   ]
  },
  {
   "cell_type": "code",
   "execution_count": 62,
   "metadata": {},
   "outputs": [
    {
     "name": "stdout",
     "output_type": "stream",
     "text": [
      "True\n",
      "False\n",
      "False\n"
     ]
    }
   ],
   "source": [
    "print(10 > 9)\n",
    "print(10 == 9)\n",
    "print(10 < 9)"
   ]
  },
  {
   "cell_type": "markdown",
   "metadata": {},
   "source": [
    "## Mutable Data Type\n",
    "## Byte Array"
   ]
  },
  {
   "cell_type": "code",
   "execution_count": 63,
   "metadata": {},
   "outputs": [
    {
     "name": "stdout",
     "output_type": "stream",
     "text": [
      "bytearray(b'Geeksforgeeks')\n",
      "bytearray(b'\\xff\\xfeG\\x00e\\x00e\\x00k\\x00s\\x00f\\x00o\\x00r\\x00g\\x00e\\x00e\\x00k\\x00s\\x00')\n"
     ]
    },
    {
     "data": {
      "text/plain": [
       "101"
      ]
     },
     "execution_count": 63,
     "metadata": {},
     "output_type": "execute_result"
    }
   ],
   "source": [
    "str = \"Geeksforgeeks\" \n",
    "# encoding the string with unicode 8 and 16 \n",
    "array1 = bytearray(str, 'utf-8') \n",
    "array2 = bytearray(str, 'utf-16') \n",
    "  \n",
    "print(array1) \n",
    "print(array2)\n",
    "array1[2]"
   ]
  },
  {
   "cell_type": "code",
   "execution_count": 64,
   "metadata": {},
   "outputs": [
    {
     "name": "stdout",
     "output_type": "stream",
     "text": [
      "bytearray(b'\\x00\\x00\\x00\\x00\\x00')\n"
     ]
    },
    {
     "data": {
      "text/plain": [
       "bytearray(b'\\x00\\x00')"
      ]
     },
     "execution_count": 64,
     "metadata": {},
     "output_type": "execute_result"
    }
   ],
   "source": [
    "size = 5\n",
    "\n",
    "arr = bytearray(size)\n",
    "print(arr)\n",
    "arr[0:2]"
   ]
  },
  {
   "cell_type": "markdown",
   "metadata": {},
   "source": [
    "### Tuple\n",
    "\n",
    "\n",
    "A tuple is a collection which is ordered and unchangeable. \\\n",
    "Tuples are written with round brackets. \n",
    "\n",
    "A tuple is an ordered collection of values, similar to a list. However, it is not possible to add, remove, or modify values in a tuple. A tuple is created by enclosing values within parentheses `(` and `)`, separated by commas.\n",
    "\n",
    "> Any data structure that cannot be modified after creation is called *immutable*. You can think of tuples as immutable lists.\n",
    "\n",
    "Let's try some experiments with tuples.\n"
   ]
  },
  {
   "cell_type": "markdown",
   "metadata": {},
   "source": [
    "![](data:image/jpeg;base64,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)"
   ]
  },
  {
   "cell_type": "code",
   "execution_count": 65,
   "metadata": {},
   "outputs": [
    {
     "name": "stdout",
     "output_type": "stream",
     "text": [
      "('apple', 'banana', 'cherry', 'apple', 'cherry')\n"
     ]
    }
   ],
   "source": [
    "thistuple = (\"apple\", \"banana\", \"cherry\", \"apple\", \"cherry\")\n",
    "print(thistuple) # Tuples allow duplicate values"
   ]
  },
  {
   "cell_type": "code",
   "execution_count": 66,
   "metadata": {},
   "outputs": [
    {
     "data": {
      "text/plain": [
       "5"
      ]
     },
     "execution_count": 66,
     "metadata": {},
     "output_type": "execute_result"
    }
   ],
   "source": [
    "len(thistuple) # length of tuples"
   ]
  },
  {
   "cell_type": "code",
   "execution_count": 67,
   "metadata": {},
   "outputs": [
    {
     "name": "stdout",
     "output_type": "stream",
     "text": [
      "<class 'tuple'>\n",
      "<class 'str'>\n"
     ]
    }
   ],
   "source": [
    "thistuple = (\"apple\",) # Tuple with one item ',' is used\n",
    "print(type(thistuple))\n",
    "\n",
    "thistuple = (\"apple\") # NOT a tuple since comma is not used\n",
    "print(type(thistuple))"
   ]
  },
  {
   "cell_type": "code",
   "execution_count": 68,
   "metadata": {},
   "outputs": [
    {
     "name": "stdout",
     "output_type": "stream",
     "text": [
      "('apple', 'banana', 'cherry')\n",
      "(1, 5, 7, 9, 3)\n",
      "(True, False, False)\n"
     ]
    }
   ],
   "source": [
    "tuple1 = (\"apple\", \"banana\", \"cherry\")\n",
    "tuple2 = (1, 5, 7, 9, 3)\n",
    "tuple3 = (True, False, False)\n",
    "print(tuple1)\n",
    "print(tuple2)\n",
    "print(tuple3)"
   ]
  },
  {
   "cell_type": "code",
   "execution_count": 69,
   "metadata": {},
   "outputs": [
    {
     "name": "stdout",
     "output_type": "stream",
     "text": [
      "('apple', 'banana', 'cherry')\n",
      "<class 'tuple'>\n"
     ]
    }
   ],
   "source": [
    "thistuple = tuple((\"apple\", \"banana\", \"cherry\")) # note the double round-brackets tuple() Constructor\n",
    "print(thistuple)\n",
    "print(type(thistuple))"
   ]
  },
  {
   "cell_type": "code",
   "execution_count": 70,
   "metadata": {},
   "outputs": [
    {
     "data": {
      "text/plain": [
       "'banana'"
      ]
     },
     "execution_count": 70,
     "metadata": {},
     "output_type": "execute_result"
    }
   ],
   "source": [
    "tuple1[1] # accessing tuple elements"
   ]
  },
  {
   "cell_type": "code",
   "execution_count": 72,
   "metadata": {},
   "outputs": [
    {
     "data": {
      "text/plain": [
       "('apple', 'cherry', 'dates')"
      ]
     },
     "execution_count": 72,
     "metadata": {},
     "output_type": "execute_result"
    }
   ],
   "source": [
    "fruits = ('apple', 'cherry', 'dates')\n",
    "fruits"
   ]
  },
  {
   "cell_type": "code",
   "execution_count": 73,
   "metadata": {},
   "outputs": [
    {
     "data": {
      "text/plain": [
       "3"
      ]
     },
     "execution_count": 73,
     "metadata": {},
     "output_type": "execute_result"
    }
   ],
   "source": [
    "# check no. of elements\n",
    "len(fruits)"
   ]
  },
  {
   "cell_type": "code",
   "execution_count": 74,
   "metadata": {},
   "outputs": [
    {
     "data": {
      "text/plain": [
       "'apple'"
      ]
     },
     "execution_count": 74,
     "metadata": {},
     "output_type": "execute_result"
    }
   ],
   "source": [
    "# get an element (positive index)\n",
    "fruits[0]"
   ]
  },
  {
   "cell_type": "code",
   "execution_count": 75,
   "metadata": {},
   "outputs": [
    {
     "data": {
      "text/plain": [
       "'cherry'"
      ]
     },
     "execution_count": 75,
     "metadata": {},
     "output_type": "execute_result"
    }
   ],
   "source": [
    "# get an element (negative index)\n",
    "fruits[-2]"
   ]
  },
  {
   "cell_type": "code",
   "execution_count": 76,
   "metadata": {},
   "outputs": [
    {
     "data": {
      "text/plain": [
       "True"
      ]
     },
     "execution_count": 76,
     "metadata": {},
     "output_type": "execute_result"
    }
   ],
   "source": [
    "# check if it contains an element\n",
    "'dates' in fruits"
   ]
  },
  {
   "cell_type": "code",
   "execution_count": 77,
   "metadata": {},
   "outputs": [
    {
     "ename": "TypeError",
     "evalue": "'tuple' object does not support item assignment",
     "output_type": "error",
     "traceback": [
      "\u001b[1;31m---------------------------------------------------------------------------\u001b[0m",
      "\u001b[1;31mTypeError\u001b[0m                                 Traceback (most recent call last)",
      "\u001b[1;32m<ipython-input-77-eea1d48cc8b5>\u001b[0m in \u001b[0;36m<module>\u001b[1;34m\u001b[0m\n\u001b[0;32m      1\u001b[0m \u001b[1;31m# try to change an element\u001b[0m\u001b[1;33m\u001b[0m\u001b[1;33m\u001b[0m\u001b[1;33m\u001b[0m\u001b[0m\n\u001b[1;32m----> 2\u001b[1;33m \u001b[0mfruits\u001b[0m\u001b[1;33m[\u001b[0m\u001b[1;36m0\u001b[0m\u001b[1;33m]\u001b[0m \u001b[1;33m=\u001b[0m \u001b[1;34m'avocado'\u001b[0m\u001b[1;33m\u001b[0m\u001b[1;33m\u001b[0m\u001b[0m\n\u001b[0m",
      "\u001b[1;31mTypeError\u001b[0m: 'tuple' object does not support item assignment"
     ]
    }
   ],
   "source": [
    "# try to change an element\n",
    "fruits[0] = 'avocado'"
   ]
  },
  {
   "cell_type": "code",
   "execution_count": 78,
   "metadata": {},
   "outputs": [
    {
     "ename": "AttributeError",
     "evalue": "'tuple' object has no attribute 'append'",
     "output_type": "error",
     "traceback": [
      "\u001b[1;31m---------------------------------------------------------------------------\u001b[0m",
      "\u001b[1;31mAttributeError\u001b[0m                            Traceback (most recent call last)",
      "\u001b[1;32m<ipython-input-78-e5ea20adaaf8>\u001b[0m in \u001b[0;36m<module>\u001b[1;34m\u001b[0m\n\u001b[0;32m      1\u001b[0m \u001b[1;31m# try to append an element\u001b[0m\u001b[1;33m\u001b[0m\u001b[1;33m\u001b[0m\u001b[1;33m\u001b[0m\u001b[0m\n\u001b[1;32m----> 2\u001b[1;33m \u001b[0mfruits\u001b[0m\u001b[1;33m.\u001b[0m\u001b[0mappend\u001b[0m\u001b[1;33m(\u001b[0m\u001b[1;34m'blueberry'\u001b[0m\u001b[1;33m)\u001b[0m\u001b[1;33m\u001b[0m\u001b[1;33m\u001b[0m\u001b[0m\n\u001b[0m",
      "\u001b[1;31mAttributeError\u001b[0m: 'tuple' object has no attribute 'append'"
     ]
    }
   ],
   "source": [
    "# try to append an element\n",
    "fruits.append('blueberry')"
   ]
  },
  {
   "cell_type": "code",
   "execution_count": 79,
   "metadata": {},
   "outputs": [
    {
     "ename": "AttributeError",
     "evalue": "'tuple' object has no attribute 'remove'",
     "output_type": "error",
     "traceback": [
      "\u001b[1;31m---------------------------------------------------------------------------\u001b[0m",
      "\u001b[1;31mAttributeError\u001b[0m                            Traceback (most recent call last)",
      "\u001b[1;32m<ipython-input-79-37543d45b6b4>\u001b[0m in \u001b[0;36m<module>\u001b[1;34m\u001b[0m\n\u001b[0;32m      1\u001b[0m \u001b[1;31m# try to remove an element\u001b[0m\u001b[1;33m\u001b[0m\u001b[1;33m\u001b[0m\u001b[1;33m\u001b[0m\u001b[0m\n\u001b[1;32m----> 2\u001b[1;33m \u001b[0mfruits\u001b[0m\u001b[1;33m.\u001b[0m\u001b[0mremove\u001b[0m\u001b[1;33m(\u001b[0m\u001b[1;34m'apple'\u001b[0m\u001b[1;33m)\u001b[0m\u001b[1;33m\u001b[0m\u001b[1;33m\u001b[0m\u001b[0m\n\u001b[0m",
      "\u001b[1;31mAttributeError\u001b[0m: 'tuple' object has no attribute 'remove'"
     ]
    }
   ],
   "source": [
    "# try to remove an element\n",
    "fruits.remove('apple')"
   ]
  },
  {
   "cell_type": "markdown",
   "metadata": {},
   "source": [
    "You can also skip the parantheses `(` and `)` while creating a tuple. Python automatically converts comma-separated values into a tuple."
   ]
  },
  {
   "cell_type": "code",
   "execution_count": 80,
   "metadata": {},
   "outputs": [
    {
     "data": {
      "text/plain": [
       "('Athos', 'Porthos', 'Aramis')"
      ]
     },
     "execution_count": 80,
     "metadata": {},
     "output_type": "execute_result"
    }
   ],
   "source": [
    "the_3_musketeers = 'Athos', 'Porthos', 'Aramis'\n",
    "the_3_musketeers"
   ]
  },
  {
   "cell_type": "markdown",
   "metadata": {},
   "source": [
    "You can also create a tuple with just one element by typing a comma after it. Just wrapping it with parentheses `(` and `)` won't make it a tuple."
   ]
  },
  {
   "cell_type": "code",
   "execution_count": 81,
   "metadata": {},
   "outputs": [
    {
     "data": {
      "text/plain": [
       "(4,)"
      ]
     },
     "execution_count": 81,
     "metadata": {},
     "output_type": "execute_result"
    }
   ],
   "source": [
    "single_element_tuple = 4,\n",
    "single_element_tuple"
   ]
  },
  {
   "cell_type": "markdown",
   "metadata": {},
   "source": [
    "Tuples are often used to create multiple variables with a single statement."
   ]
  },
  {
   "cell_type": "code",
   "execution_count": 82,
   "metadata": {},
   "outputs": [
    {
     "name": "stdout",
     "output_type": "stream",
     "text": [
      "3\n",
      "4\n"
     ]
    }
   ],
   "source": [
    "point = (3, 4)\n",
    "point_x, point_y = point\n",
    "print(point_x)\n",
    "print(point_y)"
   ]
  },
  {
   "cell_type": "markdown",
   "metadata": {},
   "source": [
    "You can convert a list into a tuple using the `tuple` function, and vice versa using the `list` function"
   ]
  },
  {
   "cell_type": "code",
   "execution_count": 83,
   "metadata": {},
   "outputs": [
    {
     "data": {
      "text/plain": [
       "('one', 'two', 'three')"
      ]
     },
     "execution_count": 83,
     "metadata": {},
     "output_type": "execute_result"
    }
   ],
   "source": [
    "tuple(['one', 'two', 'three'])"
   ]
  },
  {
   "cell_type": "code",
   "execution_count": 84,
   "metadata": {},
   "outputs": [
    {
     "data": {
      "text/plain": [
       "['Athos', 'Porthos', 'Aramis']"
      ]
     },
     "execution_count": 84,
     "metadata": {},
     "output_type": "execute_result"
    }
   ],
   "source": [
    "list(('Athos', 'Porthos', 'Aramis'))"
   ]
  },
  {
   "cell_type": "markdown",
   "metadata": {},
   "source": [
    "Tuples have just two built-in methods: `count` and `index`. Can you figure out what they do? While you look could look for documentation and examples online, there's an easier way to check a method's documentation, using the `help` function."
   ]
  },
  {
   "cell_type": "code",
   "execution_count": 86,
   "metadata": {},
   "outputs": [
    {
     "data": {
      "text/plain": [
       "(23, 'hello', False, None, 23, 37, 'hello')"
      ]
     },
     "execution_count": 86,
     "metadata": {},
     "output_type": "execute_result"
    }
   ],
   "source": [
    "a_tuple = 23, \"hello\", False, None, 23, 37, \"hello\"\n",
    "a_tuple"
   ]
  },
  {
   "cell_type": "code",
   "execution_count": 87,
   "metadata": {},
   "outputs": [
    {
     "name": "stdout",
     "output_type": "stream",
     "text": [
      "Help on built-in function count:\n",
      "\n",
      "count(value, /) method of builtins.tuple instance\n",
      "    Return number of occurrences of value.\n",
      "\n"
     ]
    }
   ],
   "source": [
    "help(a_tuple.count)"
   ]
  },
  {
   "cell_type": "markdown",
   "metadata": {},
   "source": [
    "Within a Jupyter notebook, you can also start a code cell with `?` and type the name of a function or method. When you execute this cell, you will see the function/method's documentation in a pop-up window."
   ]
  },
  {
   "cell_type": "markdown",
   "metadata": {},
   "source": [
    "![](https://img.brainkart.com/extra3/nwHErS8.jpg)"
   ]
  },
  {
   "cell_type": "code",
   "execution_count": null,
   "metadata": {},
   "outputs": [],
   "source": []
  },
  {
   "cell_type": "markdown",
   "metadata": {},
   "source": [
    "# Set\n",
    "A set is a collection which is both unordered and unindexed. \\\n",
    "Sets are written with curly brackets. \\\n",
    "Set is used to eleminate multiple entries"
   ]
  },
  {
   "cell_type": "markdown",
   "metadata": {},
   "source": [
    "![](https://pynative.com/wp-content/uploads/2021/03/python-sets.jpg)"
   ]
  },
  {
   "cell_type": "code",
   "execution_count": 90,
   "metadata": {},
   "outputs": [
    {
     "data": {
      "text/plain": [
       "{'apple', 'banana', 'cherry'}"
      ]
     },
     "execution_count": 90,
     "metadata": {},
     "output_type": "execute_result"
    }
   ],
   "source": [
    "myset = {\"apple\", \"banana\", \"cherry\"}\n",
    "myset"
   ]
  },
  {
   "cell_type": "code",
   "execution_count": 91,
   "metadata": {},
   "outputs": [
    {
     "name": "stdout",
     "output_type": "stream",
     "text": [
      "{'cherry', 'banana', 'apple'}\n"
     ]
    }
   ],
   "source": [
    "thisset = {\"apple\", \"banana\", \"cherry\", \"apple\"}\n",
    "print(thisset) # Duplicate not allowed"
   ]
  },
  {
   "cell_type": "code",
   "execution_count": 92,
   "metadata": {},
   "outputs": [
    {
     "data": {
      "text/plain": [
       "3"
      ]
     },
     "execution_count": 92,
     "metadata": {},
     "output_type": "execute_result"
    }
   ],
   "source": [
    "len(thisset) # Length of set"
   ]
  },
  {
   "cell_type": "code",
   "execution_count": 93,
   "metadata": {},
   "outputs": [
    {
     "name": "stdout",
     "output_type": "stream",
     "text": [
      "{True, 34, 40, 'male', 'abc'}\n",
      "{1, 3, 5, 7, 9}\n",
      "{False, True}\n",
      "{False, True}\n"
     ]
    }
   ],
   "source": [
    "set1 = {\"apple\", \"banana\", \"cherry\"} # string\n",
    "set2 = {1, 5, 7, 9, 3} # int\n",
    "set3 = {True, False, False} # Boolean\n",
    "set1 = {\"abc\", 34, True, 40, \"male\"} # set with int, string and boolean\n",
    "print(set1)\n",
    "print(set2)\n",
    "print(set3)\n",
    "print(set3)"
   ]
  },
  {
   "cell_type": "code",
   "execution_count": 94,
   "metadata": {},
   "outputs": [
    {
     "name": "stdout",
     "output_type": "stream",
     "text": [
      "{'cherry', 'banana', 'apple'}\n"
     ]
    },
    {
     "data": {
      "text/plain": [
       "set"
      ]
     },
     "execution_count": 94,
     "metadata": {},
     "output_type": "execute_result"
    }
   ],
   "source": [
    "thisset = set((\"apple\", \"banana\", \"cherry\")) # note the double round-brackets\n",
    "print(thisset)\n",
    "type(thisset)"
   ]
  },
  {
   "cell_type": "markdown",
   "metadata": {},
   "source": [
    "### Operation on Set"
   ]
  },
  {
   "cell_type": "markdown",
   "metadata": {},
   "source": [
    "![](https://www.engineeringbigdata.com/wp-content/uploads/python-sets-methods.jpg)"
   ]
  },
  {
   "cell_type": "code",
   "execution_count": 95,
   "metadata": {},
   "outputs": [
    {
     "name": "stdout",
     "output_type": "stream",
     "text": [
      "{'Array', 'Float', 'Integer', 'Boolean', 'Complex'} \n",
      " {'frozenset', 'Array', 'Boolean', 'Complex'}\n"
     ]
    }
   ],
   "source": [
    "A = set(('Integer','Float','Complex','Array','Boolean'))\n",
    "B = set(('Boolean','Complex','Array','frozenset'))\n",
    "print(A,'\\n',B)"
   ]
  },
  {
   "cell_type": "code",
   "execution_count": 96,
   "metadata": {},
   "outputs": [
    {
     "data": {
      "text/plain": [
       "{'Array', 'Boolean', 'Complex', 'Float', 'Integer', 'frozenset'}"
      ]
     },
     "execution_count": 96,
     "metadata": {},
     "output_type": "execute_result"
    }
   ],
   "source": [
    "A.union(B) # A union B (all elements which are in either or (or both))"
   ]
  },
  {
   "cell_type": "markdown",
   "metadata": {},
   "source": [
    "![](https://www.cdn.geeksforgeeks.org/wp-content/uploads/Union-in-python.jpg)"
   ]
  },
  {
   "cell_type": "code",
   "execution_count": 97,
   "metadata": {},
   "outputs": [
    {
     "data": {
      "text/plain": [
       "{'Array', 'Boolean', 'Complex'}"
      ]
     },
     "execution_count": 97,
     "metadata": {},
     "output_type": "execute_result"
    }
   ],
   "source": [
    "A.intersection(B) # A intersection B (all elements which are common in A and B)"
   ]
  },
  {
   "cell_type": "markdown",
   "metadata": {},
   "source": [
    "![](https://encrypted-tbn0.gstatic.com/images?q=tbn:ANd9GcQaMK9xNcnVR8WSCCs6UPdADMQZ7ixOqxpgwKakFUEhjLv92fsKpv9VP3YzXQOjHXisMGc&usqp=CAU)"
   ]
  },
  {
   "cell_type": "code",
   "execution_count": 98,
   "metadata": {},
   "outputs": [
    {
     "name": "stdout",
     "output_type": "stream",
     "text": [
      "{'Float', 'Integer'}\n"
     ]
    }
   ],
   "source": [
    "S = A.difference(B) # A difference B (elements which are in A and not in B)\n",
    "print(S)"
   ]
  },
  {
   "cell_type": "markdown",
   "metadata": {},
   "source": [
    "![](data:image/jpeg;base64,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)"
   ]
  },
  {
   "cell_type": "code",
   "execution_count": 99,
   "metadata": {},
   "outputs": [
    {
     "name": "stdout",
     "output_type": "stream",
     "text": [
      "S: {'Float', 'Integer'}, datatype: <class 'set'>\n",
      "set()\n"
     ]
    }
   ],
   "source": [
    "print(f'S: {S}, datatype: {type(S)}')\n",
    "S.clear() # clear the item of set\n",
    "print(S)"
   ]
  },
  {
   "cell_type": "markdown",
   "metadata": {},
   "source": [
    "### Set Comparison"
   ]
  },
  {
   "cell_type": "code",
   "execution_count": 100,
   "metadata": {},
   "outputs": [
    {
     "name": "stdout",
     "output_type": "stream",
     "text": [
      "Float in A:  True\n",
      "Python not in B:  True\n",
      "A==B False\n",
      "A!=B True\n",
      "A<=B False\n",
      "A>=B False\n"
     ]
    }
   ],
   "source": [
    "print('Float in A: ','Float' in A)\n",
    "print('Python not in B: ','Python' not in B)\n",
    "print('A==B',A==B)\n",
    "print('A!=B',A!=B)\n",
    "print('A<=B',A<=B)\n",
    "print('A>=B',A>=B)"
   ]
  },
  {
   "cell_type": "code",
   "execution_count": null,
   "metadata": {},
   "outputs": [],
   "source": []
  },
  {
   "cell_type": "markdown",
   "metadata": {},
   "source": [
    "### Dictionary\n",
    "\n",
    "Dictionaries are used to store data values in key:value pairs.\\\n",
    "A dictionary is a collection which is unordered, changeable and does not allow duplicates. \\\n",
    "Dictionaries are written with curly brackets, and have keys and values: \n",
    "\n",
    "A dictionary is an unordered collection of items. Each item stored in a dictionary has a key and value. You can use a key to retrieve the corresponding value from the dictionary.  Dictionaries have the type `dict`.\n",
    "\n",
    "Dictionaries are often used to store many pieces of information e.g. details about a person, in a single variable. Dictionaries are created by enclosing key-value pairs within braces or curly brackets `{` and `}`."
   ]
  },
  {
   "cell_type": "markdown",
   "metadata": {},
   "source": [
    "![](https://pynative.com/wp-content/uploads/2021/02/dictionaries-in-python.jpg)"
   ]
  },
  {
   "cell_type": "code",
   "execution_count": 101,
   "metadata": {},
   "outputs": [
    {
     "name": "stdout",
     "output_type": "stream",
     "text": [
      "{'brand': 'Ford', 'model': 'Mustang', 'year': 1964}\n"
     ]
    }
   ],
   "source": [
    "thisdict = {\n",
    "  \"brand\": \"Ford\",\n",
    "  \"model\": \"Mustang\",\n",
    "  \"year\": 1964\n",
    "}\n",
    "print(thisdict)"
   ]
  },
  {
   "cell_type": "code",
   "execution_count": 102,
   "metadata": {},
   "outputs": [
    {
     "name": "stdout",
     "output_type": "stream",
     "text": [
      "Ford\n"
     ]
    }
   ],
   "source": [
    "print(thisdict[\"brand\"]) # Access dictionary value using key as index"
   ]
  },
  {
   "cell_type": "code",
   "execution_count": 103,
   "metadata": {},
   "outputs": [
    {
     "name": "stdout",
     "output_type": "stream",
     "text": [
      "{'brand': 'Ford', 'model': 'Mustang', 'year': 2020, 'release': '2020'}\n"
     ]
    },
    {
     "data": {
      "text/plain": [
       "dict"
      ]
     },
     "execution_count": 103,
     "metadata": {},
     "output_type": "execute_result"
    }
   ],
   "source": [
    "thisdict = {\n",
    "  \"brand\": \"Ford\",\n",
    "  \"model\": \"Mustang\",\n",
    "  \"year\": 1964,  \"year\": 2020,\"release\" :'2020'\n",
    "}\n",
    "print(thisdict) # dictionary doesnot allow duplicate key but allow duplicate values\n",
    "type(thisdict)"
   ]
  },
  {
   "cell_type": "code",
   "execution_count": 104,
   "metadata": {},
   "outputs": [
    {
     "name": "stdout",
     "output_type": "stream",
     "text": [
      "4\n"
     ]
    }
   ],
   "source": [
    "print(len(thisdict)) # length of dictionary"
   ]
  },
  {
   "cell_type": "code",
   "execution_count": 105,
   "metadata": {},
   "outputs": [
    {
     "data": {
      "text/plain": [
       "dict_keys(['brand', 'model', 'year', 'release'])"
      ]
     },
     "execution_count": 105,
     "metadata": {},
     "output_type": "execute_result"
    }
   ],
   "source": [
    "thisdict.keys() # all keys of dictionary"
   ]
  },
  {
   "cell_type": "code",
   "execution_count": 106,
   "metadata": {},
   "outputs": [
    {
     "data": {
      "text/plain": [
       "dict_values(['Ford', 'Mustang', 2020, '2020'])"
      ]
     },
     "execution_count": 106,
     "metadata": {},
     "output_type": "execute_result"
    }
   ],
   "source": [
    "thisdict.values() # all values of dictionary"
   ]
  },
  {
   "cell_type": "code",
   "execution_count": 107,
   "metadata": {},
   "outputs": [
    {
     "data": {
      "text/plain": [
       "dict_items([('brand', 'Ford'), ('model', 'Mustang'), ('year', 2020), ('release', '2020')])"
      ]
     },
     "execution_count": 107,
     "metadata": {},
     "output_type": "execute_result"
    }
   ],
   "source": [
    "thisdict.items() # all key and value of dictionary"
   ]
  },
  {
   "cell_type": "code",
   "execution_count": 108,
   "metadata": {},
   "outputs": [
    {
     "data": {
      "text/plain": [
       "'Ford'"
      ]
     },
     "execution_count": 108,
     "metadata": {},
     "output_type": "execute_result"
    }
   ],
   "source": [
    "thisdict.get('brand') # get value using key"
   ]
  },
  {
   "cell_type": "code",
   "execution_count": 109,
   "metadata": {},
   "outputs": [
    {
     "name": "stdout",
     "output_type": "stream",
     "text": [
      "{'brand': 'Jaguar', 'model': 'Mustang', 'year': 2020, 'release': '2020'}\n",
      "{'brand': 'Jaguar', 'model': 'x series', 'year': 2020, 'release': '2020', 'Model': 'Xl720'}\n"
     ]
    }
   ],
   "source": [
    "thisdict.update({'brand':'Jaguar'}) # Update any key value\n",
    "print(thisdict)\n",
    "thisdict['model'] = 'x series' # Update any key value\n",
    "thisdict['Model'] = 'Xl720' # add new key and value\n",
    "print(thisdict)"
   ]
  },
  {
   "cell_type": "markdown",
   "metadata": {},
   "source": [
    "Dictionaries can also be created using the `dict` function."
   ]
  },
  {
   "cell_type": "code",
   "execution_count": 110,
   "metadata": {},
   "outputs": [
    {
     "data": {
      "text/plain": [
       "{'name': 'Jane Judy', 'sex': 'Female', 'age': 28, 'married': False}"
      ]
     },
     "execution_count": 110,
     "metadata": {},
     "output_type": "execute_result"
    }
   ],
   "source": [
    "person2 = dict(name='Jane Judy', sex='Female', age=28, married=False)\n",
    "person2"
   ]
  },
  {
   "cell_type": "markdown",
   "metadata": {},
   "source": [
    "If a key isn't present in the dictionary, then a `KeyError` is *thrown*."
   ]
  },
  {
   "cell_type": "code",
   "execution_count": 111,
   "metadata": {},
   "outputs": [
    {
     "ename": "NameError",
     "evalue": "name 'person1' is not defined",
     "output_type": "error",
     "traceback": [
      "\u001b[1;31m---------------------------------------------------------------------------\u001b[0m",
      "\u001b[1;31mNameError\u001b[0m                                 Traceback (most recent call last)",
      "\u001b[1;32m<ipython-input-111-f2b8bd2476d4>\u001b[0m in \u001b[0;36m<module>\u001b[1;34m\u001b[0m\n\u001b[1;32m----> 1\u001b[1;33m \u001b[0mperson1\u001b[0m\u001b[1;33m[\u001b[0m\u001b[1;34m'address'\u001b[0m\u001b[1;33m]\u001b[0m\u001b[1;33m\u001b[0m\u001b[1;33m\u001b[0m\u001b[0m\n\u001b[0m",
      "\u001b[1;31mNameError\u001b[0m: name 'person1' is not defined"
     ]
    }
   ],
   "source": [
    "person1['address']"
   ]
  },
  {
   "cell_type": "markdown",
   "metadata": {},
   "source": [
    "You can also use the `get` method to access the value associated with a key."
   ]
  },
  {
   "cell_type": "code",
   "execution_count": 112,
   "metadata": {},
   "outputs": [
    {
     "data": {
      "text/plain": [
       "'Jane Judy'"
      ]
     },
     "execution_count": 112,
     "metadata": {},
     "output_type": "execute_result"
    }
   ],
   "source": [
    "person2.get(\"name\")"
   ]
  },
  {
   "cell_type": "markdown",
   "metadata": {},
   "source": [
    "The `get` method also accepts a default value, returned if the key is not present in the dictionary."
   ]
  },
  {
   "cell_type": "code",
   "execution_count": 113,
   "metadata": {},
   "outputs": [
    {
     "data": {
      "text/plain": [
       "'Unknown'"
      ]
     },
     "execution_count": 113,
     "metadata": {},
     "output_type": "execute_result"
    }
   ],
   "source": [
    "person2.get(\"address\", \"Unknown\")"
   ]
  },
  {
   "cell_type": "markdown",
   "metadata": {},
   "source": [
    "You can check whether a key is present in a dictionary using the `in` operator."
   ]
  },
  {
   "cell_type": "code",
   "execution_count": 116,
   "metadata": {},
   "outputs": [
    {
     "data": {
      "text/plain": [
       "True"
      ]
     },
     "execution_count": 116,
     "metadata": {},
     "output_type": "execute_result"
    }
   ],
   "source": [
    "'name' in person2"
   ]
  },
  {
   "cell_type": "code",
   "execution_count": 117,
   "metadata": {},
   "outputs": [
    {
     "data": {
      "text/plain": [
       "False"
      ]
     },
     "execution_count": 117,
     "metadata": {},
     "output_type": "execute_result"
    }
   ],
   "source": [
    "'address' in person2"
   ]
  },
  {
   "cell_type": "markdown",
   "metadata": {},
   "source": [
    "You can change the value associated with a key using the assignment operator."
   ]
  },
  {
   "cell_type": "code",
   "execution_count": 118,
   "metadata": {},
   "outputs": [
    {
     "data": {
      "text/plain": [
       "False"
      ]
     },
     "execution_count": 118,
     "metadata": {},
     "output_type": "execute_result"
    }
   ],
   "source": [
    "person2['married']"
   ]
  },
  {
   "cell_type": "code",
   "execution_count": 119,
   "metadata": {},
   "outputs": [
    {
     "data": {
      "text/plain": [
       "True"
      ]
     },
     "execution_count": 119,
     "metadata": {},
     "output_type": "execute_result"
    }
   ],
   "source": [
    "person2['married'] = True\n",
    "person2['married']"
   ]
  },
  {
   "cell_type": "markdown",
   "metadata": {},
   "source": [
    "The assignment operator can also be used to add new key-value pairs to the dictionary."
   ]
  },
  {
   "cell_type": "markdown",
   "metadata": {},
   "source": [
    "### Dictionary Operation"
   ]
  },
  {
   "cell_type": "markdown",
   "metadata": {},
   "source": [
    "![](https://i0.wp.com/techvidvan.com/tutorials/wp-content/uploads/sites/2/2019/12/python-dictionary-methods.jpg?ssl=1)"
   ]
  },
  {
   "cell_type": "code",
   "execution_count": 126,
   "metadata": {},
   "outputs": [
    {
     "name": "stdout",
     "output_type": "stream",
     "text": [
      "{'brand': 'Ford', 'model': 'Mustang', 'year': 2020, 'release': '2020'}\n"
     ]
    }
   ],
   "source": [
    "d1 = {\n",
    "  \"brand\": \"Ford\",\n",
    "  \"model\": \"Mustang\",\n",
    "  \"year\": 1964,  \"year\": 2020,\"release\" :'2020'\n",
    "}\n",
    "print(d1)\n"
   ]
  },
  {
   "cell_type": "code",
   "execution_count": 127,
   "metadata": {},
   "outputs": [
    {
     "name": "stdout",
     "output_type": "stream",
     "text": [
      "{'brand': 'Ford', 'model': 'Mustang', 'year': 2020, 'release': '2020'}\n"
     ]
    }
   ],
   "source": [
    "d2 = d1.copy() # copy of d1 in d2\n",
    "print(d2)"
   ]
  },
  {
   "cell_type": "code",
   "execution_count": 128,
   "metadata": {},
   "outputs": [
    {
     "data": {
      "text/plain": [
       "{'b': None, 'r': None, 'a': None, 'n': None, 'd': None}"
      ]
     },
     "execution_count": 128,
     "metadata": {},
     "output_type": "execute_result"
    }
   ],
   "source": [
    "d1.fromkeys('brand') # Returns a dictionary with the specified keys and value"
   ]
  },
  {
   "cell_type": "code",
   "execution_count": 129,
   "metadata": {},
   "outputs": [
    {
     "data": {
      "text/plain": [
       "dict_values(['Ford', 'Mustang', 2020, '2020'])"
      ]
     },
     "execution_count": 129,
     "metadata": {},
     "output_type": "execute_result"
    }
   ],
   "source": [
    "d1.values() # Return all values"
   ]
  },
  {
   "cell_type": "markdown",
   "metadata": {},
   "source": [
    "To remove a key and the associated value from a dictionary, use the `pop` method."
   ]
  },
  {
   "cell_type": "code",
   "execution_count": 134,
   "metadata": {},
   "outputs": [
    {
     "data": {
      "text/plain": [
       "{'name': 'John Doe',\n",
       " 'sex': 'Male',\n",
       " 'age': 32,\n",
       " 'married': True,\n",
       " 'address': '1, Penny Lane'}"
      ]
     },
     "execution_count": 134,
     "metadata": {},
     "output_type": "execute_result"
    }
   ],
   "source": [
    "person1 = {'name': 'John Doe', 'sex': 'Male', 'age': 32, 'married': True}\n",
    "person1['address'] = '1, Penny Lane'\n",
    "person1"
   ]
  },
  {
   "cell_type": "code",
   "execution_count": 135,
   "metadata": {},
   "outputs": [
    {
     "data": {
      "text/plain": [
       "'1, Penny Lane'"
      ]
     },
     "execution_count": 135,
     "metadata": {},
     "output_type": "execute_result"
    }
   ],
   "source": [
    "person1.pop('address')"
   ]
  },
  {
   "cell_type": "markdown",
   "metadata": {},
   "source": [
    "Dictionaries also provide methods to view the list of keys, values, or key-value pairs inside it."
   ]
  },
  {
   "cell_type": "code",
   "execution_count": 136,
   "metadata": {},
   "outputs": [
    {
     "data": {
      "text/plain": [
       "dict_keys(['name', 'sex', 'age', 'married'])"
      ]
     },
     "execution_count": 136,
     "metadata": {},
     "output_type": "execute_result"
    }
   ],
   "source": [
    "person1.keys()"
   ]
  },
  {
   "cell_type": "code",
   "execution_count": 137,
   "metadata": {},
   "outputs": [
    {
     "data": {
      "text/plain": [
       "dict_values(['John Doe', 'Male', 32, True])"
      ]
     },
     "execution_count": 137,
     "metadata": {},
     "output_type": "execute_result"
    }
   ],
   "source": [
    "person1.values()"
   ]
  },
  {
   "cell_type": "code",
   "execution_count": 138,
   "metadata": {},
   "outputs": [
    {
     "data": {
      "text/plain": [
       "dict_items([('name', 'John Doe'), ('sex', 'Male'), ('age', 32), ('married', True)])"
      ]
     },
     "execution_count": 138,
     "metadata": {},
     "output_type": "execute_result"
    }
   ],
   "source": [
    "person1.items()"
   ]
  },
  {
   "cell_type": "code",
   "execution_count": 139,
   "metadata": {},
   "outputs": [
    {
     "ename": "TypeError",
     "evalue": "'dict_items' object is not subscriptable",
     "output_type": "error",
     "traceback": [
      "\u001b[1;31m---------------------------------------------------------------------------\u001b[0m",
      "\u001b[1;31mTypeError\u001b[0m                                 Traceback (most recent call last)",
      "\u001b[1;32m<ipython-input-139-b9fb361f2a9e>\u001b[0m in \u001b[0;36m<module>\u001b[1;34m\u001b[0m\n\u001b[1;32m----> 1\u001b[1;33m \u001b[0mperson1\u001b[0m\u001b[1;33m.\u001b[0m\u001b[0mitems\u001b[0m\u001b[1;33m(\u001b[0m\u001b[1;33m)\u001b[0m\u001b[1;33m[\u001b[0m\u001b[1;36m1\u001b[0m\u001b[1;33m]\u001b[0m\u001b[1;33m\u001b[0m\u001b[1;33m\u001b[0m\u001b[0m\n\u001b[0m",
      "\u001b[1;31mTypeError\u001b[0m: 'dict_items' object is not subscriptable"
     ]
    }
   ],
   "source": [
    "person1.items()[1]"
   ]
  },
  {
   "cell_type": "markdown",
   "metadata": {},
   "source": [
    "The results of `keys`, `values`, and `items` look like lists. However, they don't support the indexing operator `[]` for retrieving elements. \n",
    "\n",
    "Can you figure out how to access an element at a specific index from these results? Try it below. *Hint: Use the `list` function*"
   ]
  },
  {
   "cell_type": "code",
   "execution_count": null,
   "metadata": {},
   "outputs": [],
   "source": []
  },
  {
   "cell_type": "markdown",
   "metadata": {},
   "source": [
    "Dictionaries provide many other methods. You can learn more about them here: https://www.w3schools.com/python/python_ref_dictionary.asp .\n",
    "\n",
    "Here are some experiments you can try out with dictionaries (use the empty cells below):\n",
    "* What happens if you use the same key multiple times while creating a dictionary? \n",
    "* Aswer: No, each key in a dictionary should be unique. You can't have two keys with the same value. Attempting to use the same key again will just overwrite the previous value stored \n",
    "\n",
    "\n",
    "* How can you create a copy of a dictionary (modifying the copy should not change the original)?\n",
    "* Aswer: dict2 = dict1.copy()\n",
    "\n",
    "\n",
    "* Can the value associated with a key itself be a dictionary?\n",
    "* Answer: The key and value in a dictionary must be an object; however, everything in Python is an object and thus anything can be used as a key or a value\n",
    "\n",
    "\n",
    "* How can you add the key-value pairs from one dictionary into another dictionary? Hint: See the `update` method.\n",
    "* Answer: eg- CountryCodeDict = {\"India\": 91, \"UK\" : 44 , \"USA\" : 1, \"Spain\" : 34} >>   CountryCodeDict.update( {'Germany' : 49} )\n",
    "\n",
    "\n",
    "\n",
    "* Can the dictionary's keys be something other than a string, e.g., a number, boolean, list, etc.?\n",
    "* Answer: Almost any type of value can be used as a dictionary key in Python"
   ]
  },
  {
   "cell_type": "code",
   "execution_count": null,
   "metadata": {},
   "outputs": [],
   "source": []
  },
  {
   "cell_type": "markdown",
   "metadata": {},
   "source": [
    "### List\n",
    "Lists are used to store multiple items in a single variable.\\\n",
    "List is a container which hold element and mutuable data type\n",
    "\n",
    "A list in Python is an ordered collection of values. Lists can hold values of different data types and support operations to add, remove, and change values. Lists have the type `list`.\n",
    "\n",
    "To create a list, enclose a sequence of values within square brackets `[` and `]`, separated by commas."
   ]
  },
  {
   "cell_type": "markdown",
   "metadata": {},
   "source": [
    "![](https://pynative.com/wp-content/uploads/2021/03/python-list.jpg)"
   ]
  },
  {
   "cell_type": "code",
   "execution_count": 142,
   "metadata": {},
   "outputs": [
    {
     "name": "stdout",
     "output_type": "stream",
     "text": [
      "['apple', 'banana', 'cherry']\n"
     ]
    }
   ],
   "source": [
    "mylist = [\"apple\", \"banana\", \"cherry\"]\n",
    "print(mylist)"
   ]
  },
  {
   "cell_type": "code",
   "execution_count": 143,
   "metadata": {},
   "outputs": [
    {
     "name": "stdout",
     "output_type": "stream",
     "text": [
      "['apple', 'banana', 'cherry', 'apple', 'cherry']\n"
     ]
    }
   ],
   "source": [
    "thislist = [\"apple\", \"banana\", \"cherry\", \"apple\", \"cherry\"]\n",
    "print(thislist) # Allow Duplicate Elements"
   ]
  },
  {
   "cell_type": "code",
   "execution_count": 144,
   "metadata": {},
   "outputs": [
    {
     "name": "stdout",
     "output_type": "stream",
     "text": [
      "5\n"
     ]
    }
   ],
   "source": [
    "print(len(thislist)) # length of the list"
   ]
  },
  {
   "cell_type": "code",
   "execution_count": 145,
   "metadata": {},
   "outputs": [
    {
     "name": "stdout",
     "output_type": "stream",
     "text": [
      "['apple', 'banana', 'cherry']\n",
      "[1, 5, 7, 9, 3]\n",
      "[True, False, False]\n",
      "['apple', 1, 5, True, 'cherry']\n"
     ]
    },
    {
     "data": {
      "text/plain": [
       "list"
      ]
     },
     "execution_count": 145,
     "metadata": {},
     "output_type": "execute_result"
    }
   ],
   "source": [
    "list1 = [\"apple\", \"banana\", \"cherry\"] # string data type\n",
    "list2 = [1, 5, 7, 9, 3] # Integer data type\n",
    "list3 = [True, False, False] # Boolean data type\n",
    "list4 = ['apple',1,5,True,'cherry'] # mixed data type in list\n",
    "print(list1)\n",
    "print(list2)\n",
    "print(list3)\n",
    "print(list4)\n",
    "type(list4)"
   ]
  },
  {
   "cell_type": "code",
   "execution_count": 146,
   "metadata": {},
   "outputs": [
    {
     "name": "stdout",
     "output_type": "stream",
     "text": [
      "['apple', 'banana', 'cherry']\n"
     ]
    }
   ],
   "source": [
    "thislist = list((\"apple\", \"banana\", \"cherry\")) # note the double round-brackets list() Constructor\n",
    "print(thislist)"
   ]
  },
  {
   "cell_type": "code",
   "execution_count": 147,
   "metadata": {},
   "outputs": [
    {
     "name": "stdout",
     "output_type": "stream",
     "text": [
      "['physics', 'chemistry', 1997, 2000]\n"
     ]
    },
    {
     "data": {
      "text/plain": [
       "'chemistry'"
      ]
     },
     "execution_count": 147,
     "metadata": {},
     "output_type": "execute_result"
    }
   ],
   "source": [
    "myList = list() # creating empty list\n",
    "myList = ['physics', 'chemistry', 1997, 2000] # initialize list \n",
    "print(myList)\n",
    "myList[1] # Access List elements"
   ]
  },
  {
   "cell_type": "code",
   "execution_count": 148,
   "metadata": {},
   "outputs": [
    {
     "name": "stdout",
     "output_type": "stream",
     "text": [
      "['physics', 'Python', 1997, 2000]\n"
     ]
    }
   ],
   "source": [
    "myList[1]='Python' # Updating List element at index 1\n",
    "print(myList)"
   ]
  },
  {
   "cell_type": "code",
   "execution_count": 149,
   "metadata": {},
   "outputs": [
    {
     "name": "stdout",
     "output_type": "stream",
     "text": [
      "['physics', 'Python', 1997, 2000, 'Program', 'List']\n"
     ]
    }
   ],
   "source": [
    "myList.append('Program')\n",
    "myList.append('List')\n",
    "print(myList) # appending new element in list"
   ]
  },
  {
   "cell_type": "code",
   "execution_count": 150,
   "metadata": {},
   "outputs": [
    {
     "name": "stdout",
     "output_type": "stream",
     "text": [
      "['physics', 'Python', 1997, 2000, 'Program']\n"
     ]
    }
   ],
   "source": [
    "del myList[-1] # delete last element in the list\n",
    "print(myList)"
   ]
  },
  {
   "cell_type": "code",
   "execution_count": 151,
   "metadata": {},
   "outputs": [
    {
     "name": "stdout",
     "output_type": "stream",
     "text": [
      "['physics', 'Python', 1997, 2000, []]\n"
     ]
    }
   ],
   "source": [
    "myList[-1] = [] # update null to last element\n",
    "print(myList)"
   ]
  },
  {
   "cell_type": "code",
   "execution_count": 152,
   "metadata": {},
   "outputs": [
    {
     "name": "stdout",
     "output_type": "stream",
     "text": [
      "['physics', 'Python', 1997, 2000, []]\n"
     ]
    }
   ],
   "source": [
    "list2 = ['Manoj']\n",
    "list2 = myList.copy() # create a copy or recreate myList element to list2\n",
    "print(list2)"
   ]
  },
  {
   "cell_type": "code",
   "execution_count": 153,
   "metadata": {},
   "outputs": [
    {
     "name": "stdout",
     "output_type": "stream",
     "text": [
      "['physics', 'Manoj', 'Python', 1997, 2000, []]\n"
     ]
    }
   ],
   "source": [
    "myList.insert(1,'Manoj') # insert element at index\n",
    "print(myList)"
   ]
  },
  {
   "cell_type": "code",
   "execution_count": 154,
   "metadata": {},
   "outputs": [
    {
     "data": {
      "text/plain": [
       "['apple', 'banana', 'cherry', 'physics', 'Python', 1997, 2000, []]"
      ]
     },
     "execution_count": 154,
     "metadata": {},
     "output_type": "execute_result"
    }
   ],
   "source": [
    "list1 + list2 # List Concatenation"
   ]
  },
  {
   "cell_type": "code",
   "execution_count": 155,
   "metadata": {},
   "outputs": [
    {
     "name": "stdout",
     "output_type": "stream",
     "text": [
      "['apple', 'banana', 'cherry']\n"
     ]
    },
    {
     "data": {
      "text/plain": [
       "['apple', 'banana', 'cherry', 'apple', 'banana', 'cherry']"
      ]
     },
     "execution_count": 155,
     "metadata": {},
     "output_type": "execute_result"
    }
   ],
   "source": [
    "print(list1)\n",
    "list1*2 # List Repetition"
   ]
  },
  {
   "cell_type": "code",
   "execution_count": 156,
   "metadata": {},
   "outputs": [
    {
     "name": "stdout",
     "output_type": "stream",
     "text": [
      "apple in list1:  True\n"
     ]
    }
   ],
   "source": [
    "print('apple in list1: ','apple' in list1) # Membership"
   ]
  },
  {
   "cell_type": "code",
   "execution_count": 157,
   "metadata": {},
   "outputs": [
    {
     "name": "stdout",
     "output_type": "stream",
     "text": [
      "apple\n",
      "banana\n",
      "cherry\n"
     ]
    }
   ],
   "source": [
    "for x in list1: print(x) # Iteration"
   ]
  },
  {
   "cell_type": "code",
   "execution_count": 158,
   "metadata": {},
   "outputs": [
    {
     "data": {
      "text/plain": [
       "['apple', 'banana', 'cherry']"
      ]
     },
     "execution_count": 158,
     "metadata": {},
     "output_type": "execute_result"
    }
   ],
   "source": [
    "[x for x in list1] # List Comprehension"
   ]
  },
  {
   "cell_type": "markdown",
   "metadata": {},
   "source": [
    "Let's try creating a list containing values of different data types, including another list."
   ]
  },
  {
   "cell_type": "code",
   "execution_count": 159,
   "metadata": {},
   "outputs": [
    {
     "data": {
      "text/plain": [
       "[23, 'hello', None, 3.14, ('apple', 'cherry', 'dates'), True]"
      ]
     },
     "execution_count": 159,
     "metadata": {},
     "output_type": "execute_result"
    }
   ],
   "source": [
    "a_list = [23, 'hello', None, 3.14, fruits, 3 <= 5]\n",
    "a_list"
   ]
  },
  {
   "cell_type": "code",
   "execution_count": 160,
   "metadata": {},
   "outputs": [
    {
     "data": {
      "text/plain": [
       "[]"
      ]
     },
     "execution_count": 160,
     "metadata": {},
     "output_type": "execute_result"
    }
   ],
   "source": [
    "empty_list = []\n",
    "empty_list"
   ]
  },
  {
   "cell_type": "markdown",
   "metadata": {},
   "source": [
    "To determine the number of values in a list, use the `len` function. You can use `len`  to determine the number of values in several other data types."
   ]
  },
  {
   "cell_type": "code",
   "execution_count": 172,
   "metadata": {},
   "outputs": [
    {
     "data": {
      "text/plain": [
       "3"
      ]
     },
     "execution_count": 172,
     "metadata": {},
     "output_type": "execute_result"
    }
   ],
   "source": [
    "fruits = ['apple', 'cherry', 'dates']\n",
    "len(fruits)"
   ]
  },
  {
   "cell_type": "code",
   "execution_count": 167,
   "metadata": {},
   "outputs": [
    {
     "name": "stdout",
     "output_type": "stream",
     "text": [
      "Number of fruits: 3\n",
      "length:  6\n"
     ]
    }
   ],
   "source": [
    "print(\"Number of fruits:\", len(fruits))\n",
    "print('length: ',len(a_list))"
   ]
  },
  {
   "cell_type": "markdown",
   "metadata": {},
   "source": [
    "You can access an element from the list using its *index*, e.g: `fruits[2]` return the element at index 2 within the list `fruits`. The starting index of a list is 0."
   ]
  },
  {
   "cell_type": "code",
   "execution_count": 169,
   "metadata": {},
   "outputs": [
    {
     "name": "stdout",
     "output_type": "stream",
     "text": [
      "apple\n",
      "cherry\n",
      "dates\n"
     ]
    }
   ],
   "source": [
    "print(fruits[0])\n",
    "print(fruits[1])\n",
    "print(fruits[2])"
   ]
  },
  {
   "cell_type": "markdown",
   "metadata": {},
   "source": [
    "If you try to access an index equal to or higher than the length of the list, Python returns an `IndexError`."
   ]
  },
  {
   "cell_type": "code",
   "execution_count": 173,
   "metadata": {},
   "outputs": [
    {
     "ename": "IndexError",
     "evalue": "list index out of range",
     "output_type": "error",
     "traceback": [
      "\u001b[1;31m---------------------------------------------------------------------------\u001b[0m",
      "\u001b[1;31mIndexError\u001b[0m                                Traceback (most recent call last)",
      "\u001b[1;32m<ipython-input-173-7ceeafd384d7>\u001b[0m in \u001b[0;36m<module>\u001b[1;34m\u001b[0m\n\u001b[1;32m----> 1\u001b[1;33m \u001b[0mfruits\u001b[0m\u001b[1;33m[\u001b[0m\u001b[1;36m3\u001b[0m\u001b[1;33m]\u001b[0m\u001b[1;33m\u001b[0m\u001b[1;33m\u001b[0m\u001b[0m\n\u001b[0m",
      "\u001b[1;31mIndexError\u001b[0m: list index out of range"
     ]
    }
   ],
   "source": [
    "fruits[3]"
   ]
  },
  {
   "cell_type": "markdown",
   "metadata": {},
   "source": [
    "You can use negative indices to access elements from the end of a list, e.g., `fruits[-1]` returns the last element, `fruits[-2]` returns the second last element, and so on."
   ]
  },
  {
   "cell_type": "code",
   "execution_count": 174,
   "metadata": {},
   "outputs": [
    {
     "name": "stdout",
     "output_type": "stream",
     "text": [
      "dates\n",
      "cherry\n",
      "apple\n"
     ]
    }
   ],
   "source": [
    "print(fruits[-1])\n",
    "print(fruits[-2])\n",
    "print(fruits[-3])"
   ]
  },
  {
   "cell_type": "code",
   "execution_count": 175,
   "metadata": {},
   "outputs": [
    {
     "ename": "IndexError",
     "evalue": "list index out of range",
     "output_type": "error",
     "traceback": [
      "\u001b[1;31m---------------------------------------------------------------------------\u001b[0m",
      "\u001b[1;31mIndexError\u001b[0m                                Traceback (most recent call last)",
      "\u001b[1;32m<ipython-input-175-1cb2d66442ee>\u001b[0m in \u001b[0;36m<module>\u001b[1;34m\u001b[0m\n\u001b[1;32m----> 1\u001b[1;33m \u001b[0mfruits\u001b[0m\u001b[1;33m[\u001b[0m\u001b[1;33m-\u001b[0m\u001b[1;36m4\u001b[0m\u001b[1;33m]\u001b[0m\u001b[1;33m\u001b[0m\u001b[1;33m\u001b[0m\u001b[0m\n\u001b[0m",
      "\u001b[1;31mIndexError\u001b[0m: list index out of range"
     ]
    }
   ],
   "source": [
    "fruits[-4]"
   ]
  },
  {
   "cell_type": "markdown",
   "metadata": {},
   "source": [
    "You can also access a range of values from the list. The result is itself a list. Let us look at some examples."
   ]
  },
  {
   "cell_type": "code",
   "execution_count": 177,
   "metadata": {},
   "outputs": [
    {
     "data": {
      "text/plain": [
       "[23, 'hello', None, 3.14, ['apple', 'cherry', 'dates'], True]"
      ]
     },
     "execution_count": 177,
     "metadata": {},
     "output_type": "execute_result"
    }
   ],
   "source": [
    "a_list = [23, 'hello', None, 3.14, fruits, 3 <= 5]\n",
    "a_list"
   ]
  },
  {
   "cell_type": "code",
   "execution_count": 178,
   "metadata": {},
   "outputs": [
    {
     "data": {
      "text/plain": [
       "6"
      ]
     },
     "execution_count": 178,
     "metadata": {},
     "output_type": "execute_result"
    }
   ],
   "source": [
    "len(a_list)"
   ]
  },
  {
   "cell_type": "markdown",
   "metadata": {},
   "source": [
    "### List Slicing"
   ]
  },
  {
   "cell_type": "markdown",
   "metadata": {},
   "source": [
    "![](https://static.javatpoint.com/python/images/lists-indexing-and-splitting.png)"
   ]
  },
  {
   "cell_type": "code",
   "execution_count": 179,
   "metadata": {},
   "outputs": [
    {
     "data": {
      "text/plain": [
       "[None, 3.14, ['apple', 'cherry', 'dates']]"
      ]
     },
     "execution_count": 179,
     "metadata": {},
     "output_type": "execute_result"
    }
   ],
   "source": [
    "a_list[2:5]"
   ]
  },
  {
   "cell_type": "markdown",
   "metadata": {},
   "source": [
    "Note that the range `2:5` includes the element at the start index `2` but does not include the element at the end index `5`. So, the result has 3 values (index `2`, `3`, and `4`).\n",
    "\n",
    "Here are some experiments you should try out (use the empty cells below):\n",
    "\n",
    "* Try setting one or both indices of the range are larger than the size of the list, e.g., `a_list[2:10]`\n",
    "* Try setting the start index of the range to be larger than the end index, e.g., `a_list[12:10]`\n",
    "* Try leaving out the start or end index of a range, e.g., `a_list[2:]` or `a_list[:5]`\n",
    "* Try using negative indices for the range, e.g., `a_list[-2:-5]` or `a_list[-5:-2]` (can you explain the results?)\n",
    "\n",
    "> The flexible and interactive nature of Jupyter notebooks makes them an excellent tool for learning and experimentation. If you are new to Python, you can resolve most questions as soon as they arise simply by typing the code into a cell and executing it. Let your curiosity run wild, discover what Python is capable of and what it isn't! "
   ]
  },
  {
   "cell_type": "markdown",
   "metadata": {},
   "source": [
    "### List Operation"
   ]
  },
  {
   "cell_type": "markdown",
   "metadata": {},
   "source": [
    "![](https://res.cloudinary.com/dyd911kmh/image/upload/f_auto,q_auto:best/v1592084676/list3_ldpeim.png)"
   ]
  },
  {
   "cell_type": "markdown",
   "metadata": {},
   "source": [
    "You can also change the value at a specific index within a list using the assignment operation."
   ]
  },
  {
   "cell_type": "code",
   "execution_count": 180,
   "metadata": {},
   "outputs": [
    {
     "data": {
      "text/plain": [
       "['apple', 'cherry', 'dates']"
      ]
     },
     "execution_count": 180,
     "metadata": {},
     "output_type": "execute_result"
    }
   ],
   "source": [
    "fruits"
   ]
  },
  {
   "cell_type": "code",
   "execution_count": 181,
   "metadata": {},
   "outputs": [
    {
     "data": {
      "text/plain": [
       "['apple', 'blueberry', 'dates']"
      ]
     },
     "execution_count": 181,
     "metadata": {},
     "output_type": "execute_result"
    }
   ],
   "source": [
    "fruits[1] = 'blueberry'\n",
    "fruits"
   ]
  },
  {
   "cell_type": "markdown",
   "metadata": {},
   "source": [
    "A new value can be added to the end of a list using the `append` method."
   ]
  },
  {
   "cell_type": "code",
   "execution_count": 184,
   "metadata": {},
   "outputs": [
    {
     "data": {
      "text/plain": [
       "['apple', 'blueberry', 'dates', 'dates']"
      ]
     },
     "execution_count": 184,
     "metadata": {},
     "output_type": "execute_result"
    }
   ],
   "source": [
    "fruits.append('dates')\n",
    "fruits"
   ]
  },
  {
   "cell_type": "markdown",
   "metadata": {},
   "source": [
    "A new value can also be inserted at a specific index using the `insert` method."
   ]
  },
  {
   "cell_type": "code",
   "execution_count": 186,
   "metadata": {},
   "outputs": [
    {
     "data": {
      "text/plain": [
       "['apple', 'banana', 'banana', 'blueberry', 'dates', 'dates']"
      ]
     },
     "execution_count": 186,
     "metadata": {},
     "output_type": "execute_result"
    }
   ],
   "source": [
    "fruits.insert(1, 'banana')\n",
    "fruits.insert(1, 'banana')\n",
    "fruits"
   ]
  },
  {
   "cell_type": "markdown",
   "metadata": {},
   "source": [
    "You can remove a value from a list using the `remove` method."
   ]
  },
  {
   "cell_type": "code",
   "execution_count": 188,
   "metadata": {},
   "outputs": [
    {
     "data": {
      "text/plain": [
       "['apple', 'banana', 'dates', 'dates']"
      ]
     },
     "execution_count": 188,
     "metadata": {},
     "output_type": "execute_result"
    }
   ],
   "source": [
    "fruits.remove('blueberry')\n",
    "fruits"
   ]
  },
  {
   "cell_type": "markdown",
   "metadata": {},
   "source": [
    "What happens if a list has multiple instances of the value passed to `.remove`? Try it out."
   ]
  },
  {
   "cell_type": "code",
   "execution_count": 187,
   "metadata": {},
   "outputs": [
    {
     "data": {
      "text/plain": [
       "['apple', 'banana', 'blueberry', 'dates', 'dates']"
      ]
     },
     "execution_count": 187,
     "metadata": {},
     "output_type": "execute_result"
    }
   ],
   "source": [
    "fruits.remove('banana')\n",
    "fruits"
   ]
  },
  {
   "cell_type": "markdown",
   "metadata": {},
   "source": [
    "To remove an element from a specific index, use the `pop` method. The method also returns the removed element."
   ]
  },
  {
   "cell_type": "code",
   "execution_count": 189,
   "metadata": {},
   "outputs": [
    {
     "name": "stdout",
     "output_type": "stream",
     "text": [
      "['apple', 'banana', 'dates', 'dates']\n"
     ]
    },
    {
     "data": {
      "text/plain": [
       "['apple', 'dates', 'dates']"
      ]
     },
     "execution_count": 189,
     "metadata": {},
     "output_type": "execute_result"
    }
   ],
   "source": [
    "print(fruits)\n",
    "fruits.pop(1)\n",
    "fruits"
   ]
  },
  {
   "cell_type": "markdown",
   "metadata": {},
   "source": [
    "If no index is provided, the `pop` method removes the last element of the list and return the pop element"
   ]
  },
  {
   "cell_type": "code",
   "execution_count": 190,
   "metadata": {},
   "outputs": [
    {
     "data": {
      "text/plain": [
       "'dates'"
      ]
     },
     "execution_count": 190,
     "metadata": {},
     "output_type": "execute_result"
    }
   ],
   "source": [
    "fruits.pop()"
   ]
  },
  {
   "cell_type": "code",
   "execution_count": 191,
   "metadata": {},
   "outputs": [
    {
     "data": {
      "text/plain": [
       "['apple', 'dates']"
      ]
     },
     "execution_count": 191,
     "metadata": {},
     "output_type": "execute_result"
    }
   ],
   "source": [
    "fruits"
   ]
  },
  {
   "cell_type": "markdown",
   "metadata": {},
   "source": [
    "Maximum and minimum value in the list"
   ]
  },
  {
   "cell_type": "code",
   "execution_count": 192,
   "metadata": {},
   "outputs": [
    {
     "name": "stdout",
     "output_type": "stream",
     "text": [
      "[1, 5, 8, 2, 3, 7, 9, 15, 3, 1, 5, 5]\n",
      "Maximum:  15\n",
      "Minimum:  1\n"
     ]
    }
   ],
   "source": [
    "list2 = [1,5,8,2,3,7,9,15,3,1,5,5]\n",
    "print(list2)\n",
    "print('Maximum: ',max(list2))\n",
    "print('Minimum: ',min(list2))"
   ]
  },
  {
   "cell_type": "markdown",
   "metadata": {},
   "source": [
    "Sorting the list"
   ]
  },
  {
   "cell_type": "code",
   "execution_count": 193,
   "metadata": {},
   "outputs": [
    {
     "name": "stdout",
     "output_type": "stream",
     "text": [
      "[1, 5, 8, 2, 3, 7, 9, 15, 3, 1, 5, 5]\n",
      "[1, 1, 2, 3, 3, 5, 5, 5, 7, 8, 9, 15]\n"
     ]
    }
   ],
   "source": [
    "print(list2)\n",
    "list2.sort()\n",
    "print(list2)"
   ]
  },
  {
   "cell_type": "markdown",
   "metadata": {},
   "source": [
    "You can test whether a list contains a value using the `in` operator."
   ]
  },
  {
   "cell_type": "code",
   "execution_count": 195,
   "metadata": {},
   "outputs": [
    {
     "data": {
      "text/plain": [
       "['apple', 'dates']"
      ]
     },
     "execution_count": 195,
     "metadata": {},
     "output_type": "execute_result"
    }
   ],
   "source": [
    "fruits"
   ]
  },
  {
   "cell_type": "code",
   "execution_count": 196,
   "metadata": {},
   "outputs": [
    {
     "data": {
      "text/plain": [
       "False"
      ]
     },
     "execution_count": 196,
     "metadata": {},
     "output_type": "execute_result"
    }
   ],
   "source": [
    "'pineapple' in fruits"
   ]
  },
  {
   "cell_type": "code",
   "execution_count": 198,
   "metadata": {},
   "outputs": [
    {
     "data": {
      "text/plain": [
       "True"
      ]
     },
     "execution_count": 198,
     "metadata": {},
     "output_type": "execute_result"
    }
   ],
   "source": [
    "'dates' in fruits"
   ]
  },
  {
   "cell_type": "markdown",
   "metadata": {},
   "source": [
    "To combine two or more lists, use the `+` operator. This operation is also called *concatenation*."
   ]
  },
  {
   "cell_type": "code",
   "execution_count": 199,
   "metadata": {},
   "outputs": [
    {
     "data": {
      "text/plain": [
       "['apple', 'dates', 'pineapple', 'tomato', 'guava', 'dates', 'banana']"
      ]
     },
     "execution_count": 199,
     "metadata": {},
     "output_type": "execute_result"
    }
   ],
   "source": [
    "more_fruits = fruits + ['pineapple', 'tomato', 'guava'] + ['dates', 'banana']\n",
    "more_fruits"
   ]
  },
  {
   "cell_type": "markdown",
   "metadata": {},
   "source": [
    "To create a copy of a list, use the `copy` method. Modifying the copied list does not affect the original."
   ]
  },
  {
   "cell_type": "code",
   "execution_count": 201,
   "metadata": {},
   "outputs": [
    {
     "data": {
      "text/plain": [
       "['apple', 'dates', 'pineapple', 'tomato', 'guava', 'dates', 'banana']"
      ]
     },
     "execution_count": 201,
     "metadata": {},
     "output_type": "execute_result"
    }
   ],
   "source": [
    "more_fruits_copy = more_fruits.copy()\n",
    "more_fruits_copy"
   ]
  },
  {
   "cell_type": "code",
   "execution_count": 202,
   "metadata": {},
   "outputs": [
    {
     "data": {
      "text/plain": [
       "['apple', 'dates', 'tomato', 'guava', 'dates']"
      ]
     },
     "execution_count": 202,
     "metadata": {},
     "output_type": "execute_result"
    }
   ],
   "source": [
    "# Modify the copy\n",
    "more_fruits_copy.remove('pineapple')\n",
    "more_fruits_copy.pop()\n",
    "more_fruits_copy"
   ]
  },
  {
   "cell_type": "code",
   "execution_count": 203,
   "metadata": {},
   "outputs": [
    {
     "data": {
      "text/plain": [
       "['apple', 'dates', 'pineapple', 'tomato', 'guava', 'dates', 'banana']"
      ]
     },
     "execution_count": 203,
     "metadata": {},
     "output_type": "execute_result"
    }
   ],
   "source": [
    "# Original list remains unchanged\n",
    "more_fruits"
   ]
  },
  {
   "cell_type": "markdown",
   "metadata": {},
   "source": [
    "Note that you cannot create a copy of a list by simply creating a new variable using the assignment operator `=`. The new variable will point to the same list, and any modifications performed using either variable will affect the other."
   ]
  },
  {
   "cell_type": "code",
   "execution_count": 204,
   "metadata": {},
   "outputs": [
    {
     "data": {
      "text/plain": [
       "['apple', 'dates', 'pineapple', 'tomato', 'guava', 'dates', 'banana']"
      ]
     },
     "execution_count": 204,
     "metadata": {},
     "output_type": "execute_result"
    }
   ],
   "source": [
    "more_fruits"
   ]
  },
  {
   "cell_type": "code",
   "execution_count": 205,
   "metadata": {},
   "outputs": [
    {
     "data": {
      "text/plain": [
       "['apple', 'dates', 'pineapple', 'tomato', 'guava', 'dates', 'banana']"
      ]
     },
     "execution_count": 205,
     "metadata": {},
     "output_type": "execute_result"
    }
   ],
   "source": [
    "more_fruits_not_a_copy = more_fruits\n",
    "more_fruits_not_a_copy"
   ]
  },
  {
   "cell_type": "code",
   "execution_count": 206,
   "metadata": {},
   "outputs": [
    {
     "data": {
      "text/plain": [
       "'banana'"
      ]
     },
     "execution_count": 206,
     "metadata": {},
     "output_type": "execute_result"
    }
   ],
   "source": [
    "more_fruits_not_a_copy.remove('pineapple')\n",
    "more_fruits_not_a_copy.pop()"
   ]
  },
  {
   "cell_type": "code",
   "execution_count": 207,
   "metadata": {},
   "outputs": [
    {
     "data": {
      "text/plain": [
       "['apple', 'dates', 'tomato', 'guava', 'dates']"
      ]
     },
     "execution_count": 207,
     "metadata": {},
     "output_type": "execute_result"
    }
   ],
   "source": [
    "more_fruits_not_a_copy"
   ]
  },
  {
   "cell_type": "code",
   "execution_count": 208,
   "metadata": {},
   "outputs": [
    {
     "data": {
      "text/plain": [
       "['apple', 'dates', 'tomato', 'guava', 'dates']"
      ]
     },
     "execution_count": 208,
     "metadata": {},
     "output_type": "execute_result"
    }
   ],
   "source": [
    "more_fruits"
   ]
  },
  {
   "cell_type": "markdown",
   "metadata": {},
   "source": [
    "Just like strings, there are several in-built methods to manipulate a list. However, unlike strings, most list methods modify the original list rather than returning a new one. Check out some common list operations here: https://www.w3schools.com/python/python_ref_list.asp .\n",
    "\n",
    "\n",
    "Following are some exercises you can try out with list methods (use the blank code cells below):\n",
    "\n",
    "* Reverse the order of elements in a list\n",
    "* Add the elements of one list at the end of another list\n",
    "* Sort a list of strings in alphabetical order\n",
    "* Sort a list of numbers in decreasing order"
   ]
  },
  {
   "cell_type": "markdown",
   "metadata": {},
   "source": [
    "### List Comprehension\n",
    "List comprehension offers a shorter syntax when you want to create a new list based on the values of an existing list.\n",
    "\n",
    "Example:\n",
    "\n",
    "Based on a list of fruits, you want a new list, containing only the fruits with the letter \"a\" in the name.\n",
    "\n",
    "Without list comprehension you will have to write a for statement with a conditional test inside:"
   ]
  },
  {
   "cell_type": "markdown",
   "metadata": {},
   "source": [
    "![](https://4.bp.blogspot.com/-uRPZqKbIGwQ/XRtgWhC6qqI/AAAAAAAAH0w/--oGnwKsnpo00GwQgH2gV3RPwHwK8uONgCLcBGAs/s1600/comprehension.PNG)"
   ]
  },
  {
   "cell_type": "code",
   "execution_count": 213,
   "metadata": {},
   "outputs": [
    {
     "name": "stdout",
     "output_type": "stream",
     "text": [
      "['apple', 'banana', 'mango']\n"
     ]
    }
   ],
   "source": [
    "# print fruits name if letter a is present\n",
    "fruits = [\"apple\", \"banana\", \"cherry\", \"kiwi\", \"mango\"]\n",
    "newlist = []\n",
    "\n",
    "for x in fruits:\n",
    "    if \"a\" in x:\n",
    "        newlist.append(x)\n",
    "print(newlist)"
   ]
  },
  {
   "cell_type": "markdown",
   "metadata": {},
   "source": [
    "### Syntax and Example\n",
    "newlist = [expression for item in iterable if condition == True]"
   ]
  },
  {
   "cell_type": "code",
   "execution_count": 214,
   "metadata": {},
   "outputs": [
    {
     "name": "stdout",
     "output_type": "stream",
     "text": [
      "List Comprehension:  ['apple', 'banana', 'mango']\n"
     ]
    }
   ],
   "source": [
    "# List comprehension\n",
    "lstcomp = [x for x in fruits if 'a' in x]\n",
    "print('List Comprehension: ', lstcomp)"
   ]
  },
  {
   "cell_type": "code",
   "execution_count": 215,
   "metadata": {},
   "outputs": [
    {
     "name": "stdout",
     "output_type": "stream",
     "text": [
      "['banana', 'cherry', 'kiwi', 'mango']\n"
     ]
    }
   ],
   "source": [
    "newlist = [x for x in fruits if x != \"apple\"] # Accept item that is not apple\n",
    "print(newlist)"
   ]
  },
  {
   "cell_type": "code",
   "execution_count": 216,
   "metadata": {},
   "outputs": [
    {
     "data": {
      "text/plain": [
       "['apple', 'banana', 'cherry', 'kiwi', 'mango']"
      ]
     },
     "execution_count": 216,
     "metadata": {},
     "output_type": "execute_result"
    }
   ],
   "source": [
    "[x for x in fruits] # all elements in fruits"
   ]
  },
  {
   "cell_type": "code",
   "execution_count": 217,
   "metadata": {},
   "outputs": [
    {
     "data": {
      "text/plain": [
       "[6, 7, 8, 9]"
      ]
     },
     "execution_count": 217,
     "metadata": {},
     "output_type": "execute_result"
    }
   ],
   "source": [
    "[x for x in range(0,10) if x>5] # print number greater than 5 in range 0 to 10"
   ]
  },
  {
   "cell_type": "code",
   "execution_count": 218,
   "metadata": {},
   "outputs": [
    {
     "data": {
      "text/plain": [
       "['APPLE', 'CHERRY', 'KIWI', 'MANGO']"
      ]
     },
     "execution_count": 218,
     "metadata": {},
     "output_type": "execute_result"
    }
   ],
   "source": [
    "[x.upper() for x in fruits  if x!=\"banana\"] # print in upper case if not banana"
   ]
  },
  {
   "cell_type": "markdown",
   "metadata": {},
   "source": [
    "Conditional If with List Comprehension"
   ]
  },
  {
   "cell_type": "code",
   "execution_count": 219,
   "metadata": {},
   "outputs": [
    {
     "name": "stdout",
     "output_type": "stream",
     "text": [
      "['apple', 'orange', 'cherry', 'kiwi', 'mango']\n"
     ]
    }
   ],
   "source": [
    "newlist = [x if x != \"banana\" else \"orange\" for x in fruits]\n",
    "print(newlist)\n",
    "newlist = [x for x in fruits if x!='banana' or 'orange'] # both are same\n",
    "print(newlist)"
   ]
  },
  {
   "cell_type": "markdown",
   "metadata": {},
   "source": [
    "### Nested List"
   ]
  },
  {
   "cell_type": "code",
   "execution_count": 221,
   "metadata": {},
   "outputs": [
    {
     "name": "stdout",
     "output_type": "stream",
     "text": [
      "['Java', 'Core Java']\n",
      "Core Java\n"
     ]
    }
   ],
   "source": [
    "list1 = ['Python',['Java','Core Java'],'OOP\\'s'] # declare nested list\n",
    "print(list1[1]) # access nest list\n",
    "print(list1[1][1]) # access elements of nest list"
   ]
  },
  {
   "cell_type": "code",
   "execution_count": null,
   "metadata": {},
   "outputs": [],
   "source": []
  },
  {
   "cell_type": "markdown",
   "metadata": {},
   "source": [
    "## Questions for Revision\n",
    "\n",
    "Try answering the following questions to test your understanding of the topics covered in this notebook:\n",
    "\n",
    "* What is a variable in Python?\n",
    "* How do you create a variable? \n",
    "* How do you create multiple variables in a single statement?\n",
    "* How do you create multiple variables with the same value?\n",
    "* How do you change the value of a variable?\n",
    "* How do you reassign a variable by modifying the previous value?\n",
    "* What does the statement `counter += 4` do?\n",
    "* What are the rules for naming a variable?\n",
    "* Are variable names case-sensitive? Do `a_variable`, `A_Variable`, and `A_VARIABLE` represent the same variable or different ones?\n",
    "* What is Syntax? Why is it important?\n",
    "* What happens if you execute a statement with invalid syntax?\n",
    "* How do you check the data type of a variable?\n",
    "* What are the built-in data types in Python?\n",
    "* What is a primitive data type? \n",
    "* What are the primitive data types available in Python?  Answer: Python has four primitive variable types: .Integers .Float .Strings .Boolean \n",
    "\n",
    "17. What is a data structure or container data type?\n",
    "18. What are the container types available in Python?\n",
    "19. What kind of data does the Integer data type represent?\n",
    "20. What are the numerical limits of the integer data type?\n",
    "21. What kind of data does the float data type represent?\n",
    "22. How does Python decide if a given number is a float or an integer?\n",
    "23. How can you create a variable which stores a whole number, e.g., 4 but has the float data type?\n",
    "24. How do you create floats representing very large (e.g., 6.023 x 10^23) or very small numbers (0.000000123)?\n",
    "25. What does the expression `23e-12` represent?\n",
    "26. Can floats be used to store numbers with unlimited precision?\n",
    "27. What are the differences between integers and floats?\n",
    "28. How do you convert an integer to a float?\n",
    "29. How do you convert a float to an integer?\n",
    "30. What is the result obtained when you convert 1.99 to an integer?\n",
    "31. What are the data types of the results of the division operators `/` and `//`?\n",
    "32. What kind of data does the Boolean data type represent?\n",
    "33. Which types of Python operators return booleans as a result?\n",
    "34. What happens if you try to use a boolean in arithmetic operation?\n",
    "35. How can any value in Python be covered to a boolean?\n",
    "36. What are truthy and falsy values?\n",
    "37. What are the values in Python that evaluate to False?\n",
    "38. Give some examples of values that evaluate to True.\n",
    "39. What kind of data does the None data type represent?\n",
    "40. What is the purpose of None?\n",
    "41. What kind of data does the String data type represent?\n",
    "42. What are the different ways of creating strings in Python?\n",
    "43. What is the difference between strings creating using single quotes, i.e. `'` and `'` vs. those created using double quotes, i.e. `\"` and `\"`?\n",
    "44. How do you create multi-line strings in Python?\n",
    "45. What is the newline character, `\\n`?\n",
    "46. What are escaped characters? How are they useful?\n",
    "47. How do you check the length of a string?\n",
    "48. How do you convert a string into a list of characters?\n",
    "49. How do you access a specific character from a string?\n",
    "50. How do you access a range of characters from a string?\n",
    "51. How do you check if a specific character occurs in a string?\n",
    "52. How do you check if a smaller string occurs within a bigger string?\n",
    "53. How do you join two or more strings?\n",
    "54. What are \"methods\" in Python? How are they different from functions?\n",
    "55. What do the `.lower`, `.upper` and `.capitalize` methods on strings do?\n",
    "56. How do you replace a specific part of a string with something else?\n",
    "57. How do you split the string \"Sun,Mon,Tue,Wed,Thu,Fri,Sat\" into a list of days?\n",
    "58. How do you remove whitespace from the beginning and end of a string?\n",
    "59. What is the string `.format` method used for? Can you give an example?\n",
    "60. What are the benefits of using the `.format` method instead of string concatenation?\n",
    "61. How do you convert a value of another type to a string?\n",
    "62. How do you check if two strings have the same value?\n",
    "63. Where can you find the list of all the methods supported by strings?\n",
    "64. What is a list in Python?\n",
    "65. How do you create a list?\n",
    "66. Can a Python list contain values of different data types?\n",
    "67. Can a list contain another list as an element within it?\n",
    "68. Can you create a list without any values?\n",
    "69. How do you check the length of a list in Python?\n",
    "70. How do you retrieve a value from a list?\n",
    "71. What is the smallest and largest index you can use to access elements from a list containing five elements?\n",
    "72. What happens if you try to access an index equal to or larger than the size of a list?\n",
    "73. What happens if you try to access a negative index within a list?\n",
    "74. How do you access a range of elements from a list?\n",
    "75. How many elements does the list returned by the expression `a_list[2:5]` contain?\n",
    "76. What do the ranges `a_list[:2]` and `a_list[2:]` represent?\n",
    "77. How do you change the item stored at a specific index within a list?\n",
    "78. How do you insert a new item at the beginning, middle, or end of a list?\n",
    "79. How do you remove an item from al list?\n",
    "80. How do you remove the item at a given index from a list?\n",
    "81. How do you check if a list contains a value?\n",
    "82. How do you combine two or most lists to create a larger list?\n",
    "83. How do you create a copy of a list?\n",
    "84. Does the expression `a_new_list = a_list` create a copy of the list `a_list`?\n",
    "85. Where can you find the list of all the methods supported by lists?\n",
    "86. What is a Tuple in Python?\n",
    "87. How is a tuple different from a list?\n",
    "88. Can you add or remove elements in a tuple?\n",
    "89. How do you create a tuple with just one element?\n",
    "90. How do you convert a tuple to a list and vice versa?\n",
    "91. What are the `count` and `index` method of a Tuple used for?\n",
    "92. What is a dictionary in Python?\n",
    "93. How do you create a dictionary?\n",
    "94. What are keys and values?\n",
    "95. How do you access the value associated with a specific key in a dictionary?\n",
    "96. What happens if you try to access the value for a key that doesn't exist in a dictionary?\n",
    "97. What is the `.get` method of a dictionary used for?\n",
    "98. How do you change the value associated with a key in a dictionary?\n",
    "99. How do you add or remove a key-value pair in a dictionary?\n",
    "100. How do you access the keys, values, and key-value pairs within a dictionary?"
   ]
  },
  {
   "cell_type": "code",
   "execution_count": null,
   "metadata": {},
   "outputs": [],
   "source": []
  }
 ],
 "metadata": {
  "kernelspec": {
   "display_name": "Python 3",
   "language": "python",
   "name": "python3"
  },
  "language_info": {
   "codemirror_mode": {
    "name": "ipython",
    "version": 3
   },
   "file_extension": ".py",
   "mimetype": "text/x-python",
   "name": "python",
   "nbconvert_exporter": "python",
   "pygments_lexer": "ipython3",
   "version": "3.7.6"
  }
 },
 "nbformat": 4,
 "nbformat_minor": 4
}
