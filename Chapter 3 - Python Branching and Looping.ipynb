{
 "cells": [
  {
   "cell_type": "markdown",
   "metadata": {},
   "source": [
    "## Manoj Mahanty - Jr. Engineer - Data Analytics\n",
    "####  Python | MATLAB | R Begineer | SQL, PostgreSQL | MS Excel\n",
    "![](https://media-exp1.licdn.com/dms/image/C4E03AQHQwbwhrso79w/profile-displayphoto-shrink_100_100/0/1630124536553?e=1635379200&v=beta&t=VSAf_0U1A_gCd9m1GEN_UMYQTiCgumibjqYsfXp2_VM)  \n",
    " \n",
    "* email: mahantymanoj786@gmail.com\n",
    "* LinkedIn : https://www.linkedin.com/in/manoj-mahanty-aa3769115/"
   ]
  },
  {
   "cell_type": "markdown",
   "metadata": {},
   "source": [
    "## Branching using Conditional Statements and Loops in Python\n",
    "\n",
    "![](https://i.imgur.com/7RfcHV0.png)"
   ]
  },
  {
   "cell_type": "markdown",
   "metadata": {},
   "source": [
    "Python use indentation for grouping the statements. All Statement are indented by same number of character space if all statement belongs to single block of code\n",
    "\n",
    "### Python Branching Program\n",
    "Branching program are also know as decision making statements, The conditional statements has three part.\n",
    "* Test expression \n",
    "* Block of code \n",
    "* Optional block execute it condition is false (else block) "
   ]
  },
  {
   "cell_type": "markdown",
   "metadata": {},
   "source": [
    "Following are the type of Python branching program statement\n",
    "* If statement \n",
    "* if... else statement \n",
    "* if..elif statement\n",
    "* Nester if.. else statement"
   ]
  },
  {
   "cell_type": "markdown",
   "metadata": {},
   "source": [
    "## Branching with `if`, `else` and `elif`\n",
    "\n",
    "One of the most powerful features of programming languages is *branching*: the ability to make decisions and execute a different set of statements based on whether one or more conditions are true.\n",
    "\n",
    "### The `if` statement\n",
    "\n",
    "In Python, branching is implemented using the `if` statement, which is written as follows:\n",
    "\n",
    "```\n",
    "if condition:\n",
    "    statement1\n",
    "    statement2\n",
    "```\n",
    "\n",
    "The `condition` can be a value, variable or expression. If the condition evaluates to `True`, then the statements within the *`if` block* are executed. Notice the four spaces before `statement1`, `statement2`, etc. The spaces inform Python that these statements are associated with the `if` statement above. This technique of structuring code by adding spaces is called *indentation*.\n",
    "\n",
    "> **Indentation**: Python relies heavily on *indentation* (white space before a statement) to define code structure. This makes Python code easy to read and understand. You can run into problems if you don't use indentation properly. Indent your code by placing the cursor at the start of the line and pressing the `Tab` key once to add 4 spaces. Pressing `Tab` again will indent the code further by 4 more spaces, and press `Shift+Tab` will reduce the indentation by 4 spaces. \n",
    "\n",
    "\n",
    "For example, let's write some code to check and print a message if a given number is even."
   ]
  },
  {
   "cell_type": "markdown",
   "metadata": {},
   "source": [
    "### If Statement\n",
    "Execute the block of code if test expression is True\n",
    "\n",
    "![](https://encrypted-tbn0.gstatic.com/images?q=tbn:ANd9GcQkjj0ejCRFBOR8ahKb6FOzhuBaa6kOqukchKb6IfgXbZBP1eyv-uX5IzqJHKgDQhdc8J0&usqp=CAU)"
   ]
  },
  {
   "cell_type": "code",
   "execution_count": 1,
   "metadata": {},
   "outputs": [
    {
     "name": "stdout",
     "output_type": "stream",
     "text": [
      "Inside IF Block\n"
     ]
    }
   ],
   "source": [
    "a_number = 34\n",
    "if a_number%2==0:\n",
    "    print('Inside IF Block')"
   ]
  },
  {
   "cell_type": "code",
   "execution_count": 3,
   "metadata": {},
   "outputs": [
    {
     "name": "stdout",
     "output_type": "stream",
     "text": [
      "10 5\n"
     ]
    }
   ],
   "source": [
    "a = 10\n",
    "b = 5\n",
    "print(a,b)"
   ]
  },
  {
   "cell_type": "code",
   "execution_count": 6,
   "metadata": {},
   "outputs": [
    {
     "name": "stdout",
     "output_type": "stream",
     "text": [
      "a is greater\n",
      "True\n"
     ]
    }
   ],
   "source": [
    "if a>b:\n",
    "    print('a is greater')\n",
    "    \n",
    "if a==10:\n",
    "    print(True)"
   ]
  },
  {
   "cell_type": "code",
   "execution_count": 7,
   "metadata": {},
   "outputs": [],
   "source": [
    "another_number = 33\n",
    "if another_number % 2 == 0:\n",
    "    print('The given number {} is even.'.format(a_number))"
   ]
  },
  {
   "cell_type": "markdown",
   "metadata": {},
   "source": [
    "As expected, since the condition `another_number % 2 == 0` evaluates to `False`, no message is printed. \n",
    "\n",
    "### The `else` statement\n",
    "\n",
    "We may want to print a different message if the number is not even in the above example. This can be done by adding the `else` statement. It is written as follows:\n",
    "\n",
    "```\n",
    "if condition:\n",
    "    statement1\n",
    "    statement2\n",
    "else:\n",
    "    statement4\n",
    "    statement5\n",
    "\n",
    "```\n",
    "\n",
    "If `condition` evaluates to `True`, the statements in the `if` block are executed. If it evaluates to `False`, the statements in the `else` block are executed."
   ]
  },
  {
   "cell_type": "markdown",
   "metadata": {},
   "source": [
    "### If ... else statement\n",
    "Execute if block if test expression is True, if test expression is Flase then it will execute else block"
   ]
  },
  {
   "cell_type": "markdown",
   "metadata": {},
   "source": [
    "![](https://beginnersbook.com/wp-content/uploads/2017/09/If_else_flow_diagram_C.jpg)"
   ]
  },
  {
   "cell_type": "code",
   "execution_count": 10,
   "metadata": {},
   "outputs": [
    {
     "name": "stdout",
     "output_type": "stream",
     "text": [
      "If Block: a is greater than b\n"
     ]
    }
   ],
   "source": [
    "if a>b:\n",
    "    print('If Block: a is greater than b')\n",
    "else:\n",
    "    print('else Block: b is greater than a')"
   ]
  },
  {
   "cell_type": "code",
   "execution_count": 11,
   "metadata": {},
   "outputs": [
    {
     "name": "stdout",
     "output_type": "stream",
     "text": [
      "else Block: b is less than a\n"
     ]
    }
   ],
   "source": [
    "if a<b:\n",
    "    print('if Block: a is less than b')\n",
    "else:\n",
    "    print('else Block: b is less than a')"
   ]
  },
  {
   "cell_type": "code",
   "execution_count": 12,
   "metadata": {},
   "outputs": [
    {
     "name": "stdout",
     "output_type": "stream",
     "text": [
      "The given number 34 is even.\n"
     ]
    }
   ],
   "source": [
    "a_number = 34\n",
    "if a_number % 2 == 0:\n",
    "    print('The given number {} is even.'.format(a_number))\n",
    "else:\n",
    "    print('The given number {} is odd.'.format(a_number))"
   ]
  },
  {
   "cell_type": "code",
   "execution_count": 13,
   "metadata": {},
   "outputs": [
    {
     "name": "stdout",
     "output_type": "stream",
     "text": [
      "The given number 33 is odd.\n"
     ]
    }
   ],
   "source": [
    "another_number = 33\n",
    "if another_number % 2 == 0:\n",
    "    print('The given number {} is even.'.format(another_number))\n",
    "else:\n",
    "    print('The given number {} is odd.'.format(another_number))"
   ]
  },
  {
   "cell_type": "markdown",
   "metadata": {},
   "source": [
    "Here's another example, which uses the `in` operator to check membership within a tuple."
   ]
  },
  {
   "cell_type": "code",
   "execution_count": 14,
   "metadata": {},
   "outputs": [
    {
     "name": "stdout",
     "output_type": "stream",
     "text": [
      "D'Artagnan is not a musketeer\n"
     ]
    }
   ],
   "source": [
    "the_3_musketeers = ('Athos', 'Porthos', 'Aramis')\n",
    "a_candidate = \"D'Artagnan\"\n",
    "if a_candidate in the_3_musketeers:\n",
    "    print(\"{} is a musketeer\".format(a_candidate))\n",
    "else:\n",
    "    print(\"{} is not a musketeer\".format(a_candidate))"
   ]
  },
  {
   "cell_type": "markdown",
   "metadata": {},
   "source": [
    "### The `elif` statement\n",
    "\n",
    "Python also provides an `elif` statement (short for \"else if\") to chain a series of conditional blocks. The conditions are evaluated one by one. For the first condition that evaluates to `True`, the block of statements below it is executed. The remaining conditions and statements are not evaluated. So, in an `if`, `elif`, `elif`... chain, at most one block of statements is executed, the one corresponding to the first condition that evaluates to `True`. \n",
    "\n",
    "### elif statement\n",
    "elif statement is used to check multiple Logical expression. For true value and it execute the block of code."
   ]
  },
  {
   "cell_type": "markdown",
   "metadata": {},
   "source": [
    "![](https://cdn.techbeamers.com/wp-content/uploads/2018/08/Python-If-Elif-Else-Statement-Flowchart.png)"
   ]
  },
  {
   "cell_type": "code",
   "execution_count": 22,
   "metadata": {},
   "outputs": [
    {
     "name": "stdout",
     "output_type": "stream",
     "text": [
      "a is greater than b\n"
     ]
    }
   ],
   "source": [
    "if a>b:\n",
    "    print('a is greater than b')\n",
    "elif a<b:\n",
    "    print('a is less than b')\n",
    "elif a==b:\n",
    "    print('a is equal to b')"
   ]
  },
  {
   "cell_type": "code",
   "execution_count": 21,
   "metadata": {},
   "outputs": [
    {
     "name": "stdout",
     "output_type": "stream",
     "text": [
      "a is greater than b\n"
     ]
    }
   ],
   "source": [
    "if a==b:\n",
    "    print('a is equal to b')\n",
    "elif a<b:\n",
    "    print('a is less than b')\n",
    "elif a>b:\n",
    "    print('a is greater than b')"
   ]
  },
  {
   "cell_type": "code",
   "execution_count": 16,
   "metadata": {},
   "outputs": [
    {
     "name": "stdout",
     "output_type": "stream",
     "text": [
      "Today is the day of Odin, the supreme diety.\n"
     ]
    }
   ],
   "source": [
    "today = 'Wednesday'\n",
    "if today == 'Sunday':\n",
    "    print(\"Today is the day of the sun.\")\n",
    "elif today == 'Monday':\n",
    "    print(\"Today is the day of the moon.\")\n",
    "elif today == 'Tuesday':\n",
    "    print(\"Today is the day of Tyr, the god of war.\")\n",
    "elif today == 'Wednesday':\n",
    "    print(\"Today is the day of Odin, the supreme diety.\")\n",
    "elif today == 'Thursday':\n",
    "    print(\"Today is the day of Thor, the god of thunder.\")\n",
    "elif today == 'Friday':\n",
    "    print(\"Today is the day of Frigga, the goddess of beauty.\")\n",
    "elif today == 'Saturday':\n",
    "    print(\"Today is the day of Saturn, the god of fun and feasting.\")"
   ]
  },
  {
   "cell_type": "markdown",
   "metadata": {},
   "source": [
    "In the above example, the first 3 conditions evaluate to `False`, so none of the first 3 messages are printed. The fourth condition evaluates to `True`, so the corresponding message is printed. The remaining conditions are skipped. Try changing the value of `today` above and re-executing the cells to print all the different messages.\n",
    "\n",
    "\n",
    "To verify that the remaining conditions are skipped, let us try another example."
   ]
  },
  {
   "cell_type": "code",
   "execution_count": 19,
   "metadata": {},
   "outputs": [
    {
     "name": "stdout",
     "output_type": "stream",
     "text": [
      "15 is divisible by 3\n"
     ]
    }
   ],
   "source": [
    "a_number = 15\n",
    "if a_number % 2 == 0:\n",
    "    print('{} is divisible by 2'.format(a_number))\n",
    "elif a_number % 3 == 0:\n",
    "    print('{} is divisible by 3'.format(a_number))\n",
    "elif a_number % 5 == 0:\n",
    "    print('{} is divisible by 5'.format(a_number))\n",
    "elif a_number % 7 == 0:\n",
    "    print('{} is divisible by 7'.format(a_number))"
   ]
  },
  {
   "cell_type": "markdown",
   "metadata": {},
   "source": [
    "Note that the message `15 is divisible by 5` is not printed because the condition `a_number % 5 == 0` isn't evaluated, since the previous condition `a_number % 3 == 0` evaluates to `True`. This is the key difference between using a chain of `if`, `elif`, `elif`... statements vs. a chain of `if` statements, where each condition is evaluated independently."
   ]
  },
  {
   "cell_type": "code",
   "execution_count": 20,
   "metadata": {},
   "outputs": [
    {
     "name": "stdout",
     "output_type": "stream",
     "text": [
      "15 is divisible by 3\n",
      "15 is divisible by 5\n"
     ]
    }
   ],
   "source": [
    "if a_number % 2 == 0:\n",
    "    print('{} is divisible by 2'.format(a_number))\n",
    "if a_number % 3 == 0:\n",
    "    print('{} is divisible by 3'.format(a_number))\n",
    "if a_number % 5 == 0:\n",
    "    print('{} is divisible by 5'.format(a_number))\n",
    "if a_number % 7 == 0:\n",
    "    print('{} is divisible by 7'.format(a_number))"
   ]
  },
  {
   "cell_type": "markdown",
   "metadata": {},
   "source": [
    "### Using `if`, `elif`, and `else` together\n",
    "\n",
    "You can also include an `else` statement at the end of a chain of `if`, `elif`... statements. This code within the `else` block is evaluated when none of the conditions hold true."
   ]
  },
  {
   "cell_type": "code",
   "execution_count": 23,
   "metadata": {},
   "outputs": [
    {
     "name": "stdout",
     "output_type": "stream",
     "text": [
      "All checks failed!\n",
      "49 is not divisible by 2, 3 or 5\n"
     ]
    }
   ],
   "source": [
    "a_number = 49\n",
    "if a_number % 2 == 0:\n",
    "    print('{} is divisible by 2'.format(a_number))\n",
    "elif a_number % 3 == 0:\n",
    "    print('{} is divisible by 3'.format(a_number))\n",
    "elif a_number % 5 == 0:\n",
    "    print('{} is divisible by 5'.format(a_number))\n",
    "else:\n",
    "    print('All checks failed!')\n",
    "    print('{} is not divisible by 2, 3 or 5'.format(a_number))"
   ]
  },
  {
   "cell_type": "markdown",
   "metadata": {},
   "source": [
    "Conditions can also be combined using the logical operators `and`, `or` and `not`. Logical operators are explained in detail in the [first tutorial](https://jovian.ml/aakashns/first-steps-with-python/v/4#C49)."
   ]
  },
  {
   "cell_type": "code",
   "execution_count": 24,
   "metadata": {},
   "outputs": [
    {
     "name": "stdout",
     "output_type": "stream",
     "text": [
      "The number 12 is not divisible by 5\n"
     ]
    }
   ],
   "source": [
    "a_number = 12\n",
    "if a_number % 3 == 0 and a_number % 5 == 0:\n",
    "    print(\"The number {} is divisible by 3 and 5\".format(a_number))\n",
    "elif not a_number % 5 == 0:\n",
    "    print(\"The number {} is not divisible by 5\".format(a_number))"
   ]
  },
  {
   "cell_type": "markdown",
   "metadata": {},
   "source": [
    "### Non-Boolean Conditions\n",
    "\n",
    "Note that conditions do not necessarily have to be booleans. In fact, a condition can be any value. The value is converted into a boolean automatically using the `bool` operator. This means that falsy values like `0`, `''`, `{}`, `[]`, etc. evaluate to `False` and all other values evaluate to `True`."
   ]
  },
  {
   "cell_type": "markdown",
   "metadata": {},
   "source": [
    "![](https://media.geeksforgeeks.org/wp-content/uploads/20191122132635/Python-logical-or-operator.jpg)"
   ]
  },
  {
   "cell_type": "code",
   "execution_count": 25,
   "metadata": {},
   "outputs": [
    {
     "name": "stdout",
     "output_type": "stream",
     "text": [
      "The condition evaluted to False\n"
     ]
    }
   ],
   "source": [
    "if '':\n",
    "    print('The condition evaluted to True')\n",
    "else:\n",
    "    print('The condition evaluted to False')"
   ]
  },
  {
   "cell_type": "code",
   "execution_count": 26,
   "metadata": {},
   "outputs": [
    {
     "name": "stdout",
     "output_type": "stream",
     "text": [
      "The condition evaluted to True\n"
     ]
    }
   ],
   "source": [
    "if 'Hello':\n",
    "    print('The condition evaluted to True')\n",
    "else:\n",
    "    print('The condition evaluted to False')"
   ]
  },
  {
   "cell_type": "code",
   "execution_count": 27,
   "metadata": {},
   "outputs": [
    {
     "name": "stdout",
     "output_type": "stream",
     "text": [
      "The condition evaluted to True\n"
     ]
    }
   ],
   "source": [
    "if { 'a': 34 }:\n",
    "    print('The condition evaluted to True')\n",
    "else:\n",
    "    print('The condition evaluted to False')"
   ]
  },
  {
   "cell_type": "code",
   "execution_count": 28,
   "metadata": {},
   "outputs": [
    {
     "name": "stdout",
     "output_type": "stream",
     "text": [
      "The condition evaluted to False\n"
     ]
    }
   ],
   "source": [
    "if None:\n",
    "    print('The condition evaluted to True')\n",
    "else:\n",
    "    print('The condition evaluted to False')"
   ]
  },
  {
   "cell_type": "markdown",
   "metadata": {},
   "source": [
    "### Nested conditional statements\n",
    "\n",
    "The code inside an `if` block can also include an `if` statement inside it. This pattern is called `nesting` and is used to check for another condition after a particular condition holds true.\n",
    "\n",
    "### Nested if statement\n",
    "if inside if. Many time we have to check another condition when one condition is true."
   ]
  },
  {
   "cell_type": "markdown",
   "metadata": {},
   "source": [
    "![](https://www.codesansar.com/storage/app/media/c-programming/nested-if-else-statement.png)"
   ]
  },
  {
   "cell_type": "code",
   "execution_count": 32,
   "metadata": {},
   "outputs": [
    {
     "name": "stdout",
     "output_type": "stream",
     "text": [
      "10 5\n",
      "a is equal to 10\n"
     ]
    }
   ],
   "source": [
    "print(a,b)\n",
    "if a>b:\n",
    "    if a==10:\n",
    "        print('a is equal to 10')\n",
    "    else:\n",
    "        print('default')\n",
    "else:\n",
    "    print('default')"
   ]
  },
  {
   "cell_type": "code",
   "execution_count": 33,
   "metadata": {},
   "outputs": [
    {
     "name": "stdout",
     "output_type": "stream",
     "text": [
      "15 is odd\n",
      "15 is also divisible by 5\n"
     ]
    }
   ],
   "source": [
    "a_number = 15\n",
    "if a_number % 2 == 0:\n",
    "    print(\"{} is even\".format(a_number))\n",
    "    if a_number % 3 == 0:\n",
    "        print(\"{} is also divisible by 3\".format(a_number))\n",
    "    else:\n",
    "        print(\"{} is not divisibule by 3\".format(a_number))\n",
    "else:\n",
    "    print(\"{} is odd\".format(a_number))\n",
    "    if a_number % 5 == 0:\n",
    "        print(\"{} is also divisible by 5\".format(a_number))\n",
    "    else:\n",
    "        print(\"{} is not divisibule by 5\".format(a_number))"
   ]
  },
  {
   "cell_type": "markdown",
   "metadata": {},
   "source": [
    "Notice how the `print` statements are indented by 8 spaces to indicate that they are part of the inner `if`/`else` blocks.\n",
    "\n",
    "> Nested `if`, `else` statements are often confusing to read and prone to human error. It's good to avoid nesting whenever possible, or limit the nesting to 1 or 2 levels."
   ]
  },
  {
   "cell_type": "markdown",
   "metadata": {},
   "source": [
    "### Shorthand `if` conditional expression\n",
    "\n",
    "A frequent use case of the `if` statement involves testing a condition and setting a variable's value based on the condition.\n",
    "\n",
    "![](https://www.educative.io/api/edpresso/shot/6387970267414528/image/5567665605181440)"
   ]
  },
  {
   "cell_type": "markdown",
   "metadata": {},
   "source": [
    "Python provides a shorter syntax, which allows writing such conditions in a single line of code. It is known as a *conditional expression*, sometimes also referred to as a *ternary operator*. It has the following syntax:\n",
    "\n",
    "```\n",
    "x = true_value if condition else false_value\n",
    "```\n",
    "\n",
    "It has the same behavior as the following `if`-`else` block:\n",
    "\n",
    "```\n",
    "if condition:\n",
    "    x = true_value\n",
    "else:\n",
    "    x = false_value\n",
    "```\n",
    "\n",
    "Let's try it out for the example above."
   ]
  },
  {
   "cell_type": "code",
   "execution_count": 34,
   "metadata": {},
   "outputs": [
    {
     "name": "stdout",
     "output_type": "stream",
     "text": [
      "The number 13 is odd.\n"
     ]
    }
   ],
   "source": [
    "a_number = 13\n",
    "\n",
    "if a_number % 2 == 0:\n",
    "    parity = 'even'\n",
    "else:\n",
    "    parity = 'odd'\n",
    "\n",
    "print('The number {} is {}.'.format(a_number, parity))"
   ]
  },
  {
   "cell_type": "code",
   "execution_count": 37,
   "metadata": {},
   "outputs": [
    {
     "name": "stdout",
     "output_type": "stream",
     "text": [
      "The number 13 is odd.\n"
     ]
    }
   ],
   "source": [
    "parity = 'even' if a_number % 2 == 0 else 'odd'\n",
    "print('The number {} is {}.'.format(a_number, parity))"
   ]
  },
  {
   "cell_type": "markdown",
   "metadata": {},
   "source": [
    "### Statements and Expressions\n",
    "\n",
    "The conditional expression highlights an essential distinction between *statements* and *expressions* in Python. \n",
    "\n",
    "> **Statements**: A statement is an instruction that can be executed. Every line of code we have written so far is a statement e.g. assigning a variable, calling a function, conditional statements using `if`, `else`, and `elif`, loops using `for` and `while` etc.\n",
    "\n",
    "> **Expressions**: An expression is some code that evaluates to a value. Examples include values of different data types, arithmetic expressions, conditions, variables, function calls, conditional expressions, etc. \n",
    "\n",
    "\n",
    "Most expressions can be executed as statements, but not all statements are expressions. For example, the regular `if` statement is not an expression since it does not evaluate to a value. It merely performs some branching in the code. Similarly, loops and function definitions are not expressions (we'll learn more about these in later sections).\n",
    "\n",
    "As a rule of thumb, an expression is anything that can appear on the right side of the assignment operator `=`. You can use this as a test for checking whether something is an expression or not. You'll get a syntax error if you try to assign something that is not an expression."
   ]
  },
  {
   "cell_type": "code",
   "execution_count": 38,
   "metadata": {},
   "outputs": [
    {
     "ename": "SyntaxError",
     "evalue": "invalid syntax (<ipython-input-38-f24978c5423e>, line 2)",
     "output_type": "error",
     "traceback": [
      "\u001b[1;36m  File \u001b[1;32m\"<ipython-input-38-f24978c5423e>\"\u001b[1;36m, line \u001b[1;32m2\u001b[0m\n\u001b[1;33m    result = if a_number % 2 == 0:\u001b[0m\n\u001b[1;37m              ^\u001b[0m\n\u001b[1;31mSyntaxError\u001b[0m\u001b[1;31m:\u001b[0m invalid syntax\n"
     ]
    }
   ],
   "source": [
    "# if statement\n",
    "result = if a_number % 2 == 0: \n",
    "    'even'\n",
    "else:\n",
    "    'odd'"
   ]
  },
  {
   "cell_type": "code",
   "execution_count": 40,
   "metadata": {},
   "outputs": [
    {
     "data": {
      "text/plain": [
       "'odd'"
      ]
     },
     "execution_count": 40,
     "metadata": {},
     "output_type": "execute_result"
    }
   ],
   "source": [
    "# if expression\n",
    "result = 'even' if a_number % 2 == 0 else 'odd'\n",
    "result"
   ]
  },
  {
   "cell_type": "markdown",
   "metadata": {},
   "source": [
    "![](https://blog.finxter.com/wp-content/uploads/2020/07/elif-1-1024x576.jpg)"
   ]
  },
  {
   "cell_type": "code",
   "execution_count": 41,
   "metadata": {},
   "outputs": [
    {
     "data": {
      "text/plain": [
       "True"
      ]
     },
     "execution_count": 41,
     "metadata": {},
     "output_type": "execute_result"
    }
   ],
   "source": [
    "Value = 15\n",
    "result = True if Value<10 else True if Value%5==0 else False\n",
    "result"
   ]
  },
  {
   "cell_type": "markdown",
   "metadata": {},
   "source": [
    "### The `pass` statement\n",
    "\n",
    "`if` statements cannot be empty, there must be at least one statement in every `if` and `elif` block. You can use the `pass` statement to do nothing and avoid getting an error."
   ]
  },
  {
   "cell_type": "code",
   "execution_count": 43,
   "metadata": {},
   "outputs": [
    {
     "ename": "IndentationError",
     "evalue": "expected an indented block (<ipython-input-43-9d4a7ae24bbe>, line 3)",
     "output_type": "error",
     "traceback": [
      "\u001b[1;36m  File \u001b[1;32m\"<ipython-input-43-9d4a7ae24bbe>\"\u001b[1;36m, line \u001b[1;32m3\u001b[0m\n\u001b[1;33m    elif a_number % 3 == 0:\u001b[0m\n\u001b[1;37m       ^\u001b[0m\n\u001b[1;31mIndentationError\u001b[0m\u001b[1;31m:\u001b[0m expected an indented block\n"
     ]
    }
   ],
   "source": [
    "a_number = 9\n",
    "if a_number % 2 == 0:\n",
    "elif a_number % 3 == 0:\n",
    "    print('{} is divisible by 3 but not divisible by 2')"
   ]
  },
  {
   "cell_type": "markdown",
   "metadata": {},
   "source": [
    "Above Statement gives error since if block doesnot have any body"
   ]
  },
  {
   "cell_type": "markdown",
   "metadata": {},
   "source": [
    "![](https://prepinsta.com/wp-content/uploads/2021/01/pass-statement-in-python-1.webp)"
   ]
  },
  {
   "cell_type": "code",
   "execution_count": 46,
   "metadata": {},
   "outputs": [
    {
     "name": "stdout",
     "output_type": "stream",
     "text": [
      "9 is divisible by 3 but not divisible by 2\n"
     ]
    }
   ],
   "source": [
    "a_number = 9\n",
    "if a_number % 2 == 0:\n",
    "    pass\n",
    "elif a_number % 3 == 0:\n",
    "    print('{} is divisible by 3 but not divisible by 2'.format(a_number))"
   ]
  },
  {
   "cell_type": "code",
   "execution_count": null,
   "metadata": {},
   "outputs": [],
   "source": []
  },
  {
   "cell_type": "markdown",
   "metadata": {},
   "source": [
    "## Python Looping Controls\n",
    "Iteration also know as looping. Iteration statement begin with test expression. If test expression is true, the loop body will execute. This will repeat until test expression results is false. \\\n",
    "Looping Iteration are: \\\n",
    "1) For loop \\\n",
    "2) While loop"
   ]
  },
  {
   "cell_type": "markdown",
   "metadata": {},
   "source": [
    "### Pyhton for statement\n",
    "This is less like the for keyword in other programming language \\\n",
    "A for loop is used for iterating over a sequence (that is either a list, a tuple, a dictionary, a set, or a string).\n",
    "\n",
    "## Iteration with `for` loops\n",
    "\n",
    "A `for` loop is used for iterating or looping over sequences, i.e., lists, tuples, dictionaries, strings, and *ranges*. For loops have the following syntax:\n",
    "\n",
    "```\n",
    "for value in sequence:\n",
    "    statement(s)\n",
    "```\n",
    "\n",
    "The statements within the loop are executed once for each element in `sequence`. Here's an example that prints all the element of a list."
   ]
  },
  {
   "cell_type": "markdown",
   "metadata": {},
   "source": [
    "![](data:image/png;base64,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)\n",
    "\n",
    "===============================================================================================================\n",
    "\n",
    "![](https://i.imgur.com/91NoaP0.jpeg)"
   ]
  },
  {
   "cell_type": "code",
   "execution_count": 54,
   "metadata": {},
   "outputs": [
    {
     "name": "stdout",
     "output_type": "stream",
     "text": [
      "Python\n",
      "Java\n",
      "MATLAB\n",
      "2\n"
     ]
    }
   ],
   "source": [
    "ls = ['Python','Java','MATLAB',2] # list\n",
    "for i in ls:\n",
    "    print(i)"
   ]
  },
  {
   "cell_type": "markdown",
   "metadata": {},
   "source": [
    "Let's try using for loops with some other data types."
   ]
  },
  {
   "cell_type": "code",
   "execution_count": 51,
   "metadata": {},
   "outputs": [
    {
     "data": {
      "text/plain": [
       "str"
      ]
     },
     "execution_count": 51,
     "metadata": {},
     "output_type": "execute_result"
    }
   ],
   "source": [
    "a = 'Python'\n",
    "type(a)"
   ]
  },
  {
   "cell_type": "code",
   "execution_count": 52,
   "metadata": {},
   "outputs": [
    {
     "name": "stdout",
     "output_type": "stream",
     "text": [
      "P\n",
      "y\n",
      "t\n",
      "h\n",
      "o\n",
      "n\n"
     ]
    }
   ],
   "source": [
    "for i in a:\n",
    "    print(i)"
   ]
  },
  {
   "cell_type": "code",
   "execution_count": 53,
   "metadata": {},
   "outputs": [
    {
     "name": "stdout",
     "output_type": "stream",
     "text": [
      "Python Programming"
     ]
    }
   ],
   "source": [
    "a = 'Python Programming'\n",
    "for i in a:\n",
    "    print(i,end='') # default argument is '\\n', but here '' is used so it will print in same line"
   ]
  },
  {
   "cell_type": "code",
   "execution_count": 55,
   "metadata": {},
   "outputs": [
    {
     "name": "stdout",
     "output_type": "stream",
     "text": [
      "range(1, 14, 2)\n"
     ]
    }
   ],
   "source": [
    "num = range(1,14,2)\n",
    "print(num)"
   ]
  },
  {
   "cell_type": "code",
   "execution_count": 56,
   "metadata": {},
   "outputs": [
    {
     "name": "stdout",
     "output_type": "stream",
     "text": [
      "Their are no even number in current list\n"
     ]
    }
   ],
   "source": [
    "# Using else statement in for loop\n",
    "for i in num:\n",
    "    if i%2==0:\n",
    "        print(i)\n",
    "else:\n",
    "    print('Their are no even number in current list')"
   ]
  },
  {
   "cell_type": "code",
   "execution_count": 57,
   "metadata": {},
   "outputs": [
    {
     "name": "stdout",
     "output_type": "stream",
     "text": [
      "Here's a fruit: Apple\n",
      "Here's a fruit: Banana\n",
      "Here's a fruit: Guava\n"
     ]
    }
   ],
   "source": [
    "# Looping over a tuple\n",
    "for fruit in ['Apple', 'Banana', 'Guava']:\n",
    "    print(\"Here's a fruit:\", fruit)"
   ]
  },
  {
   "cell_type": "code",
   "execution_count": 58,
   "metadata": {},
   "outputs": [
    {
     "name": "stdout",
     "output_type": "stream",
     "text": [
      "Key: name , Value: John Doe\n",
      "Key: sex , Value: Male\n",
      "Key: age , Value: 32\n",
      "Key: married , Value: True\n"
     ]
    }
   ],
   "source": [
    "# Looping over a dictionary\n",
    "person = {\n",
    "    'name': 'John Doe',\n",
    "    'sex': 'Male',\n",
    "    'age': 32,\n",
    "    'married': True\n",
    "}\n",
    "\n",
    "for key in person:\n",
    "    print(\"Key:\", key, \",\", \"Value:\", person[key])"
   ]
  },
  {
   "cell_type": "markdown",
   "metadata": {},
   "source": [
    "Note that while using a dictionary with a `for` loop, the iteration happens over the dictionary's keys. The key can be used within the loop to access the value. You can also iterate directly over the values using the `.values` method or over key-value pairs using the `.items` method."
   ]
  },
  {
   "cell_type": "code",
   "execution_count": 59,
   "metadata": {},
   "outputs": [
    {
     "name": "stdout",
     "output_type": "stream",
     "text": [
      "John Doe\n",
      "Male\n",
      "32\n",
      "True\n"
     ]
    }
   ],
   "source": [
    "for value in person.values():\n",
    "    print(value)"
   ]
  },
  {
   "cell_type": "code",
   "execution_count": 60,
   "metadata": {},
   "outputs": [
    {
     "name": "stdout",
     "output_type": "stream",
     "text": [
      "('name', 'John Doe')\n",
      "('sex', 'Male')\n",
      "('age', 32)\n",
      "('married', True)\n"
     ]
    }
   ],
   "source": [
    "for key_value_pair in person.items():\n",
    "    print(key_value_pair)"
   ]
  },
  {
   "cell_type": "markdown",
   "metadata": {},
   "source": [
    "Since a key-value pair is a tuple, we can also extract the key & value into separate variables."
   ]
  },
  {
   "cell_type": "code",
   "execution_count": 61,
   "metadata": {},
   "outputs": [
    {
     "name": "stdout",
     "output_type": "stream",
     "text": [
      "Key: name , Value: John Doe\n",
      "Key: sex , Value: Male\n",
      "Key: age , Value: 32\n",
      "Key: married , Value: True\n"
     ]
    }
   ],
   "source": [
    "for key, value in person.items():\n",
    "    print(\"Key:\", key, \",\", \"Value:\", value)"
   ]
  },
  {
   "cell_type": "markdown",
   "metadata": {},
   "source": [
    "### Iterating using `range` and `enumerate`\n",
    "\n",
    "The `range` function is used to create a sequence of numbers that can be iterated over using a `for` loop. It can be used in 3 ways:\n",
    " \n",
    "* `range(n)` - Creates a sequence of numbers from `0` to `n-1`\n",
    "* `range(a, b)` - Creates a sequence of numbers from `a` to `b-1`\n",
    "* `range(a, b, step)` - Creates a sequence of numbers from `a` to `b-1` with increments of `step`\n",
    "\n",
    "Let's try it out."
   ]
  },
  {
   "cell_type": "code",
   "execution_count": 63,
   "metadata": {},
   "outputs": [
    {
     "name": "stdout",
     "output_type": "stream",
     "text": [
      "3\n",
      "7\n",
      "11\n"
     ]
    }
   ],
   "source": [
    "for i in range(3, 14, 4):\n",
    "    print(i)"
   ]
  },
  {
   "cell_type": "markdown",
   "metadata": {},
   "source": [
    "Ranges are used for iterating over lists when you need to track the index of elements while iterating."
   ]
  },
  {
   "cell_type": "code",
   "execution_count": 64,
   "metadata": {},
   "outputs": [
    {
     "name": "stdout",
     "output_type": "stream",
     "text": [
      "The value at position 0 is Monday.\n",
      "The value at position 1 is Tuesday.\n",
      "The value at position 2 is Wednesday.\n",
      "The value at position 3 is Thursday.\n",
      "The value at position 4 is Friday.\n"
     ]
    }
   ],
   "source": [
    "a_list = ['Monday', 'Tuesday', 'Wednesday', 'Thursday', 'Friday']\n",
    "\n",
    "for i in range(len(a_list)):\n",
    "    print('The value at position {} is {}.'.format(i, a_list[i]))"
   ]
  },
  {
   "cell_type": "markdown",
   "metadata": {},
   "source": [
    "![](https://blog.finxter.com/wp-content/uploads/2021/01/enumerate-1-1024x576.jpg)"
   ]
  },
  {
   "cell_type": "markdown",
   "metadata": {},
   "source": [
    "Another way to achieve the same result is by using the `enumerate` function with `a_list` as an input, which returns a tuple containing the index and the corresponding element."
   ]
  },
  {
   "cell_type": "code",
   "execution_count": 65,
   "metadata": {},
   "outputs": [
    {
     "name": "stdout",
     "output_type": "stream",
     "text": [
      "The value at position 0 is Monday.\n",
      "The value at position 1 is Tuesday.\n",
      "The value at position 2 is Wednesday.\n",
      "The value at position 3 is Thursday.\n",
      "The value at position 4 is Friday.\n"
     ]
    }
   ],
   "source": [
    "for i, val in enumerate(a_list):\n",
    "    print('The value at position {} is {}.'.format(i, val))"
   ]
  },
  {
   "cell_type": "markdown",
   "metadata": {},
   "source": [
    "### `break`, `continue` and `pass` statements\n",
    "\n",
    "Similar to `while` loops, `for` loops also support the `break` and `continue` statements. `break` is used for breaking out of the loop and `continue` is used for skipping ahead to the next iteration."
   ]
  },
  {
   "cell_type": "markdown",
   "metadata": {},
   "source": [
    "### break\n",
    "The break statement in Python terminates the current loop and resumes execution at the next statement, just like the traditional break found in C\n",
    "\n",
    "![](https://cdn.educba.com/academy/wp-content/uploads/2019/11/break-statement-in-python.png)"
   ]
  },
  {
   "cell_type": "code",
   "execution_count": 66,
   "metadata": {},
   "outputs": [
    {
     "name": "stdout",
     "output_type": "stream",
     "text": [
      "Today is Monday\n",
      "Today is Tuesday\n",
      "Today is Wednesday\n",
      "I don't work beyond Wednesday!\n"
     ]
    }
   ],
   "source": [
    "weekdays = ['Monday', 'Tuesday', 'Wednesday', 'Thursday', 'Friday']\n",
    "for day in weekdays:\n",
    "    print('Today is {}'.format(day))\n",
    "    if (day == 'Wednesday'):\n",
    "        print(\"I don't work beyond Wednesday!\")\n",
    "        break"
   ]
  },
  {
   "cell_type": "markdown",
   "metadata": {},
   "source": [
    "### continue\n",
    "The continue statement in Python returns the control to the beginning of the while loop. The continue statement rejects all the remaining statements in the current iteration of the loop and moves the control back to the top of the loop.\n",
    "\n",
    "The continue statement can be used in both while and for loops.\n",
    "\n",
    "![](https://i2.wp.com/tutorial.eyehunts.com/wp-content/uploads/2020/04/Python-Continue-Statement-example-1.png?fit=1024%2C806&ssl=1)"
   ]
  },
  {
   "cell_type": "code",
   "execution_count": 67,
   "metadata": {},
   "outputs": [
    {
     "name": "stdout",
     "output_type": "stream",
     "text": [
      "Today is Monday\n",
      "Today is Tuesday\n",
      "I don't work on Wednesday!\n",
      "Today is Thursday\n",
      "Today is Friday\n"
     ]
    }
   ],
   "source": [
    "for day in weekdays:\n",
    "    if (day == 'Wednesday'):\n",
    "        print(\"I don't work on Wednesday!\")\n",
    "        continue\n",
    "    print('Today is {}'.format(day))"
   ]
  },
  {
   "cell_type": "markdown",
   "metadata": {},
   "source": [
    "### pass \n",
    "The pass statement in Python is used when a statement is required syntactically but you do not want any command or code to execute.\n",
    "\n",
    "The pass statement is a null operation; nothing happens when it executes. The pass is also useful in places where your code will eventually go, but has not been written yet (e.g., in stubs for example):"
   ]
  },
  {
   "cell_type": "markdown",
   "metadata": {},
   "source": [
    "Like `if` statements, `for` loops cannot be empty, so you can use a `pass` statement if you don't want to execute any statements inside the loop."
   ]
  },
  {
   "cell_type": "code",
   "execution_count": null,
   "metadata": {},
   "outputs": [],
   "source": [
    "for day in weekdays:\n",
    "    pass"
   ]
  },
  {
   "cell_type": "markdown",
   "metadata": {},
   "source": [
    "\n",
    "### difference between continue and pass\n",
    "Yes, there is a difference. `continue` forces the loop to start at the next iteration while `pass` means \"there is no code to execute here\" and will continue through the remainder of the loop body.\n",
    "\n",
    "![](https://www.tutsmake.com/wp-content/uploads/2020/02/difference-between-pass-and-continue-statement-in-python-1.jpeg)"
   ]
  },
  {
   "cell_type": "markdown",
   "metadata": {},
   "source": [
    " "
   ]
  },
  {
   "cell_type": "markdown",
   "metadata": {},
   "source": [
    "### difference between continue and break\n",
    "* Break statements exist in Python to exit or “break” a for or while conditional loop. When the loop ends, the code picks up from and executes the next line immediately following the loop that was broken. \n",
    "* The continue statement is used to skip code within a loop for certain iterations of the loop. After the code is skipped, the loop continues where it left off. \n",
    "\n",
    "\n",
    "![](https://pythonclass.in/images/while-loop-break-vs%20continue.jpg)\n",
    "\n",
    "![](https://techdifferences.com/wp-content/uploads/2016/04/Break-and-continue.jpg)"
   ]
  },
  {
   "cell_type": "markdown",
   "metadata": {},
   "source": [
    "### Nested for loop\n",
    "Similar to conditional statements, loops can be nested inside other loops. This is useful for looping lists of lists, dictionaries etc."
   ]
  },
  {
   "cell_type": "code",
   "execution_count": 68,
   "metadata": {},
   "outputs": [
    {
     "name": "stdout",
     "output_type": "stream",
     "text": [
      "name : John\n",
      "sex : Male\n",
      " \n",
      "name : Jane\n",
      "sex : Female\n",
      " \n"
     ]
    }
   ],
   "source": [
    "persons = [{'name': 'John', 'sex': 'Male'}, {'name': 'Jane', 'sex': 'Female'}]\n",
    "\n",
    "for person in persons:\n",
    "    for key in person:\n",
    "        print(key, \":\", person[key])\n",
    "    print(\" \")"
   ]
  },
  {
   "cell_type": "code",
   "execution_count": 71,
   "metadata": {},
   "outputs": [
    {
     "name": "stdout",
     "output_type": "stream",
     "text": [
      "1 2 3 4 5 6 7 8 9 10 \n",
      "2 4 6 8 10 12 14 16 18 20 \n",
      "3 6 9 12 15 18 21 24 27 30 \n",
      "4 8 12 16 20 24 28 32 36 40 \n",
      "5 10 15 20 25 30 35 40 45 50 \n",
      "6 12 18 24 30 36 42 48 54 60 \n",
      "7 14 21 28 35 42 49 56 63 70 \n",
      "8 16 24 32 40 48 56 64 72 80 \n",
      "9 18 27 36 45 54 63 72 81 90 \n",
      "10 20 30 40 50 60 70 80 90 100 \n"
     ]
    }
   ],
   "source": [
    "# write a program for tables from 1 to 10\n",
    "for i in range(1,11):\n",
    "    for j in range(1,11):\n",
    "        print(i*j, end=' ')\n",
    "    print()"
   ]
  },
  {
   "cell_type": "code",
   "execution_count": 72,
   "metadata": {},
   "outputs": [
    {
     "name": "stdout",
     "output_type": "stream",
     "text": [
      "Monday apple\n",
      "Monday banana\n",
      "Monday guava\n",
      "Tuesday apple\n",
      "Tuesday banana\n",
      "Tuesday guava\n",
      "Wednesday apple\n",
      "Wednesday banana\n",
      "Wednesday guava\n"
     ]
    }
   ],
   "source": [
    "days = ['Monday', 'Tuesday', 'Wednesday']\n",
    "fruits = ['apple', 'banana', 'guava']\n",
    "\n",
    "for day in days:\n",
    "    for fruit in fruits:\n",
    "        print(day, fruit)"
   ]
  },
  {
   "cell_type": "code",
   "execution_count": null,
   "metadata": {},
   "outputs": [],
   "source": []
  },
  {
   "cell_type": "markdown",
   "metadata": {},
   "source": [
    "### While statement\n",
    "It execute the statement till test expression is true.\n",
    "\n",
    "![](https://media.geeksforgeeks.org/wp-content/uploads/20191101170515/while-loop.jpg)\n",
    "\n",
    "## Iteration with `while` loops\n",
    "\n",
    "Another powerful feature of programming languages, closely related to branching, is running one or more statements multiple times. This feature is often referred to as *iteration* on *looping*, and there are two ways to do this in Python: using `while` loops and `for` loops. \n",
    "\n",
    "`while` loops have the following syntax:\n",
    "\n",
    "```\n",
    "while condition:\n",
    "    statement(s)\n",
    "```\n",
    "\n",
    "Statements in the code block under `while` are executed repeatedly as long as the `condition` evaluates to `True`. Generally, one of the statements under `while` makes some change to a variable that causes the condition to evaluate to `False` after a certain number of iterations.\n",
    "\n",
    "Let's try to calculate the factorial of `100` using a `while` loop. The factorial of a number `n` is the product (multiplication) of all the numbers from `1` to `n`, i.e., `1*2*3*...*(n-2)*(n-1)*n`."
   ]
  },
  {
   "cell_type": "code",
   "execution_count": 73,
   "metadata": {},
   "outputs": [
    {
     "name": "stdout",
     "output_type": "stream",
     "text": [
      "0\n",
      "1\n",
      "2\n",
      "3\n",
      "4\n",
      "Value of i after loop terminate:  5\n"
     ]
    }
   ],
   "source": [
    "i=0\n",
    "while i < 5:\n",
    "    print(i)\n",
    "    i+=1\n",
    "    \n",
    "print('Value of i after loop terminate: ',i)"
   ]
  },
  {
   "cell_type": "code",
   "execution_count": 87,
   "metadata": {},
   "outputs": [
    {
     "name": "stdout",
     "output_type": "stream",
     "text": [
      "The factorial of 100 is: 93326215443944152681699238856266700490715968264381621468592963895217599993229915608941463976156518286253697920827223758251185210916864000000000000000000000000\n"
     ]
    }
   ],
   "source": [
    "result = 1\n",
    "i = 1\n",
    "\n",
    "while i <= 100:\n",
    "    result = result * i\n",
    "    i = i+1\n",
    "\n",
    "print('The factorial of 100 is: {}'.format(result))"
   ]
  },
  {
   "cell_type": "markdown",
   "metadata": {},
   "source": [
    "### When condition is tested and result is false then loop body get skipped and first statement after loop get executed\n",
    "\n",
    "Here's how the above code works:\n",
    "\n",
    "* We initialize two variables, `result` and, `i`. `result` will contain the final outcome. And `i` is used to keep track of the next number to be multiplied with `result`. Both are initialized to 1 (can you explain why?)\n",
    "\n",
    "* The condition `i <= 100` holds true (since `i` is initially `1`), so the `while` block is executed.\n",
    "\n",
    "* The `result` is updated to `result * i`, `i` is increased by `1` and it now has the value `2`.\n",
    "\n",
    "* At this point, the condition `i <= 100` is evaluated again. Since it continues to hold true, `result` is again updated to `result * i`, and `i` is increased to `3`.\n",
    "\n",
    "* This process is repeated till the condition becomes false, which happens when `i` holds the value `101`. Once the condition evaluates to `False`, the execution of the loop ends, and the `print` statement below it is executed. \n",
    "\n",
    "Can you see why `result` contains the value of the factorial of 100 at the end? If not, try adding `print` statements inside the `while` block to print `result` and `i` in each iteration.\n",
    "\n",
    "\n",
    "> Iteration is a powerful technique because it gives computers a massive advantage over human beings in performing thousands or even millions of repetitive operations really fast. With just 4-5 lines of code, we were able to multiply 100 numbers almost instantly. The same code can be used to multiply a thousand numbers (just change the condition to `i <= 1000`) in a few seconds.\n",
    "\n",
    "You can check how long a cell takes to execute by adding the *magic* command `%%time` at the top of a cell. Try checking how long it takes to compute the factorial of `100`, `1000`, `10000`, `100000`, etc. \n",
    "\n"
   ]
  },
  {
   "cell_type": "markdown",
   "metadata": {},
   "source": [
    " "
   ]
  },
  {
   "cell_type": "code",
   "execution_count": 90,
   "metadata": {},
   "outputs": [
    {
     "name": "stdout",
     "output_type": "stream",
     "text": [
      "402387260077093773543702433923003985719374864210714632543799910429938512398629020592044208486969404800479988610197196058631666872994808558901323829669944590997424504087073759918823627727188732519779505950995276120874975462497043601418278094646496291056393887437886487337119181045825783647849977012476632889835955735432513185323958463075557409114262417474349347553428646576611667797396668820291207379143853719588249808126867838374559731746136085379534524221586593201928090878297308431392844403281231558611036976801357304216168747609675871348312025478589320767169132448426236131412508780208000261683151027341827977704784635868170164365024153691398281264810213092761244896359928705114964975419909342221566832572080821333186116811553615836546984046708975602900950537616475847728421889679646244945160765353408198901385442487984959953319101723355556602139450399736280750137837615307127761926849034352625200015888535147331611702103968175921510907788019393178114194545257223865541461062892187960223838971476088506276862967146674697562911234082439208160153780889893964518263243671616762179168909779911903754031274622289988005195444414282012187361745992642956581746628302955570299024324153181617210465832036786906117260158783520751516284225540265170483304226143974286933061690897968482590125458327168226458066526769958652682272807075781391858178889652208164348344825993266043367660176999612831860788386150279465955131156552036093988180612138558600301435694527224206344631797460594682573103790084024432438465657245014402821885252470935190620929023136493273497565513958720559654228749774011413346962715422845862377387538230483865688976461927383814900140767310446640259899490222221765904339901886018566526485061799702356193897017860040811889729918311021171229845901641921068884387121855646124960798722908519296819372388642614839657382291123125024186649353143970137428531926649875337218940694281434118520158014123344828015051399694290153483077644569099073152433278288269864602789864321139083506217095002597389863554277196742822248757586765752344220207573630569498825087968928162753848863396909959826280956121450994871701244516461260379029309120889086942028510640182154399457156805941872748998094254742173582401063677404595741785160829230135358081840096996372524230560855903700624271243416909004153690105933983835777939410970027753472000000000000000000000000000000000000000000000000000000000000000000000000000000000000000000000000000000000000000000000000000000000000000000000000000000000000000000000000000000000000000000000000000000000000000000000000000000000000000000000000000000000\n",
      "Wall time: 1 ms\n"
     ]
    }
   ],
   "source": [
    "%%time\n",
    "\n",
    "result = 1\n",
    "i = 1\n",
    "\n",
    "while i <= 1000:\n",
    "    result *= i # same as result = result * i\n",
    "    i += 1 # same as i = i+1\n",
    "\n",
    "print(result)"
   ]
  },
  {
   "cell_type": "markdown",
   "metadata": {},
   "source": [
    "### Infinite loop\n",
    "When condition never become false then loop becomes the infinite loop. \\\n",
    "We have to take care when using while loop, because there is possibility that the condition will never false and we end up in infinite loop. \n",
    "\n",
    "### Infinite Loops\n",
    "\n",
    "Suppose the condition in a `while` loop always holds true. In that case, Python repeatedly executes the code within the loop forever, and the execution of the code never completes. This situation is called an infinite loop. It generally indicates that you've made a mistake in your code. For example, you may have provided the wrong condition or forgotten to update a variable within the loop, eventually falsifying the condition.\n",
    "\n",
    "If your code is *stuck* in an infinite loop during execution, just press the \"Stop\" button on the toolbar (next to \"Run\") or select \"Kernel > Interrupt\" from the menu bar. This will *interrupt* the execution of the code. The following two cells both lead to infinite loops and need to be interrupted."
   ]
  },
  {
   "cell_type": "code",
   "execution_count": 96,
   "metadata": {},
   "outputs": [],
   "source": [
    "# # Example of inifite loop\n",
    "# while True:\n",
    "#     print('Infinite loop')"
   ]
  },
  {
   "cell_type": "code",
   "execution_count": 93,
   "metadata": {},
   "outputs": [
    {
     "ename": "KeyboardInterrupt",
     "evalue": "",
     "output_type": "error",
     "traceback": [
      "\u001b[1;31m---------------------------------------------------------------------------\u001b[0m",
      "\u001b[1;31mKeyboardInterrupt\u001b[0m                         Traceback (most recent call last)",
      "\u001b[1;32m<ipython-input-93-5234d8c241fc>\u001b[0m in \u001b[0;36m<module>\u001b[1;34m\u001b[0m\n\u001b[0;32m      5\u001b[0m \u001b[1;33m\u001b[0m\u001b[0m\n\u001b[0;32m      6\u001b[0m \u001b[1;32mwhile\u001b[0m \u001b[0mi\u001b[0m \u001b[1;33m<=\u001b[0m \u001b[1;36m100\u001b[0m\u001b[1;33m:\u001b[0m\u001b[1;33m\u001b[0m\u001b[1;33m\u001b[0m\u001b[0m\n\u001b[1;32m----> 7\u001b[1;33m     \u001b[0mresult\u001b[0m \u001b[1;33m=\u001b[0m \u001b[0mresult\u001b[0m \u001b[1;33m*\u001b[0m \u001b[0mi\u001b[0m\u001b[1;33m\u001b[0m\u001b[1;33m\u001b[0m\u001b[0m\n\u001b[0m\u001b[0;32m      8\u001b[0m     \u001b[1;31m# forgot to increment i\u001b[0m\u001b[1;33m\u001b[0m\u001b[1;33m\u001b[0m\u001b[1;33m\u001b[0m\u001b[0m\n",
      "\u001b[1;31mKeyboardInterrupt\u001b[0m: "
     ]
    }
   ],
   "source": [
    "# INFINITE LOOP - INTERRUPT THIS CELL\n",
    "\n",
    "result = 1\n",
    "i = 1\n",
    "\n",
    "while i <= 100:\n",
    "    result = result * i\n",
    "    # forgot to increment i"
   ]
  },
  {
   "cell_type": "code",
   "execution_count": 91,
   "metadata": {},
   "outputs": [
    {
     "name": "stdout",
     "output_type": "stream",
     "text": [
      "0 is less than 7\n",
      "1 is less than 7\n",
      "2 is less than 7\n",
      "3 is less than 7\n",
      "4 is less than 7\n",
      "5 is less than 7\n",
      "6 is less than 7\n",
      "7 is not less than 7\n"
     ]
    }
   ],
   "source": [
    "# Using else statement in while loop\n",
    "num=0\n",
    "while num<7:\n",
    "    print(f'{num} is less than 7')\n",
    "    num+=1 # This will increase num value and when num=7 then condition will false.\n",
    "else:\n",
    "    print(f'{num} is not less than 7')"
   ]
  },
  {
   "cell_type": "markdown",
   "metadata": {},
   "source": [
    "Here's another example that uses two `while` loops to create an interesting pattern."
   ]
  },
  {
   "cell_type": "code",
   "execution_count": 92,
   "metadata": {},
   "outputs": [
    {
     "name": "stdout",
     "output_type": "stream",
     "text": [
      "*\n",
      "**\n",
      "***\n",
      "****\n",
      "*****\n",
      "******\n",
      "*******\n",
      "********\n",
      "*********\n",
      "**********\n",
      "***********\n",
      "**********\n",
      "*********\n",
      "********\n",
      "*******\n",
      "******\n",
      "*****\n",
      "****\n",
      "***\n",
      "**\n",
      "*\n"
     ]
    }
   ],
   "source": [
    "line = '*'\n",
    "max_length = 10\n",
    "\n",
    "while len(line) <= max_length:\n",
    "    print(line)\n",
    "    line += \"*\"\n",
    "    \n",
    "while len(line) > 0:\n",
    "    print(line)\n",
    "    line = line[:-1]"
   ]
  },
  {
   "cell_type": "markdown",
   "metadata": {},
   "source": [
    "### `break` and `continue` statements\n",
    "\n",
    "You can use the `break` statement within the loop's body to immediately stop the execution and *break* out of the loop (even if the condition provided to `while` still holds true)."
   ]
  },
  {
   "cell_type": "code",
   "execution_count": 97,
   "metadata": {},
   "outputs": [
    {
     "name": "stdout",
     "output_type": "stream",
     "text": [
      "Magic number 42 reached! Stopping execution..\n",
      "i: 42\n",
      "result: 1405006117752879898543142606244511569936384000000000\n"
     ]
    }
   ],
   "source": [
    "i = 1\n",
    "result = 1\n",
    "\n",
    "while i <= 100:\n",
    "    result *= i\n",
    "    if i == 42:\n",
    "        print('Magic number 42 reached! Stopping execution..')\n",
    "        break\n",
    "    i += 1\n",
    "    \n",
    "print('i:', i)\n",
    "print('result:', result)"
   ]
  },
  {
   "cell_type": "code",
   "execution_count": null,
   "metadata": {},
   "outputs": [],
   "source": []
  },
  {
   "cell_type": "markdown",
   "metadata": {},
   "source": [
    "As you can see above, the value of `i` at the end of execution is 42. This example also shows how you can use an `if` statement within a `while` loop.\n",
    "\n",
    "Sometimes you may not want to end the loop entirely, but simply skip the remaining statements in the loop and *continue* to the next loop. You can do this using the `continue` statement."
   ]
  },
  {
   "cell_type": "code",
   "execution_count": 98,
   "metadata": {},
   "outputs": [
    {
     "name": "stdout",
     "output_type": "stream",
     "text": [
      "Skipping 2\n",
      "Multiplying with 3\n",
      "Skipping 4\n",
      "Multiplying with 5\n",
      "Skipping 6\n",
      "Multiplying with 7\n",
      "Skipping 8\n",
      "Multiplying with 9\n",
      "Skipping 10\n",
      "Multiplying with 11\n",
      "Skipping 12\n",
      "Multiplying with 13\n",
      "Skipping 14\n",
      "Multiplying with 15\n",
      "Skipping 16\n",
      "Multiplying with 17\n",
      "Skipping 18\n",
      "Multiplying with 19\n",
      "Skipping 20\n",
      "i: 20\n",
      "result: 654729075\n"
     ]
    }
   ],
   "source": [
    "i = 1\n",
    "result = 1\n",
    "\n",
    "while i < 20:\n",
    "    i += 1\n",
    "    if i % 2 == 0:\n",
    "        print('Skipping {}'.format(i))\n",
    "        continue\n",
    "    print('Multiplying with {}'.format(i))\n",
    "    result = result * i\n",
    "    \n",
    "print('i:', i)\n",
    "print('result:', result)"
   ]
  },
  {
   "cell_type": "markdown",
   "metadata": {},
   "source": [
    "In the example above, the statement `result = result * i` inside the loop is skipped when `i` is even, as indicated by the messages printed during execution.\n",
    "\n",
    "> **Logging**: The process of adding `print` statements at different points in the code (often within loops and conditional statements) for inspecting the values of variables at various stages of execution is called logging. As our programs get larger, they naturally become prone to human errors. Logging can help in verifying the program is working as expected. In many cases, `print` statements are added while writing & testing some code and are removed later."
   ]
  },
  {
   "cell_type": "code",
   "execution_count": null,
   "metadata": {},
   "outputs": [],
   "source": []
  },
  {
   "cell_type": "markdown",
   "metadata": {},
   "source": [
    "### Nested `for` and `while` loops\n",
    "\n",
    "Similar to conditional statements, loops can be nested inside other loops. This is useful for looping lists of lists, dictionaries etc."
   ]
  },
  {
   "cell_type": "markdown",
   "metadata": {},
   "source": [
    "![](https://study.com/cimages/videopreview/9efawyyiti.jpg)\n",
    "\n",
    "=========================================================================================================================\n",
    "\n",
    "![](https://d1whtlypfis84e.cloudfront.net/guides/wp-content/uploads/2021/03/17080342/Sample-33-1024x724.png)"
   ]
  },
  {
   "cell_type": "code",
   "execution_count": 99,
   "metadata": {},
   "outputs": [
    {
     "name": "stdout",
     "output_type": "stream",
     "text": [
      "name : John\n",
      "sex : Male\n",
      " \n",
      "name : Jane\n",
      "sex : Female\n",
      " \n"
     ]
    }
   ],
   "source": [
    "persons = [{'name': 'John', 'sex': 'Male'}, {'name': 'Jane', 'sex': 'Female'}]\n",
    "\n",
    "for person in persons:\n",
    "    for key in person:\n",
    "        print(key, \":\", person[key])\n",
    "    print(\" \")"
   ]
  },
  {
   "cell_type": "code",
   "execution_count": null,
   "metadata": {},
   "outputs": [],
   "source": []
  },
  {
   "cell_type": "code",
   "execution_count": null,
   "metadata": {},
   "outputs": [],
   "source": []
  },
  {
   "cell_type": "code",
   "execution_count": null,
   "metadata": {},
   "outputs": [],
   "source": []
  },
  {
   "cell_type": "code",
   "execution_count": null,
   "metadata": {},
   "outputs": [],
   "source": []
  }
 ],
 "metadata": {
  "kernelspec": {
   "display_name": "Python 3",
   "language": "python",
   "name": "python3"
  },
  "language_info": {
   "codemirror_mode": {
    "name": "ipython",
    "version": 3
   },
   "file_extension": ".py",
   "mimetype": "text/x-python",
   "name": "python",
   "nbconvert_exporter": "python",
   "pygments_lexer": "ipython3",
   "version": "3.7.6"
  }
 },
 "nbformat": 4,
 "nbformat_minor": 4
}
