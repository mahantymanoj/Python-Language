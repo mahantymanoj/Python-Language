{
 "cells": [
  {
   "cell_type": "markdown",
   "metadata": {},
   "source": [
    "## Manoj Mahanty - Jr. Engineer - Data Analytics\n",
    "####  Python | MATLAB | R Begineer | SQL, PostgreSQL | MS Excel\n",
    "\n",
    "![](https://media-exp1.licdn.com/dms/image/C4E03AQHQwbwhrso79w/profile-displayphoto-shrink_100_100/0/1630124536553?e=1635379200&v=beta&t=VSAf_0U1A_gCd9m1GEN_UMYQTiCgumibjqYsfXp2_VM)  \n",
    " \n",
    "* email: mahantymanoj786@gmail.com\n",
    "* LinkedIn : https://www.linkedin.com/in/manoj-mahanty-aa3769115/"
   ]
  },
  {
   "cell_type": "markdown",
   "metadata": {},
   "source": [
    "# Writing Reusable Code using Functions in Python\n",
    "\n",
    "![](https://i.imgur.com/TvNf5Jp.png)"
   ]
  },
  {
   "cell_type": "markdown",
   "metadata": {},
   "source": [
    "### Python Function and Scope (Local Scope and Global Scope)\n",
    "* Built in function \n",
    "* user defined function\n",
    "\n",
    "Till now we have been using built in function User can also define their own function, A block of organized, reusable code which is used to perform single task"
   ]
  },
  {
   "cell_type": "markdown",
   "metadata": {},
   "source": [
    "### Python Built - in Function\n",
    "\n",
    "![](https://s4scoding.com/images/python-built-in-functions.jpg)"
   ]
  },
  {
   "cell_type": "markdown",
   "metadata": {},
   "source": [
    "### Python zip() function\n",
    "Join two tuples together\n",
    "\n",
    "The zip() function returns a zip object, which is an iterator of tuples where the first item in each passed iterator is paired together, and then the second item in each passed iterator are paired together etc.\n",
    "\n",
    "If the passed iterators have different lengths, the iterator with the least items decides the length of the new iterator.\n"
   ]
  },
  {
   "cell_type": "markdown",
   "metadata": {},
   "source": [
    "\n",
    "## Syntax\n",
    "zip(iterator1, iterator2, iterator3 ...)\n",
    "\n",
    "![](https://miro.medium.com/max/1200/1*rzvEG0LqZBSfa1rJgNOJrQ.png)"
   ]
  },
  {
   "cell_type": "code",
   "execution_count": 2,
   "metadata": {},
   "outputs": [
    {
     "name": "stdout",
     "output_type": "stream",
     "text": [
      "('Python', 'Language')\n",
      "('Java', 'Developer')\n",
      "('C', '++')\n"
     ]
    }
   ],
   "source": [
    "# Returns an iterator, from two or more iterators\n",
    "a=['Python','Java','C']\n",
    "b=['Language','Developer','++']\n",
    "for i in zip(a,b):\n",
    "    print(i)"
   ]
  },
  {
   "cell_type": "code",
   "execution_count": null,
   "metadata": {},
   "outputs": [],
   "source": []
  },
  {
   "cell_type": "markdown",
   "metadata": {},
   "source": [
    "## Python User defined function\n",
    "### Defining a function\n",
    "\"def\" keyword is used to start the function block followed by function name and parathesis (). def is reserve word. At start of function use (:) colon withing code block, colon withing the code block is used for indented."
   ]
  },
  {
   "cell_type": "code",
   "execution_count": 3,
   "metadata": {},
   "outputs": [],
   "source": [
    "# Example for User define function\n",
    "def add():\n",
    "    pass"
   ]
  },
  {
   "cell_type": "markdown",
   "metadata": {},
   "source": [
    "## Creating and using functions\n",
    "\n",
    "A function is a reusable set of instructions that takes one or more inputs, performs some operations, and often returns an output. Python contains many in-built functions like `print`, `len`, etc., and provides the ability to define new ones."
   ]
  },
  {
   "cell_type": "code",
   "execution_count": 5,
   "metadata": {},
   "outputs": [
    {
     "name": "stdout",
     "output_type": "stream",
     "text": [
      "Hello there!\n",
      "How are you?\n"
     ]
    }
   ],
   "source": [
    "# function declare and initialized\n",
    "def say_hello():\n",
    "    print('Hello there!')\n",
    "    print('How are you?')\n",
    "    \n",
    "say_hello() # function called"
   ]
  },
  {
   "cell_type": "markdown",
   "metadata": {},
   "source": [
    "Note the round brackets or parentheses `()` and colon `:` after the function's name. Both are essential parts of the syntax. The function's *body* contains an indented block of statements. The statements inside a function's body are not executed when the function is defined. To execute the statements, we need to *call* or *invoke* the function."
   ]
  },
  {
   "cell_type": "markdown",
   "metadata": {},
   "source": [
    "### Python Docstrings\n",
    "Python documentation strings (or docstrings) provide a convenient way of associating documentation with Python modules, functions, classes, and methods.\n",
    "\n",
    "What should a docstring look like?\n",
    "* The doc string line should begin with a capital letter and end with a period.\n",
    "* The first line should be a short description.\n",
    "* If there are more lines in the documentation string, the second line should be blank, visually separating the summary from the rest of the description.\n",
    "* The following lines should be one or more paragraphs describing the object’s calling conventions, its side effects, etc.\n",
    "\n",
    "##### Documentation string or docstring is the first statement of a function. This is documentation string is optional \n",
    "\n",
    "![](https://www.stechies.com//userfiles/images/python-docstrings.webp)"
   ]
  },
  {
   "cell_type": "code",
   "execution_count": 13,
   "metadata": {},
   "outputs": [
    {
     "data": {
      "text/plain": [
       "'User define function take 2 parameter and return sum of 2 numbers'"
      ]
     },
     "execution_count": 13,
     "metadata": {},
     "output_type": "execute_result"
    }
   ],
   "source": [
    "def add(a,b):\n",
    "    'User define function take 2 parameter and return sum of 2 numbers'\n",
    "    return a+b\n",
    "\n",
    "add.__doc__ # use function name dot(.) __doc__ to print docstring of any function"
   ]
  },
  {
   "cell_type": "markdown",
   "metadata": {},
   "source": [
    "### Documenting functions using Docstrings\n",
    "\n",
    "We can add some documentation within our function using a *docstring*. A docstring is simply a string that appears as the first statement within the function body, and is used by the `help` function. A good docstring describes what the function does, and provides some explanation about the arguments."
   ]
  },
  {
   "cell_type": "code",
   "execution_count": 33,
   "metadata": {},
   "outputs": [],
   "source": [
    "def loan_emi(amount, duration, rate, down_payment=0):\n",
    "    \"\"\"Calculates the equal montly installment (EMI) for a loan.\n",
    "    \n",
    "    Arguments:\n",
    "        amount - Total amount to be spent (loan + down payment)\n",
    "        duration - Duration of the loan (in months)\n",
    "        rate - Rate of interest (monthly)\n",
    "        down_payment (optional) - Optional intial payment (deducted from amount)\n",
    "    \"\"\"\n",
    "    loan_amount = amount - down_payment\n",
    "    try:\n",
    "        emi = loan_amount * rate * ((1+rate)**duration) / (((1+rate)**duration)-1)\n",
    "    except ZeroDivisionError:\n",
    "        emi = loan_amount / duration\n",
    "    emi = math.ceil(emi)\n",
    "    return emi"
   ]
  },
  {
   "cell_type": "markdown",
   "metadata": {},
   "source": [
    "In the docstring above, we've provided some additional information that the `duration` and `rate` are measured in months. You might even consider naming the arguments `duration_months` and `rate_monthly`, to avoid any confusion whatsoever. Can you think of some other ways to improve the function?"
   ]
  },
  {
   "cell_type": "code",
   "execution_count": 34,
   "metadata": {},
   "outputs": [
    {
     "name": "stdout",
     "output_type": "stream",
     "text": [
      "Help on function loan_emi in module __main__:\n",
      "\n",
      "loan_emi(amount, duration, rate, down_payment=0)\n",
      "    Calculates the equal montly installment (EMI) for a loan.\n",
      "    \n",
      "    Arguments:\n",
      "        amount - Total amount to be spent (loan + down payment)\n",
      "        duration - Duration of the loan (in months)\n",
      "        rate - Rate of interest (monthly)\n",
      "        down_payment (optional) - Optional intial payment (deducted from amount)\n",
      "\n"
     ]
    }
   ],
   "source": [
    "help(loan_emi)"
   ]
  },
  {
   "cell_type": "markdown",
   "metadata": {},
   "source": [
    "#### if we want we can also define parameters also known as input arguments to function inside parathesis\n",
    "### Function arguments\n",
    "\n",
    "Functions can accept zero or more values as *inputs* (also knows as *arguments* or *parameters*). Arguments help us write flexible functions that can perform the same operations on different values. Further, functions can return a result that can be stored in a variable or used in other expressions.\n",
    "\n",
    "Here's a function that filters out the even numbers from a list and returns a new list using the `return` keyword."
   ]
  },
  {
   "cell_type": "code",
   "execution_count": 7,
   "metadata": {},
   "outputs": [
    {
     "data": {
      "text/plain": [
       "8"
      ]
     },
     "execution_count": 7,
     "metadata": {},
     "output_type": "execute_result"
    }
   ],
   "source": [
    "# Eaxmple for user defined function with input arguments\n",
    "def add(a,b):\n",
    "    return a+b\n",
    "\n",
    "add(3,5)"
   ]
  },
  {
   "cell_type": "markdown",
   "metadata": {},
   "source": [
    "Can you understand what the function does by looking at the code? If not, try executing each line of the function's body separately within a code cell with an actual list of numbers in place of `number_list`."
   ]
  },
  {
   "cell_type": "code",
   "execution_count": 9,
   "metadata": {},
   "outputs": [],
   "source": [
    "def filter_even(number_list):\n",
    "    result_list = []\n",
    "    for number in number_list:\n",
    "        if number % 2 == 0:\n",
    "            result_list.append(number)\n",
    "    return result_list"
   ]
  },
  {
   "cell_type": "code",
   "execution_count": 10,
   "metadata": {},
   "outputs": [
    {
     "data": {
      "text/plain": [
       "[2, 4, 6]"
      ]
     },
     "execution_count": 10,
     "metadata": {},
     "output_type": "execute_result"
    }
   ],
   "source": [
    "even_list = filter_even([1, 2, 3, 4, 5, 6, 7])\n",
    "even_list"
   ]
  },
  {
   "cell_type": "markdown",
   "metadata": {},
   "source": [
    "## Writing great functions in Python\n",
    "\n",
    "As a programmer, you will spend most of your time writing and using functions. Python offers many features to make your functions powerful and flexible. Let's explore some of these by solving a problem:\n",
    "\n",
    "> Radha is planning to buy a house that costs `$1,260,000`. She considering two options to finance her purchase:\n",
    ">\n",
    "> * Option 1: Make an immediate down payment of `$300,000`, and take loan 8-year loan with an interest rate of 10% (compounded monthly) for the remaining amount.\n",
    "> * Option 2: Take a 10-year loan with an interest rate of 8% (compounded monthly) for the entire amount.\n",
    ">\n",
    "> Both these loans have to be paid back in equal monthly installments (EMIs). Which loan has a lower EMI among the two?\n",
    "\n",
    "\n",
    "Since we need to compare the EMIs for two loan options, defining a function to calculate the EMI for a loan would be a great idea.  The inputs to the function would be cost of the house, the down payment, duration of the loan, rate of interest etc. We'll build this function step by step.\n",
    "\n",
    "First, let's write a simple function that calculates the EMI on the entire cost of the house, assuming that the loan must be paid back in one year, and there is no interest or down payment."
   ]
  },
  {
   "cell_type": "code",
   "execution_count": 11,
   "metadata": {},
   "outputs": [
    {
     "name": "stdout",
     "output_type": "stream",
     "text": [
      "The EMI is $105000.0\n"
     ]
    }
   ],
   "source": [
    "def loan_emi(amount):\n",
    "    emi = amount / 12\n",
    "    print('The EMI is ${}'.format(emi))\n",
    "    \n",
    "loan_emi(1260000)"
   ]
  },
  {
   "cell_type": "markdown",
   "metadata": {},
   "source": [
    "# Global and Local Scope\n",
    "If Variable is declare inside the function body then scope of this variable is locala and if you declare the variables outside the function the scope of that variable is Global.\n",
    "\n",
    "You can access local variable if and only if they are inside the function body and on the other hand you can access global variable through out the function"
   ]
  },
  {
   "cell_type": "code",
   "execution_count": 51,
   "metadata": {},
   "outputs": [
    {
     "name": "stdout",
     "output_type": "stream",
     "text": [
      "Local Variable a:  15\n",
      "Local Variable b:  3\n"
     ]
    },
    {
     "data": {
      "text/plain": [
       "18"
      ]
     },
     "execution_count": 51,
     "metadata": {},
     "output_type": "execute_result"
    }
   ],
   "source": [
    "def loacalFunction(x,y):\n",
    "    print('Local Variable a: ',x)\n",
    "    print('Local Variable b: ',y)\n",
    "    sum = x+y\n",
    "    return sum\n",
    "\n",
    "loacalFunction(15,3)"
   ]
  },
  {
   "cell_type": "code",
   "execution_count": 52,
   "metadata": {},
   "outputs": [
    {
     "name": "stdout",
     "output_type": "stream",
     "text": [
      "PythonProgramming\n"
     ]
    }
   ],
   "source": [
    "globalvar1 = 'Python'\n",
    "globalvar2 = 'Programming'\n",
    "def merge():\n",
    "    print(globalvar1+globalvar2) # global variable declare outside function used inside function\n",
    "    \n",
    "merge()"
   ]
  },
  {
   "cell_type": "markdown",
   "metadata": {},
   "source": [
    "### Local variables and scope\n",
    "\n",
    "Let's add a second argument to account for the duration of the loan in months."
   ]
  },
  {
   "cell_type": "code",
   "execution_count": 14,
   "metadata": {},
   "outputs": [],
   "source": [
    "def loan_emi(amount, duration):\n",
    "    emi = amount / duration\n",
    "    print('The EMI is ${}'.format(emi))"
   ]
  },
  {
   "cell_type": "markdown",
   "metadata": {},
   "source": [
    "Note that the variable `emi` defined inside the function is not accessible outside. The same is true for the parameters `amount` and `duration`. These are all *local variables* that lie within the *scope* of the function.\n",
    "\n",
    "> **Scope**: Scope refers to the region within the code where a particular variable is visible. Every function (or class definition) defines a scope within Python. Variables defined in this scope are called *local variables*. Variables that are available everywhere are called *global variables*. Scope rules allow you to use the same variable names in different functions without sharing values from one to the other. "
   ]
  },
  {
   "cell_type": "code",
   "execution_count": 15,
   "metadata": {},
   "outputs": [
    {
     "ename": "NameError",
     "evalue": "name 'emi' is not defined",
     "output_type": "error",
     "traceback": [
      "\u001b[1;31m---------------------------------------------------------------------------\u001b[0m",
      "\u001b[1;31mNameError\u001b[0m                                 Traceback (most recent call last)",
      "\u001b[1;32m<ipython-input-15-e5795bfcf3c1>\u001b[0m in \u001b[0;36m<module>\u001b[1;34m\u001b[0m\n\u001b[1;32m----> 1\u001b[1;33m \u001b[0memi\u001b[0m\u001b[1;33m\u001b[0m\u001b[1;33m\u001b[0m\u001b[0m\n\u001b[0m",
      "\u001b[1;31mNameError\u001b[0m: name 'emi' is not defined"
     ]
    }
   ],
   "source": [
    "emi # emi is a local variable declared insider function, so cannot be used outside function"
   ]
  },
  {
   "cell_type": "code",
   "execution_count": 16,
   "metadata": {},
   "outputs": [
    {
     "name": "stdout",
     "output_type": "stream",
     "text": [
      "The EMI is $500.0\n"
     ]
    }
   ],
   "source": [
    "amount = 1000\n",
    "duration = 2\n",
    "loan_emi(amount, duration)"
   ]
  },
  {
   "cell_type": "code",
   "execution_count": 17,
   "metadata": {},
   "outputs": [
    {
     "data": {
      "text/plain": [
       "1000"
      ]
     },
     "execution_count": 17,
     "metadata": {},
     "output_type": "execute_result"
    }
   ],
   "source": [
    "amount # Variable declare outside the function scope"
   ]
  },
  {
   "cell_type": "markdown",
   "metadata": {},
   "source": [
    "We can now compare a 6-year loan vs. a 10-year loan (assuming no down payment or interest)."
   ]
  },
  {
   "cell_type": "code",
   "execution_count": 18,
   "metadata": {},
   "outputs": [
    {
     "name": "stdout",
     "output_type": "stream",
     "text": [
      "The EMI is $13125.0\n"
     ]
    }
   ],
   "source": [
    "loan_emi(1260000, 8*12)"
   ]
  },
  {
   "cell_type": "code",
   "execution_count": 19,
   "metadata": {},
   "outputs": [
    {
     "name": "stdout",
     "output_type": "stream",
     "text": [
      "The EMI is $10500.0\n"
     ]
    }
   ],
   "source": [
    "loan_emi(1260000, 10*12)"
   ]
  },
  {
   "cell_type": "markdown",
   "metadata": {},
   "source": [
    "### Parameter/ input arguments are positional behaviour which we have defined in the parenthesis. It is necessary to report them in same order"
   ]
  },
  {
   "cell_type": "code",
   "execution_count": 20,
   "metadata": {},
   "outputs": [
    {
     "name": "stdout",
     "output_type": "stream",
     "text": [
      "Enter Boys Age: 10\n",
      "Enter Girls Age: 5\n",
      "Boy age 10 and Girl age 5 and their difference is 5\n",
      "Boy age 5 and Girl age 10 and their difference is -5\n"
     ]
    }
   ],
   "source": [
    "def ageDiff(boy,girl):\n",
    "    differnce = boy-girl\n",
    "    print(f'Boy age {boy} and Girl age {girl} and their difference is {differnce}')\n",
    "    \n",
    "boy=int(input('Enter Boys Age: ')) # Input from user\n",
    "girl=int(input('Enter Girls Age: ')) # Input from user\n",
    "ageDiff(boy,girl) # correct order\n",
    "ageDiff(girl,boy) # incorrect order"
   ]
  },
  {
   "cell_type": "markdown",
   "metadata": {},
   "source": [
    "#### Invoking function\n",
    "Once done with structure of the function now you can use it by calling it."
   ]
  },
  {
   "cell_type": "code",
   "execution_count": 21,
   "metadata": {},
   "outputs": [
    {
     "data": {
      "text/plain": [
       "9"
      ]
     },
     "execution_count": 21,
     "metadata": {},
     "output_type": "execute_result"
    }
   ],
   "source": [
    "add(5,4) # calling/invoking add()"
   ]
  },
  {
   "cell_type": "markdown",
   "metadata": {},
   "source": [
    "#### Pass By Reference and Pass by Value\n",
    "All the argument in Python are passed by reference"
   ]
  },
  {
   "cell_type": "code",
   "execution_count": 22,
   "metadata": {},
   "outputs": [
    {
     "name": "stdout",
     "output_type": "stream",
     "text": [
      "Hello Manoj, Welcome to Python\n"
     ]
    }
   ],
   "source": [
    "def print_name(name1):\n",
    "    print(f'Hello {name1}, Welcome to Python')\n",
    "    \n",
    "input_name = 'Manoj'\n",
    "print_name(input_name) # Call by reference"
   ]
  },
  {
   "cell_type": "code",
   "execution_count": 23,
   "metadata": {},
   "outputs": [
    {
     "name": "stdout",
     "output_type": "stream",
     "text": [
      "Hello Manoj, Welcome to Python\n"
     ]
    }
   ],
   "source": [
    "print_name('Manoj') # call by Value"
   ]
  },
  {
   "cell_type": "code",
   "execution_count": 24,
   "metadata": {},
   "outputs": [],
   "source": [
    "def information(name,age):\n",
    "    print('Name: ',name)\n",
    "    print('Age: ',age)"
   ]
  },
  {
   "cell_type": "code",
   "execution_count": 25,
   "metadata": {},
   "outputs": [
    {
     "name": "stdout",
     "output_type": "stream",
     "text": [
      "Name:  Manoj\n",
      "Age:  25\n"
     ]
    }
   ],
   "source": [
    "FirstName = 'Manoj'\n",
    "Age = '25'\n",
    "information(FirstName,Age) # call by reference where argument position are fixed"
   ]
  },
  {
   "cell_type": "code",
   "execution_count": 26,
   "metadata": {},
   "outputs": [
    {
     "name": "stdout",
     "output_type": "stream",
     "text": [
      "Name:  Manoj\n",
      "Age:  25\n"
     ]
    }
   ],
   "source": [
    "information(age=25,name='Manoj') # Call by value where argument position are changed"
   ]
  },
  {
   "cell_type": "markdown",
   "metadata": {},
   "source": [
    "# Function Arguments\n",
    "\n",
    "* Required Arguments \n",
    "* Keyword Arguments \n",
    "* Default Arguments \n",
    "* Variable-length Arguments\n",
    "\n",
    "![](data:image/jpeg;base64,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)"
   ]
  },
  {
   "cell_type": "markdown",
   "metadata": {},
   "source": [
    "![](https://getkt.com/wp-content/uploads/2019/02/python-function-definition-arguments-kind-and-order.jpg)"
   ]
  },
  {
   "cell_type": "markdown",
   "metadata": {},
   "source": [
    "### Required Arguments\n",
    "If you pass the argument in correct positional order than this argument is known as required argument\n",
    "\n",
    "Required arguments are the arguments passed to a function in correct positional order. Here, the number of arguments in the function call should match exactly with the function definition.\n",
    "\n",
    "To call the function printme(), you definitely need to pass one argument, otherwise it gives a syntax error as follows"
   ]
  },
  {
   "cell_type": "code",
   "execution_count": 28,
   "metadata": {},
   "outputs": [
    {
     "name": "stdout",
     "output_type": "stream",
     "text": [
      "Character Value:  Manoj\n",
      "Integer Value:  25\n"
     ]
    }
   ],
   "source": [
    "def information(string1,integer1):\n",
    "    print('Character Value: ',string1)\n",
    "    print('Integer Value: ',integer1)\n",
    "    \n",
    "information('Manoj',25) # Required argument, if you didnot pass any argument it will give erro"
   ]
  },
  {
   "cell_type": "code",
   "execution_count": 29,
   "metadata": {},
   "outputs": [
    {
     "ename": "TypeError",
     "evalue": "information() missing 1 required positional argument: 'integer1'",
     "output_type": "error",
     "traceback": [
      "\u001b[1;31m---------------------------------------------------------------------------\u001b[0m",
      "\u001b[1;31mTypeError\u001b[0m                                 Traceback (most recent call last)",
      "\u001b[1;32m<ipython-input-29-542180140894>\u001b[0m in \u001b[0;36m<module>\u001b[1;34m\u001b[0m\n\u001b[1;32m----> 1\u001b[1;33m \u001b[0minformation\u001b[0m\u001b[1;33m(\u001b[0m\u001b[1;36m25\u001b[0m\u001b[1;33m)\u001b[0m \u001b[1;31m# required argument error\u001b[0m\u001b[1;33m\u001b[0m\u001b[1;33m\u001b[0m\u001b[0m\n\u001b[0m",
      "\u001b[1;31mTypeError\u001b[0m: information() missing 1 required positional argument: 'integer1'"
     ]
    }
   ],
   "source": [
    "information(25) # required argument error"
   ]
  },
  {
   "cell_type": "markdown",
   "metadata": {},
   "source": [
    "### Default Argument/  Optional arguments\n",
    "\n",
    "Python has a different way of representing syntax and default values for function arguments. Default values indicate that the function argument will take that value if no argument value is passed during the function call. The default value is assigned by using the assignment(=) operator \n",
    "\n",
    "\n",
    "Next, let's add another argument to account for the immediate down payment. We'll make this an *optional argument* with a default value of 0."
   ]
  },
  {
   "cell_type": "code",
   "execution_count": 36,
   "metadata": {},
   "outputs": [
    {
     "data": {
      "text/plain": [
       "10000.0"
      ]
     },
     "execution_count": 36,
     "metadata": {},
     "output_type": "execute_result"
    }
   ],
   "source": [
    "def loan_emi(amount, duration, down_payment=0):\n",
    "    loan_amount = amount - down_payment\n",
    "    emi = loan_amount / duration\n",
    "    return emi\n",
    "\n",
    "emi1 = loan_emi(1260000, 8*12, 3e5)\n",
    "emi1"
   ]
  },
  {
   "cell_type": "markdown",
   "metadata": {},
   "source": [
    "Next, let's add the interest calculation into the function. Here's the formula used to calculate the EMI for a loan:\n",
    "\n",
    "<img src=\"https://i.imgur.com/iKujHGK.png\" style=\"width:240px\">\n",
    "where:\n",
    "\n",
    "* `P` is the loan amount (principal)\n",
    "* `n` is the no. of months\n",
    "* `r` is the rate of interest per month\n",
    "\n",
    "The derivation of this formula is beyond the scope of this tutorial. See this video for an explanation: https://youtu.be/Coxza9ugW4E ."
   ]
  },
  {
   "cell_type": "code",
   "execution_count": 37,
   "metadata": {},
   "outputs": [],
   "source": [
    "def loan_emi(amount, duration, rate, down_payment=0):\n",
    "    loan_amount = amount - down_payment\n",
    "    emi = loan_amount * rate * ((1+rate)**duration) / (((1+rate)**duration)-1)\n",
    "    return emi"
   ]
  },
  {
   "cell_type": "markdown",
   "metadata": {},
   "source": [
    "Note that while defining the function, required arguments like `cost`, `duration` and `rate` must appear before optional arguments like `down_payment`.\n",
    "\n",
    "Let's calculate the EMI for Option 1"
   ]
  },
  {
   "cell_type": "code",
   "execution_count": 38,
   "metadata": {},
   "outputs": [
    {
     "data": {
      "text/plain": [
       "14567.19753389219"
      ]
     },
     "execution_count": 38,
     "metadata": {},
     "output_type": "execute_result"
    }
   ],
   "source": [
    "loan_emi(1260000, 8*12, 0.1/12, 3e5)"
   ]
  },
  {
   "cell_type": "code",
   "execution_count": null,
   "metadata": {},
   "outputs": [],
   "source": []
  },
  {
   "cell_type": "code",
   "execution_count": 31,
   "metadata": {},
   "outputs": [
    {
     "name": "stdout",
     "output_type": "stream",
     "text": [
      "Name:  Manoj\n",
      "Age:  25\n",
      "--------------------------------------------------\n",
      "Name:  Manoj\n",
      "Age:  20\n"
     ]
    }
   ],
   "source": [
    "def information(name,age=25): # Age variable is already assigned a default value\n",
    "    print('Name: ',name)\n",
    "    print('Age: ',age)\n",
    "    \n",
    "nput_name='Manoj'\n",
    "information(input_name) # Default Argument is 25\n",
    "print('-'*50)\n",
    "information(input_name,20) # Call by value and default value will not consider"
   ]
  },
  {
   "cell_type": "markdown",
   "metadata": {},
   "source": [
    "### Keyword Argument\n",
    "#### *args and **kwargs in Python\n",
    "\n",
    "Special Symbols Used for passing arguments:-\n",
    "\n",
    "* *args (Non-Keyword Arguments)\n",
    "\n",
    "* **kwargs (Keyword Arguments)\n",
    "\n",
    "\n",
    "\n",
    "when you use keyword during function call then it is known as keyword argument\n",
    "\n",
    "![](https://media.geeksforgeeks.org/wp-content/uploads/20200907141910/keyword-300x176.PNG)\n",
    "\n",
    "Keyword arguments (or named arguments) are values that, when passed into a function, are identifiable by specific parameter names. A keyword argument is preceded by a parameter and the assignment operator, = .\n",
    "\n",
    ">Keyword arguments can be likened to dictionaries in that they map a value to a keyword."
   ]
  },
  {
   "cell_type": "code",
   "execution_count": 32,
   "metadata": {},
   "outputs": [
    {
     "data": {
      "text/plain": [
       "'Python'"
      ]
     },
     "execution_count": 32,
     "metadata": {},
     "output_type": "execute_result"
    }
   ],
   "source": [
    "def myFunction(str):\n",
    "    return str\n",
    "\n",
    "myFunction(str='Python') # str is a keyword"
   ]
  },
  {
   "cell_type": "markdown",
   "metadata": {},
   "source": [
    "1.) *args\n",
    "\n",
    "The special syntax *args in function definitions in python is used to pass a variable number of arguments to a function. It is used to pass a non-key worded, variable-length argument list. \n",
    "\n",
    "The syntax is to use the symbol * to take in a variable number of arguments; by convention, it is often used with the word args.\n",
    "What *args allows you to do is take in more arguments than the number of formal arguments that you previously defined. With *args, any number of extra arguments can be tacked on to your current formal parameters (including zero extra arguments).\n",
    "For example : we want to make a multiply function that takes any number of arguments and able to multiply them all together. It can be done using *args.\n",
    "Using the *, the variable that we associate with the * becomes an iterable meaning you can do things like iterate over it, run some higher-order functions such as map and filter, etc."
   ]
  },
  {
   "cell_type": "code",
   "execution_count": 39,
   "metadata": {},
   "outputs": [
    {
     "name": "stdout",
     "output_type": "stream",
     "text": [
      "Hello\n",
      "Welcome\n",
      "to\n",
      "GeeksforGeeks\n"
     ]
    }
   ],
   "source": [
    "# Python program to illustrate \n",
    "# *args for variable number of arguments\n",
    "def myFun(*argv):\n",
    "    for arg in argv:\n",
    "        print (arg)\n",
    "   \n",
    "myFun('Hello', 'Welcome', 'to', 'GeeksforGeeks')"
   ]
  },
  {
   "cell_type": "markdown",
   "metadata": {},
   "source": [
    "2.)**kwargs\n",
    "\n",
    "The special syntax **kwargs in function definitions in python is used to pass a keyworded, variable-length argument list. We use the name kwargs with the double star. The reason is because the double star allows us to pass through keyword arguments (and any number of them)."
   ]
  },
  {
   "cell_type": "code",
   "execution_count": 41,
   "metadata": {},
   "outputs": [
    {
     "name": "stdout",
     "output_type": "stream",
     "text": [
      "first == Geeks\n",
      "mid == for\n",
      "last == Geeks\n"
     ]
    }
   ],
   "source": [
    "# Python program to illustrate \n",
    "# *kargs for variable number of keyword arguments\n",
    " \n",
    "def myFun(**kwargs):\n",
    "    for key, value in kwargs.items():\n",
    "        print (\"%s == %s\" %(key, value))\n",
    " \n",
    "# Driver code\n",
    "myFun(first ='Geeks', mid ='for', last='Geeks')   "
   ]
  },
  {
   "cell_type": "markdown",
   "metadata": {},
   "source": [
    "##### also known as  Variable length Argument\n",
    "Sometimes while defining a function you need to process a function for more arguments than you specified, Such type of argument is know as variable length argument"
   ]
  },
  {
   "cell_type": "code",
   "execution_count": 42,
   "metadata": {},
   "outputs": [
    {
     "name": "stdout",
     "output_type": "stream",
     "text": [
      "Argument 1:  10\n"
     ]
    }
   ],
   "source": [
    "def myFunction(arg1,*arg2):\n",
    "    print('Argument 1: ', arg1)\n",
    "    for i in arg2:\n",
    "        print('Variable Length Argument: ',i)\n",
    "        \n",
    "myFunction(10) # Variable length Argument is 0"
   ]
  },
  {
   "cell_type": "code",
   "execution_count": 43,
   "metadata": {},
   "outputs": [
    {
     "name": "stdout",
     "output_type": "stream",
     "text": [
      "Argument 1:  10\n",
      "Variable Length Argument:  20\n",
      "Variable Length Argument:  30\n",
      "Variable Length Argument:  40\n",
      "Variable Length Argument:  50\n"
     ]
    }
   ],
   "source": [
    "myFunction(10,20,30,40,50) # Variable length Argument is 4"
   ]
  },
  {
   "cell_type": "code",
   "execution_count": 44,
   "metadata": {},
   "outputs": [
    {
     "name": "stdout",
     "output_type": "stream",
     "text": [
      "Argument 1:  10\n",
      "Variable Length Argument:  [20, 30, 40, 50]\n"
     ]
    }
   ],
   "source": [
    "myFunction(10,[20,30,40,50]) #  Variable length Argument is 1 in list object"
   ]
  },
  {
   "cell_type": "markdown",
   "metadata": {},
   "source": [
    "### Return values\n",
    "\n",
    "As you might expect, the EMI for the 6-year loan is higher compared to the 10-year loan. Right now, we're printing out the result. It would be better to return it and store the results in variables for easier comparison. We can do this using the `return` statement"
   ]
  },
  {
   "cell_type": "code",
   "execution_count": 46,
   "metadata": {},
   "outputs": [
    {
     "data": {
      "text/plain": [
       "13125.0"
      ]
     },
     "execution_count": 46,
     "metadata": {},
     "output_type": "execute_result"
    }
   ],
   "source": [
    "def loan_emi(amount, duration):\n",
    "    emi = amount / duration\n",
    "    return emi\n",
    "\n",
    "emi1 = loan_emi(1260000, 8*12)\n",
    "emi1"
   ]
  },
  {
   "cell_type": "code",
   "execution_count": 47,
   "metadata": {},
   "outputs": [
    {
     "data": {
      "text/plain": [
       "10500.0"
      ]
     },
     "execution_count": 47,
     "metadata": {},
     "output_type": "execute_result"
    }
   ],
   "source": [
    "emi2 = loan_emi(1260000, 10*12)\n",
    "emi2"
   ]
  },
  {
   "cell_type": "code",
   "execution_count": null,
   "metadata": {},
   "outputs": [],
   "source": []
  },
  {
   "cell_type": "markdown",
   "metadata": {},
   "source": [
    "### Python Anonymus function Lamda Function\n",
    "python function which is define using def keyword is known as anonymus function or lamda function\n",
    "\n",
    "![](data:image/png;base64,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)\n",
    "\n",
    "\n",
    "In Python, an anonymous function is a function that is defined without a name \\\n",
    "A lambda function in python has the following syntax. \\\n",
    "lambda arguments: expression"
   ]
  },
  {
   "cell_type": "code",
   "execution_count": 48,
   "metadata": {},
   "outputs": [
    {
     "data": {
      "text/plain": [
       "4"
      ]
     },
     "execution_count": 48,
     "metadata": {},
     "output_type": "execute_result"
    }
   ],
   "source": [
    "fun = lambda x: x*2 # lamda function is created and assigned to fun\n",
    "fun(2) # now call fun with number for required arguments"
   ]
  },
  {
   "cell_type": "code",
   "execution_count": 49,
   "metadata": {},
   "outputs": [
    {
     "data": {
      "text/plain": [
       "9"
      ]
     },
     "execution_count": 49,
     "metadata": {},
     "output_type": "execute_result"
    }
   ],
   "source": [
    "fun = lambda x,y=4: x+y # Lambda function with 1 default argument\n",
    "fun(5)"
   ]
  },
  {
   "cell_type": "code",
   "execution_count": 50,
   "metadata": {},
   "outputs": [
    {
     "data": {
      "text/plain": [
       "[2, 4, 6, 8]"
      ]
     },
     "execution_count": 50,
     "metadata": {},
     "output_type": "execute_result"
    }
   ],
   "source": [
    "even = lambda x: [i for i in x if i%2==0]\n",
    "even(x=[1,2,3,4,5,6,7,8])"
   ]
  },
  {
   "cell_type": "code",
   "execution_count": null,
   "metadata": {},
   "outputs": [],
   "source": []
  },
  {
   "cell_type": "markdown",
   "metadata": {},
   "source": [
    "#### Recursion in Python\n",
    "Recursion is the process of defining something in terms of itself.\n",
    "\n",
    "A physical world example would be to place two parallel mirrors facing each other. Any object in between them would be reflected recursively.\n",
    "\n",
    "![](https://cdn.programiz.com/cdn/farfuture/6i17bRQT6hWIqw9JE5rMMyW527g7It_68T7kSzpIplo/mtime:1591262415/sites/tutorial2program/files/python-recursion-function.png)\n",
    "\n",
    "Recursion mean a function call itself one or more time in its body. Simply we can say function calling itself.\n",
    "\n",
    "Recursive function is know as recursive function when function defination satisfies the condition of recursion"
   ]
  },
  {
   "cell_type": "code",
   "execution_count": 66,
   "metadata": {},
   "outputs": [
    {
     "data": {
      "text/plain": [
       "120"
      ]
     },
     "execution_count": 66,
     "metadata": {},
     "output_type": "execute_result"
    }
   ],
   "source": [
    "# factorial Program\n",
    "def fact(n):\n",
    "    if n==1:\n",
    "        return 1\n",
    "    else:\n",
    "        factorial = fact(n-1)*n # fact function call itself\n",
    "        return factorial\n",
    "\n",
    "fact(5)"
   ]
  },
  {
   "cell_type": "code",
   "execution_count": 67,
   "metadata": {},
   "outputs": [
    {
     "name": "stdout",
     "output_type": "stream",
     "text": [
      "50\n"
     ]
    }
   ],
   "source": [
    "def recf(lst,s=0):\n",
    "    if len(lst) == 0:\n",
    "        return s\n",
    "    else:\n",
    "        s+=lst.pop()\n",
    "        return recf(lst,s)\n",
    "    \n",
    "s = [5 for i in range(10)]\n",
    "print(recf(s))"
   ]
  },
  {
   "cell_type": "markdown",
   "metadata": {},
   "source": [
    "Recursion is having a drawback that it doesnot remember previous calculated values.\n",
    "\n",
    "Practical Program\n",
    "Generate Binary bits\n",
    "* if n=1 ['0','1'] \\\n",
    "* if n=2 ['00','01','10','11'] \\\n",
    "* if n=3 ['000','001','010','011','100','101','110','111']"
   ]
  },
  {
   "cell_type": "code",
   "execution_count": 69,
   "metadata": {},
   "outputs": [
    {
     "name": "stdout",
     "output_type": "stream",
     "text": [
      "['00', '01', '10', '11']\n"
     ]
    }
   ],
   "source": [
    "def append_bits(x,L):\n",
    "    return [x + elements for elements in L]\n",
    "\n",
    "def generate_bit(n):\n",
    "    if n==0: return []\n",
    "    if n==1: return ['0','1']\n",
    "    else:\n",
    "        return (append_bits('0', generate_bit(n-1)) +\n",
    "                append_bits('1', generate_bit(n-1)))\n",
    "\n",
    "print(generate_bit(2))"
   ]
  },
  {
   "cell_type": "code",
   "execution_count": null,
   "metadata": {},
   "outputs": [],
   "source": []
  },
  {
   "cell_type": "markdown",
   "metadata": {},
   "source": [
    "## Exercise - Data Analysis for Vacation Planning\n",
    "\n",
    "You're planning a vacation, and you need to decide which city you want to visit. You have shortlisted four cities and identified the return flight cost, daily hotel cost, and weekly car rental cost. While renting a car, you need to pay for entire weeks, even if you return the car sooner.\n",
    "\n",
    "\n",
    "| City | Return Flight (`$`) | Hotel per day (`$`) | Weekly Car Rental  (`$`) | \n",
    "|------|--------------------------|------------------|------------------------|\n",
    "| Paris|       200                |       20         |          200           |\n",
    "| London|      250                |       30         |          120           |\n",
    "| Dubai|       370                |       15         |          80           |\n",
    "| Mumbai|      450                |       10         |          70           |         \n",
    "\n",
    "\n",
    "Answer the following questions using the data above:\n",
    "\n",
    "1. If you're planning a 1-week long trip, which city should you visit to spend the least amount of money?\n",
    "2. How does the answer to the previous question change if you change the trip's duration to four days, ten days or two weeks?\n",
    "3. If your total budget for the trip is `$1000`, which city should you visit to maximize the duration of your trip? Which city should you visit if you want to minimize the duration?\n",
    "4. How does the answer to the previous question change if your budget is `$600`, `$2000`, or `$1500`?\n",
    "\n",
    "*Hint: To answer these questions, it will help to define a function `cost_of_trip` with relevant inputs like flight cost, hotel rate, car rental rate, and duration of the trip. You may find the `math.ceil` function useful for calculating the total cost of car rental.*"
   ]
  },
  {
   "cell_type": "code",
   "execution_count": null,
   "metadata": {},
   "outputs": [],
   "source": []
  },
  {
   "cell_type": "markdown",
   "metadata": {},
   "source": [
    "##### using pandas data frame to solve this problem question we will learn pandas in later chapter"
   ]
  },
  {
   "cell_type": "code",
   "execution_count": 55,
   "metadata": {},
   "outputs": [
    {
     "data": {
      "text/html": [
       "<div>\n",
       "<style scoped>\n",
       "    .dataframe tbody tr th:only-of-type {\n",
       "        vertical-align: middle;\n",
       "    }\n",
       "\n",
       "    .dataframe tbody tr th {\n",
       "        vertical-align: top;\n",
       "    }\n",
       "\n",
       "    .dataframe thead th {\n",
       "        text-align: right;\n",
       "    }\n",
       "</style>\n",
       "<table border=\"1\" class=\"dataframe\">\n",
       "  <thead>\n",
       "    <tr style=\"text-align: right;\">\n",
       "      <th></th>\n",
       "      <th>City</th>\n",
       "      <th>Return Flight ($)</th>\n",
       "      <th>Hotel per day ($)</th>\n",
       "      <th>Weekly Car Rental ($)</th>\n",
       "    </tr>\n",
       "  </thead>\n",
       "  <tbody>\n",
       "    <tr>\n",
       "      <th>0</th>\n",
       "      <td>Paris</td>\n",
       "      <td>200</td>\n",
       "      <td>20</td>\n",
       "      <td>200</td>\n",
       "    </tr>\n",
       "    <tr>\n",
       "      <th>1</th>\n",
       "      <td>London</td>\n",
       "      <td>250</td>\n",
       "      <td>30</td>\n",
       "      <td>120</td>\n",
       "    </tr>\n",
       "    <tr>\n",
       "      <th>2</th>\n",
       "      <td>Dubai</td>\n",
       "      <td>370</td>\n",
       "      <td>15</td>\n",
       "      <td>80</td>\n",
       "    </tr>\n",
       "    <tr>\n",
       "      <th>3</th>\n",
       "      <td>Mumbai</td>\n",
       "      <td>450</td>\n",
       "      <td>10</td>\n",
       "      <td>70</td>\n",
       "    </tr>\n",
       "  </tbody>\n",
       "</table>\n",
       "</div>"
      ],
      "text/plain": [
       "     City  Return Flight ($)  Hotel per day ($)  Weekly Car Rental ($)\n",
       "0   Paris                200                 20                    200\n",
       "1  London                250                 30                    120\n",
       "2   Dubai                370                 15                     80\n",
       "3  Mumbai                450                 10                     70"
      ]
     },
     "execution_count": 55,
     "metadata": {},
     "output_type": "execute_result"
    }
   ],
   "source": [
    "import pandas as pd\n",
    "data = {'City':['Paris','London','Dubai','Mumbai'], 'Return Flight ($)':[200,250,370,450],\n",
    "        'Hotel per day ($)':[20,30,15,10],'Weekly Car Rental ($)':[200,120,80,70]} # declaring Disctionary with above data set.\n",
    "df = pd.DataFrame(data) #using pandas to create a dataframe\n",
    "df "
   ]
  },
  {
   "cell_type": "markdown",
   "metadata": {},
   "source": [
    "Question 1) If you're planning a 1-week long trip, which city should you visit to spend the least amount of money?"
   ]
  },
  {
   "cell_type": "code",
   "execution_count": 63,
   "metadata": {},
   "outputs": [
    {
     "name": "stdout",
     "output_type": "stream",
     "text": [
      "1-week long trip which will take least amount of money is Paris and amount is 540\n"
     ]
    },
    {
     "data": {
      "text/html": [
       "<div>\n",
       "<style scoped>\n",
       "    .dataframe tbody tr th:only-of-type {\n",
       "        vertical-align: middle;\n",
       "    }\n",
       "\n",
       "    .dataframe tbody tr th {\n",
       "        vertical-align: top;\n",
       "    }\n",
       "\n",
       "    .dataframe thead th {\n",
       "        text-align: right;\n",
       "    }\n",
       "</style>\n",
       "<table border=\"1\" class=\"dataframe\">\n",
       "  <thead>\n",
       "    <tr style=\"text-align: right;\">\n",
       "      <th></th>\n",
       "      <th>City</th>\n",
       "      <th>Return Flight ($)</th>\n",
       "      <th>Hotel per day ($)</th>\n",
       "      <th>Weekly Car Rental ($)</th>\n",
       "      <th>total weekly expense</th>\n",
       "    </tr>\n",
       "  </thead>\n",
       "  <tbody>\n",
       "    <tr>\n",
       "      <th>0</th>\n",
       "      <td>Paris</td>\n",
       "      <td>200</td>\n",
       "      <td>20</td>\n",
       "      <td>200</td>\n",
       "      <td>540</td>\n",
       "    </tr>\n",
       "    <tr>\n",
       "      <th>1</th>\n",
       "      <td>London</td>\n",
       "      <td>250</td>\n",
       "      <td>30</td>\n",
       "      <td>120</td>\n",
       "      <td>580</td>\n",
       "    </tr>\n",
       "    <tr>\n",
       "      <th>2</th>\n",
       "      <td>Dubai</td>\n",
       "      <td>370</td>\n",
       "      <td>15</td>\n",
       "      <td>80</td>\n",
       "      <td>555</td>\n",
       "    </tr>\n",
       "    <tr>\n",
       "      <th>3</th>\n",
       "      <td>Mumbai</td>\n",
       "      <td>450</td>\n",
       "      <td>10</td>\n",
       "      <td>70</td>\n",
       "      <td>590</td>\n",
       "    </tr>\n",
       "  </tbody>\n",
       "</table>\n",
       "</div>"
      ],
      "text/plain": [
       "     City  Return Flight ($)  Hotel per day ($)  Weekly Car Rental ($)  \\\n",
       "0   Paris                200                 20                    200   \n",
       "1  London                250                 30                    120   \n",
       "2   Dubai                370                 15                     80   \n",
       "3  Mumbai                450                 10                     70   \n",
       "\n",
       "   total weekly expense  \n",
       "0                   540  \n",
       "1                   580  \n",
       "2                   555  \n",
       "3                   590  "
      ]
     },
     "execution_count": 63,
     "metadata": {},
     "output_type": "execute_result"
    }
   ],
   "source": [
    "df['total weekly expense'] = (df['Hotel per day ($)']*7) + df['Return Flight ($)'] + df['Weekly Car Rental ($)']\n",
    "print('1-week long trip which will take least amount of money is Paris and amount is 540') # values are fixed for now we can use format string for dynamic\n",
    "df"
   ]
  },
  {
   "cell_type": "code",
   "execution_count": 62,
   "metadata": {},
   "outputs": [
    {
     "data": {
      "text/html": [
       "<div>\n",
       "<style scoped>\n",
       "    .dataframe tbody tr th:only-of-type {\n",
       "        vertical-align: middle;\n",
       "    }\n",
       "\n",
       "    .dataframe tbody tr th {\n",
       "        vertical-align: top;\n",
       "    }\n",
       "\n",
       "    .dataframe thead th {\n",
       "        text-align: right;\n",
       "    }\n",
       "</style>\n",
       "<table border=\"1\" class=\"dataframe\">\n",
       "  <thead>\n",
       "    <tr style=\"text-align: right;\">\n",
       "      <th></th>\n",
       "      <th>City</th>\n",
       "      <th>Return Flight ($)</th>\n",
       "      <th>Hotel per day ($)</th>\n",
       "      <th>Weekly Car Rental ($)</th>\n",
       "      <th>total weekly expense</th>\n",
       "    </tr>\n",
       "  </thead>\n",
       "  <tbody>\n",
       "    <tr>\n",
       "      <th>0</th>\n",
       "      <td>Paris</td>\n",
       "      <td>200</td>\n",
       "      <td>20</td>\n",
       "      <td>200</td>\n",
       "      <td>540</td>\n",
       "    </tr>\n",
       "  </tbody>\n",
       "</table>\n",
       "</div>"
      ],
      "text/plain": [
       "    City  Return Flight ($)  Hotel per day ($)  Weekly Car Rental ($)  \\\n",
       "0  Paris                200                 20                    200   \n",
       "\n",
       "   total weekly expense  \n",
       "0                   540  "
      ]
     },
     "execution_count": 62,
     "metadata": {},
     "output_type": "execute_result"
    }
   ],
   "source": [
    "df.loc[df['total weekly expense']==df['total weekly expense'].min()]"
   ]
  },
  {
   "cell_type": "code",
   "execution_count": null,
   "metadata": {},
   "outputs": [],
   "source": []
  },
  {
   "cell_type": "markdown",
   "metadata": {},
   "source": [
    "This tutorial on functions in Python is by no means exhaustive. Here are a few more topics to learn about:\n",
    "\n",
    "* Functions with an arbitrary number of arguments using (`*args` and `**kwargs`)\n",
    "* Defining functions inside functions (and closures)\n",
    "* A function that invokes itself (recursion)\n",
    "* Functions that accept other functions as arguments or return other functions\n",
    "* Functions that enhance other functions (decorators)\n",
    "\n",
    "Following are some resources to learn about more functions in Python:\n",
    "\n",
    "* Python Tutorial at W3Schools: https://www.w3schools.com/python/\n",
    "* Practical Python Programming: https://dabeaz-course.github.io/practical-python/Notes/Contents.html\n",
    "* Python official documentation: https://docs.python.org/3/tutorial/index.html"
   ]
  },
  {
   "cell_type": "code",
   "execution_count": null,
   "metadata": {},
   "outputs": [],
   "source": []
  },
  {
   "cell_type": "markdown",
   "metadata": {},
   "source": [
    "## Questions for Revision\n",
    "\n",
    "Try answering the following questions to test your understanding of the topics covered in this notebook:\n",
    "\n",
    "* What is a function?\n",
    "* What are the benefits of using functions?\n",
    "3. What are some built-in functions in Python?\n",
    "4. How do you define a function in Python? Give an example.\n",
    "5. What is the body of a function?\n",
    "6. When are the statements in the body of a function executed?\n",
    "7. What is meant by calling or invoking a function? Give an example.\n",
    "8. What are function arguments? How are they useful?\n",
    "9. How do you store the result of a function in a variable?\n",
    "10. What is the purpose of the `return` keyword in Python?\n",
    "11. Can you return multiple values from a function?\n",
    "12. Can a `return` statement be used inside an `if` block or a `for` loop?\n",
    "13. Can the `return` keyword be used outside a function?\n",
    "14. What is scope in a programming region? \n",
    "15. How do you define a variable inside a function?\n",
    "16. What are local & global variables?\n",
    "17. Can you access the variables defined inside a function outside its body? Why or why not?\n",
    "18. What do you mean by the statement \"a function defines a scope within Python\"?\n",
    "19. Do for and while loops define a scope, like functions?\n",
    "20. Do if-else blocks define a scope, like functions?\n",
    "21. What are optional function arguments & default values? Give an example.\n",
    "22. Why should the required arguments appear before the optional arguments in a function definition?\n",
    "23. How do you invoke a function with named arguments? Illustrate with an example.\n",
    "24. Can you split a function invocation into multiple lines?\n",
    "25. Write a function that takes a number and rounds it up to the nearest integer.\n",
    "26. What are modules in Python?\n",
    "27. What is a Python library?\n",
    "28. What is the Python Standard Library?\n",
    "29. Where can you learn about the modules and functions available in the Python standard library?\n",
    "30. How do you install a third-party library?\n",
    "31. What is a module namespace? How is it useful?\n",
    "32. What problems would you run into if Python modules did not provide namespaces?\n",
    "33. How do you import a module?\n",
    "34. How do you use a function from an imported module? Illustrate with an example.\n",
    "35. Can you invoke a function inside the body of another function? Give an example.\n",
    "36. What is the single responsibility principle, and how does it apply while writing functions?\n",
    "37. What some characteristics of well-written functions?\n",
    "38. Can you use if statements or while loops within a function? Illustrate with an example.\n",
    "39. What are exceptions in Python? When do they occur?\n",
    "40. How are exceptions different from syntax errors?\n",
    "41. What are the different types of in-built exceptions in Python? Where can you learn about them?\n",
    "42. How do you prevent the termination of a program due to an exception?mple.\n",
    "49. What is a docstring? Why is it useful?\n",
    "50. How do you display the docstring for a function?\n",
    "51. What are *args and **kwargs? How are they useful? Give an example.\n",
    "52. Can you define functions inside functions? \n",
    "53. What is function closure in Python? How is it useful? Give an example.\n",
    "54. What is recursion? Illustrate with an example.\n",
    "55. Can functions accept other functions as arguments? Illustrate with an example.\n",
    "56. Can functions return other functions as results? Illustrate with an example.\n",
    "57. What are decorators? How are they useful?\n",
    "58. Implement a function decorator which prints the arguments and result of wrapped functions.\n",
    "59. What are some in-built decorators in Python?\n",
    "60. What are some popular Python libraries?"
   ]
  },
  {
   "cell_type": "code",
   "execution_count": null,
   "metadata": {},
   "outputs": [],
   "source": []
  }
 ],
 "metadata": {
  "kernelspec": {
   "display_name": "Python 3",
   "language": "python",
   "name": "python3"
  },
  "language_info": {
   "codemirror_mode": {
    "name": "ipython",
    "version": 3
   },
   "file_extension": ".py",
   "mimetype": "text/x-python",
   "name": "python",
   "nbconvert_exporter": "python",
   "pygments_lexer": "ipython3",
   "version": "3.7.6"
  }
 },
 "nbformat": 4,
 "nbformat_minor": 4
}
