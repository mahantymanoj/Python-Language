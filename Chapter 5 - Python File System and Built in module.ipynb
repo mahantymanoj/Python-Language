{
 "cells": [
  {
   "cell_type": "markdown",
   "metadata": {},
   "source": [
    "## Manoj Mahanty - Jr. Engineer - Data Analytics\n",
    "####  Python | MATLAB | R Begineer | SQL, PostgreSQL | MS Excel\n",
    "\n",
    "![](https://media-exp1.licdn.com/dms/image/C4E03AQHQwbwhrso79w/profile-displayphoto-shrink_100_100/0/1630124536553?e=1635379200&v=beta&t=VSAf_0U1A_gCd9m1GEN_UMYQTiCgumibjqYsfXp2_VM)  \n",
    " \n",
    "* email: mahantymanoj786@gmail.com\n",
    "* LinkedIn : https://www.linkedin.com/in/manoj-mahanty-aa3769115/"
   ]
  },
  {
   "cell_type": "markdown",
   "metadata": {},
   "source": [
    "# Reading from and Writing to Files using Python\n",
    "\n",
    "![](https://i.imgur.com/rv8wZ7l.png)\n",
    "\n"
   ]
  },
  {
   "cell_type": "markdown",
   "metadata": {},
   "source": [
    "### File and File Handling in Python\n",
    "Python Provide File function like:\n",
    "* open() \n",
    "* close() \n",
    "* read()\n",
    "* write()\n",
    "* rename()\n",
    "* remove()\n",
    "\n",
    "## Reading from a file \n",
    "\n",
    "\n",
    "To read the contents of a file, we first need to open the file using the built-in `open` function. The `open` function returns a file object and provides several methods for interacting with the file's contents."
   ]
  },
  {
   "cell_type": "markdown",
   "metadata": {},
   "source": [
    "The `open` function also accepts a `mode` argument to specifies how we can interact with the file. The following options are supported:\n",
    "\n",
    "```\n",
    "    ========= ===============================================================\n",
    "    Character Meaning\n",
    "    --------- ---------------------------------------------------------------\n",
    "    'r'       open for reading (default)\n",
    "    'w'       open for writing, truncating the file first\n",
    "    'x'       create a new file and open it for writing\n",
    "    'a'       open for writing, appending to the end of the file if it exists\n",
    "    'b'       binary mode\n",
    "    't'       text mode (default)\n",
    "    '+'       open a disk file for updating (reading and writing)\n",
    "    'U'       universal newline mode (deprecated)\n",
    "    ========= ===============================================================\n",
    "```\n",
    "\n",
    "To view the contents of the file, we can use the `read` method of the file object."
   ]
  },
  {
   "cell_type": "markdown",
   "metadata": {},
   "source": [
    "###  open() function\n",
    "when you read or write file then its important to open the file, for which built-in function open() is used"
   ]
  },
  {
   "cell_type": "code",
   "execution_count": 1,
   "metadata": {},
   "outputs": [
    {
     "data": {
      "text/plain": [
       "'D:\\\\Developing\\\\Python\\\\Python Course'"
      ]
     },
     "execution_count": 1,
     "metadata": {},
     "output_type": "execute_result"
    }
   ],
   "source": [
    "pwd"
   ]
  },
  {
   "cell_type": "code",
   "execution_count": 3,
   "metadata": {},
   "outputs": [],
   "source": [
    "f=open('open1.txt') # open1.txt is not available in pwd"
   ]
  },
  {
   "cell_type": "markdown",
   "metadata": {},
   "source": [
    "### Various type of file mode in Python\n",
    "1) R - File is open in read mode only and file pointer is placed at start of the file. \\\n",
    "2) r+ - File is open in read and write mode and file pointer is placed at start of the file. \\\n",
    "3) Rb - File is open in read only binart format and file pointer is placed at start of the file. \\\n",
    "4) rb+ - File is open in read and write mode and file pointer is placed at start of the file. \\\n",
    "5) W - File is created in write mode, if file is exist it overwrite else it will create new file. \\\n",
    "6) w+ - File is created in read and write mode, if file is exist it overwrite else it will create new file for read and write. \\\n",
    "7) Wb - File is open for write in binary format. \\\n",
    "8) wb+ - File is open for read and write in binary format. \\\n",
    "9) A - File is open in append in binary mode. if file exist then file pointer is at the end of the file else create new file. \\\n",
    "10) a+ - File is open in read and append mode. if file exist then file pointer is at the end of the file else create new file."
   ]
  },
  {
   "cell_type": "markdown",
   "metadata": {},
   "source": [
    "###  close() function\n",
    "close() method flush out any unwritten information and close the file. Once file is close then no more file writing can be done"
   ]
  },
  {
   "cell_type": "code",
   "execution_count": 4,
   "metadata": {},
   "outputs": [],
   "source": [
    "f = open('open1.txt','w+') # w+ - read and write mode\n",
    "f.write('This is my 1st file operation')\n",
    "f.close()"
   ]
  },
  {
   "cell_type": "markdown",
   "metadata": {},
   "source": [
    "#### Read file content"
   ]
  },
  {
   "cell_type": "code",
   "execution_count": 5,
   "metadata": {},
   "outputs": [
    {
     "name": "stdout",
     "output_type": "stream",
     "text": [
      "This is my 1st file operation\n"
     ]
    }
   ],
   "source": [
    "f = open('open1.txt','r') # read mode\n",
    "content = f.read()\n",
    "print(content)\n",
    "f.close()"
   ]
  },
  {
   "cell_type": "markdown",
   "metadata": {},
   "source": [
    "The file contains information about loans. It is a set of comma-separated values (CSV). \n",
    "\n",
    "> **CSVs**: A comma-separated values (CSV) file is a delimited text file that uses a comma to separate values. Each line of the file is a data record. Each record consists of one or more fields, separated by commas. A CSV file typically stores tabular data (numbers and text) in plain text, in which case each line will have the same number of fields. (Wikipedia)\n",
    "\n",
    "\n",
    "The CSV is a standard file format used for sharing data for analysis and visualization. Over the course of this tutorial, we will read the data from these CSV files, process it, and write the results back to files. Before we continue, let's close the file using the `close` method (otherwise, Python will continue to hold the entire file in the RAM)"
   ]
  },
  {
   "cell_type": "markdown",
   "metadata": {},
   "source": [
    "#### Append content to file"
   ]
  },
  {
   "cell_type": "code",
   "execution_count": 6,
   "metadata": {},
   "outputs": [],
   "source": [
    "f = open('open1.txt','a+')\n",
    "f.write('i am appending second line through Python')\n",
    "f.close()"
   ]
  },
  {
   "cell_type": "code",
   "execution_count": 7,
   "metadata": {},
   "outputs": [
    {
     "name": "stdout",
     "output_type": "stream",
     "text": [
      "This is my 1st file operationi am appending second line through Python\n"
     ]
    }
   ],
   "source": [
    "f = open('open1.txt','r')\n",
    "content = f.read()\n",
    "print(content)\n",
    "f.close()"
   ]
  },
  {
   "cell_type": "markdown",
   "metadata": {},
   "source": [
    "#### Attributes of file object\n",
    "There are 3 attribute for file object, they are:"
   ]
  },
  {
   "cell_type": "code",
   "execution_count": 8,
   "metadata": {},
   "outputs": [
    {
     "data": {
      "text/plain": [
       "True"
      ]
     },
     "execution_count": 8,
     "metadata": {},
     "output_type": "execute_result"
    }
   ],
   "source": [
    "f.closed # file.closed attribute will return true if file objecy is close else it will return false "
   ]
  },
  {
   "cell_type": "code",
   "execution_count": 9,
   "metadata": {},
   "outputs": [
    {
     "data": {
      "text/plain": [
       "'r'"
      ]
     },
     "execution_count": 9,
     "metadata": {},
     "output_type": "execute_result"
    }
   ],
   "source": [
    "f.mode # file.mode attribute will return current access mode in which file is open"
   ]
  },
  {
   "cell_type": "code",
   "execution_count": 10,
   "metadata": {},
   "outputs": [
    {
     "data": {
      "text/plain": [
       "'open1.txt'"
      ]
     },
     "execution_count": 10,
     "metadata": {},
     "output_type": "execute_result"
    }
   ],
   "source": [
    "f.name # file.name attribute will return filename"
   ]
  },
  {
   "cell_type": "markdown",
   "metadata": {},
   "source": [
    "![](data:image/png;base64,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)"
   ]
  },
  {
   "cell_type": "markdown",
   "metadata": {},
   "source": [
    "### Python readline()"
   ]
  },
  {
   "cell_type": "code",
   "execution_count": 11,
   "metadata": {},
   "outputs": [
    {
     "name": "stdout",
     "output_type": "stream",
     "text": [
      "Here we write command and to execute the command just press enter key and your command will be interpreted.\n",
      "\n"
     ]
    }
   ],
   "source": [
    "f = open('readline1.txt','r') # readlin1.txt was created manually\n",
    "content = f.readline() # it will read 1st line in the file\n",
    "print(content)\n",
    "f.close()"
   ]
  },
  {
   "cell_type": "code",
   "execution_count": 12,
   "metadata": {},
   "outputs": [
    {
     "name": "stdout",
     "output_type": "stream",
     "text": [
      "Here we write command and to execute the command just press enter key and your command will be interpreted.\n",
      "\n",
      "For coding in Python you must know the basics of the console used in Python.\n",
      "\n"
     ]
    }
   ],
   "source": [
    "f = open('readline1.txt','r')\n",
    "content = f.readline() # it will read 1st line in the file\n",
    "print(content)\n",
    "content = f.readline() # it will read 2n line in the file\n",
    "print(content)\n",
    "f.close()"
   ]
  },
  {
   "cell_type": "markdown",
   "metadata": {},
   "source": [
    "#### Using for loop to print all content of the file"
   ]
  },
  {
   "cell_type": "code",
   "execution_count": 13,
   "metadata": {},
   "outputs": [
    {
     "name": "stdout",
     "output_type": "stream",
     "text": [
      "Here we write command and to execute the command just press enter key and your command will be interpreted.\n",
      "\n",
      "For coding in Python you must know the basics of the console used in Python.\n",
      "\n",
      "\n",
      "\n",
      "The primary prompt of the python console is the three greater than symbols.\n",
      "\n",
      "Accepting Input from Console\n",
      "\n",
      "User enters the values in the Console and that value is then used in the program as it was required.\n",
      "\n",
      "To take input from the user we make use of a built-in function input().\n"
     ]
    }
   ],
   "source": [
    "f = open('readline1.txt','r')\n",
    "for line in f:\n",
    "    print(line) # print line by line all content of the file\n",
    "f.close()"
   ]
  },
  {
   "cell_type": "markdown",
   "metadata": {},
   "source": [
    "#### Python readlines().\n",
    "readline()  will read all lines in the file"
   ]
  },
  {
   "cell_type": "code",
   "execution_count": 14,
   "metadata": {},
   "outputs": [
    {
     "name": "stdout",
     "output_type": "stream",
     "text": [
      "['Here we write command and to execute the command just press enter key and your command will be interpreted.\\n', 'For coding in Python you must know the basics of the console used in Python.\\n', '\\n', 'The primary prompt of the python console is the three greater than symbols.\\n', 'Accepting Input from Console\\n', 'User enters the values in the Console and that value is then used in the program as it was required.\\n', 'To take input from the user we make use of a built-in function input().']\n"
     ]
    }
   ],
   "source": [
    "f = open('readline1.txt','r')\n",
    "content = f.readlines()\n",
    "print(content)\n",
    "f.close()"
   ]
  },
  {
   "cell_type": "markdown",
   "metadata": {},
   "source": [
    "#### Python write multiple line to file"
   ]
  },
  {
   "cell_type": "code",
   "execution_count": 15,
   "metadata": {},
   "outputs": [],
   "source": [
    "content = ['This is 1st line','\\nThis is 2nd line','\\nThis is 3rd line']\n",
    "f = open('readlines1.txt','w+') # read and write since readline1.txt was not saved\n",
    "\n",
    "for line in content:\n",
    "    f.write(line)\n",
    "    \n",
    "f.close()"
   ]
  },
  {
   "cell_type": "code",
   "execution_count": 16,
   "metadata": {},
   "outputs": [
    {
     "name": "stdout",
     "output_type": "stream",
     "text": [
      "This is 1st line\n",
      "This is 2nd line\n",
      "This is 3rd line\n"
     ]
    }
   ],
   "source": [
    "f = open('readlines1.txt','r') # read mode\n",
    "print(f.read())\n",
    "f.close()"
   ]
  },
  {
   "cell_type": "markdown",
   "metadata": {},
   "source": [
    "### Python writelines()\n",
    "writelines() will write all the lines instead of using loop to write"
   ]
  },
  {
   "cell_type": "code",
   "execution_count": 17,
   "metadata": {},
   "outputs": [],
   "source": [
    "f = open('readlines1.txt','w+') # read and write, if exists overwrite else create new\n",
    "f.writelines(content)\n",
    "f.close()"
   ]
  },
  {
   "cell_type": "code",
   "execution_count": 18,
   "metadata": {},
   "outputs": [
    {
     "name": "stdout",
     "output_type": "stream",
     "text": [
      "This is 1st line\n",
      "This is 2nd line\n",
      "This is 3rd line\n"
     ]
    }
   ],
   "source": [
    "f = open('readlines1.txt','r') # read mode\n",
    "print(f.read())\n",
    "f.close()"
   ]
  },
  {
   "cell_type": "markdown",
   "metadata": {},
   "source": [
    "### Closing files automatically using `with`\n",
    "\n",
    "To close a file automatically after you've processed it, you can open it using the `with` statement.\n",
    "### Python file operation using with\n",
    "we can also perform all file operation within block of code, with will provide a scope where we can perform all file operation and no need to close file object since out of with scope file object is automatically closed."
   ]
  },
  {
   "cell_type": "code",
   "execution_count": 19,
   "metadata": {},
   "outputs": [
    {
     "name": "stdout",
     "output_type": "stream",
     "text": [
      "This is my 1st file operationi am appending second line through Python\n"
     ]
    }
   ],
   "source": [
    "with open('open1.txt','r') as file:\n",
    "    print(file.read())\n",
    "    \n",
    "# out of file object scope"
   ]
  },
  {
   "cell_type": "code",
   "execution_count": 20,
   "metadata": {},
   "outputs": [
    {
     "data": {
      "text/plain": [
       "True"
      ]
     },
     "execution_count": 20,
     "metadata": {},
     "output_type": "execute_result"
    }
   ],
   "source": [
    "file.closed # Return true if file object is closed"
   ]
  },
  {
   "cell_type": "code",
   "execution_count": 21,
   "metadata": {},
   "outputs": [
    {
     "name": "stdout",
     "output_type": "stream",
     "text": [
      "['Here we write command and to execute the command just press enter key and your command will be interpreted.\\n', 'For coding in Python you must know the basics of the console used in Python.\\n', '\\n', 'The primary prompt of the python console is the three greater than symbols.\\n', 'Accepting Input from Console\\n', 'User enters the values in the Console and that value is then used in the program as it was required.\\n', 'To take input from the user we make use of a built-in function input().']\n"
     ]
    }
   ],
   "source": [
    "with open('readline1.txt') as file:\n",
    "    print(file.readlines())"
   ]
  },
  {
   "cell_type": "markdown",
   "metadata": {},
   "source": [
    "## Interacting with the OS and filesystem\n",
    "\n",
    "The `os` module in Python provides many functions for interacting with the OS and the filesystem. Let's import it and try out some examples."
   ]
  },
  {
   "cell_type": "markdown",
   "metadata": {},
   "source": [
    "#### rename and remove file"
   ]
  },
  {
   "cell_type": "code",
   "execution_count": 26,
   "metadata": {},
   "outputs": [],
   "source": [
    "import os\n",
    "os.rename('New Text Document.txt','Text.txt')"
   ]
  },
  {
   "cell_type": "code",
   "execution_count": 27,
   "metadata": {},
   "outputs": [],
   "source": [
    "os.remove('Text.txt')"
   ]
  },
  {
   "cell_type": "markdown",
   "metadata": {},
   "source": [
    "![](https://pynative.com/wp-content/uploads/2021/07/file_handling_in_python.png)"
   ]
  },
  {
   "cell_type": "markdown",
   "metadata": {},
   "source": [
    "### Python file position\n",
    "#### tell()\n",
    "tell() function show current pointer in file"
   ]
  },
  {
   "cell_type": "code",
   "execution_count": 28,
   "metadata": {},
   "outputs": [
    {
     "name": "stdout",
     "output_type": "stream",
     "text": [
      "This is my 1st fil\n",
      "File pointer at:  18\n"
     ]
    }
   ],
   "source": [
    "with open('open1.txt') as file:\n",
    "    print(file.read(18)) # read 18 bits from file\n",
    "    print('File pointer at: ',file.tell())"
   ]
  },
  {
   "cell_type": "markdown",
   "metadata": {},
   "source": [
    "#### seek()\n",
    "seek() function is used to change file pointer position"
   ]
  },
  {
   "cell_type": "code",
   "execution_count": 29,
   "metadata": {},
   "outputs": [
    {
     "name": "stdout",
     "output_type": "stream",
     "text": [
      "File pointer at:  0\n",
      "File pointer after seek: 10\n"
     ]
    }
   ],
   "source": [
    "with open('open1.txt') as file:\n",
    "    print('File pointer at: ',file.tell())\n",
    "    file.seek(10)\n",
    "    print('File pointer after seek:', file.tell())"
   ]
  },
  {
   "cell_type": "code",
   "execution_count": null,
   "metadata": {},
   "outputs": [],
   "source": []
  },
  {
   "cell_type": "code",
   "execution_count": null,
   "metadata": {},
   "outputs": [],
   "source": []
  },
  {
   "cell_type": "markdown",
   "metadata": {},
   "source": [
    "# Os Module\n",
    "It is possible to automatically perform many operating system tasks. The OS module in Python provides functions for creating and removing a directory (folder), fetching its contents, changing and identifying the current directory, etc."
   ]
  },
  {
   "cell_type": "markdown",
   "metadata": {},
   "source": [
    "![](https://res.cloudinary.com/dyd911kmh/image/upload/f_auto,q_auto:best/v1590365454/read5_a1ztyh.png)"
   ]
  },
  {
   "cell_type": "markdown",
   "metadata": {},
   "source": [
    "### Print current Directory"
   ]
  },
  {
   "cell_type": "code",
   "execution_count": 30,
   "metadata": {},
   "outputs": [
    {
     "name": "stdout",
     "output_type": "stream",
     "text": [
      "D:\\Developing\\Python\\Python Course\n",
      "b'D:\\\\Developing\\\\Python\\\\Python Course'\n"
     ]
    },
    {
     "name": "stderr",
     "output_type": "stream",
     "text": [
      "C:\\Users\\mahan\\anaconda3\\lib\\site-packages\\ipykernel_launcher.py:3: DeprecationWarning: The Windows bytes API has been deprecated, use Unicode filenames instead\n",
      "  This is separate from the ipykernel package so we can avoid doing imports until\n"
     ]
    }
   ],
   "source": [
    "import os\n",
    "print(os.getcwd()) # str type\n",
    "print(os.getcwdb()) # bytes type"
   ]
  },
  {
   "cell_type": "markdown",
   "metadata": {},
   "source": [
    "To get the list of files in a directory, use `os.listdir`. You pass an absolute or relative path of a directory as the argument to the function."
   ]
  },
  {
   "cell_type": "code",
   "execution_count": 31,
   "metadata": {},
   "outputs": [
    {
     "name": "stdout",
     "output_type": "stream",
     "text": [
      "Help on built-in function listdir in module nt:\n",
      "\n",
      "listdir(path=None)\n",
      "    Return a list containing the names of the files in the directory.\n",
      "    \n",
      "    path can be specified as either str, bytes, or a path-like object.  If path is bytes,\n",
      "      the filenames returned will also be bytes; in all other circumstances\n",
      "      the filenames returned will be str.\n",
      "    If path is None, uses the path='.'.\n",
      "    On some platforms, path may also be specified as an open file descriptor;\\\n",
      "      the file descriptor must refer to a directory.\n",
      "      If this functionality is unavailable, using it raises NotImplementedError.\n",
      "    \n",
      "    The list is in arbitrary order.  It does not include the special\n",
      "    entries '.' and '..' even if they are present in the directory.\n",
      "\n"
     ]
    }
   ],
   "source": [
    "help(os.listdir)"
   ]
  },
  {
   "cell_type": "code",
   "execution_count": 32,
   "metadata": {},
   "outputs": [
    {
     "data": {
      "text/plain": [
       "['.ipynb_checkpoints',\n",
       " 'Chapter 1 - Python Operator.ipynb',\n",
       " 'Chapter 2 - Python Data types.ipynb',\n",
       " 'Chapter 3 - Python Branching and Looping.ipynb',\n",
       " 'Chapter 4 - Python Function.ipynb',\n",
       " 'Chapter 5 - Python File System and Built in module.ipynb',\n",
       " 'MATPLOTLIB.ipynb',\n",
       " 'open1.txt',\n",
       " 'PDF',\n",
       " 'readline1.txt',\n",
       " 'readlines1.txt']"
      ]
     },
     "execution_count": 32,
     "metadata": {},
     "output_type": "execute_result"
    }
   ],
   "source": [
    "os.listdir('.') # relative path"
   ]
  },
  {
   "cell_type": "code",
   "execution_count": 39,
   "metadata": {},
   "outputs": [],
   "source": [
    "import os\n",
    "parent_path = os.getcwd()\n",
    "os.makedirs(parent_path + '\\\\tempdir') # create new directory as path mentioned\n",
    "os.mkdir(parent_path + '\\\\tempdir2') # create new directory if parent directory exists\n"
   ]
  },
  {
   "cell_type": "code",
   "execution_count": 40,
   "metadata": {},
   "outputs": [
    {
     "name": "stdout",
     "output_type": "stream",
     "text": [
      "D:\\Developing\\Python\\Python Course\\tempdir2\n"
     ]
    }
   ],
   "source": [
    "os.chdir(parent_path + '\\\\tempdir2') # Change directory\n",
    "print(os.getcwd())"
   ]
  },
  {
   "cell_type": "code",
   "execution_count": 41,
   "metadata": {},
   "outputs": [
    {
     "data": {
      "text/plain": [
       "'D:\\\\Developing\\\\Python\\\\Python Course'"
      ]
     },
     "execution_count": 41,
     "metadata": {},
     "output_type": "execute_result"
    }
   ],
   "source": [
    "os.chdir('..') # one directory back\n",
    "os.getcwd()"
   ]
  },
  {
   "cell_type": "code",
   "execution_count": 46,
   "metadata": {},
   "outputs": [],
   "source": [
    "os.chdir(r'D:\\Developing\\Python\\Python Course')"
   ]
  },
  {
   "cell_type": "code",
   "execution_count": 47,
   "metadata": {},
   "outputs": [
    {
     "name": "stdout",
     "output_type": "stream",
     "text": [
      "None\n"
     ]
    }
   ],
   "source": [
    "os.chdir(parent_path)\n",
    "print(os.removedirs(parent_path + '\\\\tempdir')) # directory removed"
   ]
  },
  {
   "cell_type": "code",
   "execution_count": 48,
   "metadata": {},
   "outputs": [
    {
     "name": "stdout",
     "output_type": "stream",
     "text": [
      "['.ipynb_checkpoints', 'Chapter 1 - Python Operator.ipynb', 'Chapter 2 - Python Data types.ipynb', 'Chapter 3 - Python Branching and Looping.ipynb', 'Chapter 4 - Python Function.ipynb', 'Chapter 5 - Python File System and Built in module.ipynb', 'MATPLOTLIB.ipynb', 'open1.txt', 'PDF', 'readline1.txt', 'readlines1.txt', 'tempdir2']\n"
     ]
    },
    {
     "data": {
      "text/plain": [
       "list"
      ]
     },
     "execution_count": 48,
     "metadata": {},
     "output_type": "execute_result"
    }
   ],
   "source": [
    "files = os.listdir(os.getcwd())\n",
    "print(files)\n",
    "type(files)"
   ]
  },
  {
   "cell_type": "markdown",
   "metadata": {},
   "source": [
    "### os.path()"
   ]
  },
  {
   "cell_type": "code",
   "execution_count": 49,
   "metadata": {},
   "outputs": [
    {
     "data": {
      "text/plain": [
       "'Python Language'"
      ]
     },
     "execution_count": 49,
     "metadata": {},
     "output_type": "execute_result"
    }
   ],
   "source": [
    "# return the basename of the file\n",
    "os.path.basename('D:\\Developing\\Data Science\\Python Language')"
   ]
  },
  {
   "cell_type": "code",
   "execution_count": 50,
   "metadata": {},
   "outputs": [
    {
     "data": {
      "text/plain": [
       "'D:\\\\Developing\\\\Data Science'"
      ]
     },
     "execution_count": 50,
     "metadata": {},
     "output_type": "execute_result"
    }
   ],
   "source": [
    "# Return directory name in which basename (folder) is saved\n",
    "os.path.dirname('D:\\Developing\\Data Science\\Python Language')"
   ]
  },
  {
   "cell_type": "code",
   "execution_count": 51,
   "metadata": {},
   "outputs": [
    {
     "data": {
      "text/plain": [
       "True"
      ]
     },
     "execution_count": 51,
     "metadata": {},
     "output_type": "execute_result"
    }
   ],
   "source": [
    "# specifies whether the path is absolute or not, in window absolute means start with \\ slash after remove drive letter\n",
    "os.path.isabs('D:\\Developing\\Data Science\\Python Language')"
   ]
  },
  {
   "cell_type": "code",
   "execution_count": 52,
   "metadata": {},
   "outputs": [
    {
     "data": {
      "text/plain": [
       "False"
      ]
     },
     "execution_count": 52,
     "metadata": {},
     "output_type": "execute_result"
    }
   ],
   "source": [
    "# return given path is a directory or not\n",
    "os.path.isdir('D:\\Developing\\Data Science\\Python Language')"
   ]
  },
  {
   "cell_type": "code",
   "execution_count": 53,
   "metadata": {},
   "outputs": [
    {
     "data": {
      "text/plain": [
       "False"
      ]
     },
     "execution_count": 53,
     "metadata": {},
     "output_type": "execute_result"
    }
   ],
   "source": [
    "# retrun given path with filename is a file or not, below example has only directory name\n",
    "os.path.isfile('D:\\Developing\\Data Science\\Python Language')"
   ]
  },
  {
   "cell_type": "code",
   "execution_count": null,
   "metadata": {},
   "outputs": [],
   "source": []
  },
  {
   "cell_type": "markdown",
   "metadata": {},
   "source": [
    "### Sys (System) Module\n",
    "\n",
    "sys module provides functions and variables used to manipulate different parts of the Python runtime environment"
   ]
  },
  {
   "cell_type": "markdown",
   "metadata": {},
   "source": [
    "![](data:image/jpeg;base64,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)"
   ]
  },
  {
   "cell_type": "markdown",
   "metadata": {},
   "source": [
    "## sys.argv()\n",
    "sys.argv returns a list of command line arguments passed to a Python script"
   ]
  },
  {
   "cell_type": "code",
   "execution_count": 54,
   "metadata": {},
   "outputs": [
    {
     "data": {
      "text/plain": [
       "['C:\\\\Users\\\\mahan\\\\anaconda3\\\\lib\\\\site-packages\\\\ipykernel_launcher.py',\n",
       " '-f',\n",
       " 'C:\\\\Users\\\\mahan\\\\AppData\\\\Roaming\\\\jupyter\\\\runtime\\\\kernel-027ce637-fd1c-4aa1-b3c9-cd0569636ba9.json']"
      ]
     },
     "execution_count": 54,
     "metadata": {},
     "output_type": "execute_result"
    }
   ],
   "source": [
    "import sys\n",
    "sys.argv"
   ]
  },
  {
   "cell_type": "code",
   "execution_count": 55,
   "metadata": {},
   "outputs": [
    {
     "name": "stdout",
     "output_type": "stream",
     "text": [
      "C:\\Users\\mahan\\anaconda3\\lib\\site-packages\\ipykernel_launcher.py\n",
      "-f\n",
      "C:\\Users\\mahan\\AppData\\Roaming\\jupyter\\runtime\\kernel-027ce637-fd1c-4aa1-b3c9-cd0569636ba9.json\n",
      "\n",
      "Hello -f. Welcome to C:\\Users\\mahan\\AppData\\Roaming\\jupyter\\runtime\\kernel-027ce637-fd1c-4aa1-b3c9-cd0569636ba9.json tutorial\n"
     ]
    }
   ],
   "source": [
    "print(sys.argv[0])\n",
    "print(sys.argv[1])\n",
    "print(sys.argv[2])\n",
    "print()\n",
    "print(\"Hello {}. Welcome to {} tutorial\".format(sys.argv[1], sys.argv[2]))"
   ]
  },
  {
   "cell_type": "markdown",
   "metadata": {},
   "source": [
    "### sys.exit\n",
    "This causes the script to exit back to either the Python console or the command prompt. This is generally used to safely exit from the program in case of generation of an exception.\n",
    "\n",
    "### sys.maxsize\n",
    "Returns the largest integer a variable can take."
   ]
  },
  {
   "cell_type": "code",
   "execution_count": 56,
   "metadata": {},
   "outputs": [
    {
     "data": {
      "text/plain": [
       "9223372036854775807"
      ]
     },
     "execution_count": 56,
     "metadata": {},
     "output_type": "execute_result"
    }
   ],
   "source": [
    "sys.maxsize"
   ]
  },
  {
   "cell_type": "markdown",
   "metadata": {},
   "source": [
    "### sys.path\n",
    "This is an environment variable that is a search path for all Python modules."
   ]
  },
  {
   "cell_type": "code",
   "execution_count": 57,
   "metadata": {},
   "outputs": [
    {
     "data": {
      "text/plain": [
       "['D:\\\\Developing\\\\Python\\\\Python Course',\n",
       " 'C:\\\\Users\\\\mahan\\\\anaconda3\\\\python37.zip',\n",
       " 'C:\\\\Users\\\\mahan\\\\anaconda3\\\\DLLs',\n",
       " 'C:\\\\Users\\\\mahan\\\\anaconda3\\\\lib',\n",
       " 'C:\\\\Users\\\\mahan\\\\anaconda3',\n",
       " '',\n",
       " 'C:\\\\Users\\\\mahan\\\\anaconda3\\\\lib\\\\site-packages',\n",
       " 'C:\\\\Users\\\\mahan\\\\anaconda3\\\\lib\\\\site-packages\\\\win32',\n",
       " 'C:\\\\Users\\\\mahan\\\\anaconda3\\\\lib\\\\site-packages\\\\win32\\\\lib',\n",
       " 'C:\\\\Users\\\\mahan\\\\anaconda3\\\\lib\\\\site-packages\\\\Pythonwin',\n",
       " 'C:\\\\Users\\\\mahan\\\\anaconda3\\\\lib\\\\site-packages\\\\IPython\\\\extensions',\n",
       " 'C:\\\\Users\\\\mahan\\\\.ipython']"
      ]
     },
     "execution_count": 57,
     "metadata": {},
     "output_type": "execute_result"
    }
   ],
   "source": [
    "sys.path"
   ]
  },
  {
   "cell_type": "markdown",
   "metadata": {},
   "source": [
    "### sys.version\n",
    "This attribute displays a string containing the version number of the current Python interpreter."
   ]
  },
  {
   "cell_type": "code",
   "execution_count": 58,
   "metadata": {},
   "outputs": [
    {
     "data": {
      "text/plain": [
       "'3.7.6 (default, Jan  8 2020, 20:23:39) [MSC v.1916 64 bit (AMD64)]'"
      ]
     },
     "execution_count": 58,
     "metadata": {},
     "output_type": "execute_result"
    }
   ],
   "source": [
    "sys.version"
   ]
  },
  {
   "cell_type": "code",
   "execution_count": 59,
   "metadata": {},
   "outputs": [
    {
     "data": {
      "text/plain": [
       "'sys'"
      ]
     },
     "execution_count": 59,
     "metadata": {},
     "output_type": "execute_result"
    }
   ],
   "source": [
    "sys.__name__ # gives name of the module"
   ]
  },
  {
   "cell_type": "code",
   "execution_count": null,
   "metadata": {},
   "outputs": [],
   "source": []
  },
  {
   "cell_type": "markdown",
   "metadata": {},
   "source": [
    "### Math module\n",
    "Some of the most popular mathematical functions are defined in the math module. These include trigonometric functions, representation functions, logarithmic functions, angle conversion functions, etc. In addition, two mathematical constants are also defined in this module."
   ]
  },
  {
   "cell_type": "markdown",
   "metadata": {},
   "source": [
    "![](https://1.bp.blogspot.com/-ykopw4ATDnY/XXL0qHcHkhI/AAAAAAAABRY/qsGPS2gklWITnqI_pLc1k-b9p_gJ4mXIQCLcBGAs/s1600/noname01.png)"
   ]
  },
  {
   "cell_type": "code",
   "execution_count": 60,
   "metadata": {},
   "outputs": [],
   "source": [
    "import math"
   ]
  },
  {
   "cell_type": "code",
   "execution_count": 61,
   "metadata": {},
   "outputs": [
    {
     "data": {
      "text/plain": [
       "3.141592653589793"
      ]
     },
     "execution_count": 61,
     "metadata": {},
     "output_type": "execute_result"
    }
   ],
   "source": [
    "## Pie (π) is a well-known mathematical constant, which is defined as the\n",
    "math.pi"
   ]
  },
  {
   "cell_type": "markdown",
   "metadata": {},
   "source": [
    "### Euler's number\n",
    "e - It is called Euler's number and it is a base of the natural logarithm. Its value is 2.718281828459045."
   ]
  },
  {
   "cell_type": "code",
   "execution_count": 62,
   "metadata": {},
   "outputs": [
    {
     "data": {
      "text/plain": [
       "2.718281828459045"
      ]
     },
     "execution_count": 62,
     "metadata": {},
     "output_type": "execute_result"
    }
   ],
   "source": [
    "math.e"
   ]
  },
  {
   "cell_type": "code",
   "execution_count": 63,
   "metadata": {},
   "outputs": [
    {
     "data": {
      "text/plain": [
       "100.0"
      ]
     },
     "execution_count": 63,
     "metadata": {},
     "output_type": "execute_result"
    }
   ],
   "source": [
    "math.pow(10,2)"
   ]
  },
  {
   "cell_type": "code",
   "execution_count": 64,
   "metadata": {},
   "outputs": [
    {
     "data": {
      "text/plain": [
       "4.0"
      ]
     },
     "execution_count": 64,
     "metadata": {},
     "output_type": "execute_result"
    }
   ],
   "source": [
    "math.sqrt(16)"
   ]
  },
  {
   "cell_type": "code",
   "execution_count": 65,
   "metadata": {},
   "outputs": [
    {
     "data": {
      "text/plain": [
       "3"
      ]
     },
     "execution_count": 65,
     "metadata": {},
     "output_type": "execute_result"
    }
   ],
   "source": [
    "math.floor(3.256)"
   ]
  },
  {
   "cell_type": "code",
   "execution_count": 66,
   "metadata": {},
   "outputs": [
    {
     "data": {
      "text/plain": [
       "4"
      ]
     },
     "execution_count": 66,
     "metadata": {},
     "output_type": "execute_result"
    }
   ],
   "source": [
    "math.ceil(3.256)"
   ]
  },
  {
   "cell_type": "code",
   "execution_count": null,
   "metadata": {},
   "outputs": [],
   "source": []
  },
  {
   "cell_type": "markdown",
   "metadata": {},
   "source": [
    "### Statistics module\n",
    "The statistics module provides functions to mathematical statistics of numeric data. The following popular statistical functions are defined in this module."
   ]
  },
  {
   "cell_type": "markdown",
   "metadata": {},
   "source": [
    "![](https://cdn.educba.com/academy/wp-content/uploads/2020/02/Python-Statistics-Module-2.jpg)"
   ]
  },
  {
   "cell_type": "code",
   "execution_count": 67,
   "metadata": {},
   "outputs": [],
   "source": [
    "import statistics"
   ]
  },
  {
   "cell_type": "markdown",
   "metadata": {},
   "source": [
    "### mean() "
   ]
  },
  {
   "cell_type": "code",
   "execution_count": 68,
   "metadata": {},
   "outputs": [
    {
     "name": "stdout",
     "output_type": "stream",
     "text": [
      "8.555555555555555\n"
     ]
    },
    {
     "data": {
      "text/plain": [
       "8.555555555555555"
      ]
     },
     "execution_count": 68,
     "metadata": {},
     "output_type": "execute_result"
    }
   ],
   "source": [
    "l = [2,5,11,8,15,23,5,5,3]\n",
    "sum= 0\n",
    "for i in l:\n",
    "    sum+=i\n",
    "print(sum/len(l))\n",
    "\n",
    "statistics.mean(l)"
   ]
  },
  {
   "cell_type": "markdown",
   "metadata": {},
   "source": [
    "### median()"
   ]
  },
  {
   "cell_type": "code",
   "execution_count": 69,
   "metadata": {},
   "outputs": [
    {
     "name": "stdout",
     "output_type": "stream",
     "text": [
      "[2, 2, 3, 5, 5, 5, 7, 8, 9, 11, 15, 23, 43, 55]\n",
      "Length of list:  14\n",
      "Median :  7.5\n"
     ]
    },
    {
     "data": {
      "text/plain": [
       "7.5"
      ]
     },
     "execution_count": 69,
     "metadata": {},
     "output_type": "execute_result"
    }
   ],
   "source": [
    "l = [2,5,11,8,15,23,5,5,3,9,7,55,43,2]\n",
    "l.sort()\n",
    "print(l)\n",
    "print('Length of list: ',len(l))\n",
    "\n",
    "if len(l)%2 == 0:\n",
    "    print('Median : ',statistics.mean([l[int((len(l)-1)/2)],l[int((len(l)-1)/2+1)]]))\n",
    "else:\n",
    "    print(l[int(len(l)/2)])\n",
    "\n",
    "statistics.median(l)"
   ]
  },
  {
   "cell_type": "markdown",
   "metadata": {},
   "source": [
    "### mode()"
   ]
  },
  {
   "cell_type": "code",
   "execution_count": 70,
   "metadata": {},
   "outputs": [
    {
     "name": "stdout",
     "output_type": "stream",
     "text": [
      "[2, 2, 3, 5, 5, 5, 7, 8, 9, 11, 15, 23, 43, 55]\n",
      "{2: 2, 3: 1, 5: 3, 7: 1, 8: 1, 9: 1, 11: 1, 15: 1, 23: 1, 43: 1, 55: 1}\n",
      "Mode:  5\n"
     ]
    },
    {
     "data": {
      "text/plain": [
       "5"
      ]
     },
     "execution_count": 70,
     "metadata": {},
     "output_type": "execute_result"
    }
   ],
   "source": [
    "print(l)\n",
    "\n",
    "d = dict()\n",
    "for i in l:\n",
    "    if i in d.keys():\n",
    "        d[i] = d[i]+1\n",
    "    else:\n",
    "        d[i] = 1\n",
    "\n",
    "print(d)\n",
    "key = max(d,key=d.get)\n",
    "print('Mode: ', key)\n",
    "\n",
    "statistics.mode(l)"
   ]
  },
  {
   "cell_type": "code",
   "execution_count": 71,
   "metadata": {},
   "outputs": [
    {
     "data": {
      "text/plain": [
       "16.111050060934392"
      ]
     },
     "execution_count": 71,
     "metadata": {},
     "output_type": "execute_result"
    }
   ],
   "source": [
    "statistics.stdev(l)"
   ]
  },
  {
   "cell_type": "code",
   "execution_count": null,
   "metadata": {},
   "outputs": [],
   "source": []
  },
  {
   "cell_type": "markdown",
   "metadata": {},
   "source": [
    "## Collections Module\n",
    "The collections module provides alternatives to built-in container data types such as list, tuple and dict."
   ]
  },
  {
   "cell_type": "markdown",
   "metadata": {},
   "source": [
    "![](https://cdn.journaldev.com/wp-content/uploads/2018/02/Python-collections-module.png)"
   ]
  },
  {
   "cell_type": "code",
   "execution_count": 72,
   "metadata": {},
   "outputs": [],
   "source": [
    "import collections"
   ]
  },
  {
   "cell_type": "markdown",
   "metadata": {},
   "source": [
    "### Tuple\n",
    "Syntax \\\n",
    "collections.namedtuple(type_name, field-list)"
   ]
  },
  {
   "cell_type": "code",
   "execution_count": 73,
   "metadata": {},
   "outputs": [
    {
     "data": {
      "text/plain": [
       "type"
      ]
     },
     "execution_count": 73,
     "metadata": {},
     "output_type": "execute_result"
    }
   ],
   "source": [
    "Tuple = collections.namedtuple('abc',['name','len','max','value']) # created a class with name Tuple and attribute as len, max and value\n",
    "type(Tuple)"
   ]
  },
  {
   "cell_type": "code",
   "execution_count": 74,
   "metadata": {},
   "outputs": [
    {
     "name": "stdout",
     "output_type": "stream",
     "text": [
      "2\n",
      "5\n",
      "122\n",
      "Manoj\n"
     ]
    },
    {
     "data": {
      "text/plain": [
       "'Manoj'"
      ]
     },
     "execution_count": 74,
     "metadata": {},
     "output_type": "execute_result"
    }
   ],
   "source": [
    "s1=Tuple('Manoj',\"2\",\"5\",\"122\")\n",
    "print(s1.len)\n",
    "print(s1.max)\n",
    "print(s1[3])\n",
    "print(s1.name)\n",
    "s1[0]"
   ]
  },
  {
   "cell_type": "markdown",
   "metadata": {},
   "source": [
    "### OrderedDict()"
   ]
  },
  {
   "cell_type": "code",
   "execution_count": 75,
   "metadata": {},
   "outputs": [
    {
     "name": "stdout",
     "output_type": "stream",
     "text": [
      "OrderedDict([('A', 65), ('C', 67), ('B', 66), ('D', 68)])\n"
     ]
    }
   ],
   "source": [
    "d1=collections.OrderedDict()\n",
    "d1['A']=65\n",
    "d1['C']=67\n",
    "d1['B']=66\n",
    "d1['D']=68\n",
    "print(d1)"
   ]
  },
  {
   "cell_type": "code",
   "execution_count": 76,
   "metadata": {},
   "outputs": [
    {
     "data": {
      "text/plain": [
       "odict_keys(['A', 'C', 'B', 'D'])"
      ]
     },
     "execution_count": 76,
     "metadata": {},
     "output_type": "execute_result"
    }
   ],
   "source": [
    "d1.keys()"
   ]
  },
  {
   "cell_type": "code",
   "execution_count": 77,
   "metadata": {},
   "outputs": [
    {
     "data": {
      "text/plain": [
       "odict_values([65, 67, 66, 68])"
      ]
     },
     "execution_count": 77,
     "metadata": {},
     "output_type": "execute_result"
    }
   ],
   "source": [
    "d1.values()"
   ]
  },
  {
   "cell_type": "code",
   "execution_count": 78,
   "metadata": {},
   "outputs": [
    {
     "name": "stdout",
     "output_type": "stream",
     "text": [
      "A : 65\n",
      "C : 67\n",
      "B : 66\n",
      "D : 68\n"
     ]
    }
   ],
   "source": [
    "for k,v in d1.items():\n",
    "    print(str(k) + ' : ' + str(v))"
   ]
  },
  {
   "cell_type": "markdown",
   "metadata": {},
   "source": [
    "### deque()\n",
    "A deque object support appends and pops from either ends of a list. It is more memory efficient than a normal list object. In a normal list object, the removal of any item causes all items to the right to be shifted towards left by one index. Hence, it is very slow."
   ]
  },
  {
   "cell_type": "code",
   "execution_count": 79,
   "metadata": {},
   "outputs": [
    {
     "name": "stdout",
     "output_type": "stream",
     "text": [
      "deque([2, 5, 11, 8, 15, 23, 5, 5, 3, 9, 7, 55, 43, 2])\n"
     ]
    }
   ],
   "source": [
    "l = [2,5,11,8,15,23,5,5,3,9,7,55,43,2]\n",
    "q=collections.deque(l)\n",
    "print(q)"
   ]
  },
  {
   "cell_type": "code",
   "execution_count": 80,
   "metadata": {},
   "outputs": [
    {
     "data": {
      "text/plain": [
       "deque([100, 2, 5, 11, 8, 15, 23, 5, 5, 3, 9, 7, 55, 43, 2])"
      ]
     },
     "execution_count": 80,
     "metadata": {},
     "output_type": "execute_result"
    }
   ],
   "source": [
    "q.appendleft(100) # append at left/front of queue\n",
    "q"
   ]
  },
  {
   "cell_type": "code",
   "execution_count": 81,
   "metadata": {},
   "outputs": [
    {
     "name": "stdout",
     "output_type": "stream",
     "text": [
      "deque([100, 2, 5, 11, 8, 15, 23, 5, 5, 3, 9, 7, 55, 43, 2, 101])\n"
     ]
    }
   ],
   "source": [
    "q.append(101) # append at right/rear of queue\n",
    "print(q)"
   ]
  },
  {
   "cell_type": "code",
   "execution_count": 82,
   "metadata": {},
   "outputs": [
    {
     "name": "stdout",
     "output_type": "stream",
     "text": [
      "deque([100, 2, 5, 11, 8, 15, 23, 5, 5, 3, 9, 7, 55, 43, 2])\n"
     ]
    }
   ],
   "source": [
    "q.pop() # pop/delete element from right/rear of queue\n",
    "print(q)"
   ]
  },
  {
   "cell_type": "code",
   "execution_count": 83,
   "metadata": {},
   "outputs": [
    {
     "name": "stdout",
     "output_type": "stream",
     "text": [
      "deque([2, 5, 11, 8, 15, 23, 5, 5, 3, 9, 7, 55, 43, 2])\n"
     ]
    }
   ],
   "source": [
    "q.popleft() # pop/remove element from left/front of queue\n",
    "print(q)"
   ]
  },
  {
   "cell_type": "code",
   "execution_count": null,
   "metadata": {},
   "outputs": [],
   "source": []
  },
  {
   "cell_type": "markdown",
   "metadata": {},
   "source": [
    "### Random()"
   ]
  },
  {
   "cell_type": "markdown",
   "metadata": {},
   "source": [
    "![](https://miro.medium.com/max/1400/1*6_T0ZCsUHsFUO5EWDbGWSQ.png)"
   ]
  },
  {
   "cell_type": "code",
   "execution_count": 84,
   "metadata": {},
   "outputs": [],
   "source": [
    "import random"
   ]
  },
  {
   "cell_type": "code",
   "execution_count": 85,
   "metadata": {},
   "outputs": [
    {
     "name": "stdout",
     "output_type": "stream",
     "text": [
      "0.8182490476431108\n",
      "0.2863753103863752\n"
     ]
    }
   ],
   "source": [
    "num1 = random.random() # take any random number\n",
    "num2 = random.random() # take any random number\n",
    "print(num1)\n",
    "print(num2)"
   ]
  },
  {
   "cell_type": "code",
   "execution_count": 86,
   "metadata": {},
   "outputs": [
    {
     "name": "stdout",
     "output_type": "stream",
     "text": [
      "1\n"
     ]
    }
   ],
   "source": [
    "l = random.randint(1,15) #  Returns a random integer between the specified integers.\n",
    "print(l)"
   ]
  },
  {
   "cell_type": "markdown",
   "metadata": {},
   "source": [
    "### random.randrange()\n",
    "Returns a randomly selected element from the range created by the start, stop and step arguments. The value of start is 0 by default. Similarly, the value of step is 1 by default.\n"
   ]
  },
  {
   "cell_type": "code",
   "execution_count": 87,
   "metadata": {},
   "outputs": [
    {
     "name": "stdout",
     "output_type": "stream",
     "text": [
      "11\n"
     ]
    }
   ],
   "source": [
    "l = random.randrange(1,15,2)\n",
    "print(l)"
   ]
  },
  {
   "cell_type": "code",
   "execution_count": 89,
   "metadata": {},
   "outputs": [
    {
     "name": "stdout",
     "output_type": "stream",
     "text": [
      "1\n",
      "0\n"
     ]
    }
   ],
   "source": [
    "## Difference between randint and randrange\n",
    "print(random.randint(0,1)) # return either 0 or 1, since randint(x,y) meaning number >=x and <=y\n",
    "print(random.randrange(0,1)) # return only 0, since randrange(x,y) meaning number >=x and <y"
   ]
  },
  {
   "cell_type": "code",
   "execution_count": 90,
   "metadata": {},
   "outputs": [
    {
     "data": {
      "text/plain": [
       "2"
      ]
     },
     "execution_count": 90,
     "metadata": {},
     "output_type": "execute_result"
    }
   ],
   "source": [
    "l = [2,5,11,8,15,23,5,5,3,9,7,55,43,2]\n",
    "random.choice(l) # choose any random element from given range/list"
   ]
  },
  {
   "cell_type": "markdown",
   "metadata": {},
   "source": [
    "# random.shuffle()\n",
    "This functions randomly reorders the elements in a list."
   ]
  },
  {
   "cell_type": "code",
   "execution_count": 92,
   "metadata": {},
   "outputs": [
    {
     "name": "stdout",
     "output_type": "stream",
     "text": [
      "[2, 5, 11, 8, 15, 23, 5, 5, 3, 9, 7, 55, 43, 2]\n"
     ]
    },
    {
     "data": {
      "text/plain": [
       "[8, 7, 43, 9, 15, 5, 3, 11, 55, 2, 2, 5, 23, 5]"
      ]
     },
     "execution_count": 92,
     "metadata": {},
     "output_type": "execute_result"
    }
   ],
   "source": [
    "print(l)\n",
    "random.shuffle(l)\n",
    "l"
   ]
  },
  {
   "cell_type": "code",
   "execution_count": null,
   "metadata": {},
   "outputs": [],
   "source": []
  },
  {
   "cell_type": "markdown",
   "metadata": {},
   "source": [
    "### Python Iterator\n",
    "\n",
    "When we use a for loop to traverse any iterable object, internally it uses the iter() method\n",
    "The iterator object uses the \\__next__() method. Every time it is called, the next element in the iterator stream is returned. When there are no more elements available, StopIteration error is encountered"
   ]
  },
  {
   "cell_type": "markdown",
   "metadata": {},
   "source": [
    "![](https://editor.analyticsvidhya.com/uploads/20722iterable_vs_iterator.png)"
   ]
  },
  {
   "cell_type": "code",
   "execution_count": 93,
   "metadata": {},
   "outputs": [
    {
     "name": "stdout",
     "output_type": "stream",
     "text": [
      "[8, 7, 43, 9, 15, 5, 3, 11, 55, 2, 2, 5, 23, 5]\n",
      "8\n",
      "7\n",
      "43\n",
      "9\n",
      "15\n",
      "5\n",
      "3\n",
      "11\n"
     ]
    },
    {
     "data": {
      "text/plain": [
       "55"
      ]
     },
     "execution_count": 93,
     "metadata": {},
     "output_type": "execute_result"
    }
   ],
   "source": [
    "it = iter(l)\n",
    "print(l)\n",
    "print(it.__next__())\n",
    "print(it.__next__())\n",
    "print(it.__next__())\n",
    "print(it.__next__())\n",
    "print(it.__next__())\n",
    "print(it.__next__())\n",
    "print(it.__next__())\n",
    "print(it.__next__())\n",
    "\n",
    "next(it) #The built-in function next() accepts an iterator object as a parameter and calls the __next__() method internally"
   ]
  },
  {
   "cell_type": "code",
   "execution_count": null,
   "metadata": {},
   "outputs": [],
   "source": []
  },
  {
   "cell_type": "markdown",
   "metadata": {},
   "source": [
    "### urllib\n",
    "Urllib module is the URL handling module for python. It is used to fetch URLs (Uniform Resource Locators). It uses the urlopen function and is able to fetch URLs using a variety of different protocols.\n",
    "\n",
    "Urllib is a package that collects several modules for working with URLs, such as:\n",
    "\n",
    "* urllib.request for opening and reading.\n",
    "* urllib.parse for parsing URLs\n",
    "* urllib.error for the exceptions raised\n",
    "* urllib.robotparser for parsing robot.txt files"
   ]
  },
  {
   "cell_type": "markdown",
   "metadata": {},
   "source": [
    "Let us download some files into the `data` directory using the `urllib` module."
   ]
  },
  {
   "cell_type": "markdown",
   "metadata": {},
   "source": [
    "![](https://www.educative.io/api/edpresso/shot/6312878216839168/image/6501873970315264)"
   ]
  },
  {
   "cell_type": "markdown",
   "metadata": {},
   "source": [
    "Let’s see these in details.\n",
    "#### urllib.request\n",
    "\n",
    "This module helps to define functions and classes to open URLs (mostly HTTP). One of the most simple ways to open such URLs is :\n",
    "urllib.request.urlopen(url)\n",
    "We can see this in an example:"
   ]
  },
  {
   "cell_type": "code",
   "execution_count": 95,
   "metadata": {},
   "outputs": [
    {
     "name": "stdout",
     "output_type": "stream",
     "text": [
      "b'<!doctype html><html lang=en-us prefix=\"og: http://ogp.me/ns#\"><meta charset=utf-8><meta name=viewport content=\"width=device-width,initial-scale=1,maximum-scale=1\"><meta property=\"og:description\" name=description content=\"A Computer Science portal for geeks. It contains well written, well thought and well explained computer science and programming articles, quizzes and practice/competitive programming/company interview Questions.\"><meta property=\"og:url\" content=\"https://www.geeksforgeeks.org/\"><link rel=\"shortcut icon\" href=https://media.geeksforgeeks.org/wp-content/cdn-uploads/gfg_favicon.png type=image/x-icon><meta name=theme-color content=\"#308D46\"><meta name=image property=\"og:image\" content=\"https://media.geeksforgeeks.org/wp-content/cdn-uploads/gfg_200x200-min.png\"><meta property=\"og:image:type\" content=\"image/png\"><meta property=\"og:image:width\" content=\"200\"><meta property=\"og:image:height\" content=\"200\"><script defer src=https://apis.google.com/js/platform.js></script><script async src=//cdnjs.cloudflare.com/ajax/libs/require.js/2.1.14/require.min.js></script><script async src=\"//translate.google.com/translate_a/element.js?cb=googleTranslateElementInit\"></script><link rel=stylesheet href=https://use.typekit.net/mrg0hpc.css><title>GeeksforGeeks | A computer science portal for geeks</title><link rel=profile href=http://gmpg.org/xfn/11><link rel=pingback href><script type=application/ld+json>\\r\\n    {\\r\\n        \"@context\" : \"http://schema.org\",\\r\\n        \"@type\" : \"Organization\",\\r\\n        \"name\" : \"GeeksforGeeks\",\\r\\n        \"url\" : \"https://www.geeksforgeeks.org/\",\\r\\n        \"logo\" : \"https://media.geeksforgeeks.org/wp-content/cdn-uploads/20200817185016/gfg_complete_logo_2x-min.png\",\\r\\n        \"description\" : \"A computer science portal for geeks. It contains well written, well thought and well explained computer science and programming articles, quizzes and practice/competitive programming/company interview Questions.\",\\r\\n        \"founder\": [\\r\\n            {\\r\\n                \"@type\" : \"Person\",\\r\\n                \"name\" : \"Sandeep Jain\",\\r\\n                \"url\" : \"https://in.linkedin.com/in/sandeep-jain-b3940815\"\\r\\n            }\\r\\n        ],\\r\\n        \"sameAs\" : [ \"https://www.facebook.com/geeksforgeeks.org/\",\\r\\n            \"https://twitter.com/geeksforgeeks\",\\r\\n            \"https://www.linkedin.com/company/1299009\",\\r\\n            \"https://www.youtube.com/geeksforgeeksvideos/\"\\r\\n        ]\\r\\n    }\\r\\n</script><script>\\r\\n\\r\\n    var arrPostCat = new Array();\\r\\n            arrPostCat.push(\\'1710\\');\\r\\n        var tIds = \"1710\";\\r\\n    var domain = 1;\\r\\n    var arrPost = new Array();\\r\\n    var post_id = \"0\";\\r\\n    var post_type = \"post\";\\r\\n    var post_slug = window.location.href;\\r\\n    var ip = \"35.83.254.112\";\\r\\n    var post_title = \"Blogathon 2021 &#8211; Write From Home Contest By GeeksforGeeks\";\\r\\n    var post_status = \"publish\";\\r\\n    var post_date = \"2021-08-23 11:41:12\";\\r\\n                            var isAdminLoggedIn = 0;\\r\\n        </script><meta property=\"og:locale\" content=\"en_US\"><meta property=\"og:type\" content=\"website\"><meta property=\"og:title\" content=\"GeeksforGeeks | A computer science portal for geeks\"><meta property=\"og:site_name\" content=\"GeeksforGeeks\"><script type=application/ld+json>{\"@context\":\"https:\\\\/\\\\/schema.org\",\"@type\":\"Organization\",\"url\":\"https:\\\\/\\\\/www.geeksforgeeks.org\\\\/\",\"sameAs\":[],\"@id\":\"https:\\\\/\\\\/www.geeksforgeeks.org\\\\/#organization\",\"name\":\"GeeksforGeeks\",\"logo\":\"http:\\\\/\\\\/www.geeksforgeeks.org\\\\/wp-content\\\\/uploads\\\\/gfg_200X200-1.png\"}</script><link rel=dns-prefetch href=//www.geeksforgeeks.org><link rel=dns-prefetch href=//s.w.org><link rel=alternate type=application/rss+xml title=\"GeeksforGeeks &#187; Feed\" href=https://www.geeksforgeeks.org/feed/><link rel=alternate type=application/rss+xml title=\"GeeksforGeeks &#187; Comments Feed\" href=https://www.geeksforgeeks.org/comments/feed/><script>\\n\\t\\t\\twindow._wpemojiSettings = {\"baseUrl\":\"https:\\\\/\\\\/s.w.org\\\\/images\\\\/core\\\\/emoji\\\\/11\\\\/72x72\\\\/\",\"ext\":\".png\",\"svgUrl\":\"https:\\\\/\\\\/s.w.org\\\\/images\\\\/core\\\\/emoji\\\\/11\\\\/svg\\\\/\",\"svgExt\":\".svg\",\"source\":{\"concatemoji\":\"https:\\\\/\\\\/www.geeksforgeeks.org\\\\/wp-includes\\\\/js\\\\/wp-emoji-release.min.js?ver=4.9.8\"}};\\n\\t\\t\\t!function(a,b,c){function d(a,b){var c=String.fromCharCode;l.clearRect(0,0,k.width,k.height),l.fillText(c.apply(this,a),0,0);var d=k.toDataURL();l.clearRect(0,0,k.width,k.height),l.fillText(c.apply(this,b),0,0);var e=k.toDataURL();return d===e}function e(a){var b;if(!l||!l.fillText)return!1;switch(l.textBaseline=\"top\",l.font=\"600 32px Arial\",a){case\"flag\":return!(b=d([55356,56826,55356,56819],[55356,56826,8203,55356,56819]))&&(b=d([55356,57332,56128,56423,56128,56418,56128,56421,56128,56430,56128,56423,56128,56447],[55356,57332,8203,56128,56423,8203,56128,56418,8203,56128,56421,8203,56128,56430,8203,56128,56423,8203,56128,56447]),!b);case\"emoji\":return b=d([55358,56760,9792,65039],[55358,56760,8203,9792,65039]),!b}return!1}function f(a){var c=b.createElement(\"script\");c.src=a,c.defer=c.type=\"text/javascript\",b.getElementsByTagName(\"head\")[0].appendChild(c)}var g,h,i,j,k=b.createElement(\"canvas\"),l=k.getContext&&k.getContext(\"2d\");for(j=Array(\"flag\",\"emoji\"),c.supports={everything:!0,everythingExceptFlag:!0},i=0;i<j.length;i++)c.supports[j[i]]=e(j[i]),c.supports.everything=c.supports.everything&&c.supports[j[i]],\"flag\"!==j[i]&&(c.supports.everythingExceptFlag=c.supports.everythingExceptFlag&&c.supports[j[i]]);c.supports.everythingExceptFlag=c.supports.everythingExceptFlag&&!c.supports.flag,c.DOMReady=!1,c.readyCallback=function(){c.DOMReady=!0},c.supports.everything||(h=function(){c.readyCallback()},b.addEventListener?(b.addEventListener(\"DOMContentLoaded\",h,!1),a.addEventListener(\"load\",h,!1)):(a.attachEvent(\"onload\",h),b.attachEvent(\"onreadystatechange\",function(){\"complete\"===b.readyState&&c.readyCallback()})),g=c.source||{},g.concatemoji?f(g.concatemoji):g.wpemoji&&g.twemoji&&(f(g.twemoji),f(g.wpemoji)))}(window,document,window._wpemojiSettings);\\n\\t\\t</script><style>img.wp-smiley,img.emoji{display:inline!important;border:none!important;box-shadow:none!important;height:1em!important;width:1em!important;margin:0 .07em!important;vertical-align:-.1em!important;background:0 0!important;padding:0!important}</style><link rel=stylesheet id=custom-style-css href=\"https://www.geeksforgeeks.org/wp-content/themes/iconic-one/css/gfg.min.css?ver=8.56\" media=all><script src=\"https://code.jquery.com/jquery-3.1.1.min.js?ver=3.1.1\"></script><script src=\"https://code.jquery.com/jquery-migrate-3.0.0.min.js?ver=3.0.0\"></script><script>\\n/* <![CDATA[ */\\nvar gfgObject = {\"authUrl\":\"https:\\\\/\\\\/auth.geeksforgeeks.org\\\\/\",\"writeApiUrl\":\"https:\\\\/\\\\/apiwrite.geeksforgeeks.org\\\\/\",\"writeUrl\":\"https:\\\\/\\\\/write.geeksforgeeks.org\\\\/\",\"utilUrl\":\"https:\\\\/\\\\/util.geeksforgeeks.org\\\\/\",\"apiUrl\":\"https:\\\\/\\\\/api.geeksforgeeks.org\\\\/\"};\\n/* ]]> */\\n</script><script async src=\"https://www.geeksforgeeks.org/wp-content/themes/iconic-one/js/gfg.min.js?ver=10.76\"></script><link rel=https://api.w.org/ href=https://www.geeksforgeeks.org/wp-json/><link rel=edituri type=application/rsd+xml title=RSD href=https://www.cdn.geeksforgeeks.org/xmlrpc.php?rsd><link rel=wlwmanifest type=application/wlwmanifest+xml href=https://www.cdn.geeksforgeeks.org/wp-includes/wlwmanifest.xml><meta name=generator content=\"WordPress 4.9.8\"><style>#wpadminbar{background:red!important}</style><style id=custom-background-css>body.custom-background{background-color:#fff}</style><link rel=icon href=https://www.geeksforgeeks.org/wp-content/uploads/gfg_200X200-100x100.png sizes=32x32><link rel=icon href=https://www.geeksforgeeks.org/wp-content/uploads/gfg_200X200.png sizes=192x192><link rel=apple-touch-icon-precomposed href=https://www.geeksforgeeks.org/wp-content/uploads/gfg_200X200.png><meta name=msapplication-TileImage content=\"https://www.geeksforgeeks.org/wp-content/uploads/gfg_200X200.png\"><style>@media(max-width:1043px) and (min-width:992px){.hide-1043992{display:none!important}}</style><script async src=\"https://www.googletagmanager.com/gtag/js?id=AW-474915276\"></script><script>\\r\\n  window.dataLayer = window.dataLayer || [];\\r\\n  function gtag(){dataLayer.push(arguments);}\\r\\n  gtag(\\'js\\', new Date());\\r\\n  gtag(\\'config\\', \\'AW-474915276\\');\\r\\n</script><body class=\"blog custom-background custom-background-white\"><script>\\r\\n        // Dark mode script\\r\\n        const gfgThemeList = Object.freeze({\\r\\n            LIGHT: \"gfgThemeLight\",\\r\\n            DARK: \"gfgThemeDark\"\\r\\n        })\\r\\n        const getThemeFromCookie = () => {\\r\\n            let gfg_def_theme = \"\";\\r\\n            let cookies = document.cookie;\\r\\n            let cooks = cookies.split(\";\");\\r\\n        \\r\\n            for (let i = 0; i < cooks.length; i++) {\\r\\n                let icook = cooks[i].split(\"=\");\\r\\n                if (icook[0].trim() == \"gfg_theme\") {\\r\\n                    gfg_def_theme = icook[1].trim();\\r\\n                }\\r\\n            }\\r\\n            return gfg_def_theme\\r\\n        }\\r\\n        const toggleNineDotMenuImages = theme => {\\r\\n            jQuery(\".nineDot-menu_left .nineDot-menu_item\").each((e, element) => {\\r\\n                let item = jQuery(element).find(\"img\")\\r\\n                let imageSrc = item.attr(\"src\")\\r\\n                let [mainImg, extractImage] = /(.*)\\\\.svg/g.exec(imageSrc)\\r\\n                if (!mainImg.includes(\"%40dark\") && theme === gfgThemeList.DARK) {\\r\\n                    mainImg = `${extractImage}%40dark.svg`;\\r\\n                }\\r\\n                else if(mainImg.includes(\"%40dark\") && theme === gfgThemeList.LIGHT) {\\r\\n                    mainImg = `${extractImage.substr(0, extractImage.length - 7)}.svg`;\\r\\n                }\\r\\n                item.attr(\"src\", mainImg)\\r\\n            })\\r\\n        }\\r\\n\\r\\n        var isDarkMode = getThemeFromCookie() == gfgThemeList.DARK ? true : false;\\r\\n        document.querySelector(\"body\").setAttribute(\"data-dark-mode\", isDarkMode);\\r\\n    </script><div class=header-main__wrapper><a class=gfg-stc style=top:0 href=#main>Skip to content</a>\\n<a href=https://www.geeksforgeeks.org/ aria-label=Logo class=header-main__logo><div class=_logo><svg xmlns=\"http://www.w3.org/2000/svg\" width=\"76.533\" height=\"39.026\" viewBox=\"0 0 76.533 39.026\"><path d=\"M2380.7 6597.866a12.252 12.252.0 00-.261-1.513l-30.726-.027a12.545 12.545.0 01.908-3.443 12.337 12.337.0 012.739-4.044 12.151 12.151.0 014.018-2.581 12.634 12.634.0 0114.3 3.051l4.852-4.748a18.176 18.176.0 00-6.131-4.331 20.037 20.037.0 00-8.112-1.564 20.25 20.25.0 00-7.671 1.459 19.158 19.158.0 00-6.261 4.07 19.584 19.584.0 00-4.226 6.184 18.7 18.7.0 00-1.487 5.947h-.2a18.674 18.674.0 00-1.489-5.947 19.544 19.544.0 00-4.226-6.184 19.133 19.133.0 00-6.261-4.07 21.354 21.354.0 00-15.783.1 18.2 18.2.0 00-6.131 4.331l4.853 4.748a13.264 13.264.0 0114.3-3.051 12.131 12.131.0 014.017 2.581 12.323 12.323.0 012.74 4.044 12.527 12.527.0 01.908 3.443l-30.726.027a12.256 12.256.0 00-.261 1.513 15 15 0 00-.1 1.773 20.713 20.713.0 001.1 6.783 15.709 15.709.0 003.443 5.686 17.309 17.309.0 006 4.123 20.587 20.587.0 007.983 1.46 20.226 20.226.0 007.669-1.46 19.086 19.086.0 006.261-4.07 19.506 19.506.0 004.226-6.184 18.163 18.163.0 001.153-3.629h.871a18.27 18.27.0 001.151 3.629 19.545 19.545.0 004.226 6.184 19.111 19.111.0 006.261 4.07 20.241 20.241.0 007.671 1.46 20.572 20.572.0 007.981-1.46 17.282 17.282.0 006-4.123 15.717 15.717.0 003.445-5.686 20.726 20.726.0 001.1-6.783A15.259 15.259.0 002380.7 6597.866zm-46.245 5.608a12.1 12.1.0 01-2.766 4.043 12.467 12.467.0 01-4.043 2.583 14.378 14.378.0 01-9.939.052 11.776 11.776.0 01-3.522-2.218 8.459 8.459.0 01-1.8-2.374 13.476 13.476.0 01-1.173-3.208h23.658A11.487 11.487.0 012334.457 6603.475zm38.236 2.086a8.466 8.466.0 01-1.8 2.374 11.771 11.771.0 01-3.522 2.218 14.378 14.378.0 01-9.939-.052 12.491 12.491.0 01-4.044-2.583 12.088 12.088.0 01-2.765-4.043 11.427 11.427.0 01-.415-1.126h11.92v0h11.739A13.509 13.509.0 012372.692 6605.561z\" transform=\"translate(-2304.273 -6578.666)\" fill=\"#2f8d46\"/></svg><svg xmlns=\"http://www.w3.org/2000/svg\" width=\"155\" height=\"21.281\" viewBox=\"0 0 205.805 21.281\"><g id=\"Group_156\" data-name=\"Group 156\" transform=\"translate(26.144 4.527)\"><line id=\"Line_1\" data-name=\"Line 1\" x1=\"1.046\" fill=\"#0f2b3c\"/></g><g id=\"Group_157\" data-name=\"Group 157\" transform=\"translate(56.695 0.004)\"><path id=\"Path_243\" data-name=\"Path 243\" d=\"M1352.9 615.759l-6.714-6.771v6.771h-3.09V594.521h3.09v12.53l6.084-6.056h3.909l-6.988 6.988 7.67 7.782z\" transform=\"translate(-1343.095 -594.521)\" fill=\"#0f2b3c\"/></g><g id=\"Group_158\" data-name=\"Group 158\" transform=\"translate(113.247 6.427)\"><path id=\"Path_244\" data-name=\"Path 244\" d=\"M1504.614 627.712V612.948h3.09v2.558a3.7 3.7.0 011.447-1.91 3.9 3.9.0 012.262-.73 5.447 5.447.0 011.208.112l-.7 3a2.449 2.449.0 00-.842-.082 3.044 3.044.0 00-2.388 1.138 4.676 4.676.0 00-.983 3.16v7.515z\" transform=\"translate(-1504.614 -612.865)\" fill=\"#0f2b3c\"/></g><g id=\"Group_159\" data-name=\"Group 159\" transform=\"translate(70.943 6.509)\"><path id=\"Path_245\" data-name=\"Path 245\" d=\"M1385.943 626.817a5.668 5.668.0 01-2.152-2.683l2.669-1.171a3.743 3.743.0 001.376 1.662 3.657 3.657.0 002.029.572 4.049 4.049.0 001.879-.395 1.266 1.266.0 00.763-1.185 1.367 1.367.0 00-.654-1.2 6.492 6.492.0 00-2.016-.763l-1.662-.409a5.974 5.974.0 01-2.752-1.444 3.452 3.452.0 01-1.089-2.615 3.4 3.4.0 01.722-2.152 4.647 4.647.0 011.948-1.43 6.957 6.957.0 012.67-.5 7.191 7.191.0 013.405.776 4.6 4.6.0 012.125 2.247l-2.615 1.144a2.925 2.925.0 00-2.888-1.608 3.231 3.231.0 00-1.689.409 1.213 1.213.0 00-.681 1.063 1.226 1.226.0 00.518 1.021 4.442 4.442.0 001.526.667l2.043.518a6.573 6.573.0 013.092 1.566 3.5 3.5.0 011.049 2.575 3.72 3.72.0 01-.749 2.3 4.829 4.829.0 01-2.057 1.539 7.44 7.44.0 01-2.887.545A6.781 6.781.0 011385.943 626.817z\" transform=\"translate(-1383.791 -613.101)\" fill=\"#0f2b3c\"/></g><g id=\"Group_160\" data-name=\"Group 160\" transform=\"translate(96.285 6.525)\"><path id=\"Path_246\" data-name=\"Path 246\" d=\"M1463.543 613.146a7.374 7.374.0 107.374 7.374A7.374 7.374.0 001463.543 613.146zm0 11.532a4.228 4.228.0 114.228-4.228A4.228 4.228.0 011463.543 624.678z\" transform=\"translate(-1456.169 -613.146)\" fill=\"#0f2b3c\"/></g><g id=\"Group_161\" data-name=\"Group 161\" transform=\"translate(23.011 6.524)\"><path id=\"Path_247\" data-name=\"Path 247\" d=\"M1261.615 621.145c.017-.232.027-.466.024-.7a7.292 7.292.0 00-.212-1.685 7.375 7.375.0 00-14.537 1.84c0 .236.017.47.04.7a7.263 7.263.0 00.673 2.382 7.374 7.374.0 0013.389-.141l-3.267.034a4.617 4.617.0 01-8.014-2.3zm-11.664-2.266a4.614 4.614.0 018.592-.09z\" transform=\"translate(-1246.891 -613.144)\" fill=\"#0f2b3c\"/></g><g id=\"Group_162\" data-name=\"Group 162\" transform=\"translate(39.461 6.524)\"><path id=\"Path_248\" data-name=\"Path 248\" d=\"M1308.6 621.145c.017-.232.027-.466.025-.7a7.375 7.375.0 10-14.749.155c0 .236.017.47.04.7a7.257 7.257.0 00.672 2.382 7.375 7.375.0 0013.39-.141l-3.268.034a4.616 4.616.0 01-8.014-2.3zm-11.663-2.266a4.614 4.614.0 018.592-.09z\" transform=\"translate(-1293.873 -613.144)\" fill=\"#0f2b3c\"/></g><g id=\"Group_163\" data-name=\"Group 163\" transform=\"translate(85.044 0.245)\"><path id=\"Path_249\" data-name=\"Path 249\" d=\"M1430.636 598.566a2.5 2.5.0 011.8-.549 4.2 4.2.0 011.657.281v-2.752a7.24 7.24.0 00-2.3-.337 4.82 4.82.0 00-3.455 1.278 4.666 4.666.0 00-1.349 3.554v1.417h-2.922v2.752h2.922v12.036h3.091V604.209h4.016v-2.752h-4.016V600.4A2.5 2.5.0 011430.636 598.566z\" transform=\"translate(-1424.063 -595.209)\" fill=\"#0f2b3c\"/></g><g id=\"Group_164\" data-name=\"Group 164\" transform=\"translate(0)\"><path id=\"Path_250\" data-name=\"Path 250\" d=\"M1202.443 605.147a10.637 10.637.0 11-2.72-7.1l-1.983 1.982a7.837 7.837.0 101.656 7.09h-6.883v-2.851h9.895Q1202.443 604.7 1202.443 605.147z\" transform=\"translate(-1181.169 -594.51)\" fill=\"#0f2b3c\"/></g><g id=\"Group_165\" data-name=\"Group 165\" transform=\"translate(179.788 0.004)\"><path id=\"Path_251\" data-name=\"Path 251\" d=\"M1704.467 615.759l-6.714-6.771v6.771h-3.09V594.521h3.09v12.53l6.084-6.056h3.909l-6.988 6.988 7.669 7.782z\" transform=\"translate(-1694.663 -594.521)\" fill=\"#0f2b3c\"/></g><g id=\"Group_166\" data-name=\"Group 166\" transform=\"translate(194.036 6.509)\"><path id=\"Path_252\" data-name=\"Path 252\" d=\"M1737.51 626.817a5.667 5.667.0 01-2.152-2.683l2.67-1.171a3.742 3.742.0 001.375 1.662 3.658 3.658.0 002.03.572 4.051 4.051.0 001.88-.395 1.267 1.267.0 00.763-1.185 1.367 1.367.0 00-.654-1.2 6.492 6.492.0 00-2.016-.763l-1.662-.409a5.974 5.974.0 01-2.751-1.444 3.451 3.451.0 01-1.09-2.615 3.4 3.4.0 01.722-2.152 4.651 4.651.0 011.948-1.43 6.96 6.96.0 012.67-.5 7.191 7.191.0 013.405.776 4.6 4.6.0 012.125 2.247l-2.615 1.144a2.926 2.926.0 00-2.888-1.608 3.232 3.232.0 00-1.689.409 1.214 1.214.0 00-.681 1.063 1.227 1.227.0 00.518 1.021 4.443 4.443.0 001.526.667l2.043.518a6.576 6.576.0 013.092 1.566 3.5 3.5.0 011.049 2.575 3.719 3.719.0 01-.749 2.3 4.833 4.833.0 01-2.057 1.539 7.44 7.44.0 01-2.888.545A6.781 6.781.0 011737.51 626.817z\" transform=\"translate(-1735.358 -613.101)\" fill=\"#0f2b3c\"/></g><g id=\"Group_167\" data-name=\"Group 167\" transform=\"translate(146.104 6.524)\"><path id=\"Path_253\" data-name=\"Path 253\" d=\"M1613.182 621.145c.017-.232.027-.466.025-.7a7.375 7.375.0 10-14.749.155c0 .236.017.47.04.7a7.254 7.254.0 00.673 2.382 7.375 7.375.0 0013.389-.141l-3.268.034a4.616 4.616.0 01-8.014-2.3zm-11.663-2.266a4.615 4.615.0 018.592-.09z\" transform=\"translate(-1598.458 -613.144)\" fill=\"#0f2b3c\"/></g><g id=\"Group_168\" data-name=\"Group 168\" transform=\"translate(162.554 6.524)\"><path id=\"Path_254\" data-name=\"Path 254\" d=\"M1660.165 621.145c.017-.232.027-.466.024-.7a7.375 7.375.0 10-14.749.155c0 .236.017.47.04.7a7.266 7.266.0 00.673 2.382 7.375 7.375.0 0013.389-.141l-3.268.034a4.616 4.616.0 01-8.014-2.3zm-11.663-2.266a4.614 4.614.0 018.592-.09z\" transform=\"translate(-1645.44 -613.144)\" fill=\"#0f2b3c\"/></g><g id=\"Group_169\" data-name=\"Group 169\" transform=\"translate(123.093)\"><path id=\"Path_255\" data-name=\"Path 255\" d=\"M1554.01 605.147a10.636 10.636.0 11-2.72-7.1l-1.983 1.982a7.837 7.837.0 101.656 7.09h-6.884v-2.851h9.895Q1554.01 604.7 1554.01 605.147z\" transform=\"translate(-1532.736 -594.51)\" fill=\"#0f2b3c\"/></g></svg></div></a><div class=header-main__container><span class=hamburger-menu><span class=gfg-burger-1></span><span class=gfg-burger-2></span><span class=gfg-burger-3></span></span><ul class=header-main__list><li class=header-main__list-item data-parent=false aria-expanded=true data-expandable=true><span>Tutorials</span><i class=\"gfg-icon gfg-icon_arrow-down gfg-icon_header\"></i><ul class=mega-dropdown><li class=mega-dropdown__list-item data-parent=true aria-expanded=true data-expandable=true><span>Practice DS & Algo.</span><i class=\"gfg-icon gfg-icon_arrow-right\"></i><ul class=mega-dropdown><li class=mega-dropdown__list-item data-child=true aria-expanded=false data-expandable=false><a href=https://practice.geeksforgeeks.org/topic-tags/ target=_self>DSA Topic-wise</a><li class=mega-dropdown__list-item data-child=true aria-expanded=false data-expandable=false><a href=https://practice.geeksforgeeks.org/company-tags target=_self>DSA Company-wise</a></ul><li class=mega-dropdown__list-item data-parent=true aria-expanded=true data-expandable=true><span>Algorithms</span><i class=\"gfg-icon gfg-icon_arrow-right\"></i><ul class=mega-dropdown><li class=mega-dropdown__list-item data-parent=true aria-expanded=true data-expandable=true><span>Analysis of Algorithms</span><i class=\"gfg-icon gfg-icon_arrow-right\"></i><ul class=mega-dropdown><li class=mega-dropdown__list-item data-child=true aria-expanded=false data-expandable=false><a href=\"https://www.geeksforgeeks.org/analysis-of-algorithms-set-1-asymptotic-analysis/?ref=ghm\" target=_self>Asymptotic Analysis</a><li class=mega-dropdown__list-item data-child=true aria-expanded=false data-expandable=false><a href=\"https://www.geeksforgeeks.org/analysis-of-algorithms-set-2-asymptotic-analysis/?ref=ghm\" target=_self>Worst, Average and Best Cases</a><li class=mega-dropdown__list-item data-child=true aria-expanded=false data-expandable=false><a href=\"https://www.geeksforgeeks.org/analysis-of-algorithms-set-3asymptotic-notations/?ref=ghm\" target=_self>Asymptotic Notations</a><li class=mega-dropdown__list-item data-child=true aria-expanded=false data-expandable=false><a href=\"https://www.geeksforgeeks.org/analysis-of-algorithems-little-o-and-little-omega-notations/?ref=ghm\" target=_self>Little o and little omega notations</a><li class=mega-dropdown__list-item data-child=true aria-expanded=false data-expandable=false><a href=\"https://www.geeksforgeeks.org/lower-and-upper-bound-theory/?ref=ghm\" target=_self>Lower and Upper Bound Theory</a><li class=mega-dropdown__list-item data-child=true aria-expanded=false data-expandable=false><a href=\"https://www.geeksforgeeks.org/analysis-of-algorithms-set-4-analysis-of-loops/?ref=ghm\" target=_self>Analysis of Loops</a><li class=mega-dropdown__list-item data-child=true aria-expanded=false data-expandable=false><a href=\"https://www.geeksforgeeks.org/analysis-algorithm-set-4-master-method-solving-recurrences/?ref=ghm\" target=_self>Solving Recurrences</a><li class=mega-dropdown__list-item data-child=true aria-expanded=false data-expandable=false><a href=\"https://www.geeksforgeeks.org/analysis-algorithm-set-5-amortized-analysis-introduction/?ref=ghm\" target=_self>Amortized Analysis</a><li class=mega-dropdown__list-item data-child=true aria-expanded=false data-expandable=false><a href=\"https://www.geeksforgeeks.org/g-fact-86/?ref=ghm\" target=_self>What does \\'Space Complexity\\' mean ?</a><li class=mega-dropdown__list-item data-child=true aria-expanded=false data-expandable=false><a href=\"https://www.geeksforgeeks.org/pseudo-polynomial-in-algorithms/?ref=ghm\" target=_self>Pseudo-polynomial Algorithms</a><li class=mega-dropdown__list-item data-child=true aria-expanded=false data-expandable=false><a href=\"https://www.geeksforgeeks.org/polynomial-time-approximation-scheme/?ref=ghm\" target=_self>Polynomial Time Approximation Scheme</a><li class=mega-dropdown__list-item data-child=true aria-expanded=false data-expandable=false><a href=\"https://www.geeksforgeeks.org/a-time-complexity-question/?ref=ghm\" target=_self>A Time Complexity Question</a></ul><li class=mega-dropdown__list-item data-child=true aria-expanded=false data-expandable=false><a href=\"https://www.geeksforgeeks.org/searching-algorithms/?ref=ghm\" target=_self>Searching Algorithms</a><li class=mega-dropdown__list-item data-child=true aria-expanded=false data-expandable=false><a href=\"https://www.geeksforgeeks.org/sorting-algorithms/?ref=ghm\" target=_self>Sorting Algorithms</a><li class=mega-dropdown__list-item data-child=true aria-expanded=false data-expandable=false><a href=\"https://www.geeksforgeeks.org/graph-data-structure-and-algorithms/?ref=ghm\" target=_self>Graph Algorithms</a><li class=mega-dropdown__list-item data-child=true aria-expanded=false data-expandable=false><a href=\"https://www.geeksforgeeks.org/algorithms-gq/pattern-searching/?ref=ghm\" target=_self>Pattern Searching</a><li class=mega-dropdown__list-item data-child=true aria-expanded=false data-expandable=false><a href=\"https://www.geeksforgeeks.org/geometric-algorithms/?ref=ghm\" target=_self>Geometric Algorithms</a><li class=mega-dropdown__list-item data-child=true aria-expanded=false data-expandable=false><a href=\"https://www.geeksforgeeks.org/mathematical-algorithms/?ref=ghm\" target=_self>Mathematical</a><li class=mega-dropdown__list-item data-child=true aria-expanded=false data-expandable=false><a href=\"https://www.geeksforgeeks.org/bitwise-algorithms/?ref=ghm\" target=_self>Bitwise Algorithms</a><li class=mega-dropdown__list-item data-child=true aria-expanded=false data-expandable=false><a href=\"https://www.geeksforgeeks.org/randomized-algorithms/?ref=ghm\" target=_self>Randomized Algorithms</a><li class=mega-dropdown__list-item data-child=true aria-expanded=false data-expandable=false><a href=\"https://www.geeksforgeeks.org/greedy-algorithms/?ref=ghm\" target=_self>Greedy Algorithms</a><li class=mega-dropdown__list-item data-child=true aria-expanded=false data-expandable=false><a href=\"https://www.geeksforgeeks.org/dynamic-programming/?ref=ghm\" target=_self>Dynamic Programming</a><li class=mega-dropdown__list-item data-child=true aria-expanded=false data-expandable=false><a href=\"https://www.geeksforgeeks.org/divide-and-conquer/?ref=ghm\" target=_self>Divide and Conquer</a><li class=mega-dropdown__list-item data-child=true aria-expanded=false data-expandable=false><a href=\"https://www.geeksforgeeks.org/backtracking-algorithms/?ref=ghm\" target=_self>Backtracking</a><li class=mega-dropdown__list-item data-child=true aria-expanded=false data-expandable=false><a href=\"https://www.geeksforgeeks.org/branch-and-bound-algorithm/?ref=ghm\" target=_self>Branch and Bound</a><li class=mega-dropdown__list-item data-child=true aria-expanded=false data-expandable=false><a href=\"https://www.geeksforgeeks.org/fundamentals-of-algorithms/?ref=ghm\" target=_self>All Algorithms</a></ul><li class=mega-dropdown__list-item data-parent=true aria-expanded=true data-expandable=true><span>Data Structures</span><i class=\"gfg-icon gfg-icon_arrow-right\"></i><ul class=mega-dropdown><li class=mega-dropdown__list-item data-child=true aria-expanded=false data-expandable=false><a href=\"https://www.geeksforgeeks.org/array-data-structure/?ref=ghm\" target=_self>Arrays</a><li class=mega-dropdown__list-item data-child=true aria-expanded=false data-expandable=false><a href=\"https://www.geeksforgeeks.org/data-structures/linked-list/?ref=ghm\" target=_self>Linked List</a><li class=mega-dropdown__list-item data-child=true aria-expanded=false data-expandable=false><a href=\"https://www.geeksforgeeks.org/stack-data-structure/?ref=ghm\" target=_self>Stack</a><li class=mega-dropdown__list-item data-child=true aria-expanded=false data-expandable=false><a href=\"https://www.geeksforgeeks.org/queue-data-structure/?ref=ghm\" target=_self>Queue</a><li class=mega-dropdown__list-item data-child=true aria-expanded=false data-expandable=false><a href=\"https://www.geeksforgeeks.org/binary-tree-data-structure/?ref=ghm\" target=_self>Binary Tree</a><li class=mega-dropdown__list-item data-child=true aria-expanded=false data-expandable=false><a href=\"https://www.geeksforgeeks.org/binary-search-tree-data-structure/?ref=ghm\" target=_self>Binary Search Tree</a><li class=mega-dropdown__list-item data-child=true aria-expanded=false data-expandable=false><a href=\"https://www.geeksforgeeks.org/heap-data-structure/?ref=ghm\" target=_self>Heap</a><li class=mega-dropdown__list-item data-child=true aria-expanded=false data-expandable=false><a href=\"https://www.geeksforgeeks.org/hashing-data-structure/?ref=ghm\" target=_self>Hashing</a><li class=mega-dropdown__list-item data-child=true aria-expanded=false data-expandable=false><a href=\"https://www.geeksforgeeks.org/graph-data-structure-and-algorithms/?ref=ghm\" target=_self>Graph</a><li class=mega-dropdown__list-item data-child=true aria-expanded=false data-expandable=false><a href=\"https://www.geeksforgeeks.org/advanced-data-structures/?ref=ghm\" target=_self>Advanced Data Structure</a><li class=mega-dropdown__list-item data-child=true aria-expanded=false data-expandable=false><a href=\"https://www.geeksforgeeks.org/matrix/?ref=ghm\" target=_self>Matrix</a><li class=mega-dropdown__list-item data-child=true aria-expanded=false data-expandable=false><a href=\"https://www.geeksforgeeks.org/string-data-structure/?ref=ghm\" target=_self>Strings</a><li class=mega-dropdown__list-item data-child=true aria-expanded=false data-expandable=false><a href=\"https://www.geeksforgeeks.org/data-structures/?ref=ghm\" target=_self>All Data Structures</a></ul><li class=mega-dropdown__list-item data-parent=true aria-expanded=true data-expandable=true><span>Interview Corner</span><i class=\"gfg-icon gfg-icon_arrow-right\"></i><ul class=mega-dropdown><li class=mega-dropdown__list-item data-child=true aria-expanded=false data-expandable=false><a href=\"https://www.geeksforgeeks.org/company-preparation/?ref=ghm\" target=_self>Company Preparation</a><li class=mega-dropdown__list-item data-child=true aria-expanded=false data-expandable=false><a href=\"https://www.geeksforgeeks.org/interview-preparation-for-software-developer/?ref=ghm\" target=_self>Top Topics</a><li class=mega-dropdown__list-item data-child=true aria-expanded=false data-expandable=false><a href=\"https://practice.geeksforgeeks.org/company-tags/?ref=ghm\" target=_self>Practice Company Questions</a><li class=mega-dropdown__list-item data-child=true aria-expanded=false data-expandable=false><a href=\"https://www.geeksforgeeks.org/company-interview-corner/?ref=ghm\" target=_self>Interview Experiences</a><li class=mega-dropdown__list-item data-child=true aria-expanded=false data-expandable=false><a href=\"https://www.geeksforgeeks.org/experienced-interview-experiences-company-wise/?ref=ghm\" target=_self>Experienced Interviews</a><li class=mega-dropdown__list-item data-child=true aria-expanded=false data-expandable=false><a href=\"https://www.geeksforgeeks.org/internship-interview-experiences-company-wise/?ref=ghm\" target=_self>Internship Interviews</a><li class=mega-dropdown__list-item data-child=true aria-expanded=false data-expandable=false><a href=\"https://www.geeksforgeeks.org/competitive-programming-a-complete-guide/?ref=ghm\" target=_self>Competititve Programming</a><li class=mega-dropdown__list-item data-child=true aria-expanded=false data-expandable=false><a href=\"https://www.geeksforgeeks.org/software-design-patterns/?ref=ghm\" target=_self>Design Patterns</a><li class=mega-dropdown__list-item data-child=true aria-expanded=false data-expandable=false><a href=https://www.geeksforgeeks.org/system-design-tutorial/ target=_self>System Design Tutorial</a><li class=mega-dropdown__list-item data-child=true aria-expanded=false data-expandable=false><a href=\"https://www.geeksforgeeks.org/quiz-corner-gq/?ref=ghm\" target=_self>Multiple Choice Quizzes</a></ul><li class=mega-dropdown__list-item data-parent=true aria-expanded=true data-expandable=true><span>Languages</span><i class=\"gfg-icon gfg-icon_arrow-right\"></i><ul class=mega-dropdown><li class=mega-dropdown__list-item data-child=true aria-expanded=false data-expandable=false><a href=\"https://www.geeksforgeeks.org/c-programming-language/?ref=ghm\" target=_self>C</a><li class=mega-dropdown__list-item data-child=true aria-expanded=false data-expandable=false><a href=\"https://www.geeksforgeeks.org/c-plus-plus/?ref=ghm\" target=_self>C++</a><li class=mega-dropdown__list-item data-child=true aria-expanded=false data-expandable=false><a href=\"https://www.geeksforgeeks.org/java/?ref=ghm\" target=_self>Java</a><li class=mega-dropdown__list-item data-child=true aria-expanded=false data-expandable=false><a href=\"https://www.geeksforgeeks.org/python-programming-language/?ref=ghm\" target=_self>Python</a><li class=mega-dropdown__list-item data-child=true aria-expanded=false data-expandable=false><a href=\"https://www.geeksforgeeks.org/csharp-programming-language/?ref=ghm\" target=_self>C#</a><li class=mega-dropdown__list-item data-child=true aria-expanded=false data-expandable=false><a href=\"https://www.geeksforgeeks.org/javascript-tutorial/?ref=ghm\" target=_self>JavaScript</a><li class=mega-dropdown__list-item data-child=true aria-expanded=false data-expandable=false><a href=\"https://www.geeksforgeeks.org/jquery-tutorials/?ref=ghm\" target=_self>jQuery</a><li class=mega-dropdown__list-item data-child=true aria-expanded=false data-expandable=false><a href=\"https://www.geeksforgeeks.org/sql-tutorial/?ref=ghm\" target=_self>SQL</a><li class=mega-dropdown__list-item data-child=true aria-expanded=false data-expandable=false><a href=\"https://www.geeksforgeeks.org/php-tutorials/?ref=ghm\" target=_self>PHP</a><li class=mega-dropdown__list-item data-child=true aria-expanded=false data-expandable=false><a href=\"https://www.geeksforgeeks.org/scala-programming-language/?ref=ghm\" target=_self>Scala</a><li class=mega-dropdown__list-item data-child=true aria-expanded=false data-expandable=false><a href=\"https://www.geeksforgeeks.org/perl-programming-language/?ref=ghm\" target=_self>Perl</a><li class=mega-dropdown__list-item data-child=true aria-expanded=false data-expandable=false><a href=\"https://www.geeksforgeeks.org/golang/?ref=ghm\" target=_self>Go Language</a><li class=mega-dropdown__list-item data-child=true aria-expanded=false data-expandable=false><a href=\"https://www.geeksforgeeks.org/html-tutorials/?ref=ghm\" target=_self>HTML</a><li class=mega-dropdown__list-item data-child=true aria-expanded=false data-expandable=false><a href=\"https://www.geeksforgeeks.org/css-tutorials/?ref=ghm\" target=_self>CSS</a><li class=mega-dropdown__list-item data-child=true aria-expanded=false data-expandable=false><a href=\"https://www.geeksforgeeks.org/kotlin-programming-language/?ref=ghm\" target=_self>Kotlin</a></ul><li class=mega-dropdown__list-item data-parent=true aria-expanded=true data-expandable=true><span>CS Subjects</span><i class=\"gfg-icon gfg-icon_arrow-right\"></i><ul class=mega-dropdown><li class=mega-dropdown__list-item data-child=true aria-expanded=false data-expandable=false><a href=\"https://www.geeksforgeeks.org/engineering-mathematics-tutorials/?ref=ghm\" target=_self>Mathematics</a><li class=mega-dropdown__list-item data-child=true aria-expanded=false data-expandable=false><a href=\"https://www.geeksforgeeks.org/operating-systems/?ref=ghm\" target=_self>Operating System</a><li class=mega-dropdown__list-item data-child=true aria-expanded=false data-expandable=false><a href=\"https://www.geeksforgeeks.org/dbms/?ref=ghm\" target=_self>DBMS</a><li class=mega-dropdown__list-item data-child=true aria-expanded=false data-expandable=false><a href=\"https://www.geeksforgeeks.org/computer-network-tutorials/?ref=ghm\" target=_self>Computer Networks</a><li class=mega-dropdown__list-item data-child=true aria-expanded=false data-expandable=false><a href=\"https://www.geeksforgeeks.org/computer-organization-and-architecture-tutorials/?ref=ghm\" target=_self>Computer Organization and Architecture</a><li class=mega-dropdown__list-item data-child=true aria-expanded=false data-expandable=false><a href=\"https://www.geeksforgeeks.org/theory-of-computation-automata-tutorials/?ref=ghm\" target=_self>Theory of Computation</a><li class=mega-dropdown__list-item data-child=true aria-expanded=false data-expandable=false><a href=\"https://www.geeksforgeeks.org/compiler-design-tutorials/?ref=ghm\" target=_self>Compiler Design</a><li class=mega-dropdown__list-item data-child=true aria-expanded=false data-expandable=false><a href=\"https://www.geeksforgeeks.org/digital-electronics-logic-design-tutorials/#blg/?ref=ghm\" target=_self>Digital Logic</a><li class=mega-dropdown__list-item data-child=true aria-expanded=false data-expandable=false><a href=\"https://www.geeksforgeeks.org/software-engineering/?ref=ghm\" target=_self>Software Engineering</a></ul><li class=mega-dropdown__list-item data-parent=true aria-expanded=true data-expandable=true><span>GATE</span><i class=\"gfg-icon gfg-icon_arrow-right\"></i><ul class=mega-dropdown><li class=mega-dropdown__list-item data-child=true aria-expanded=false data-expandable=false><a href=\"https://www.geeksforgeeks.org/gate-cs-notes-gq/?ref=ghm\" target=_self>GATE Computer Science Notes</a><li class=mega-dropdown__list-item data-child=true aria-expanded=false data-expandable=false><a href=\"https://www.geeksforgeeks.org/lmns-gq/?ref=ghm\" target=_self>Last Minute Notes</a><li class=mega-dropdown__list-item data-child=true aria-expanded=false data-expandable=false><a href=\"https://www.geeksforgeeks.org/gate-corner-2-gq/?ref=ghm\" target=_self>GATE CS Solved Papers</a><li class=mega-dropdown__list-item data-child=true aria-expanded=false data-expandable=false><a href=\"https://www.geeksforgeeks.org/original-gate-previous-year-question-papers-cse-and-it-gq/?ref=ghm\" target=_self>GATE CS Original Papers and Official Keys</a><li class=mega-dropdown__list-item data-child=true aria-expanded=false data-expandable=false><a href=\"https://www.geeksforgeeks.org/gate-cs-2021-official-important-dates/?ref=ghm\" target=_self>GATE 2021 Dates</a><li class=mega-dropdown__list-item data-child=true aria-expanded=false data-expandable=false><a href=\"https://www.geeksforgeeks.org/gate-cs-2021-revised-syllabus/?ref=ghm\" target=_self>GATE CS 2021 Syllabus</a><li class=mega-dropdown__list-item data-child=true aria-expanded=false data-expandable=false><a href=\"https://www.geeksforgeeks.org/important-topics-prepare-gate-2020-computer-science-paper/?ref=ghm\" target=_self>Important Topics for GATE CS</a></ul><li class=mega-dropdown__list-item data-parent=true aria-expanded=true data-expandable=true><span>Web Technologies</span><i class=\"gfg-icon gfg-icon_arrow-right\"></i><ul class=mega-dropdown><li class=mega-dropdown__list-item data-child=true aria-expanded=false data-expandable=false><a href=\"https://www.geeksforgeeks.org/html-tutorials/?ref=ghm\" target=_self>HTML</a><li class=mega-dropdown__list-item data-child=true aria-expanded=false data-expandable=false><a href=\"https://www.geeksforgeeks.org/css-tutorials/?ref=ghm\" target=_self>CSS</a><li class=mega-dropdown__list-item data-child=true aria-expanded=false data-expandable=false><a href=\"https://www.geeksforgeeks.org/javascript-tutorial/?ref=ghm\" target=_self>JavaScript</a><li class=mega-dropdown__list-item data-child=true aria-expanded=false data-expandable=false><a href=\"https://www.geeksforgeeks.org/angularjs-tutorials/?ref=ghm\" target=_self>AngularJS</a><li class=mega-dropdown__list-item data-child=true aria-expanded=false data-expandable=false><a href=\"https://www.geeksforgeeks.org/reactjs-tutorials/?ref=ghm\" target=_self>ReactJS</a><li class=mega-dropdown__list-item data-child=true aria-expanded=false data-expandable=false><a href=\"https://www.geeksforgeeks.org/nodejs-tutorials/?ref=ghm\" target=_self>NodeJS</a><li class=mega-dropdown__list-item data-child=true aria-expanded=false data-expandable=false><a href=\"https://www.geeksforgeeks.org/bootstrap-tutorials/?ref=ghm\" target=_self>Bootstrap</a><li class=mega-dropdown__list-item data-child=true aria-expanded=false data-expandable=false><a href=\"https://www.geeksforgeeks.org/jquery-tutorials/?ref=ghm\" target=_self>jQuery</a><li class=mega-dropdown__list-item data-child=true aria-expanded=false data-expandable=false><a href=\"https://www.geeksforgeeks.org/php-tutorials/?ref=ghm\" target=_self>PHP</a></ul><li class=mega-dropdown__list-item data-parent=true aria-expanded=true data-expandable=true><span>Software Designs</span><i class=\"gfg-icon gfg-icon_arrow-right\"></i><ul class=mega-dropdown><li class=mega-dropdown__list-item data-child=true aria-expanded=false data-expandable=false><a href=\"https://www.geeksforgeeks.org/software-design-patterns/?ref=ghm\" target=_self>Software Design Patterns</a><li class=mega-dropdown__list-item data-child=true aria-expanded=false data-expandable=false><a href=\"https://www.geeksforgeeks.org/system-design-tutorial/?ref=ghm\" target=_self>System Design Tutorial</a></ul><li class=mega-dropdown__list-item data-parent=true aria-expanded=true data-expandable=true><span>School Learning</span><i class=\"gfg-icon gfg-icon_arrow-right\"></i><ul class=mega-dropdown><li class=mega-dropdown__list-item data-child=true aria-expanded=false data-expandable=false><a href=\"https://www.geeksforgeeks.org/school-learning/?ref=ghm\" target=_self>School Programming</a><li class=mega-dropdown__list-item data-parent=true aria-expanded=true data-expandable=true><span>Mathematics</span><i class=\"gfg-icon gfg-icon_arrow-right\"></i><ul class=mega-dropdown><li class=mega-dropdown__list-item data-child=true aria-expanded=false data-expandable=false><a href=\"https://www.geeksforgeeks.org/algebra/?ref=ghm\" target=_self>Algebra</a><li class=mega-dropdown__list-item data-child=true aria-expanded=false data-expandable=false><a href=\"https://www.geeksforgeeks.org/trigonometry/?ref=ghm\" target=_self>Trigonometry</a><li class=mega-dropdown__list-item data-child=true aria-expanded=false data-expandable=false><a href=\"https://www.geeksforgeeks.org/statistics/?ref=ghm\" target=_self>Statistics</a><li class=mega-dropdown__list-item data-child=true aria-expanded=false data-expandable=false><a href=\"https://www.geeksforgeeks.org/probability-in-maths/?ref=ghm\" target=_self>Probability</a><li class=mega-dropdown__list-item data-child=true aria-expanded=false data-expandable=false><a href=\"https://www.geeksforgeeks.org/geometry/?ref=ghm\" target=_self>Geometry</a><li class=mega-dropdown__list-item data-child=true aria-expanded=false data-expandable=false><a href=\"https://www.geeksforgeeks.org/mensuration/?ref=ghm\" target=_self>Mensuration</a><li class=mega-dropdown__list-item data-child=true aria-expanded=false data-expandable=false><a href=\"https://www.geeksforgeeks.org/calculus/?ref=ghm\" target=_self>Calculus</a></ul><li class=mega-dropdown__list-item data-parent=true aria-expanded=true data-expandable=true><span>Maths Notes (Class 8-11)</span><i class=\"gfg-icon gfg-icon_arrow-right\"></i><ul class=mega-dropdown><li class=mega-dropdown__list-item data-child=true aria-expanded=false data-expandable=false><a href=\"https://www.geeksforgeeks.org/cbse-class-8-maths-notes/?ref=ghm\" target=_self>Class 8 Notes</a><li class=mega-dropdown__list-item data-child=true aria-expanded=false data-expandable=false><a href=\"https://www.geeksforgeeks.org/cbse-class-9-maths-notes/?ref=ghm\" target=_self>Class 9 Notes</a><li class=mega-dropdown__list-item data-child=true aria-expanded=false data-expandable=false><a href=\"https://www.geeksforgeeks.org/cbse-class-10-maths-notes/?ref=ghm\" target=_self>Class 10 Notes</a><li class=mega-dropdown__list-item data-child=true aria-expanded=false data-expandable=false><a href=\"https://www.geeksforgeeks.org/cbse-class-11-maths-notes/?ref=ghm\" target=_self>Class 11 Notes</a></ul><li class=mega-dropdown__list-item data-parent=true aria-expanded=true data-expandable=true><span>NCERT Solutions</span><i class=\"gfg-icon gfg-icon_arrow-right\"></i><ul class=mega-dropdown><li class=mega-dropdown__list-item data-child=true aria-expanded=false data-expandable=false><a href=\"https://www.geeksforgeeks.org/ncert-solutions-for-class-8-maths/?ref=ghm\" target=_self>Class 8 Maths Solution</a><li class=mega-dropdown__list-item data-child=true aria-expanded=false data-expandable=false><a href=\"https://www.geeksforgeeks.org/ncert-solutions-for-class-9-maths/?ref=ghm\" target=_self>Class 9 Maths Solution</a><li class=mega-dropdown__list-item data-child=true aria-expanded=false data-expandable=false><a href=\"https://www.geeksforgeeks.org/ncert-solutions-for-class-10-maths/?ref=ghm\" target=_self>Class 10 Maths Solution</a><li class=mega-dropdown__list-item data-child=true aria-expanded=false data-expandable=false><a href=\"https://www.geeksforgeeks.org/ncert-solutions-for-class-11-maths/?ref=ghm\" target=_self>Class 11 Maths Solution</a><li class=mega-dropdown__list-item data-child=true aria-expanded=false data-expandable=false><a href=\"https://www.geeksforgeeks.org/ncert-solutions-for-class-12-maths/?ref=ghm\" target=_self>Class 12 Maths Solution</a></ul><li class=mega-dropdown__list-item data-parent=true aria-expanded=true data-expandable=true><span>RD Sharma Solutions</span><i class=\"gfg-icon gfg-icon_arrow-right\"></i><ul class=mega-dropdown><li class=mega-dropdown__list-item data-child=true aria-expanded=false data-expandable=false><a href=\"https://www.geeksforgeeks.org/rd-sharma-class-8-solutions-for-maths/?ref=ghm\" target=_self>Class 8 Maths Solution</a><li class=mega-dropdown__list-item data-child=true aria-expanded=false data-expandable=false><a href=\"https://www.geeksforgeeks.org/tag/rd-sharma-class-9/?ref=ghm\" target=_self>Class 9 Maths Solution</a><li class=mega-dropdown__list-item data-child=true aria-expanded=false data-expandable=false><a href=\"https://www.geeksforgeeks.org/tag/rd-sharma-class-10/?ref=ghm\" target=_self>Class 10 Maths Solution</a><li class=mega-dropdown__list-item data-child=true aria-expanded=false data-expandable=false><a href=\"https://www.geeksforgeeks.org/tag/rd-sharma-class-11/?ref=ghm\" target=_self>Class 11 Maths Solution</a><li class=mega-dropdown__list-item data-child=true aria-expanded=false data-expandable=false><a href=\"https://www.geeksforgeeks.org/tag/rd-sharma-class-12/?ref=ghm\" target=_self>Class 12 Maths Solution</a></ul></ul><li class=mega-dropdown__list-item data-parent=true aria-expanded=true data-expandable=true><span>ISRO CS</span><i class=\"gfg-icon gfg-icon_arrow-right\"></i><ul class=mega-dropdown><li class=mega-dropdown__list-item data-child=true aria-expanded=false data-expandable=false><a href=\"https://www.geeksforgeeks.org/isro-cs-preparation/?ref=ghm\" target=_self>ISRO CS Solved Papers</a><li class=mega-dropdown__list-item data-child=true aria-expanded=false data-expandable=false><a href=\"https://www.geeksforgeeks.org/isro-original-papers-official-keys/?ref=ghm\" target=_self>ISRO CS Original Papers and Official Keys</a><li class=mega-dropdown__list-item data-child=true aria-expanded=false data-expandable=false><a href=\"https://www.geeksforgeeks.org/isro-cse-syllabus-scientistengineer-exam-2018/?ref=ghm\" target=_self>ISRO CS Syllabus for Scientist/Engineer Exam</a></ul><li class=mega-dropdown__list-item data-parent=true aria-expanded=true data-expandable=true><span>UGC NET CS</span><i class=\"gfg-icon gfg-icon_arrow-right\"></i><ul class=mega-dropdown><li class=mega-dropdown__list-item data-child=true aria-expanded=false data-expandable=false><a href=\"https://www.geeksforgeeks.org/ugc-net-cs-notes-according-to-syllabus-of-paper-ii/?ref=ghm\" target=_self>UGC NET CS Notes Paper II</a><li class=mega-dropdown__list-item data-child=true aria-expanded=false data-expandable=false><a href=\"https://www.geeksforgeeks.org/ugc-net-cs-notes-according-to-syllabus-of-paper-iii-core-group/?ref=ghm\" target=_self>UGC NET CS Notes Paper III</a><li class=mega-dropdown__list-item data-child=true aria-expanded=false data-expandable=false><a href=\"https://www.geeksforgeeks.org/ugc-net-cs-preparation/?ref=ghm\" target=_self>UGC NET CS Solved Papers</a></ul></ul><li class=header-main__list-item data-parent=true aria-expanded=true data-expandable=true><span>Student</span><i class=\"gfg-icon gfg-icon_arrow-down gfg-icon_header\"></i><ul class=mega-dropdown><li class=mega-dropdown__list-item data-child=true aria-expanded=false data-expandable=false><a href=\"https://www.geeksforgeeks.org/campus-ambassador-program-by-geeksforgeeks/?ref=ghm\" target=_self>Campus Ambassador Program</a><li class=mega-dropdown__list-item data-child=true aria-expanded=false data-expandable=false><a href=\"https://www.geeksforgeeks.org/school-ambassador/?ref=ghm\" target=_self>School Ambassador Program</a><li class=mega-dropdown__list-item data-child=true aria-expanded=false data-expandable=false><a href=\"https://www.geeksforgeeks.org/computer-science-projects/?ref=ghm\" target=_self>Project</a><li class=mega-dropdown__list-item data-child=true aria-expanded=false data-expandable=false><a href=\"https://www.geeksforgeeks.org/geek-of-the-month/?ref=ghm\" target=_self>Geek of the Month</a><li class=mega-dropdown__list-item data-child=true aria-expanded=false data-expandable=false><a href=\"https://www.geeksforgeeks.org/campus-geek-of-the-month/?ref=ghm\" target=_self>Campus Geek of the Month</a><li class=mega-dropdown__list-item data-child=true aria-expanded=false data-expandable=false><a href=\"https://www.geeksforgeeks.org/placements-gq/?ref=ghm\" target=_self>Placement Course</a><li class=mega-dropdown__list-item data-child=true aria-expanded=false data-expandable=false><a href=\"https://www.geeksforgeeks.org/competitive-programming-a-complete-guide/?ref=ghm\" target=_self>Competititve Programming</a><li class=mega-dropdown__list-item data-child=true aria-expanded=false data-expandable=false><a href=\"https://www.geeksforgeeks.org/testimonials/?ref=ghm\" target=_self>Testimonials</a><li class=mega-dropdown__list-item data-child=true aria-expanded=false data-expandable=false><a href=\"https://www.geeksforgeeks.org/category/geek-on-the-top/?ref=ghm\" target=_self>Geek on the Top</a><li class=mega-dropdown__list-item data-child=true aria-expanded=false data-expandable=false><a href=\"https://www.geeksforgeeks.org/careers/?ref=ghm\" target=_self>Careers</a><li class=mega-dropdown__list-item data-child=true aria-expanded=false data-expandable=false><a href=\"https://www.geeksforgeeks.org/internship/?ref=ghm\" target=_self>Internship</a></ul><li class=header-main__list-item data-parent=true aria-expanded=true data-expandable=true><span>Jobs</span><i class=\"gfg-icon gfg-icon_arrow-down gfg-icon_header\"></i><ul class=mega-dropdown><li class=mega-dropdown__list-item data-child=true aria-expanded=false data-expandable=false><a href=\"https://practice.geeksforgeeks.org/jobs/?ref=ghm\" target=_self>Apply for Jobs</a><li class=mega-dropdown__list-item data-child=true aria-expanded=false data-expandable=false><a href=\"https://www.geeksforgeeks.org/hire-with-us/?ref=ghm\" target=_self>Post a Job</a></ul><li class=header-main__list-item data-child=true aria-expanded=false data-expandable=false><a href=\"https://practice.geeksforgeeks.org/courses?ref=ghm\" class=remove-anchor__decoration target=_self>Courses</a></ul><ul class=header-main__left-list data-nl=false><li class=\"header-main__left-list-item gcse-search_li p-relative\" aria-expanded=false data-expandable=false><form id=gcse-form data-sm=false class=p-relative><input class=gcse-search-input__wrapper id=gcse-search-input aria-expanded=false>\\n<i class=\"gfg-icon gfg-icon_times gfg-icon_white hide-search\"></i>\\n<button class=\"gcse-search__btn not-expanded\">\\n<i class=\"gfg-icon gfg-icon_search gfg-icon_white gcse-search__icon\"></i></button></form><li class=\"header-main__left-list-item p-relative\" aria-expanded=false data-expandable=true><i class=\"gfg-icon gfg-icon_ndot cursor-p\" data-gfg-action=nineDot-menu></i><div class=nineDot-menu data-show=false><div class=nineDot-menu_container><div class=nineDot-menu_left><a href=\"https://write.geeksforgeeks.org/?ref=ndm\" class=nineDot-menu_item rel=\"noopener noreferrer\"><div class=img-wrapper><img src=https://media.geeksforgeeks.org/wp-content/cdn-uploads/write_ndi_20210312.svg alt=Write></div><div class=nineDot-menu_item-wrap><div class=head>Write</div><div class=text>Come write articles for us and get featured</div></div></a><a href=\"https://practice.geeksforgeeks.org/?ref=ndm\" class=nineDot-menu_item rel=\"noopener noreferrer\"><div class=img-wrapper><img src=https://media.geeksforgeeks.org/wp-content/cdn-uploads/practice_ndi_20210312.svg alt=Practice></div><div class=nineDot-menu_item-wrap><div class=head>Practice</div><div class=text>Learn and code with the best industry experts</div></div></a><a href=\"https://premium.geeksforgeeks.org/premium-plans/?ref=ndm\" class=nineDot-menu_item rel=\"noopener noreferrer\"><div class=img-wrapper><img src=https://media.geeksforgeeks.org/wp-content/cdn-uploads/premium_ndi_20210312.svg alt=Premium></div><div class=nineDot-menu_item-wrap><div class=head>Premium</div><div class=text>Get access to ad-free content, doubt assistance and more!</div></div></a><a href=\"https://practice.geeksforgeeks.org/jobs/?ref=ndm\" class=nineDot-menu_item rel=\"noopener noreferrer\"><div class=img-wrapper><img src=https://media.geeksforgeeks.org/wp-content/cdn-uploads/jobs_ndi_20210312.svg alt=Jobs></div><div class=nineDot-menu_item-wrap><div class=head>Jobs</div><div class=text>Come and find your dream job with us</div></div></a><script>\\r\\n                                    // Toggle Nine dot menu icons\\r\\n                                    toggleNineDotMenuImages(isDarkMode ? gfgThemeList.DARK : gfgThemeList.LIGHT)\\r\\n                                </script></div><div class=nineDot-menu_right><ul><li><a href=\"https://www.geeksforgeeks.org/geeks-digest/?ref=ndm\">Geeks Digest</a><li><a href=\"https://www.geeksforgeeks.org/quiz-corner-gq/?ref=ndm\">Quizzes</a><li><a href=\"https://practice.geeksforgeeks.org/geeks-campus/?ref=ndm\">Geeks Campus</a></ul><ul><li><a href=\"https://www.geeksforgeeks.org/category/guestblogs/?ref=ndm\">Gblog Articles</a><li><a href=\"https://ide.geeksforgeeks.org/?ref=ndm\">IDE</a><li><a href=\"https://www.geeksforgeeks.org/campus-ambassador-program-by-geeksforgeeks/?ref=ndm\">Campus Mantri</a></ul></div></div></div><li class=\"header-main__left-list-item google-translate-parent-element\" aria-expanded=false data-expanded=true><div class=translate id=g_translater><div id=google_translate_element data-show=false></div></div><i class=\"gfg-icon gfg-icon_translate googleTranslateToggle\" data-gfg-action=google_translate_element></i>\\n<script>\\r\\n                        var m = false;\\r\\n                        function googleTranslateElementInit() {\\r\\n                            new google.translate.TranslateElement({pageLanguage: \\'en\\'}, \\'google_translate_element\\');\\r\\n                            setTimeout(function(){\\r\\n                                if (jQuery( window ).width() < 768){\\r\\n                                    m = true;\\r\\n                                     jQuery(\\'#g_translater\\').detach().appendTo(\\'#google_translate_mobile\\');                            \\r\\n                                }\\r\\n                            }, 7000);\\r\\n                        }\\r\\n                        jQuery( window ).resize(function() {\\r\\n                            if (jQuery( window ).width() < 768 && m == false){\\r\\n                                m = true;\\r\\n                                jQuery(\\'#g_translater\\').detach().appendTo(\\'#google_translate_mobile\\');  \\r\\n                            } else if (jQuery( window ).width() >= 768 && m == true){\\r\\n                                m = false;\\r\\n                                jQuery(\\'#g_translater\\').detach().prependTo(\\'.google-translate-parent-element\\');                            \\r\\n                            }\\r\\n                        });\\r\\n                    </script><li id=userProfileId class=\"header-main__left-list-item p-relative\" aria-expanded=false data-expandable=false></ul></div><div class=\"gfg-overlay display-none\" id=gfg-overlay></div><div class=header-sidebar__wrapper><ul class=header-sidebar__list><li class=header-sidebar__list-item><a href=\"https://www.geeksforgeeks.org/?ref=ghm\" target=_self>Home</a><li class=header-sidebar__list-item><a href=\"https://practice.geeksforgeeks.org/?ref=ghm\" target=_self>Courses</a><li><ul id=sidebar-list></ul><li class=header-sidebar__list-item><a href=\"https://www.geeksforgeeks.org/category/guestblogs/?ref=ghm\" target=_self>GBlog</a><li class=header-sidebar__list-item><a href=\"https://www.geeksforgeeks.org/puzzles/?ref=ghm\" target=_self>Puzzles</a><li class=header-sidebar__list-item><a href=\"https://www.geeksforgeeks.org/geeks-classes-geeksforgeeks/?ref=ghm\" target=_self>What\\'s New ?</a></ul><div class=mobile_translate><div id=google_translate_mobile data-show=false></div><div style=margin:auto><button class=toggle-darkMode data-gfg-action=toggleGFGTheme>\\n<i class=\"gfg-icon gfg-icon_dark-mode\"></i></button>\\n<button class=google_translate_element_mobile data-gfg-action=google_translate_mobile aria-expanded=false data-expanded=true>\\n<i class=\"gfg-icon gfg-icon_translate googleTranslateToggleMobile\"></i>Change Language</button></div></div><div style=height:80px></div></div><div class=header-main__slider><button class=\"header-main__slider-arrow previous hideIt\">\\n<i class=\"gfg-icon gfg-icon_arrow-left gicon-centered\"></i></button><ul id=hslider><li><a href=\"https://www.geeksforgeeks.org/data-structures/?ref=shm\">Data Structures</a><li><a href=\"https://www.geeksforgeeks.org/fundamentals-of-algorithms/?ref=shm\">Algorithms</a><li><a href=\"https://practice.geeksforgeeks.org/courses/complete-interview-preparation?utm_source=GfG&utm_medium=Home&utm_campaign=CIP_Submenu\">Interview Preparation</a><li><a href=\"https://practice.geeksforgeeks.org/topic-tags/?ref=shm\">Topic-wise Practice</a><li><a href=\"https://www.geeksforgeeks.org/c-plus-plus/?ref=shm\">C++</a><li><a href=\"https://www.geeksforgeeks.org/java/?ref=shm\">Java</a><li><a href=\"https://www.geeksforgeeks.org/python-programming-language/?ref=shm\">Python</a><li><a href=\"https://www.geeksforgeeks.org/competitive-programming-a-complete-guide/?ref=shm\">Competitive Programming</a><li><a href=\"https://www.geeksforgeeks.org/machine-learning/?ref=shm\">Machine Learning</a><li><a href=\"https://www.geeksforgeeks.org/web-development/?ref=shm\">Web Development</a><li><a href=\"https://www.geeksforgeeks.org/puzzles/?ref=shm\">Puzzles</a><li><a href=\"https://www.geeksforgeeks.org/computer-science-projects/?ref=shm\">Project Ideas</a><li><a href=\"https://www.geeksforgeeks.org/school-learning/?ref=shm\">School Learning</a></ul><button class=\"header-main__slider-arrow next hideIt\">\\n<i class=\"gfg-icon gfg-icon_arrow-right gicon-centered\"></i></button></div></div><button id=scrollTopBtn title=\"Scroll to Top\" type=button class=\"btn btn-success\">&#9650;</button><div id=main class=wrapper><style>a:hover,.wrapper a:visited{color:var(--color-gfg)}</style><div class=article--container id=home-page><div class=article--container_content><div class=left-bottom><div class=index-top_banner><div class=index-top_banner__card><div class=left><div class=banner-img><a href=\"https://www.geeksforgeeks.org/blogathon-2021-write-from-home-contest-by-geeksforgeeks/?ref=ghb\" title=\"Permalink to Blogathon 2021 &#8211; Write From Home Contest By GeeksforGeeks\" rel=bookmark><img src=https://media.geeksforgeeks.org/wp-content/cdn-uploads/20210818182611/Blogathon-2021-Write-From-Home-Contest-By-GeeksforGeeks.png alt=\"Blogathon 2021 &#8211; Write From Home Contest By GeeksforGeeks\"></a></div></div><div class=right><div class=right-wrap><div class=right-wrap_top><a href=https://www.geeksforgeeks.org/category/guestblogs/ class=\"color-primary anchor-head\">Gblog</a>\\n<a href=\"https://www.geeksforgeeks.org/blogathon-2021-write-from-home-contest-by-geeksforgeeks/?ref=ghb\" title=\"Permalink to Blogathon 2021 &#8211; Write From Home Contest By GeeksforGeeks\" rel=bookmark class=head>Blogathon 2021 &#8211; Write From Home Contest By GeeksforGeeks</a><div class=text>Writing is something that not only helps you to enhance your knowledge of any particular domain but it also allows you to showcase your expertise\\xe2\\x80\\xa6 <span class=read-more><a href=https://www.geeksforgeeks.org/blogathon-2021-write-from-home-contest-by-geeksforgeeks/>Read More</a></span></div></div></div></div></div></div><div class=articles-list><div class=\"articles-list_item post-669047 post type-post status-publish format-standard hentry category-guestblogs tag-artificial-intelligence\" id=post-669047><div class=content><div class=head><a href=https://www.geeksforgeeks.org/7-most-demanded-job-roles-in-artificial-intelligence/ title=\"Permalink to 7 Most Demanded Job Roles in Artificial Intelligence\" rel=bookmark>7 Most Demanded Job Roles in Artificial Intelligence</a></div><div class=difficulty-level></div><div class=text>Artificial Intelligence or AI is influencing many industries situated across the GLOBE. Even Forbes has predicted in one of its reports that the growth rate\\xe2\\x80\\xa6 <span class=read-more><a href=https://www.geeksforgeeks.org/7-most-demanded-job-roles-in-artificial-intelligence/>Read More</a></span></div><div class=tags><i class=\"gfg-icon gfg-icon_tag-primary\"></i><div class=tags-list><div class=tags-list_item><div class=item><a href=https://www.geeksforgeeks.org/tag/artificial-intelligence/>Artificial Intelligence</a></div></div><div class=tags-list_item><div class=item><a href=https://www.geeksforgeeks.org/category/guestblogs/>GBlog</a></div></div></div></div></div></div><div class=\"articles-list_item post-670778 post type-post status-publish format-standard hentry category-guestblogs\" id=post-670778><div class=content><div class=head><a href=https://www.geeksforgeeks.org/7-tips-to-create-an-impressive-ux-design/ title=\"Permalink to 7 Tips to Create an Impressive UX Design\" rel=bookmark>7 Tips to Create an Impressive UX Design</a></div><div class=difficulty-level></div><div class=text>In the present-day world, when every business or platform is considerably working for user satisfaction or to enhance user experience, a better and impressive UX\\xe2\\x80\\xa6 <span class=read-more><a href=https://www.geeksforgeeks.org/7-tips-to-create-an-impressive-ux-design/>Read More</a></span></div><div class=tags><i class=\"gfg-icon gfg-icon_tag-primary\"></i><div class=tags-list><div class=tags-list_item><div class=item><a href=https://www.geeksforgeeks.org/category/guestblogs/>GBlog</a></div></div></div></div></div></div><div class=\"articles-list_item post-667791 post type-post status-publish format-standard hentry category-java\" id=post-667791><div class=content><div class=head><a href=https://www.geeksforgeeks.org/java-networking/ title=\"Permalink to Java Networking\" rel=bookmark>Java Networking</a></div><div class=difficulty-level></div><div class=text>When computing devices such as laptops, desktops, servers, smartphones, and tablets and an eternally-expanding arrangement of IoT gadgets such as cameras, door locks, doorbells, refrigerators,\\xe2\\x80\\xa6 <span class=read-more><a href=https://www.geeksforgeeks.org/java-networking/>Read More</a></span></div><div class=tags><i class=\"gfg-icon gfg-icon_tag-primary\"></i><div class=tags-list><div class=tags-list_item><div class=item><a href=https://www.geeksforgeeks.org/category/programming-language/java/>Java</a></div></div></div></div></div></div><div class=\"articles-list_item post-672976 post type-post status-publish format-standard hentry category-interview-experiences tag-fractal tag-marketing\" id=post-672976><div class=content><div class=head><a href=https://www.geeksforgeeks.org/fractal-analytics-interview-experience-for-imagineer-2/ title=\"Permalink to Fractal Analytics Interview Experience for Imagineer\" rel=bookmark>Fractal Analytics Interview Experience for Imagineer</a></div><div class=difficulty-level></div><div class=text>Fractal Analytics is an AI-based company, and this is an intern role. I had the following rounds for this company: Round 1: Online Test It\\xe2\\x80\\xa6 <span class=read-more><a href=https://www.geeksforgeeks.org/fractal-analytics-interview-experience-for-imagineer-2/>Read More</a></span></div><div class=tags><i class=\"gfg-icon gfg-icon_tag-primary\"></i><div class=tags-list><div class=tags-list_item><div class=item><a href=https://www.geeksforgeeks.org/tag/fractal/>Fractal</a></div></div><div class=tags-list_item><div class=item><a href=https://www.geeksforgeeks.org/tag/marketing/>Marketing</a></div></div><div class=tags-list_item><div class=item><a href=https://www.geeksforgeeks.org/category/interview-experiences/>Interview Experiences</a></div></div></div></div></div></div><div class=\"articles-list_item post-672842 post type-post status-publish format-standard hentry category-internship-interview-experiences category-interview-experiences tag-marketing tag-on-campus tag-paytm\" id=post-672842><div class=content><div class=head><a href=https://www.geeksforgeeks.org/paytm-interview-experience-for-software-engineer-on-campus/ title=\"Permalink to Paytm Interview Experience for Software Engineer| On-Campus\" rel=bookmark>Paytm Interview Experience for Software Engineer| On-Campus</a></div><div class=difficulty-level></div><div class=text>Round 1: Coding Round (Cocubes Platform) Time: 70 minutes Find the last non-zero digit of a factorial: https://www.geeksforgeeks.org/last-non-zero-digit-factorial/ Find in order successor in a binary\\xe2\\x80\\xa6 <span class=read-more><a href=https://www.geeksforgeeks.org/paytm-interview-experience-for-software-engineer-on-campus/>Read More</a></span></div><div class=tags><i class=\"gfg-icon gfg-icon_tag-primary\"></i><div class=tags-list><div class=tags-list_item><div class=item><a href=https://www.geeksforgeeks.org/tag/marketing/>Marketing</a></div></div><div class=tags-list_item><div class=item><a href=https://www.geeksforgeeks.org/tag/on-campus/>On-Campus</a></div></div><div class=tags-list_item><div class=item><a href=https://www.geeksforgeeks.org/tag/paytm/>Paytm</a></div></div><div class=tags-list_item><div class=item><a href=https://www.geeksforgeeks.org/category/interview-experiences/internship-interview-experiences/>Internship</a></div></div><div class=tags-list_item><div class=item><a href=https://www.geeksforgeeks.org/category/interview-experiences/>Interview Experiences</a></div></div></div></div></div></div><div class=\"articles-list_item post-673091 post type-post status-publish format-standard hentry category-interview-experiences tag-marketing tag-morgan-stanley tag-on-campus\" id=post-673091><div class=content><div class=head><a href=https://www.geeksforgeeks.org/morgan-stanley-interview-experience-for-sde-1-on-campus-2021/ title=\"Permalink to Morgan Stanley Interview Experience for SDE 1 | On-Campus 2021\" rel=bookmark>Morgan Stanley Interview Experience for SDE 1 | On-Campus 2021</a></div><div class=difficulty-level></div><div class=text>Eligibility Criteria: Percentage in X and XII : 70% or 7.0 CGPA Pursuing Degree: 80% or 80 CGPA No Standing Arrears Round 1: Online Assessment\\xe2\\x80\\xa6 <span class=read-more><a href=https://www.geeksforgeeks.org/morgan-stanley-interview-experience-for-sde-1-on-campus-2021/>Read More</a></span></div><div class=tags><i class=\"gfg-icon gfg-icon_tag-primary\"></i><div class=tags-list><div class=tags-list_item><div class=item><a href=https://www.geeksforgeeks.org/tag/marketing/>Marketing</a></div></div><div class=tags-list_item><div class=item><a href=https://www.geeksforgeeks.org/tag/morgan-stanley/>Morgan Stanley</a></div></div><div class=tags-list_item><div class=item><a href=https://www.geeksforgeeks.org/tag/on-campus/>On-Campus</a></div></div><div class=tags-list_item><div class=item><a href=https://www.geeksforgeeks.org/category/interview-experiences/>Interview Experiences</a></div></div></div></div></div></div><div class=\"articles-list_item post-672986 post type-post status-publish format-standard hentry category-interview-experiences tag-deloitte tag-marketing tag-on-campus\" id=post-672986><div class=content><div class=head><a href=https://www.geeksforgeeks.org/deloitte-interview-experience-for-business-technology-analyst-on-campus-2021/ title=\"Permalink to Deloitte Interview Experience for Business Technology Analyst | On-Campus 2021\" rel=bookmark>Deloitte Interview Experience for Business Technology Analyst | On-Campus 2021</a></div><div class=difficulty-level></div><div class=text>Hi everyone! This article is related to my interview experience with Deloitte USI. I am doing my B.Tech in CSE branch from ITER, Bhubaneswar. Deloitte\\xe2\\x80\\xa6 <span class=read-more><a href=https://www.geeksforgeeks.org/deloitte-interview-experience-for-business-technology-analyst-on-campus-2021/>Read More</a></span></div><div class=tags><i class=\"gfg-icon gfg-icon_tag-primary\"></i><div class=tags-list><div class=tags-list_item><div class=item><a href=https://www.geeksforgeeks.org/tag/deloitte/>Deloitte</a></div></div><div class=tags-list_item><div class=item><a href=https://www.geeksforgeeks.org/tag/marketing/>Marketing</a></div></div><div class=tags-list_item><div class=item><a href=https://www.geeksforgeeks.org/tag/on-campus/>On-Campus</a></div></div><div class=tags-list_item><div class=item><a href=https://www.geeksforgeeks.org/category/interview-experiences/>Interview Experiences</a></div></div></div></div></div></div><div class=\"articles-list_item post-672838 post type-post status-publish format-standard hentry category-interview-experiences tag-deloitte tag-marketing tag-on-campus\" id=post-672838><div class=content><div class=head><a href=https://www.geeksforgeeks.org/deloitte-interview-experience-on-campus-2021-3/ title=\"Permalink to Deloitte Interview Experience | On-Campus 2021\" rel=bookmark>Deloitte Interview Experience | On-Campus 2021</a></div><div class=difficulty-level></div><div class=text>Deloitte conducted on-campus recruitment in our college. They shared the list of eligible candidates and around 185 students were eligible to take the test. Round\\xe2\\x80\\xa6 <span class=read-more><a href=https://www.geeksforgeeks.org/deloitte-interview-experience-on-campus-2021-3/>Read More</a></span></div><div class=tags><i class=\"gfg-icon gfg-icon_tag-primary\"></i><div class=tags-list><div class=tags-list_item><div class=item><a href=https://www.geeksforgeeks.org/tag/deloitte/>Deloitte</a></div></div><div class=tags-list_item><div class=item><a href=https://www.geeksforgeeks.org/tag/marketing/>Marketing</a></div></div><div class=tags-list_item><div class=item><a href=https://www.geeksforgeeks.org/tag/on-campus/>On-Campus</a></div></div><div class=tags-list_item><div class=item><a href=https://www.geeksforgeeks.org/category/interview-experiences/>Interview Experiences</a></div></div></div></div></div></div><div class=\"articles-list_item post-673082 post type-post status-publish format-standard hentry category-interview-experiences tag-marketing tag-on-campus tag-optum\" id=post-673082><div class=content><div class=head><a href=https://www.geeksforgeeks.org/optum-interview-experience-for-sde-internship-on-campus-2020/ title=\"Permalink to Optum Interview Experience for SDE Internship | On-Campus 2020\" rel=bookmark>Optum Interview Experience for SDE Internship | On-Campus 2020</a></div><div class=difficulty-level></div><div class=text>Eligibility Criteria: Percentage in X and XII : 60% or 6.0 CGPA Pursuing Degree: 70% or 7.0 CGPA Only Female Candidates No Standing Arrears Round\\xe2\\x80\\xa6 <span class=read-more><a href=https://www.geeksforgeeks.org/optum-interview-experience-for-sde-internship-on-campus-2020/>Read More</a></span></div><div class=tags><i class=\"gfg-icon gfg-icon_tag-primary\"></i><div class=tags-list><div class=tags-list_item><div class=item><a href=https://www.geeksforgeeks.org/tag/marketing/>Marketing</a></div></div><div class=tags-list_item><div class=item><a href=https://www.geeksforgeeks.org/tag/on-campus/>On-Campus</a></div></div><div class=tags-list_item><div class=item><a href=https://www.geeksforgeeks.org/tag/optum/>Optum</a></div></div><div class=tags-list_item><div class=item><a href=https://www.geeksforgeeks.org/category/interview-experiences/>Interview Experiences</a></div></div></div></div></div></div><div class=\"side--container tutorials--container sm-widget\"><div class=card-layout><div class=heading><div class=def-title_wrap><div class=title>Quick Links</div></div></div><div class=content-wrapper><div class=item-container><ul class=ql-list><li class=ql-list_item><a href=\"https://practice.geeksforgeeks.org/events/?ref=grb\"><i class=\"quick-link_icon quick-link_icon-event\"></i>\\n<span>Events at GeeksforGeeks</span>\\n<span class=\"gfg-icon gfg-icon_arrow-right\"></span></a><li class=ql-list_item><a href=\"https://practice.geeksforgeeks.org/courses/?ref=grb\"><i class=\"quick-link_icon quick-link_icon-course\"></i>\\n<span>Courses at GeeksforGeeks</span>\\n<span class=\"gfg-icon gfg-icon_arrow-right\"></span></a><li class=ql-list_item><a href=\"https://write.geeksforgeeks.org/?ref=grb\"><i class=\"quick-link_icon quick-link_icon-article\"></i>\\n<span>Write an Article</span>\\n<span class=\"gfg-icon gfg-icon_arrow-right\"></span></a><li class=ql-list_item><a href=\"https://www.geeksforgeeks.org/java/?ref=grb\"><i class=\"quick-link_icon quick-link_icon-java\"></i>\\n<span>Java Tutorial</span>\\n<span class=\"gfg-icon gfg-icon_arrow-right\"></span></a><li class=ql-list_item><a href=\"https://www.geeksforgeeks.org/python-programming-language/?ref=grb\"><i class=\"quick-link_icon quick-link_icon-py\"></i>\\n<span>Python Tutorial</span>\\n<span class=\"gfg-icon gfg-icon_arrow-right\"></span></a><li class=ql-list_item><a href=\"https://www.geeksforgeeks.org/data-structures/?ref=grb\"><i class=\"quick-link_icon quick-link_icon-dsa\"></i>\\n<span>Data Structures Tutorial</span>\\n<span class=\"gfg-icon gfg-icon_arrow-right\"></span></a><li class=ql-list_item><a href=\"https://practice.geeksforgeeks.org/explore/?ref=grb\"><i class=\"quick-link_icon quick-link_icon-code\"></i>\\n<span>Coding Practice</span>\\n<span class=\"gfg-icon gfg-icon_arrow-right\"></span></a></ul></div></div></div></div><div class=\"articles-list_item post-672845 post type-post status-publish format-standard hentry category-interview-experiences tag-marketing tag-on-campus tag-shell\" id=post-672845><div class=content><div class=head><a href=https://www.geeksforgeeks.org/shell-interview-experience-for-software-engineer-on-campus-2021/ title=\"Permalink to Shell Interview Experience for Software Engineer | On-Campus 2021\" rel=bookmark>Shell Interview Experience for Software Engineer | On-Campus 2021</a></div><div class=difficulty-level></div><div class=text>Shell had its online test on 25th August 2021. The job role I applied for is IT Software Engineer. The whole selection process took place\\xe2\\x80\\xa6 <span class=read-more><a href=https://www.geeksforgeeks.org/shell-interview-experience-for-software-engineer-on-campus-2021/>Read More</a></span></div><div class=tags><i class=\"gfg-icon gfg-icon_tag-primary\"></i><div class=tags-list><div class=tags-list_item><div class=item><a href=https://www.geeksforgeeks.org/tag/marketing/>Marketing</a></div></div><div class=tags-list_item><div class=item><a href=https://www.geeksforgeeks.org/tag/on-campus/>On-Campus</a></div></div><div class=tags-list_item><div class=item><a href=https://www.geeksforgeeks.org/tag/shell/>Shell</a></div></div><div class=tags-list_item><div class=item><a href=https://www.geeksforgeeks.org/category/interview-experiences/>Interview Experiences</a></div></div></div></div></div></div><div class=\"articles-list_item post-672873 post type-post status-publish format-standard hentry category-interview-experiences tag-cisco tag-marketing\" id=post-672873><div class=content><div class=head><a href=https://www.geeksforgeeks.org/cisco-interview-experience-for-data-analyst/ title=\"Permalink to Cisco Interview Experience for Data Analyst\" rel=bookmark>Cisco Interview Experience for Data Analyst</a></div><div class=difficulty-level></div><div class=text>I am an Electrical & Electronics Engineering student of the 2022 batch and I recently applied at Cisco as part of my campus placements. They\\xe2\\x80\\xa6 <span class=read-more><a href=https://www.geeksforgeeks.org/cisco-interview-experience-for-data-analyst/>Read More</a></span></div><div class=tags><i class=\"gfg-icon gfg-icon_tag-primary\"></i><div class=tags-list><div class=tags-list_item><div class=item><a href=https://www.geeksforgeeks.org/tag/cisco/>Cisco</a></div></div><div class=tags-list_item><div class=item><a href=https://www.geeksforgeeks.org/tag/marketing/>Marketing</a></div></div><div class=tags-list_item><div class=item><a href=https://www.geeksforgeeks.org/category/interview-experiences/>Interview Experiences</a></div></div></div></div></div></div><div class=\"articles-list_item post-672964 post type-post status-publish format-standard hentry category-internship-interview-experiences category-interview-experiences tag-marketing tag-on-campus tag-wells-fargo\" id=post-672964><div class=content><div class=head><a href=https://www.geeksforgeeks.org/wells-fargo-internship-interview-experience-on-campus-2022/ title=\"Permalink to Wells Fargo Internship Interview Experience | On-Campus 2022\" rel=bookmark>Wells Fargo Internship Interview Experience | On-Campus 2022</a></div><div class=difficulty-level></div><div class=text>Wells Fargo visited our campus to hire pre-final year students for summer internship roles. 169 students were shortlisted based on their CPI(all above 8). There\\xe2\\x80\\xa6 <span class=read-more><a href=https://www.geeksforgeeks.org/wells-fargo-internship-interview-experience-on-campus-2022/>Read More</a></span></div><div class=tags><i class=\"gfg-icon gfg-icon_tag-primary\"></i><div class=tags-list><div class=tags-list_item><div class=item><a href=https://www.geeksforgeeks.org/tag/marketing/>Marketing</a></div></div><div class=tags-list_item><div class=item><a href=https://www.geeksforgeeks.org/tag/on-campus/>On-Campus</a></div></div><div class=tags-list_item><div class=item><a href=https://www.geeksforgeeks.org/tag/wells-fargo/>Wells Fargo</a></div></div><div class=tags-list_item><div class=item><a href=https://www.geeksforgeeks.org/category/interview-experiences/internship-interview-experiences/>Internship</a></div></div><div class=tags-list_item><div class=item><a href=https://www.geeksforgeeks.org/category/interview-experiences/>Interview Experiences</a></div></div></div></div></div></div><div class=\"articles-list_item post-673012 post type-post status-publish format-standard hentry category-internship-interview-experiences category-interview-experiences tag-amazon tag-marketing tag-on-campus\" id=post-673012><div class=content><div class=head><a href=https://www.geeksforgeeks.org/amazon-internship-interview-experience-on-campus-4/ title=\"Permalink to Amazon Internship Interview Experience | On-Campus\" rel=bookmark>Amazon Internship Interview Experience | On-Campus</a></div><div class=difficulty-level></div><div class=text>Round 1: Online Test This test was conducted on the AMCAT platform. This round was of 2.5 hours and comprised of 4 sections: Debugging Round:&nbsp;\\xe2\\x80\\xa6 <span class=read-more><a href=https://www.geeksforgeeks.org/amazon-internship-interview-experience-on-campus-4/>Read More</a></span></div><div class=tags><i class=\"gfg-icon gfg-icon_tag-primary\"></i><div class=tags-list><div class=tags-list_item><div class=item><a href=https://www.geeksforgeeks.org/tag/amazon/>Amazon</a></div></div><div class=tags-list_item><div class=item><a href=https://www.geeksforgeeks.org/tag/marketing/>Marketing</a></div></div><div class=tags-list_item><div class=item><a href=https://www.geeksforgeeks.org/tag/on-campus/>On-Campus</a></div></div><div class=tags-list_item><div class=item><a href=https://www.geeksforgeeks.org/category/interview-experiences/internship-interview-experiences/>Internship</a></div></div><div class=tags-list_item><div class=item><a href=https://www.geeksforgeeks.org/category/interview-experiences/>Interview Experiences</a></div></div></div></div></div></div><div class=\"articles-list_item post-673036 post type-post status-publish format-standard hentry category-interview-experiences tag-marketing tag-on-campus tag-paypal\" id=post-673036><div class=content><div class=head><a href=https://www.geeksforgeeks.org/paypal-interview-experience-for-sde-1-on-campus-2021/ title=\"Permalink to PayPal Interview Experience for SDE 1 | On-Campus 2021\" rel=bookmark>PayPal Interview Experience for SDE 1 | On-Campus 2021</a></div><div class=difficulty-level></div><div class=text>Eligibility criteria: Percentage Criteria in X and XII: 85% or 8.5 CGPA Pursuing Degree: 85% or 8.5 CGPA No Standing Arrears Round 1: Online Assessment\\xe2\\x80\\xa6 <span class=read-more><a href=https://www.geeksforgeeks.org/paypal-interview-experience-for-sde-1-on-campus-2021/>Read More</a></span></div><div class=tags><i class=\"gfg-icon gfg-icon_tag-primary\"></i><div class=tags-list><div class=tags-list_item><div class=item><a href=https://www.geeksforgeeks.org/tag/marketing/>Marketing</a></div></div><div class=tags-list_item><div class=item><a href=https://www.geeksforgeeks.org/tag/on-campus/>On-Campus</a></div></div><div class=tags-list_item><div class=item><a href=https://www.geeksforgeeks.org/tag/paypal/>PayPal</a></div></div><div class=tags-list_item><div class=item><a href=https://www.geeksforgeeks.org/category/interview-experiences/>Interview Experiences</a></div></div></div></div></div></div><div class=\"articles-list_item post-671959 post type-post status-publish format-standard hentry category-c-arrays category-mathematical category-sorting\" id=post-671959><div class=content><div class=head><a href=https://www.geeksforgeeks.org/minimize-deletions-in-array-by-deleting-all-occurrences-of-any-number-such-that-array-size-is-reduced-to-at-least-half/ title=\"Permalink to Minimize deletions in Array by deleting all occurrences of any number such that array size is reduced to at least half\" rel=bookmark>Minimize deletions in Array by deleting all occurrences of any number such that array size is reduced to at least half</a></div><div class=difficulty-level><a href=https://www.geeksforgeeks.org/medium/>Medium</a></div><div class=text>Given an array arr[] of positive integers, the task is to select an element from the array and delete all its occurrences, such that the\\xe2\\x80\\xa6 <span class=read-more><a href=https://www.geeksforgeeks.org/minimize-deletions-in-array-by-deleting-all-occurrences-of-any-number-such-that-array-size-is-reduced-to-at-least-half/>Read More</a></span></div><div class=tags><i class=\"gfg-icon gfg-icon_tag-primary\"></i><div class=tags-list><div class=tags-list_item><div class=item><a href=https://www.geeksforgeeks.org/category/data-structures/c-arrays/>Arrays</a></div></div><div class=tags-list_item><div class=item><a href=https://www.geeksforgeeks.org/category/algorithm/mathematical/>Mathematical</a></div></div><div class=tags-list_item><div class=item><a href=https://www.geeksforgeeks.org/category/algorithm/sorting/>Sorting</a></div></div></div></div></div></div><div class=\"articles-list_item post-671718 post type-post status-publish format-standard hentry category-pattern-searching category-c-strings tag-substring\" id=post-671718><div class=content><div class=head><a href=https://www.geeksforgeeks.org/find-least-start-index-of-a-substring-from-given-string-that-contains-all-the-given-words-in-a-contiguous-manner/ title=\"Permalink to Find least start index of a substring from given String that contains all the given words in a contiguous manner\" rel=bookmark>Find least start index of a substring from given String that contains all the given words in a contiguous manner</a></div><div class=difficulty-level></div><div class=text>Given a string S and an array of equal length words (strings) arr[]. The task is to find the minimum start index of the substring\\xe2\\x80\\xa6 <span class=read-more><a href=https://www.geeksforgeeks.org/find-least-start-index-of-a-substring-from-given-string-that-contains-all-the-given-words-in-a-contiguous-manner/>Read More</a></span></div><div class=tags><i class=\"gfg-icon gfg-icon_tag-primary\"></i><div class=tags-list><div class=tags-list_item><div class=item><a href=https://www.geeksforgeeks.org/tag/substring/>substring</a></div></div><div class=tags-list_item><div class=item><a href=https://www.geeksforgeeks.org/category/algorithm/pattern-searching/>Pattern Searching</a></div></div><div class=tags-list_item><div class=item><a href=https://www.geeksforgeeks.org/category/data-structures/c-strings/>Strings</a></div></div></div></div></div></div><div class=\"articles-list_item post-646061 post type-post status-publish format-standard hentry category-c-arrays category-recursion category-tree tag-binary-tree tag-inorder-traversal tag-preorder-traversal tag-tree-traversal\" id=post-646061><div class=content><div class=head><a href=https://www.geeksforgeeks.org/check-if-given-inorder-and-preorder-traversals-are-valid-for-any-binary-tree-without-building-the-tree/ title=\"Permalink to Check if given inorder and preorder traversals are valid for any Binary Tree without building the tree\" rel=bookmark>Check if given inorder and preorder traversals are valid for any Binary Tree without building the tree</a></div><div class=difficulty-level></div><div class=text>Given two arrays pre[] and in[] representing the preorder and inorder traversal of the binary tree, the task is to check if the given traversals\\xe2\\x80\\xa6 <span class=read-more><a href=https://www.geeksforgeeks.org/check-if-given-inorder-and-preorder-traversals-are-valid-for-any-binary-tree-without-building-the-tree/>Read More</a></span></div><div class=tags><i class=\"gfg-icon gfg-icon_tag-primary\"></i><div class=tags-list><div class=tags-list_item><div class=item><a href=https://www.geeksforgeeks.org/tag/binary-tree/>Binary Tree</a></div></div><div class=tags-list_item><div class=item><a href=https://www.geeksforgeeks.org/tag/inorder-traversal/>Inorder Traversal</a></div></div><div class=tags-list_item><div class=item><a href=https://www.geeksforgeeks.org/tag/preorder-traversal/>Preorder Traversal</a></div></div><div class=tags-list_item><div class=item><a href=https://www.geeksforgeeks.org/tag/tree-traversal/>tree-traversal</a></div></div><div class=tags-list_item><div class=item><a href=https://www.geeksforgeeks.org/category/data-structures/c-arrays/>Arrays</a></div></div><div class=tags-list_item><div class=item><a href=https://www.geeksforgeeks.org/category/algorithm/recursion/>Recursion</a></div></div><div class=tags-list_item><div class=item><a href=https://www.geeksforgeeks.org/category/data-structures/tree/>Tree</a></div></div></div></div></div></div></div><nav id=nav-below class=navigation role=navigation style=display:flex><center style=\"margin: 25px auto 0;\"><div class=wp-pagenavi><span class=pages>Page 1 of 6,676</span><span class=current>1</span><a class=\"page larger\" title=\"Page 2\" href=https://www.geeksforgeeks.org/page/2/>2</a><a class=\"page larger\" title=\"Page 3\" href=https://www.geeksforgeeks.org/page/3/>3</a><a class=\"page larger\" title=\"Page 4\" href=https://www.geeksforgeeks.org/page/4/>4</a><a class=\"page larger\" title=\"Page 5\" href=https://www.geeksforgeeks.org/page/5/>5</a><span class=extend>...</span><a class=\"larger page\" title=\"Page 10\" href=https://www.geeksforgeeks.org/page/10/>10</a><a class=\"larger page\" title=\"Page 20\" href=https://www.geeksforgeeks.org/page/20/>20</a><a class=\"larger page\" title=\"Page 30\" href=https://www.geeksforgeeks.org/page/30/>30</a><span class=extend>...</span><a class=nextpostslink rel=next href=https://www.geeksforgeeks.org/page/2/>\\xc2\\xbb</a><a class=last href=https://www.geeksforgeeks.org/page/6676/>Last \\xc2\\xbb</a></div></center></nav></div><div class=right-top><div class=\"side--container tutorials--container\"><div class=card-layout><div class=heading><div class=def-title_wrap><div class=title>Quick Links</div></div></div><div class=content-wrapper><div class=item-container><ul class=ql-list><li class=ql-list_item><a href=\"https://practice.geeksforgeeks.org/events/?ref=grb\"><i class=\"quick-link_icon quick-link_icon-event\"></i>\\n<span>Events at GeeksforGeeks</span>\\n<span class=\"gfg-icon gfg-icon_arrow-right\"></span></a><li class=ql-list_item><a href=\"https://practice.geeksforgeeks.org/courses/?ref=grb\"><i class=\"quick-link_icon quick-link_icon-course\"></i>\\n<span>Courses at GeeksforGeeks</span>\\n<span class=\"gfg-icon gfg-icon_arrow-right\"></span></a><li class=ql-list_item><a href=\"https://write.geeksforgeeks.org/?ref=grb\"><i class=\"quick-link_icon quick-link_icon-article\"></i>\\n<span>Write an Article</span>\\n<span class=\"gfg-icon gfg-icon_arrow-right\"></span></a><li class=ql-list_item><a href=\"https://www.geeksforgeeks.org/java/?ref=grb\"><i class=\"quick-link_icon quick-link_icon-java\"></i>\\n<span>Java Tutorial</span>\\n<span class=\"gfg-icon gfg-icon_arrow-right\"></span></a><li class=ql-list_item><a href=\"https://www.geeksforgeeks.org/python-programming-language/?ref=grb\"><i class=\"quick-link_icon quick-link_icon-py\"></i>\\n<span>Python Tutorial</span>\\n<span class=\"gfg-icon gfg-icon_arrow-right\"></span></a><li class=ql-list_item><a href=\"https://www.geeksforgeeks.org/data-structures/?ref=grb\"><i class=\"quick-link_icon quick-link_icon-dsa\"></i>\\n<span>Data Structures Tutorial</span>\\n<span class=\"gfg-icon gfg-icon_arrow-right\"></span></a><li class=ql-list_item><a href=\"https://practice.geeksforgeeks.org/explore/?ref=grb\"><i class=\"quick-link_icon quick-link_icon-code\"></i>\\n<span>Coding Practice</span>\\n<span class=\"gfg-icon gfg-icon_arrow-right\"></span></a></ul></div></div></div></div><div class=\"side--container mb-30\"><div class=card-layout><div class=heading><div class=def-title_wrap><div class=title>Featured Articles</div><a href=https://www.geeksforgeeks.org/featured-articles class=vall><span>View All</span>\\n<span class=\"gfg-icon gfg-icon_arrow-right_filled\"></span></a></div></div><div class=rightbar--articles_container><div class=content-wrapper><ul class=\"content-wrapper content-wrapper_links\"><li><a href=\"https://www.geeksforgeeks.org/geeksforgeeks-elite-batch-learning-monthly-stipend-placement-no-fee-ever/?ref=grb\" title=\"Permalink to GeeksforGeeks Elite Batch &#8211; Learning, Monthly Stipend, Placement & No Fee Ever!\" rel=bookmark>GeeksforGeeks Elite Batch &#8211; Learning, Monthly Stipend, Placement & No Fee Ever!</a><p>August 21, 2021<li><a href=\"https://www.geeksforgeeks.org/master-the-coding-interview-contest-series-based-on-real-interviews/?ref=grb\" title=\"Permalink to Master the Coding Interview &#8211; Contest Series Based On Real Interviews\" rel=bookmark>Master the Coding Interview &#8211; Contest Series Based On Real Interviews</a><p>August 20, 2021<li><a href=\"https://www.geeksforgeeks.org/must-do-coding-questions-for-product-based-companies/?ref=grb\" title=\"Permalink to Must Do Coding Questions for Product Based Companies\" rel=bookmark>Must Do Coding Questions for Product Based Companies</a><p>August 20, 2021<li><a href=\"https://www.geeksforgeeks.org/recently-asked-interview-questions-in-product-based-companies/?ref=grb\" title=\"Permalink to Recently Asked Interview Questions in Product Based Companies\" rel=bookmark>Recently Asked Interview Questions in Product Based Companies</a><p>May 11, 2021<li><a href=\"https://www.geeksforgeeks.org/bridge-the-gap-between-engineering-and-your-dream-job-complete-interview-preparation/?ref=grb\" title=\"Permalink to Bridge the Gap Between Engineering and Your Dream Job &#8211; Complete Interview Preparation\" rel=bookmark>Bridge the Gap Between Engineering and Your Dream Job &#8211; Complete Interview Preparation</a><p>May 1, 2021</ul></div></div></div></div><div class=\"side--container mb-30\"><div id=secondary class=widget-area role=complementary><aside id=text-15 class=\"widget widget_text\"><div class=textwidget></div></aside><div class=heading><div class=def-title_wrap><div class=title>What\\'s New</div></div></div><div class=card-layout><div class=content-wrapper><div class=side--container_wscard><a href=\"https://practice.geeksforgeeks.org/courses/competitive-programming-live/?utm_source=geeksforgeeks&utm_medium=banner&utm_campaign=GFG_Home_Rightbar_CP\"><div class=card-content><div class=thumbnail><img src=https://media.geeksforgeeks.org/wp-content/cdn-uploads/20210727192049/CP_ad_icon.png class=img-fluid alt=\"Competitive Programming Live Classes for Students\"></div><div class=content><div class=head>Competitive Programming Live Classes for Students</div><div class=meta></div><div class=ref>View Details</div></div></div></a></div></div></div><div class=card-layout><div class=content-wrapper><div class=side--container_wscard style=margin-top:-20px><a href=\"https://practice.geeksforgeeks.org/courses/dsa-self-paced?utm_source=GeeksforGeeks&utm_medium=Banner&utm_campaign=GFG_Home_Rightbar_DSA_SP\"><div class=card-content><div class=thumbnail><img src=https://media.geeksforgeeks.org/wp-content/cdn-uploads/20210203145720/DSA-SP_1-min.png class=img-fluid alt=\"DSA Self Paced Course\"></div><div class=content><div class=head>DSA Self Paced Course</div><div class=meta></div><div class=ref>View Details</div></div></div></a></div></div></div><div class=card-layout style=margin-bottom:20px><div class=content-wrapper><div class=side--container_wscard style=margin-top:-20px><a href=\"https://practice.geeksforgeeks.org/courses/geeks-classes-live?utm_source=GeeksforGeeks&utm_medium=Banner&utm_campaign=GFG_Home_Rightbar_GCLive\"><div class=card-content><div class=thumbnail><img src=https://media.geeksforgeeks.org/wp-content/cdn-uploads/20210609101834/GC-LIve-Icon-1.png class=img-fluid alt=\"DSA Live Classes for Working Professionals\"></div><div class=content><div class=head>DSA Live Classes for Working Professionals</div><div class=meta></div><div class=ref>View Details</div></div></div></a></div></div></div><aside id=text-16 class=\"widget widget_text\"><div class=textwidget></div></aside><aside id=text-17 class=\"widget widget_text\"><div class=textwidget></div></aside><aside id=text-18 class=\"widget widget_text\"><div class=textwidget></div></aside></div></div><div class=\"side--container mb-30\"><div class=card-layout><div class=heading><div class=def-title_wrap><div class=title>Recommended</div></div></div><div class=content-wrapper><div class=item-container><ul class=\"ql-list recommended\"><li class=ql-list_item><a href=\"https://www.geeksforgeeks.org/category/guestblogs/?ref=grb\" class=no-hover><span data-icon=one></span><span class=\"gfg-icon gfg-icon_arrow-right\">Guest Blogs</span></a><li class=ql-list_item><a href=\"https://www.geeksforgeeks.org/must-coding-questions-company-wise/?ref=grb\" class=no-hover><span data-icon=two></span><span class=\"gfg-icon gfg-icon_arrow-right\">Must Do Coding Questions\\nCompany-wise</span></a><li class=ql-list_item><a href=\"https://www.geeksforgeeks.org/practice-for-cracking-any-coding-interview/?ref=grb\" class=no-hover><span data-icon=three></span><span class=\"gfg-icon gfg-icon_arrow-right\">Practice for cracking any coding\\ninterview</span></a><li class=ql-list_item><a href=\"https://www.geeksforgeeks.org/placements-gq/?ref=grb\" class=no-hover><span data-icon=four></span><span class=\"gfg-icon gfg-icon_arrow-right\">Placements</span></a><li class=ql-list_item><a href=\"https://practice.geeksforgeeks.org/courses/cip-da/?ref=grb\" class=no-hover><span data-icon=five></span><span class=\"gfg-icon gfg-icon_arrow-right\">Complete Interview Preparation With\\nDoubt Assistance</span></a><li class=ql-list_item><a href=\"https://www.geeksforgeeks.org/gate-cs-notes-gq/?ref=grb\" class=no-hover><span data-icon=six></span><span class=\"gfg-icon gfg-icon_arrow-right\">GATE Computer Science Notes</span></a><li class=ql-list_item><a href=\"https://www.geeksforgeeks.org/machine-learning/?ref=grb\" class=no-hover><span data-icon=seven></span><span class=\"gfg-icon gfg-icon_arrow-right\">Machine Learning</span></a><li class=ql-list_item><a href=\"https://www.geeksforgeeks.org/django-tutorial/?ref=grb\" class=no-hover><span data-icon=eight></span><span class=\"gfg-icon gfg-icon_arrow-right\">Django Tutorial</span></a><li class=ql-list_item><a href=\"https://www.geeksforgeeks.org/computer-science-projects/?ref=grb\" class=no-hover><span data-icon=nine></span><span class=\"gfg-icon gfg-icon_arrow-right\">Computer Science Projects</span></a><li class=ql-list_item><a href=\"https://practice.geeksforgeeks.org/courses/Amazon-Test-Series/?ref=grb\" class=no-hover><span data-icon=ten></span><span class=\"gfg-icon gfg-icon_arrow-right\">Amazon SDE Test Series</span></a><li class=ql-list_item><a href=\"https://www.geeksforgeeks.org/company-interview-corner/?ref=grb\" class=no-hover><span data-icon=eleven></span><span class=\"gfg-icon gfg-icon_arrow-right\">Company Interview Corner</span></a><li class=ql-list_item><a href=\"https://www.geeksforgeeks.org/the-c-standard-template-library-stl/?ref=grb\" class=no-hover><span data-icon=twelve></span><span class=\"gfg-icon gfg-icon_arrow-right\">The C++ Standard Template Library\\n(STL)</span></a><li class=ql-list_item><a href=\"https://www.geeksforgeeks.org/software-design-patterns/?ref=grb\" class=no-hover><span data-icon=thirteen></span><span class=\"gfg-icon gfg-icon_arrow-right\">Software Design Patterns</span></a><li class=ql-list_item><a href=\"https://www.geeksforgeeks.org/sql-tutorial/?ref=grb\" class=no-hover><span data-icon=fourteen></span><span class=\"gfg-icon gfg-icon_arrow-right\">SQL Tutorial</span></a><li class=ql-list_item><a href=\"https://www.geeksforgeeks.org/advanced-data-structures/?ref=grb\" class=no-hover><span data-icon=fifteen></span><span class=\"gfg-icon gfg-icon_arrow-right\">Advanced Data Structures</span></a></ul></div></div></div></div></div></div></div></div><div id=displayModal class=\"modal fade\" role=dialog><div class=modal-dialog><div class=modal-content><div class=error-message></div><div class=modal-header><button type=button class=close data-dismiss=modal data-modal=displayModal>&#215;</button><h2 class=modal-title id=dmTitle></h2></div><div class=modal-body id=dmBody><div id=modal-dm-content></div><div class=modal-overlay aria-hidden=true><span class=loader__animation></span></div></div><div class=modal-footer></div></div></div></div><div id=displayModalBackdrop class=backdrop></div><footer class=gfg-footer id=gfg-footer><div class=footer-wrapper><div class=footer-wrapper_branding><a class=footer-wrapper_branding-anchor href=https://www.geeksforgeeks.org/><svg class=\"footer-wrapper_branding-nlogo\" id=\"Group_230\" data-name=\"Group 230\" xmlns=\"http://www.w3.org/2000/svg\" width=\"300.826\" height=\"39.577\" viewBox=\"0 0 300.826 39.577\"><g id=\"logo\" transform=\"translate(-3608 -227)\"><g id=\"Group_155\" data-name=\"Group 155\" transform=\"translate(3608 227)\"><path id=\"Path_242\" data-name=\"Path 242\" d=\"M988.871 586.642h-32.7a13.06 13.06.0 0122.949-6.9l4.757-4.783a19.789 19.789.0 00-34.466 11.678H949.3a19.789 19.789.0 00-34.466-11.678l4.757 4.783a13.06 13.06.0 0122.949 6.9h-32.7q-.057.757-.058 1.529a19.791 19.791.0 0039.055 4.533h1.042a19.789 19.789.0 0039.055-4.533Q988.929 587.4 988.871 586.642zm-59.305 14.589a13.063 13.063.0 01-12.261-8.555h24.522A13.064 13.064.0 01929.565 601.231zm39.576.0a13.064 13.064.0 01-12.262-8.555H981.4A13.063 13.063.0 01969.141 601.231z\" transform=\"translate(-909.777 -568.383)\" fill=\"#2f8d46\"/></g><g id=\"Group_170\" data-name=\"Group 170\" transform=\"translate(3703.022 236.148)\"><g id=\"Group_156\" data-name=\"Group 156\" transform=\"translate(26.144 4.527)\"><line id=\"Line_1\" data-name=\"Line 1\" x1=\"1.046\" fill=\"#0f2b3c\"/></g><g id=\"Group_157\" data-name=\"Group 157\" transform=\"translate(56.695 0.004)\"><path id=\"Path_243\" data-name=\"Path 243\" d=\"M1352.9 615.759l-6.714-6.771v6.771h-3.09V594.521h3.09v12.53l6.084-6.056h3.909l-6.988 6.988 7.67 7.782z\" transform=\"translate(-1343.095 -594.521)\" fill=\"#0f2b3c\"/></g><g id=\"Group_158\" data-name=\"Group 158\" transform=\"translate(113.247 6.427)\"><path id=\"Path_244\" data-name=\"Path 244\" d=\"M1504.614 627.712V612.948h3.09v2.558a3.7 3.7.0 011.447-1.91 3.9 3.9.0 012.262-.73 5.447 5.447.0 011.208.112l-.7 3a2.449 2.449.0 00-.842-.082 3.044 3.044.0 00-2.388 1.138 4.676 4.676.0 00-.983 3.16v7.515z\" transform=\"translate(-1504.614 -612.865)\" fill=\"#0f2b3c\"/></g><g id=\"Group_159\" data-name=\"Group 159\" transform=\"translate(70.943 6.509)\"><path id=\"Path_245\" data-name=\"Path 245\" d=\"M1385.943 626.817a5.668 5.668.0 01-2.152-2.683l2.669-1.171a3.743 3.743.0 001.376 1.662 3.657 3.657.0 002.029.572 4.049 4.049.0 001.879-.395 1.266 1.266.0 00.763-1.185 1.367 1.367.0 00-.654-1.2 6.492 6.492.0 00-2.016-.763l-1.662-.409a5.974 5.974.0 01-2.752-1.444 3.452 3.452.0 01-1.089-2.615 3.4 3.4.0 01.722-2.152 4.647 4.647.0 011.948-1.43 6.957 6.957.0 012.67-.5 7.191 7.191.0 013.405.776 4.6 4.6.0 012.125 2.247l-2.615 1.144a2.925 2.925.0 00-2.888-1.608 3.231 3.231.0 00-1.689.409 1.213 1.213.0 00-.681 1.063 1.226 1.226.0 00.518 1.021 4.442 4.442.0 001.526.667l2.043.518a6.573 6.573.0 013.092 1.566 3.5 3.5.0 011.049 2.575 3.72 3.72.0 01-.749 2.3 4.829 4.829.0 01-2.057 1.539 7.44 7.44.0 01-2.887.545A6.781 6.781.0 011385.943 626.817z\" transform=\"translate(-1383.791 -613.101)\" fill=\"#0f2b3c\"/></g><g id=\"Group_160\" data-name=\"Group 160\" transform=\"translate(96.285 6.525)\"><path id=\"Path_246\" data-name=\"Path 246\" d=\"M1463.543 613.146a7.374 7.374.0 107.374 7.374A7.374 7.374.0 001463.543 613.146zm0 11.532a4.228 4.228.0 114.228-4.228A4.228 4.228.0 011463.543 624.678z\" transform=\"translate(-1456.169 -613.146)\" fill=\"#0f2b3c\"/></g><g id=\"Group_161\" data-name=\"Group 161\" transform=\"translate(23.011 6.524)\"><path id=\"Path_247\" data-name=\"Path 247\" d=\"M1261.615 621.145c.017-.232.027-.466.024-.7a7.292 7.292.0 00-.212-1.685 7.375 7.375.0 00-14.537 1.84c0 .236.017.47.04.7a7.263 7.263.0 00.673 2.382 7.374 7.374.0 0013.389-.141l-3.267.034a4.617 4.617.0 01-8.014-2.3zm-11.664-2.266a4.614 4.614.0 018.592-.09z\" transform=\"translate(-1246.891 -613.144)\" fill=\"#0f2b3c\"/></g><g id=\"Group_162\" data-name=\"Group 162\" transform=\"translate(39.461 6.524)\"><path id=\"Path_248\" data-name=\"Path 248\" d=\"M1308.6 621.145c.017-.232.027-.466.025-.7a7.375 7.375.0 10-14.749.155c0 .236.017.47.04.7a7.257 7.257.0 00.672 2.382 7.375 7.375.0 0013.39-.141l-3.268.034a4.616 4.616.0 01-8.014-2.3zm-11.663-2.266a4.614 4.614.0 018.592-.09z\" transform=\"translate(-1293.873 -613.144)\" fill=\"#0f2b3c\"/></g><g id=\"Group_163\" data-name=\"Group 163\" transform=\"translate(85.044 0.245)\"><path id=\"Path_249\" data-name=\"Path 249\" d=\"M1430.636 598.566a2.5 2.5.0 011.8-.549 4.2 4.2.0 011.657.281v-2.752a7.24 7.24.0 00-2.3-.337 4.82 4.82.0 00-3.455 1.278 4.666 4.666.0 00-1.349 3.554v1.417h-2.922v2.752h2.922v12.036h3.091V604.209h4.016v-2.752h-4.016V600.4A2.5 2.5.0 011430.636 598.566z\" transform=\"translate(-1424.063 -595.209)\" fill=\"#0f2b3c\"/></g><g id=\"Group_164\" data-name=\"Group 164\" transform=\"translate(0)\"><path id=\"Path_250\" data-name=\"Path 250\" d=\"M1202.443 605.147a10.637 10.637.0 11-2.72-7.1l-1.983 1.982a7.837 7.837.0 101.656 7.09h-6.883v-2.851h9.895Q1202.443 604.7 1202.443 605.147z\" transform=\"translate(-1181.169 -594.51)\" fill=\"#0f2b3c\"/></g><g id=\"Group_165\" data-name=\"Group 165\" transform=\"translate(179.788 0.004)\"><path id=\"Path_251\" data-name=\"Path 251\" d=\"M1704.467 615.759l-6.714-6.771v6.771h-3.09V594.521h3.09v12.53l6.084-6.056h3.909l-6.988 6.988 7.669 7.782z\" transform=\"translate(-1694.663 -594.521)\" fill=\"#0f2b3c\"/></g><g id=\"Group_166\" data-name=\"Group 166\" transform=\"translate(194.036 6.509)\"><path id=\"Path_252\" data-name=\"Path 252\" d=\"M1737.51 626.817a5.667 5.667.0 01-2.152-2.683l2.67-1.171a3.742 3.742.0 001.375 1.662 3.658 3.658.0 002.03.572 4.051 4.051.0 001.88-.395 1.267 1.267.0 00.763-1.185 1.367 1.367.0 00-.654-1.2 6.492 6.492.0 00-2.016-.763l-1.662-.409a5.974 5.974.0 01-2.751-1.444 3.451 3.451.0 01-1.09-2.615 3.4 3.4.0 01.722-2.152 4.651 4.651.0 011.948-1.43 6.96 6.96.0 012.67-.5 7.191 7.191.0 013.405.776 4.6 4.6.0 012.125 2.247l-2.615 1.144a2.926 2.926.0 00-2.888-1.608 3.232 3.232.0 00-1.689.409 1.214 1.214.0 00-.681 1.063 1.227 1.227.0 00.518 1.021 4.443 4.443.0 001.526.667l2.043.518a6.576 6.576.0 013.092 1.566 3.5 3.5.0 011.049 2.575 3.719 3.719.0 01-.749 2.3 4.833 4.833.0 01-2.057 1.539 7.44 7.44.0 01-2.888.545A6.781 6.781.0 011737.51 626.817z\" transform=\"translate(-1735.358 -613.101)\" fill=\"#0f2b3c\"/></g><g id=\"Group_167\" data-name=\"Group 167\" transform=\"translate(146.104 6.524)\"><path id=\"Path_253\" data-name=\"Path 253\" d=\"M1613.182 621.145c.017-.232.027-.466.025-.7a7.375 7.375.0 10-14.749.155c0 .236.017.47.04.7a7.254 7.254.0 00.673 2.382 7.375 7.375.0 0013.389-.141l-3.268.034a4.616 4.616.0 01-8.014-2.3zm-11.663-2.266a4.615 4.615.0 018.592-.09z\" transform=\"translate(-1598.458 -613.144)\" fill=\"#0f2b3c\"/></g><g id=\"Group_168\" data-name=\"Group 168\" transform=\"translate(162.554 6.524)\"><path id=\"Path_254\" data-name=\"Path 254\" d=\"M1660.165 621.145c.017-.232.027-.466.024-.7a7.375 7.375.0 10-14.749.155c0 .236.017.47.04.7a7.266 7.266.0 00.673 2.382 7.375 7.375.0 0013.389-.141l-3.268.034a4.616 4.616.0 01-8.014-2.3zm-11.663-2.266a4.614 4.614.0 018.592-.09z\" transform=\"translate(-1645.44 -613.144)\" fill=\"#0f2b3c\"/></g><g id=\"Group_169\" data-name=\"Group 169\" transform=\"translate(123.093)\"><path id=\"Path_255\" data-name=\"Path 255\" d=\"M1554.01 605.147a10.636 10.636.0 11-2.72-7.1l-1.983 1.982a7.837 7.837.0 101.656 7.09h-6.884v-2.851h9.895Q1554.01 604.7 1554.01 605.147z\" transform=\"translate(-1532.736 -594.51)\" fill=\"#0f2b3c\"/></g></g></g></svg></a><div class=footer-wrapper_branding-address><i class=\"gfg-icon gfg-icon_pin\"></i>\\n<span>5th Floor, A-118,<br>Sector-136, Noida, Uttar Pradesh - 201305</span></div><div class=footer-wrapper_branding-email><i class=\"gfg-icon gfg-icon_mail\"></i>\\n<a href=mailto:feedback@geeksforgeeks.org>feedback@geeksforgeeks.org</a></div><div class=footer-wrapper_branding-social><a href=https://www.facebook.com/geeksforgeeks.org/ rel=\"noopener noreferrer\" aria-label=\"GeeksforGeeks Facebook\" target=_blank><div class=facebook></div></a><a href=https://www.instagram.com/geeks_for_geeks/ rel=\"noopener noreferrer\" aria-label=\"GeeksforGeeks Instagram\" target=_blank><div class=instagram></div></a><a href=https://in.linkedin.com/company/geeksforgeeks rel=\"noopener noreferrer\" aria-label=\"GeeksforGeeks LinkedIn\" target=_blank><div class=linkedin></div></a><a href=https://twitter.com/geeksforgeeks rel=\"noopener noreferrer\" aria-label=\"GeeksforGeeks Twitter\" target=_blank><div class=twitter></div></a><a href=https://www.youtube.com/geeksforgeeksvideos rel=\"noopener noreferrer\" aria-label=\"GeeksforGeeks YouTube\" target=_blank><div class=youtube></div></a></div></div><div class=footer-wrapper_links><ul class=footer-wrapper_links-list><li>Company<li><a href=\"https://www.geeksforgeeks.org/about/?ref=footer\">About Us</a><li><a href=\"https://www.geeksforgeeks.org/careers/?ref=footer\">Careers</a><li><a href=\"https://www.geeksforgeeks.org/privacy-policy/?ref=footer\">Privacy Policy</a><li><a href=\"https://www.geeksforgeeks.org/about/contact-us/?ref=footer\">Contact Us</a><li><a href=\"https://www.geeksforgeeks.org/copyright-information/?ref=footer\">Copyright Policy</a></ul><ul class=footer-wrapper_links-list><li>Learn<li><a href=\"https://www.geeksforgeeks.org/fundamentals-of-algorithms/?ref=footer\">Algorithms</a><li><a href=\"https://www.geeksforgeeks.org/data-structures/?ref=footer\">Data Structures</a><li><a href=\"https://www.geeksforgeeks.org/category/program-output/?ref=footer\">Languages</a><li><a href=\"https://www.geeksforgeeks.org/articles-on-computer-science-subjects-gq/?ref=footer\">CS Subjects</a><li><a href=\"https://www.youtube.com/geeksforgeeksvideos/?ref=footer\">Video Tutorials</a></ul><ul class=footer-wrapper_links-list><li>Web Development<li><a href=\"https://www.geeksforgeeks.org/html-tutorials/?ref=footer\">HTML</a><li><a href=\"https://www.geeksforgeeks.org/css-tutorials/?ref=footer\">CSS</a><li><a href=\"https://www.geeksforgeeks.org/javascript-tutorial/?ref=footer\">JavaScript</a><li><a href=\"https://www.geeksforgeeks.org/bootstrap-tutorials/?ref=footer\">Bootstrap</a></ul><ul class=footer-wrapper_links-list><li>Contribute<li><a href=\"https://www.geeksforgeeks.org/contribute/?ref=footer\">Write an Article</a><li><a href=\"https://www.geeksforgeeks.org/write-interview-experience/?ref=footer\">Write Interview Experience</a><li><a href=\"https://www.geeksforgeeks.org/careers/?job_type=1&ref=footer\">Internships</a><li><a href=\"https://www.geeksforgeeks.org/how-to-contribute-videos-to-geeksforgeeks/?ref=footer\">Videos</a></ul></div></div><div class=footer-strip><div class=copyright><a href=https://www.geeksforgeeks.org/ rel=\"noopener noreferrer\" target=_blank>@geeksforgeeks</a>\\n<span>, <a href=https://www.geeksforgeeks.org/copyright-information/>Some rights reserved</a></span></div><div class=social-links></div></div></footer><div class=darkMode-wrap data-mode=\"Switch to Dark Mode\"><button data-gfg-action=toggleGFGTheme>\\n<i class=\"gfg-icon gfg-icon_dark-mode\"></i></button></div></div><link rel=stylesheet id=mediaelement-css href=\"https://www.geeksforgeeks.org/wp-includes/js/mediaelement/mediaelementplayer-legacy.min.css?ver=4.2.6-78496d1\" media=all><link rel=stylesheet id=wp-mediaelement-css href=\"https://www.geeksforgeeks.org/wp-includes/js/mediaelement/wp-mediaelement.min.css?ver=4.9.8\" media=all><script src=\"https://www.geeksforgeeks.org/wp-includes/js/wp-embed.min.js?ver=4.9.8\"></script><script>\\nvar mejsL10n = {\"language\":\"en\",\"strings\":{\"mejs.install-flash\":\"You are using a browser that does not have Flash player enabled or installed. Please turn on your Flash player plugin or download the latest version from https:\\\\/\\\\/get.adobe.com\\\\/flashplayer\\\\/\",\"mejs.fullscreen-off\":\"Turn off Fullscreen\",\"mejs.fullscreen-on\":\"Go Fullscreen\",\"mejs.download-video\":\"Download Video\",\"mejs.fullscreen\":\"Fullscreen\",\"mejs.time-jump-forward\":[\"Jump forward 1 second\",\"Jump forward %1 seconds\"],\"mejs.loop\":\"Toggle Loop\",\"mejs.play\":\"Play\",\"mejs.pause\":\"Pause\",\"mejs.close\":\"Close\",\"mejs.time-slider\":\"Time Slider\",\"mejs.time-help-text\":\"Use Left\\\\/Right Arrow keys to advance one second, Up\\\\/Down arrows to advance ten seconds.\",\"mejs.time-skip-back\":[\"Skip back 1 second\",\"Skip back %1 seconds\"],\"mejs.captions-subtitles\":\"Captions\\\\/Subtitles\",\"mejs.captions-chapters\":\"Chapters\",\"mejs.none\":\"None\",\"mejs.mute-toggle\":\"Mute Toggle\",\"mejs.volume-help-text\":\"Use Up\\\\/Down Arrow keys to increase or decrease volume.\",\"mejs.unmute\":\"Unmute\",\"mejs.mute\":\"Mute\",\"mejs.volume-slider\":\"Volume Slider\",\"mejs.video-player\":\"Video Player\",\"mejs.audio-player\":\"Audio Player\",\"mejs.ad-skip\":\"Skip ad\",\"mejs.ad-skip-info\":[\"Skip in 1 second\",\"Skip in %1 seconds\"],\"mejs.source-chooser\":\"Source Chooser\",\"mejs.stop\":\"Stop\",\"mejs.speed-rate\":\"Speed Rate\",\"mejs.live-broadcast\":\"Live Broadcast\",\"mejs.afrikaans\":\"Afrikaans\",\"mejs.albanian\":\"Albanian\",\"mejs.arabic\":\"Arabic\",\"mejs.belarusian\":\"Belarusian\",\"mejs.bulgarian\":\"Bulgarian\",\"mejs.catalan\":\"Catalan\",\"mejs.chinese\":\"Chinese\",\"mejs.chinese-simplified\":\"Chinese (Simplified)\",\"mejs.chinese-traditional\":\"Chinese (Traditional)\",\"mejs.croatian\":\"Croatian\",\"mejs.czech\":\"Czech\",\"mejs.danish\":\"Danish\",\"mejs.dutch\":\"Dutch\",\"mejs.english\":\"English\",\"mejs.estonian\":\"Estonian\",\"mejs.filipino\":\"Filipino\",\"mejs.finnish\":\"Finnish\",\"mejs.french\":\"French\",\"mejs.galician\":\"Galician\",\"mejs.german\":\"German\",\"mejs.greek\":\"Greek\",\"mejs.haitian-creole\":\"Haitian Creole\",\"mejs.hebrew\":\"Hebrew\",\"mejs.hindi\":\"Hindi\",\"mejs.hungarian\":\"Hungarian\",\"mejs.icelandic\":\"Icelandic\",\"mejs.indonesian\":\"Indonesian\",\"mejs.irish\":\"Irish\",\"mejs.italian\":\"Italian\",\"mejs.japanese\":\"Japanese\",\"mejs.korean\":\"Korean\",\"mejs.latvian\":\"Latvian\",\"mejs.lithuanian\":\"Lithuanian\",\"mejs.macedonian\":\"Macedonian\",\"mejs.malay\":\"Malay\",\"mejs.maltese\":\"Maltese\",\"mejs.norwegian\":\"Norwegian\",\"mejs.persian\":\"Persian\",\"mejs.polish\":\"Polish\",\"mejs.portuguese\":\"Portuguese\",\"mejs.romanian\":\"Romanian\",\"mejs.russian\":\"Russian\",\"mejs.serbian\":\"Serbian\",\"mejs.slovak\":\"Slovak\",\"mejs.slovenian\":\"Slovenian\",\"mejs.spanish\":\"Spanish\",\"mejs.swahili\":\"Swahili\",\"mejs.swedish\":\"Swedish\",\"mejs.tagalog\":\"Tagalog\",\"mejs.thai\":\"Thai\",\"mejs.turkish\":\"Turkish\",\"mejs.ukrainian\":\"Ukrainian\",\"mejs.vietnamese\":\"Vietnamese\",\"mejs.welsh\":\"Welsh\",\"mejs.yiddish\":\"Yiddish\"}};\\n</script><script src=\"https://www.geeksforgeeks.org/wp-includes/js/mediaelement/mediaelement-and-player.min.js?ver=4.2.6-78496d1\"></script><script src=\"https://www.geeksforgeeks.org/wp-includes/js/mediaelement/mediaelement-migrate.min.js?ver=4.9.8\"></script><script>\\n/* <![CDATA[ */\\nvar _wpmejsSettings = {\"pluginPath\":\"\\\\/wp-includes\\\\/js\\\\/mediaelement\\\\/\",\"classPrefix\":\"mejs-\",\"stretching\":\"responsive\"};\\n/* ]]> */\\n</script><script src=\"https://www.geeksforgeeks.org/wp-includes/js/mediaelement/wp-mediaelement.min.js?ver=4.9.8\"></script><script src=\"https://www.geeksforgeeks.org/wp-includes/js/mediaelement/renderers/vimeo.min.js?ver=4.2.6-78496d1\"></script><script>jQuery(document).ready(function($) { RESPONSIVEUI.responsiveTabs(); })</script><div class=\"cookie-consent hide-consent\"><span class=cookie-text>We use cookies to ensure you have the best browsing experience on our website. By using our site, you\\nacknowledge that you have read and understood our\\n<a href=https://www.geeksforgeeks.org/cookie-policy/ target=_blank><u>Cookie Policy</u></a> &\\r\\n        <a href=https://www.geeksforgeeks.org/privacy-policy/ target=_blank><u>Privacy Policy</u></a></span>\\n<button class=consent-btn>\\nGot It !</button></div><div class=lightbox-target><img id=lightbox-image src alt=Lightbox>\\n<span class=lightbox-close></span></div><script>\\r\\n  var _gaq = _gaq || [];\\r\\n  _gaq.push([\\'_setAccount\\', \\'UA-12148232-1\\']);\\r\\n  _gaq.push([\\'_trackPageview\\']);\\r\\n\\r\\n  (function() {\\r\\n    var ga = document.createElement(\\'script\\'); ga.type = \\'text/javascript\\'; ga.async = true;\\r\\n    ga.src = (\\'https:\\' == document.location.protocol ? \\'https://ssl\\' : \\'http://www\\') + \\'.google-analytics.com/ga.js\\';\\r\\n    var s = document.getElementsByTagName(\\'script\\')[0]; s.parentNode.insertBefore(ga, s);\\r\\n  })();\\r\\n</script>'\n"
     ]
    }
   ],
   "source": [
    "import urllib.request\n",
    "request_url = urllib.request.urlopen('https://www.geeksforgeeks.org/')\n",
    "print(request_url.read())"
   ]
  },
  {
   "cell_type": "code",
   "execution_count": null,
   "metadata": {},
   "outputs": [],
   "source": []
  },
  {
   "cell_type": "markdown",
   "metadata": {},
   "source": [
    "### urllib.parse\n",
    "\n",
    "This module helps to define functions to manipulate URLs and their components parts, to build or break them. It usually focuses on splitting a URL into small components; or joining different URL components into URL string.\n",
    "We can see this from the below code:"
   ]
  },
  {
   "cell_type": "code",
   "execution_count": 97,
   "metadata": {},
   "outputs": [
    {
     "name": "stdout",
     "output_type": "stream",
     "text": [
      "ParseResult(scheme='https', netloc='www.geeksforgeeks.org ', path='/ python-langtons-ant/', params='', query='', fragment='')\n",
      "\n",
      "\n",
      "https://www.geeksforgeeks.org / python-langtons-ant/\n"
     ]
    }
   ],
   "source": [
    "\n",
    "from urllib.parse import * \n",
    "parse_url = urlparse('https://www.geeksforgeeks.org / python-langtons-ant/')\n",
    "print(parse_url)\n",
    "print(\"\\n\")\n",
    "unparse_url = urlunparse(parse_url)\n",
    "print(unparse_url)"
   ]
  },
  {
   "cell_type": "markdown",
   "metadata": {},
   "source": [
    "![](https://www.pstanalytics.com/blog/wp-content/uploads/2019/10/PST-urllib-module-4.png)"
   ]
  },
  {
   "cell_type": "code",
   "execution_count": null,
   "metadata": {},
   "outputs": [],
   "source": []
  },
  {
   "cell_type": "markdown",
   "metadata": {},
   "source": [
    "## Questions for Revision\n",
    "\n",
    "Try answering the following questions to test your understanding of the topics covered in this notebook:\n",
    "\n",
    "1. What is the purpose of the `os` module in Python?\n",
    "2. How do you identify the current working directory in a Jupyter notebook?\n",
    "3. How do you retrieve the list of files within a directory using Python?\n",
    "4. How do you create a directory using Python?\n",
    "5. How do you check whether a file or directory exists on the filesystem? Hint: `os.path.exists`.\n",
    "6. Where can you find the full list of functions contained in the `os` module?\n",
    "7. Give examples of 5 useful functions from the `os` and `os.path` modules.\n",
    "8. How do you download a file from a URL using Python?\n",
    "9. How do you open a file using Python? Give an example?\n",
    "10. What are the different modes for opening a file in Python?\n",
    "11. Can you open a file in multiple modes? Illustrate with an example.\n",
    "12. What is the file object? How is it useful?\n",
    "13. How do you read the contents of a file into a string?\n",
    "14. What is a CSV file? Give an example.\n",
    "15. How do you close an open file?\n",
    "16. Why is it essential to close a file after processing it?\n",
    "17. How do you ensure that files are closed automatically after processing? Give an example.\n",
    "18. How is the `with` statement useful for working with files?\n",
    "19. What happens if you try to read from a closed file?\n",
    "20. How do you read the contents of a file line by line?\n",
    "21. Write a function to convert the contents of a CSV file into a list of dictionaries (one dictionary for each row of the file).\n",
    "22. Write a function to convert the contents of a CSV file into a dictionary of lists (one dictionary for each column of the file).\n",
    "23. How do you write to a file using Python?\n",
    "24. How is the string `.format` method for writing data to a file in CSV format?\n",
    "25. Write a function to write data from a list of dictionaries into a CSV file.\n",
    "26. Write a function to write data from a dictionary of lists into a CSV file.\n",
    "27. Where can you learn about the methods supported by the file object in Python?\n",
    "28. How can you read from and write to CSV files using Pandas?\n"
   ]
  },
  {
   "cell_type": "code",
   "execution_count": null,
   "metadata": {},
   "outputs": [],
   "source": []
  }
 ],
 "metadata": {
  "kernelspec": {
   "display_name": "Python 3",
   "language": "python",
   "name": "python3"
  },
  "language_info": {
   "codemirror_mode": {
    "name": "ipython",
    "version": 3
   },
   "file_extension": ".py",
   "mimetype": "text/x-python",
   "name": "python",
   "nbconvert_exporter": "python",
   "pygments_lexer": "ipython3",
   "version": "3.7.6"
  }
 },
 "nbformat": 4,
 "nbformat_minor": 4
}
