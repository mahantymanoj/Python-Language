{
 "cells": [
  {
   "cell_type": "markdown",
   "metadata": {},
   "source": [
    "## Manoj Mahanty - Jr. Engineer - Data Analytics\n",
    "####  Python | MATLAB | R Begineer | SQL, PostgreSQL | MS Excel\n",
    "\n",
    "![](https://media-exp1.licdn.com/dms/image/C4E03AQHQwbwhrso79w/profile-displayphoto-shrink_100_100/0/1630124536553?e=1635379200&v=beta&t=VSAf_0U1A_gCd9m1GEN_UMYQTiCgumibjqYsfXp2_VM)  \n",
    " \n",
    "* email: mahantymanoj786@gmail.com\n",
    "* LinkedIn : https://www.linkedin.com/in/manoj-mahanty-aa3769115/"
   ]
  },
  {
   "cell_type": "markdown",
   "metadata": {},
   "source": [
    "# Object Oriented Programming (OOP\\'s) in Python\n",
    "\n",
    "![](data:image/png;base64,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)\n"
   ]
  },
  {
   "cell_type": "markdown",
   "metadata": {},
   "source": [
    "![](data:image/png;base64,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)"
   ]
  },
  {
   "cell_type": "markdown",
   "metadata": {},
   "source": [
    "Python is a multi-paradigm programming language. It supports different programming approaches. \\\n",
    "One of the popular approaches to solve a programming problem is by creating objects. This is known as Object-Oriented Programming (OOP).\n",
    "\n",
    "Object-oriented programming (OOP) is a method of structuring a program by bundling related properties and behaviors into individual objects. \\\n",
    "The concept of OOP in Python focuses on creating reusable code. This concept is also known as DRY (Don't Repeat Yourself)."
   ]
  },
  {
   "cell_type": "markdown",
   "metadata": {},
   "source": [
    "### Class\n",
    "A class is a code template for creating objects. Objects have member variables and have behaviour associated with them. In python a class is created by the keyword class. A class is a blueprint for the object.\n",
    "Class is a general description of the objects and its behavior. Class defines properties and behaviour (Variable and method) that is share by all objects.\n",
    "\n",
    "![](https://encrypted-tbn0.gstatic.com/images?q=tbn:ANd9GcS-EUW5mGt92kOpiWcXVBZ19ODoQNgX28m2Vw&usqp=CAU)"
   ]
  },
  {
   "cell_type": "markdown",
   "metadata": {},
   "source": [
    "### Syntax\n",
    "To create class, the class keyword is used after that : (semi colon) is used. Class contain a docstring which you can access by classname __doc__"
   ]
  },
  {
   "cell_type": "code",
   "execution_count": 1,
   "metadata": {},
   "outputs": [
    {
     "name": "stdout",
     "output_type": "stream",
     "text": [
      "defined an empty class with class name anyClass\n"
     ]
    }
   ],
   "source": [
    "class anyClass:\n",
    "    'defined an empty class with class name anyClass' # class doc string\n",
    "    pass\n",
    "\n",
    "print(anyClass.__doc__)"
   ]
  },
  {
   "cell_type": "markdown",
   "metadata": {},
   "source": [
    "### Object\n",
    "\n",
    "An object (instance) is an instantiation of a class. When class is defined, only the description for the object is defined. Therefore, no memory or storage is allocated. memory allocation is done when object of the class is defined"
   ]
  },
  {
   "cell_type": "markdown",
   "metadata": {},
   "source": [
    "![](https://encrypted-tbn0.gstatic.com/images?q=tbn:ANd9GcTutJthu_ERZGYCh1YrJP3EuJnuHGYiEAt4Eg&usqp=CAU)"
   ]
  },
  {
   "cell_type": "markdown",
   "metadata": {},
   "source": [
    "### Syntax\n",
    "we can create multiple object for same class"
   ]
  },
  {
   "cell_type": "code",
   "execution_count": 2,
   "metadata": {},
   "outputs": [
    {
     "name": "stdout",
     "output_type": "stream",
     "text": [
      "<class '__main__.anyClass'>\n",
      "<class '__main__.anyClass'>\n"
     ]
    }
   ],
   "source": [
    "object = anyClass()\n",
    "a = anyClass()\n",
    "print(type(object))\n",
    "print(type(a))"
   ]
  },
  {
   "cell_type": "markdown",
   "metadata": {},
   "source": [
    "### Relationship between class and object\n",
    "## Class:\n",
    "    1) Classes contain data and functions bundled together under a unit.\n",
    "    2) Classes is the collection of similar object. \n",
    "    3) Class define characteristics and behaviour of similar object.\n",
    "    4) Class is an abstract defination. Class is abstract data type.`\n",
    "    5) When we define class it just create template or skeleton, so no memory is allocated.\n",
    "    \n",
    "## Object:\n",
    "    1) Object is an instance of a class.\n",
    "    2) Object has state and behaviour.\n",
    "    3) Object take properties (variables) and use the behaviour (methods) defined in the class.\n",
    "    4) Object contains both data member and methods.\n",
    "    5) Objects are basic run time entities.\n",
    "    "
   ]
  },
  {
   "cell_type": "markdown",
   "metadata": {},
   "source": [
    "![](https://image.slidesharecdn.com/introductiontoobjectorientedprogramming-141212062931-conversion-gate01/95/introduction-to-object-oriented-programming-35-638.jpg?cb=1448026569)"
   ]
  },
  {
   "cell_type": "markdown",
   "metadata": {},
   "source": [
    "### Namespace \n",
    "Namespace is a maping from name to object.A namespace is a system to have a unique name for each and every object in Python. An object might be a variable or a method.\\\n",
    "In python the namespaces are implemented as dictionaries. \\\n",
    "Namespaces are created a different instant and the namespaces have the different lifetimes. \\\n",
    "The local namespaces for a function is created when \\\n",
    "1) The function is called .\\\n",
    "2) The function is deleted. \\\n",
    "3) The function is returns or raises an exception that is not handled a within the function."
   ]
  },
  {
   "cell_type": "markdown",
   "metadata": {},
   "source": [
    "![](https://miro.medium.com/max/432/1*a2rQOJ6Ji2zghXVhYipHJQ.png)"
   ]
  },
  {
   "cell_type": "markdown",
   "metadata": {},
   "source": [
    "### Features of OOP's:\n",
    "    1) Abstract Data type\n",
    "    2) Encapsulation\n",
    "    3) Inheritance\n",
    "    4) Polymorphism"
   ]
  },
  {
   "cell_type": "markdown",
   "metadata": {},
   "source": [
    "![](https://images.slideplayer.com/25/7775187/slides/slide_28.jpg)"
   ]
  },
  {
   "cell_type": "markdown",
   "metadata": {},
   "source": [
    "## Abstract Data type\n",
    "Abstract data type is a set of objects and operations that are performed on those object. Objects and operations are bound together and advantage of this is that you can pass the object from one piece of the program to another. \\\n",
    "Abstract Data type (ADT) is a type (or class) for objects whose behaviour is defined by a set of value and a set of operations.\n",
    "The process of providing only the essentials and hiding the details is known as abstraction.\n",
    "\n",
    "![](https://i.ytimg.com/vi/c03JkywGzbk/maxresdefault.jpg)"
   ]
  },
  {
   "cell_type": "markdown",
   "metadata": {},
   "source": [
    "## Encapsulation\n",
    "A class is an example of encapsulation as it encapsulates all the data that is member functions, variables, etc. \\\n",
    "\n",
    "Consider a real-life example of encapsulation, in a company, there are different sections like the accounts section, finance section, sales section etc. The finance section handles all the financial transactions and keeps records of all the data related to finance. Similarly, the sales section handles all the sales-related activities and keeps records of all the sales. Now there may arise a situation when for some reason an official from the finance section needs all the data about sales in a particular month. In this case, he is not allowed to directly access the data of the sales section. He will first have to contact some other officer in the sales section and then request him to give the particular data. This is what encapsulation is.\n",
    "\n",
    "![](https://qph.fs.quoracdn.net/main-qimg-00d9d179877f83e537c65a770cd052e1.webp)\n"
   ]
  },
  {
   "cell_type": "markdown",
   "metadata": {},
   "source": [
    "## Inheritance\n",
    "Process by which one object can use property of another object is called Inheritance. \\\n",
    "\n",
    "Parent class is the class being inherited from, also called base class. \\\n",
    "Child class is the class that inherits from another class, also called derived class.\n",
    "\n",
    "It represents real-world relationships well. \\\n",
    "It provides reusability of a code. We don’t have to write the same code again and again. Also, it allows us to add more features to a class without modifying it. \\\n",
    "It is transitive in nature, which means that if class B inherits from another class A, then all the subclasses of B would automatically inherit from class A.\n",
    "\n",
    "![](https://pynative.com/wp-content/uploads/2021/03/python_inheritance.jpg)\n",
    "\n",
    "\n",
    "![](https://encrypted-tbn0.gstatic.com/images?q=tbn:ANd9GcT30nkeo5M4dHhrWYSr_pNEJtm3Hla9fGefdg&usqp=CAU)"
   ]
  },
  {
   "cell_type": "markdown",
   "metadata": {},
   "source": [
    "## Polymorphism\n",
    "The word polymorphism means having many forms. In programming, polymorphism means same function name (but different signatures) being uses for different types. \\\n",
    "\n",
    "There are some functions in Python which are compatible to run with multiple data types.\n",
    "\n",
    "One such function is the len() function. It can run with many data types in Python. Let's look at some example use cases of the function.\n",
    "\n",
    "![](https://www.askpython.com/wp-content/uploads/2019/12/Polymorphism-in-Python.png)"
   ]
  },
  {
   "cell_type": "code",
   "execution_count": 4,
   "metadata": {},
   "outputs": [
    {
     "name": "stdout",
     "output_type": "stream",
     "text": [
      "9\n",
      "3\n",
      "2\n"
     ]
    }
   ],
   "source": [
    "# Example: Polymorphic len() function\n",
    "print(len(\"Programiz\"))\n",
    "print(len([\"Python\", \"Java\", \"C\"]))\n",
    "print(len({\"Name\": \"John\", \"Address\": \"Nepal\"}))"
   ]
  },
  {
   "cell_type": "code",
   "execution_count": 6,
   "metadata": {},
   "outputs": [
    {
     "name": "stdout",
     "output_type": "stream",
     "text": [
      "5\n",
      "Manoj\n",
      "None\n",
      "Name:  Manoj\n",
      "Last Name:  Mahanty\n",
      "ManojMahanty\n"
     ]
    }
   ],
   "source": [
    "class MyClass():\n",
    "    variable_a = 5\n",
    "    def method1(self,variable_a):\n",
    "        print(variable_a)\n",
    "        # method1 function doesnot return any value so its return none\n",
    "        \n",
    "    def method2(self,variable_a,variable_b):\n",
    "        print('Name: ', variable_a)\n",
    "        print('Last Name: ', variable_b)\n",
    "        return variable_a + variable_b \n",
    "        # method2 function return 2 value so it doesnot return none\n",
    "        \n",
    "object = MyClass()\n",
    "print(object.variable_a)\n",
    "print(object.method1('Manoj'))\n",
    "print(object.method2('Manoj','Mahanty'))\n",
    "# since method2 return none, it is print as none in output"
   ]
  },
  {
   "cell_type": "markdown",
   "metadata": {},
   "source": [
    "# Why self argument passed in class method?\n",
    "\n",
    "self is class instance. when you call class method using instance then instance is passed as 1st argument on class method as self\n",
    "\n",
    "# The __init__() Function\n",
    "\n",
    "The \\__init__() is a special method, the \\__init__() is a class constructor or we can also say it as initialization method which Python calls when a new instance if this class is created.\n",
    "\n",
    "The examples above are classes and objects in their simplest form, and are not really useful in real life applications.\n",
    "\n",
    "To understand the meaning of classes we have to understand the built-in \\__init__() function.\n",
    "\n",
    "All classes have a function called \\__init__(), which is always executed when the class is being initiated.\n",
    "\n",
    "Use the \\__init__() function to assign values to object properties, or other operations that are necessary to do when the object is being created:"
   ]
  },
  {
   "cell_type": "markdown",
   "metadata": {},
   "source": [
    "![](https://blog.finxter.com/wp-content/uploads/2020/07/pythonint.jpg)\n"
   ]
  },
  {
   "cell_type": "code",
   "execution_count": 8,
   "metadata": {},
   "outputs": [
    {
     "name": "stdout",
     "output_type": "stream",
     "text": [
      "36\n"
     ]
    }
   ],
   "source": [
    "class Person:\n",
    "    def __init__(self, name, age): # magic method, class constructor\n",
    "        self.name = name\n",
    "        self.age = age\n",
    "        print(age)\n",
    "\n",
    "p1 = Person(\"John\", 36) # calling a constructor and parameter passed will be assigned to __init__()"
   ]
  },
  {
   "cell_type": "markdown",
   "metadata": {},
   "source": [
    "When class define \\__init__() method. then class instantiation automatically invokes \\__init__() for the newly-created class instance"
   ]
  },
  {
   "cell_type": "markdown",
   "metadata": {},
   "source": [
    "# Class Attribute\n",
    "A class attribute is a Python variable that belongs to a class rather than a particular object. It is shared between all the objects of this class and it is defined outside the constructor function\n",
    "\n",
    "# Instance Attribute\n",
    "An instance attribute is a Python variable belonging to one, and only one, object. This variable is only accessible in the scope of this object and it is defined inside the constructor function, \\__init__(self,..) of the class."
   ]
  },
  {
   "cell_type": "markdown",
   "metadata": {},
   "source": [
    "![](https://miro.medium.com/max/1400/1*o5oPqdYhyyGeTA-1FWLxAA.png)"
   ]
  },
  {
   "cell_type": "code",
   "execution_count": 9,
   "metadata": {},
   "outputs": [
    {
     "name": "stdout",
     "output_type": "stream",
     "text": [
      "10\n",
      "Instance\n",
      "10\n",
      "Instance2\n"
     ]
    }
   ],
   "source": [
    "class example():\n",
    "    class_attribute = 10\n",
    "    def __init__(self,instance_attribute):\n",
    "        self.instance_attribute = instance_attribute\n",
    "        \n",
    "object = example('Instance') # object 1, Instance1 is passed for instance attribute (object1)\n",
    "object2 = example('Instance2') # object 2, Instance2 is passed for instance attribute (object2)\n",
    "print(object.class_attribute) # class attribute \n",
    "print(object.instance_attribute) # Instance attribute print 'Instance 1' for object1 instance\n",
    "print(object2.class_attribute) # class attribute \n",
    "print(object2.instance_attribute) # Instance attribute print 'Instance 2' for object2 instance\n"
   ]
  },
  {
   "cell_type": "code",
   "execution_count": 10,
   "metadata": {},
   "outputs": [
    {
     "name": "stdout",
     "output_type": "stream",
     "text": [
      "Stack operation examples\n",
      "True\n",
      "python\n",
      "3\n",
      "False\n",
      "11.5\n",
      "11.5\n",
      "True\n",
      "python\n",
      "[5, 'python']\n"
     ]
    }
   ],
   "source": [
    "# STack Abstract Data Type\n",
    "class Stack:\n",
    "    def __init__(self):\n",
    "        self.items = []\n",
    "\n",
    "    def isEmpty(self):\n",
    "        return self.items == []\n",
    "\n",
    "    def push(self, item):\n",
    "        self.items.append(item)\n",
    "\n",
    "    def pop(self):\n",
    "        return self.items.pop()\n",
    "\n",
    "    def peek(self):\n",
    "        return self.items[len(self.items) - 1]\n",
    "\n",
    "    def size(self):\n",
    "        return len(self.items)\n",
    "    \n",
    "    \n",
    "# STack ADT operation example\n",
    "s=Stack()\n",
    "\n",
    "print('Stack operation examples')\n",
    "print(s.isEmpty())\n",
    "s.push(5)\n",
    "s.push('python')\n",
    "print(s.peek())\n",
    "s.push(True)\n",
    "print(s.size())\n",
    "print(s.isEmpty())\n",
    "s.push(11.5)\n",
    "print(s.peek())\n",
    "print(s.pop())\n",
    "print(s.pop())\n",
    "print(s.peek())\n",
    "\n",
    "print(s.items)"
   ]
  },
  {
   "cell_type": "markdown",
   "metadata": {},
   "source": [
    "# Inheritance\n",
    "## Syntax"
   ]
  },
  {
   "cell_type": "code",
   "execution_count": 11,
   "metadata": {},
   "outputs": [],
   "source": [
    "class BaseClassName():\n",
    "    pass\n",
    "\n",
    "class DerivedClassName(BaseClassName):\n",
    "    pass"
   ]
  },
  {
   "cell_type": "markdown",
   "metadata": {},
   "source": [
    "### Type of Inheritance\n",
    "* Single Inheritance\n",
    "* Muliple Inheritance\n",
    "* Multilevel inheritance"
   ]
  },
  {
   "cell_type": "markdown",
   "metadata": {},
   "source": [
    "### Single Inheritance\n",
    "When a child class inherits from only one parent class, it is called single inheritance. We saw an example above.\n",
    "\n",
    "![](https://media.geeksforgeeks.org/wp-content/uploads/single-inheritance.png)"
   ]
  },
  {
   "cell_type": "markdown",
   "metadata": {},
   "source": [
    "## Python use inheritance, which helps to acquire the information from the parent class."
   ]
  },
  {
   "cell_type": "code",
   "execution_count": 12,
   "metadata": {},
   "outputs": [
    {
     "name": "stdout",
     "output_type": "stream",
     "text": [
      "Base Class Method\n",
      "None\n",
      "Base Class A:  Base Class\n",
      "None\n",
      "Derived Class Method\n",
      "None\n",
      "Derived Class A:  Base\n",
      "None\n"
     ]
    }
   ],
   "source": [
    "# Derived Class Method and Method overriding\n",
    "\n",
    "class BaseClass():\n",
    "    def baseclassMethod(self):\n",
    "        print('Base Class Method')\n",
    "        # method doesnot return any value so it return none\n",
    "        \n",
    "    def commonMethod(self, a):\n",
    "        self.a = a\n",
    "        return print('Base Class A: ',a)\n",
    "        \n",
    "class DerivedClass(BaseClass):\n",
    "    def derivedClass(self):\n",
    "        print('Derived Class Method')\n",
    "        # method doesnot return any value so it return none\n",
    "        \n",
    "    def commonMethod(self,a):\n",
    "        self.a = a\n",
    "        return print('Derived Class A: ',a)\n",
    "        \n",
    "base = BaseClass()\n",
    "derive = DerivedClass()\n",
    "print(base.baseclassMethod())\n",
    "print(base.commonMethod('Base Class'))\n",
    "\n",
    "print(derive.derivedClass())\n",
    "print(derive.commonMethod('Base')) # we have used instance of derived class so method overriding\n",
    "\n",
    "    "
   ]
  },
  {
   "cell_type": "markdown",
   "metadata": {},
   "source": [
    "## Python inbuilt function for inheritance\n",
    "1) isinstance() \\\n",
    "2) issubclass()"
   ]
  },
  {
   "cell_type": "markdown",
   "metadata": {},
   "source": [
    "### Isinstance()\n",
    "This function is used to check the type of instance"
   ]
  },
  {
   "cell_type": "code",
   "execution_count": 13,
   "metadata": {},
   "outputs": [
    {
     "name": "stdout",
     "output_type": "stream",
     "text": [
      "base is instance of Base Class:  True\n",
      "derive is instance of Base Class:  True\n"
     ]
    }
   ],
   "source": [
    "print('base is instance of Base Class: ', isinstance(base,BaseClass)) # base is object of BaseClass\n",
    "print('derive is instance of Base Class: ', isinstance(derive,BaseClass)) # derive is object of BaseClass since inheritance\n"
   ]
  },
  {
   "cell_type": "code",
   "execution_count": 14,
   "metadata": {},
   "outputs": [
    {
     "name": "stdout",
     "output_type": "stream",
     "text": [
      "base is instance of DerivedClass Class:  False\n",
      "derive is instance of DerivedClass Class:  True\n"
     ]
    }
   ],
   "source": [
    "print('base is instance of DerivedClass Class: ', isinstance(base,DerivedClass)) # base is not object of DerivedClass\n",
    "print('derive is instance of DerivedClass Class: ', isinstance(derive,DerivedClass)) # derive is object of DerivedClass"
   ]
  },
  {
   "cell_type": "markdown",
   "metadata": {},
   "source": [
    "### issubclass()\n",
    "This function is used to check the class inheritance"
   ]
  },
  {
   "cell_type": "code",
   "execution_count": 15,
   "metadata": {},
   "outputs": [
    {
     "name": "stdout",
     "output_type": "stream",
     "text": [
      "DerivedClass is sub class of BaseClass:  True\n"
     ]
    }
   ],
   "source": [
    "print('DerivedClass is sub class of BaseClass: ',issubclass(DerivedClass,BaseClass))"
   ]
  },
  {
   "cell_type": "code",
   "execution_count": 16,
   "metadata": {},
   "outputs": [
    {
     "name": "stdout",
     "output_type": "stream",
     "text": [
      "BaseClass is subclass of DerivedClass:  False\n"
     ]
    }
   ],
   "source": [
    "print('BaseClass is subclass of DerivedClass: ', issubclass(BaseClass,DerivedClass))"
   ]
  },
  {
   "cell_type": "markdown",
   "metadata": {},
   "source": [
    "### Multiple Inheritance\n",
    "A class is Derived from 2 or more base class then we can say multiple inheritance\n",
    "\n",
    "![](https://media.geeksforgeeks.org/wp-content/uploads/Multiple-1-1.jpg)"
   ]
  },
  {
   "cell_type": "code",
   "execution_count": 19,
   "metadata": {},
   "outputs": [
    {
     "name": "stdout",
     "output_type": "stream",
     "text": [
      "I am a child\n",
      "I am a parent\n",
      "Back in my day...\n"
     ]
    }
   ],
   "source": [
    "class Parent:\n",
    "    def __init__(self):\n",
    "        self.parent_attribute = 'I am a parent'\n",
    "\n",
    "    def parent_method(self):\n",
    "        print('Back in my day...')\n",
    "\n",
    "\n",
    "# Create a child class that inherits from Parent\n",
    "class Child(Parent):\n",
    "    def __init__(self):\n",
    "        Parent.__init__(self)\n",
    "        self.child_attribute = 'I am a child'\n",
    "\n",
    "\n",
    "# Create instance of child\n",
    "child = Child()\n",
    "\n",
    "# Show attributes and methods of child class\n",
    "print(child.child_attribute)\n",
    "print(child.parent_attribute)\n",
    "child.parent_method()"
   ]
  },
  {
   "cell_type": "markdown",
   "metadata": {},
   "source": [
    "### Multilevel inheritance: \n",
    "When we have a child and grandchild relationship.\n",
    "\n",
    "![](https://media.geeksforgeeks.org/wp-content/uploads/multi.jpg)"
   ]
  },
  {
   "cell_type": "markdown",
   "metadata": {},
   "source": [
    "### Diffenece between inheritance\n",
    "\n",
    "![](https://javatutoring.com/wp-content/uploads/2018/10/multilevel-inheritance-in-Java.jpg)"
   ]
  },
  {
   "cell_type": "code",
   "execution_count": 22,
   "metadata": {},
   "outputs": [
    {
     "name": "stdout",
     "output_type": "stream",
     "text": [
      "This is our family:\n",
      "Father : Mark\n",
      "Mother : Sonia\n"
     ]
    }
   ],
   "source": [
    "class Family:\n",
    "    def show_family(self):\n",
    "        print(\"This is our family:\")\n",
    " \n",
    " \n",
    "# Father class inherited from Family\n",
    "class Father(Family):\n",
    "    fathername = \"\"\n",
    " \n",
    "    def show_father(self):\n",
    "        print(self.fathername)\n",
    " \n",
    " \n",
    "# Mother class inherited from Family\n",
    "class Mother(Family):\n",
    "    mothername = \"\"\n",
    " \n",
    "    def show_mother(self):\n",
    "        print(self.mothername)\n",
    " \n",
    " \n",
    "# Son class inherited from Father and Mother classes\n",
    "class Son(Father, Mother):\n",
    "    def show_parent(self):\n",
    "        print(\"Father :\", self.fathername)\n",
    "        print(\"Mother :\", self.mothername)\n",
    " \n",
    " \n",
    "s1 = Son()  # Object of Son class\n",
    "s1.fathername = \"Mark\"\n",
    "s1.mothername = \"Sonia\"\n",
    "s1.show_family()\n",
    "s1.show_parent()"
   ]
  },
  {
   "cell_type": "code",
   "execution_count": null,
   "metadata": {},
   "outputs": [],
   "source": []
  }
 ],
 "metadata": {
  "kernelspec": {
   "display_name": "Python 3",
   "language": "python",
   "name": "python3"
  },
  "language_info": {
   "codemirror_mode": {
    "name": "ipython",
    "version": 3
   },
   "file_extension": ".py",
   "mimetype": "text/x-python",
   "name": "python",
   "nbconvert_exporter": "python",
   "pygments_lexer": "ipython3",
   "version": "3.7.6"
  }
 },
 "nbformat": 4,
 "nbformat_minor": 4
}
